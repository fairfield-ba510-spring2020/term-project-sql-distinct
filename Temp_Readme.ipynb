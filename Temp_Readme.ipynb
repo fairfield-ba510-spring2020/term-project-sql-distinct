{
 "cells": [
  {
   "cell_type": "markdown",
   "metadata": {},
   "source": [
    "# SQL DISTINCT \n",
    "\n",
    "By: Anthony Pellegrino, Keisla, and George\n",
    "\n",
    "## Description\n",
    "\n",
    "Put our skills to the test and utilized SQL and minimal python to work together to create a datawarehouse to answer a multitude of\n",
    "questions that administrators, deans, and teachers will find useful.\n",
    "\n",
    "* Fairfield University course registration data\n",
    "* Analyzed the data\n",
    "  * Academic Calendar\n",
    "  * Catalogs\n",
    "  * Terms : Each term folder consisted of mulptiple data source. A courses.csv, course_meetings.csv, course_offerings.csv, etc. \n",
    "* Created an ERD \n",
    "* Created a database that consisted off all our tables in our ERD and then input data into them\n",
    "* Tested our database for integrity\n",
    "* Utilized our database to create a datawarehouse that would be able to quickly answer an admins. questions through simple queries\n",
    "\n",
    "## Getting Started\n",
    "\n",
    "1. Analyzed the data\n",
    "   * Primarily focused on three documents to grasp a general understanding of the data:\n",
    "      * CourseCatalog files\n",
    "      * Course Meetings\n",
    "      * Course Offerings\n",
    "      * Courses\n",
    "2. Created an ERD \n",
    "   * ERD demonstrates how we normalized the data\n",
    "   * [Database Design](Database_ERD.pdf)\n",
    "\n",
    "## Creating the Database\n",
    "1. Using the template from the ERD, we created a new database called: *CourseData.db*\n",
    "2. Created 7 unique tables\n",
    "    * Courses\n",
    "    * Course Offerings\n",
    "    * Course Meetings\n",
    "    * Programs\n",
    "    * Instructors\n",
    "    * Locations\n",
    "3. Embedded python to connect our source data to our new *Course Data Database*\n",
    "4. Uploaded data from the temporary tables we created into our *Course Data Database tables* using select queries\n"
   ]
  },
  {
   "cell_type": "code",
   "execution_count": null,
   "metadata": {},
   "outputs": [],
   "source": []
  }
 ],
 "metadata": {
  "kernelspec": {
   "display_name": "Python 3",
   "language": "python",
   "name": "python3"
  },
  "language_info": {
   "codemirror_mode": {
    "name": "ipython",
    "version": 3
   },
   "file_extension": ".py",
   "mimetype": "text/x-python",
   "name": "python",
   "nbconvert_exporter": "python",
   "pygments_lexer": "ipython3",
   "version": "3.6.7"
  }
 },
 "nbformat": 4,
 "nbformat_minor": 4
}
