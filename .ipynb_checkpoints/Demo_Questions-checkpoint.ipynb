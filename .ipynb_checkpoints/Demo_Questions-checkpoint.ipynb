{
 "cells": [
  {
   "cell_type": "code",
   "execution_count": 2,
   "metadata": {},
   "outputs": [],
   "source": [
    "%load_ext sql\n",
    "import sqlite3"
   ]
  },
  {
   "cell_type": "code",
   "execution_count": 3,
   "metadata": {},
   "outputs": [
    {
     "data": {
      "text/plain": [
       "'Connected: @CourseDataWarehouse.db'"
      ]
     },
     "execution_count": 3,
     "metadata": {},
     "output_type": "execute_result"
    }
   ],
   "source": [
    "%sql sqlite:///CourseDataWarehouse.db"
   ]
  },
  {
   "cell_type": "markdown",
   "metadata": {},
   "source": [
    "# 8. Demonstration Questions"
   ]
  },
  {
   "cell_type": "markdown",
   "metadata": {},
   "source": [
    "## A. Do we need to increase the number of Intro to Accounting Courses offered due to the increase in student enrollment?"
   ]
  },
  {
   "cell_type": "code",
   "execution_count": 20,
   "metadata": {},
   "outputs": [
    {
     "name": "stdout",
     "output_type": "stream",
     "text": [
      " * sqlite:///CourseDataWarehouse.db\n",
      "Done.\n"
     ]
    },
    {
     "data": {
      "text/html": [
       "<table>\n",
       "    <tr>\n",
       "        <th>CATALOG_ID</th>\n",
       "        <th>TERM</th>\n",
       "        <th>AVG(REMAINING)</th>\n",
       "        <th>AVG(ACTUAL)</th>\n",
       "    </tr>\n",
       "    <tr>\n",
       "        <td>AC 0011</td>\n",
       "        <td>Fall2014</td>\n",
       "        <td>-1.2222222222222223</td>\n",
       "        <td>31.22222222222222</td>\n",
       "    </tr>\n",
       "    <tr>\n",
       "        <td>AC 0011</td>\n",
       "        <td>Fall2015</td>\n",
       "        <td>0.4444444444444444</td>\n",
       "        <td>28.555555555555557</td>\n",
       "    </tr>\n",
       "    <tr>\n",
       "        <td>AC 0011</td>\n",
       "        <td>Fall2016</td>\n",
       "        <td>1.7</td>\n",
       "        <td>26.4</td>\n",
       "    </tr>\n",
       "    <tr>\n",
       "        <td>AC 0011</td>\n",
       "        <td>Fall2017</td>\n",
       "        <td>1.2222222222222223</td>\n",
       "        <td>28.77777777777778</td>\n",
       "    </tr>\n",
       "    <tr>\n",
       "        <td>AC 0011</td>\n",
       "        <td>Fall2018</td>\n",
       "        <td>0.4</td>\n",
       "        <td>30.8</td>\n",
       "    </tr>\n",
       "</table>"
      ],
      "text/plain": [
       "[('AC 0011', 'Fall2014', -1.2222222222222223, 31.22222222222222),\n",
       " ('AC 0011', 'Fall2015', 0.4444444444444444, 28.555555555555557),\n",
       " ('AC 0011', 'Fall2016', 1.7, 26.4),\n",
       " ('AC 0011', 'Fall2017', 1.2222222222222223, 28.77777777777778),\n",
       " ('AC 0011', 'Fall2018', 0.4, 30.8)]"
      ]
     },
     "execution_count": 20,
     "metadata": {},
     "output_type": "execute_result"
    }
   ],
   "source": [
    "%%sql\n",
    "SELECT CATALOG_ID, TERM, AVG(REMAINING), AVG(ACTUAL)\n",
    "FROM COURSE_FACTS\n",
    "WHERE CATALOG_ID = 'AC 0011'and TERM LIKE '%FALL%' and CAPACITY <> 0\n",
    "GROUP BY TERM\n",
    "ORDER BY TERM "
   ]
  },
  {
   "cell_type": "markdown",
   "metadata": {},
   "source": [
    "## B. Should we offer more classes on Monday's during a particular time code?"
   ]
  },
  {
   "cell_type": "code",
   "execution_count": 11,
   "metadata": {},
   "outputs": [
    {
     "name": "stdout",
     "output_type": "stream",
     "text": [
      " * sqlite:///CourseDataWarehouse.db\n",
      "Done.\n"
     ]
    },
    {
     "data": {
      "text/html": [
       "<table>\n",
       "    <tr>\n",
       "        <th>TIMECODE</th>\n",
       "        <th>DAY</th>\n",
       "        <th>START</th>\n",
       "        <th>END</th>\n",
       "        <th>sum(ACTUAL)</th>\n",
       "        <th>sum(CAPACITY)</th>\n",
       "        <th>sum(REMAINING)</th>\n",
       "        <th>count(CATALOG_ID)</th>\n",
       "    </tr>\n",
       "    <tr>\n",
       "        <td>162</td>\n",
       "        <td>M</td>\n",
       "        <td>14:00:00</td>\n",
       "        <td>17:00:00</td>\n",
       "        <td>130</td>\n",
       "        <td>114</td>\n",
       "        <td>-16</td>\n",
       "        <td>6</td>\n",
       "    </tr>\n",
       "    <tr>\n",
       "        <td>299</td>\n",
       "        <td>M</td>\n",
       "        <td>10:50:00</td>\n",
       "        <td>13:50:00</td>\n",
       "        <td>52</td>\n",
       "        <td>40</td>\n",
       "        <td>-12</td>\n",
       "        <td>2</td>\n",
       "    </tr>\n",
       "    <tr>\n",
       "        <td>756</td>\n",
       "        <td>M</td>\n",
       "        <td>09:00:00</td>\n",
       "        <td>12:15:00</td>\n",
       "        <td>48</td>\n",
       "        <td>36</td>\n",
       "        <td>-12</td>\n",
       "        <td>2</td>\n",
       "    </tr>\n",
       "    <tr>\n",
       "        <td>708</td>\n",
       "        <td>M</td>\n",
       "        <td>13:50:00</td>\n",
       "        <td>16:50:00</td>\n",
       "        <td>41</td>\n",
       "        <td>30</td>\n",
       "        <td>-11</td>\n",
       "        <td>2</td>\n",
       "    </tr>\n",
       "    <tr>\n",
       "        <td>547</td>\n",
       "        <td>M</td>\n",
       "        <td>18:30:00</td>\n",
       "        <td>22:15:00</td>\n",
       "        <td>30</td>\n",
       "        <td>20</td>\n",
       "        <td>-10</td>\n",
       "        <td>1</td>\n",
       "    </tr>\n",
       "</table>"
      ],
      "text/plain": [
       "[(162, 'M', '14:00:00', '17:00:00', 130, 114, -16, 6),\n",
       " (299, 'M', '10:50:00', '13:50:00', 52, 40, -12, 2),\n",
       " (756, 'M', '09:00:00', '12:15:00', 48, 36, -12, 2),\n",
       " (708, 'M', '13:50:00', '16:50:00', 41, 30, -11, 2),\n",
       " (547, 'M', '18:30:00', '22:15:00', 30, 20, -10, 1)]"
      ]
     },
     "execution_count": 11,
     "metadata": {},
     "output_type": "execute_result"
    }
   ],
   "source": [
    "%%sql\n",
    "SELECT DISTINCT TIMECODE, DAY, START, END, sum(ACTUAL), sum(CAPACITY), sum(REMAINING), count(CATALOG_ID) \n",
    "FROM COURSE_FACTS\n",
    "    JOIN TIME_SLICES USING (TIMECODE)\n",
    "WHERE DAY = 'M' and CAPACITY <> 0\n",
    "GROUP BY TIMECODE\n",
    "ORDER BY sum(REMAINING) ASC\n",
    "LIMIT 5;"
   ]
  },
  {
   "cell_type": "code",
   "execution_count": 10,
   "metadata": {},
   "outputs": [
    {
     "name": "stdout",
     "output_type": "stream",
     "text": [
      " * sqlite:///CourseDataWarehouse.db\n",
      "Done.\n"
     ]
    },
    {
     "data": {
      "text/html": [
       "<table>\n",
       "    <tr>\n",
       "        <th>TIMECODE</th>\n",
       "        <th>DAY</th>\n",
       "        <th>START</th>\n",
       "        <th>END</th>\n",
       "        <th>sum(ACTUAL)</th>\n",
       "        <th>count(CATALOG_ID)</th>\n",
       "    </tr>\n",
       "    <tr>\n",
       "        <td>8</td>\n",
       "        <td>M</td>\n",
       "        <td>11:00:00</td>\n",
       "        <td>12:15:00</td>\n",
       "        <td>13055</td>\n",
       "        <td>572</td>\n",
       "    </tr>\n",
       "    <tr>\n",
       "        <td>10</td>\n",
       "        <td>M</td>\n",
       "        <td>12:30:00</td>\n",
       "        <td>13:45:00</td>\n",
       "        <td>11735</td>\n",
       "        <td>512</td>\n",
       "    </tr>\n",
       "    <tr>\n",
       "        <td>28</td>\n",
       "        <td>M</td>\n",
       "        <td>14:00:00</td>\n",
       "        <td>15:15:00</td>\n",
       "        <td>11596</td>\n",
       "        <td>535</td>\n",
       "    </tr>\n",
       "    <tr>\n",
       "        <td>14</td>\n",
       "        <td>M</td>\n",
       "        <td>09:30:00</td>\n",
       "        <td>10:45:00</td>\n",
       "        <td>11553</td>\n",
       "        <td>515</td>\n",
       "    </tr>\n",
       "    <tr>\n",
       "        <td>12</td>\n",
       "        <td>M</td>\n",
       "        <td>15:30:00</td>\n",
       "        <td>16:45:00</td>\n",
       "        <td>9077</td>\n",
       "        <td>417</td>\n",
       "    </tr>\n",
       "</table>"
      ],
      "text/plain": [
       "[(8, 'M', '11:00:00', '12:15:00', 13055, 572),\n",
       " (10, 'M', '12:30:00', '13:45:00', 11735, 512),\n",
       " (28, 'M', '14:00:00', '15:15:00', 11596, 535),\n",
       " (14, 'M', '09:30:00', '10:45:00', 11553, 515),\n",
       " (12, 'M', '15:30:00', '16:45:00', 9077, 417)]"
      ]
     },
     "execution_count": 10,
     "metadata": {},
     "output_type": "execute_result"
    }
   ],
   "source": [
    "%%sql\n",
    "SELECT DISTINCT TIMECODE, DAY, START, END, sum(ACTUAL), count(CATALOG_ID)\n",
    "FROM COURSE_FACTS\n",
    "    JOIN TIME_SLICES USING (TIMECODE)\n",
    "WHERE DAY = 'M' and CAPACITY <> 0\n",
    "GROUP BY TIMECODE\n",
    "ORDER BY sum(ACTUAL) DESC\n",
    "LIMIT 5;"
   ]
  },
  {
   "cell_type": "markdown",
   "metadata": {},
   "source": [
    "## C. How are rooms utilized in the Dolan School of Business?"
   ]
  },
  {
   "cell_type": "code",
   "execution_count": 16,
   "metadata": {},
   "outputs": [
    {
     "name": "stdout",
     "output_type": "stream",
     "text": [
      " * sqlite:///CourseDataWarehouse.db\n",
      "Done.\n"
     ]
    },
    {
     "data": {
      "text/html": [
       "<table>\n",
       "    <tr>\n",
       "        <th>ROOM_ID</th>\n",
       "        <th>count(CATALOG_ID)</th>\n",
       "    </tr>\n",
       "    <tr>\n",
       "        <td>DSB 110</td>\n",
       "        <td>4</td>\n",
       "    </tr>\n",
       "    <tr>\n",
       "        <td>DSB 2109A</td>\n",
       "        <td>145</td>\n",
       "    </tr>\n",
       "    <tr>\n",
       "        <td>DSB 110B</td>\n",
       "        <td>246</td>\n",
       "    </tr>\n",
       "    <tr>\n",
       "        <td>DSB 110A</td>\n",
       "        <td>247</td>\n",
       "    </tr>\n",
       "    <tr>\n",
       "        <td>DSB 114</td>\n",
       "        <td>264</td>\n",
       "    </tr>\n",
       "</table>"
      ],
      "text/plain": [
       "[('DSB 110', 4),\n",
       " ('DSB 2109A', 145),\n",
       " ('DSB 110B', 246),\n",
       " ('DSB 110A', 247),\n",
       " ('DSB 114', 264)]"
      ]
     },
     "execution_count": 16,
     "metadata": {},
     "output_type": "execute_result"
    }
   ],
   "source": [
    "%%sql\n",
    "SELECT ROOM_ID, count(CATALOG_ID)\n",
    "FROM COURSE_FACTS\n",
    "    JOIN LOCATIONS USING (LOCATION_ID)\n",
    "WHERE ROOM_ID LIKE '%DSB%'\n",
    "GROUP BY ROOM_ID\n",
    "ORDER BY count(CATALOG_ID)\n",
    "LIMIT 5;"
   ]
  },
  {
   "cell_type": "code",
   "execution_count": 14,
   "metadata": {},
   "outputs": [
    {
     "name": "stdout",
     "output_type": "stream",
     "text": [
      " * sqlite:///CourseDataWarehouse.db\n",
      "Done.\n"
     ]
    },
    {
     "data": {
      "text/html": [
       "<table>\n",
       "    <tr>\n",
       "        <th>ROOM_ID</th>\n",
       "        <th>count(CATALOG_ID)</th>\n",
       "    </tr>\n",
       "    <tr>\n",
       "        <td>DSB 109</td>\n",
       "        <td>398</td>\n",
       "    </tr>\n",
       "    <tr>\n",
       "        <td>DSB 112</td>\n",
       "        <td>390</td>\n",
       "    </tr>\n",
       "    <tr>\n",
       "        <td>DSB 106</td>\n",
       "        <td>359</td>\n",
       "    </tr>\n",
       "    <tr>\n",
       "        <td>DSB 115</td>\n",
       "        <td>352</td>\n",
       "    </tr>\n",
       "    <tr>\n",
       "        <td>DSB 108</td>\n",
       "        <td>350</td>\n",
       "    </tr>\n",
       "</table>"
      ],
      "text/plain": [
       "[('DSB 109', 398),\n",
       " ('DSB 112', 390),\n",
       " ('DSB 106', 359),\n",
       " ('DSB 115', 352),\n",
       " ('DSB 108', 350)]"
      ]
     },
     "execution_count": 14,
     "metadata": {},
     "output_type": "execute_result"
    }
   ],
   "source": [
    "%%sql\n",
    "SELECT ROOM_ID, count(CATALOG_ID)\n",
    "FROM COURSE_FACTS\n",
    "    JOIN LOCATIONS USING (LOCATION_ID)\n",
    "WHERE ROOM_ID LIKE '%DSB%'\n",
    "GROUP BY ROOM_ID\n",
    "ORDER BY count(CATALOG_ID) DESC\n",
    "LIMIT 5;"
   ]
  },
  {
   "cell_type": "markdown",
   "metadata": {},
   "source": [
    "## D. Which departments are in need of more professors to help advise students?"
   ]
  },
  {
   "cell_type": "code",
   "execution_count": 104,
   "metadata": {},
   "outputs": [
    {
     "name": "stdout",
     "output_type": "stream",
     "text": [
      " * sqlite:///CourseDataWarehouse.db\n",
      "Done.\n"
     ]
    },
    {
     "data": {
      "text/html": [
       "<table>\n",
       "    <tr>\n",
       "        <th>PROGRAM_NAME</th>\n",
       "        <th>count(DISTINCT INSTRUCTOR_ID)</th>\n",
       "        <th>sum(ACTUAL)</th>\n",
       "        <th>RATIO</th>\n",
       "    </tr>\n",
       "    <tr>\n",
       "        <td>Physics</td>\n",
       "        <td>6</td>\n",
       "        <td>991</td>\n",
       "        <td>165</td>\n",
       "    </tr>\n",
       "    <tr>\n",
       "        <td>Operations Management</td>\n",
       "        <td>4</td>\n",
       "        <td>648</td>\n",
       "        <td>162</td>\n",
       "    </tr>\n",
       "    <tr>\n",
       "        <td>Economics</td>\n",
       "        <td>12</td>\n",
       "        <td>1811</td>\n",
       "        <td>150</td>\n",
       "    </tr>\n",
       "    <tr>\n",
       "        <td>Marketing</td>\n",
       "        <td>11</td>\n",
       "        <td>1639</td>\n",
       "        <td>149</td>\n",
       "    </tr>\n",
       "    <tr>\n",
       "        <td>Sociology</td>\n",
       "        <td>7</td>\n",
       "        <td>999</td>\n",
       "        <td>142</td>\n",
       "    </tr>\n",
       "    <tr>\n",
       "        <td>Mathematics</td>\n",
       "        <td>24</td>\n",
       "        <td>3312</td>\n",
       "        <td>138</td>\n",
       "    </tr>\n",
       "    <tr>\n",
       "        <td>Accounting</td>\n",
       "        <td>19</td>\n",
       "        <td>2479</td>\n",
       "        <td>130</td>\n",
       "    </tr>\n",
       "    <tr>\n",
       "        <td>Religious Studies</td>\n",
       "        <td>16</td>\n",
       "        <td>2015</td>\n",
       "        <td>125</td>\n",
       "    </tr>\n",
       "    <tr>\n",
       "        <td>Management</td>\n",
       "        <td>13</td>\n",
       "        <td>1593</td>\n",
       "        <td>122</td>\n",
       "    </tr>\n",
       "    <tr>\n",
       "        <td>Spanish</td>\n",
       "        <td>17</td>\n",
       "        <td>2087</td>\n",
       "        <td>122</td>\n",
       "    </tr>\n",
       "</table>"
      ],
      "text/plain": [
       "[('Physics', 6, 991, 165),\n",
       " ('Operations Management', 4, 648, 162),\n",
       " ('Economics', 12, 1811, 150),\n",
       " ('Marketing', 11, 1639, 149),\n",
       " ('Sociology', 7, 999, 142),\n",
       " ('Mathematics', 24, 3312, 138),\n",
       " ('Accounting', 19, 2479, 130),\n",
       " ('Religious Studies', 16, 2015, 125),\n",
       " ('Management', 13, 1593, 122),\n",
       " ('Spanish', 17, 2087, 122)]"
      ]
     },
     "execution_count": 104,
     "metadata": {},
     "output_type": "execute_result"
    }
   ],
   "source": [
    "%%sql\n",
    "SELECT PROGRAM_NAME, count(DISTINCT INSTRUCTOR_ID), sum(ACTUAL), sum(ACTUAL)/count(DISTINCT INSTRUCTOR_ID) as RATIO\n",
    "FROM COURSE_FACTS\n",
    "    JOIN INSTRUCTORS USING (INSTRUCTOR_ID)\n",
    "    JOIN PROGRAMS USING (PROGRAM_ID)\n",
    "WHERE TERM LIKE '%Spring2019%' \n",
    "GROUP BY PROGRAM_NAME, TERM\n",
    "ORDER BY RATIO DESC\n",
    "LIMIT 10;"
   ]
  },
  {
   "cell_type": "markdown",
   "metadata": {},
   "source": [
    "## E. What are the least popular classes? Should we consider removing them from the catalog? "
   ]
  },
  {
   "cell_type": "code",
   "execution_count": 84,
   "metadata": {},
   "outputs": [
    {
     "name": "stdout",
     "output_type": "stream",
     "text": [
      " * sqlite:///CourseDataWarehouse.db\n",
      "Done.\n"
     ]
    },
    {
     "data": {
      "text/html": [
       "<table>\n",
       "    <tr>\n",
       "        <th>CATALOG_ID</th>\n",
       "        <th>TITLE</th>\n",
       "        <th>PROGRAM_NAME</th>\n",
       "        <th>TERM</th>\n",
       "        <th>sum(ACTUAL)</th>\n",
       "    </tr>\n",
       "    <tr>\n",
       "        <td>BI 0396</td>\n",
       "        <td>Biology Research VI</td>\n",
       "        <td>Biology</td>\n",
       "        <td>Fall2018</td>\n",
       "        <td>0</td>\n",
       "    </tr>\n",
       "    <tr>\n",
       "        <td>ECE 0448</td>\n",
       "        <td>Embedded Microcontrollers</td>\n",
       "        <td>Electrical and Computer Engineering</td>\n",
       "        <td>Fall2018</td>\n",
       "        <td>0</td>\n",
       "    </tr>\n",
       "    <tr>\n",
       "        <td>ECE 0448L</td>\n",
       "        <td>Embedded Microcontrollers Lab</td>\n",
       "        <td>Electrical and Computer Engineering</td>\n",
       "        <td>Fall2018</td>\n",
       "        <td>0</td>\n",
       "    </tr>\n",
       "    <tr>\n",
       "        <td>AH 0330A</td>\n",
       "        <td>Senior Capstone Seminar</td>\n",
       "        <td>Art History</td>\n",
       "        <td>Spring2018</td>\n",
       "        <td>1</td>\n",
       "    </tr>\n",
       "    <tr>\n",
       "        <td>CL 0109</td>\n",
       "        <td>Greek Tragedy in English Translation</td>\n",
       "        <td>Classical Studies</td>\n",
       "        <td>Spring2018</td>\n",
       "        <td>1</td>\n",
       "    </tr>\n",
       "    <tr>\n",
       "        <td>ED 0463</td>\n",
       "        <td>World Language Methods</td>\n",
       "        <td>Education</td>\n",
       "        <td>Fall2018</td>\n",
       "        <td>1</td>\n",
       "    </tr>\n",
       "    <tr>\n",
       "        <td>PS 0392</td>\n",
       "        <td>Theoretical/Experimental Capstone</td>\n",
       "        <td>Physics</td>\n",
       "        <td>Spring2018</td>\n",
       "        <td>1</td>\n",
       "    </tr>\n",
       "    <tr>\n",
       "        <td>BI 0394</td>\n",
       "        <td>Biology Research IV</td>\n",
       "        <td>Biology</td>\n",
       "        <td>Fall2018</td>\n",
       "        <td>2</td>\n",
       "    </tr>\n",
       "    <tr>\n",
       "        <td>CO 0497O</td>\n",
       "        <td>Conflict Communication</td>\n",
       "        <td>Communication</td>\n",
       "        <td>Spring2018</td>\n",
       "        <td>2</td>\n",
       "    </tr>\n",
       "    <tr>\n",
       "        <td>ECE 0592</td>\n",
       "        <td>Capstone Professional Project II</td>\n",
       "        <td>Electrical and Computer Engineering</td>\n",
       "        <td>Fall2018</td>\n",
       "        <td>2</td>\n",
       "    </tr>\n",
       "</table>"
      ],
      "text/plain": [
       "[('BI 0396', 'Biology Research VI', 'Biology', 'Fall2018', 0),\n",
       " ('ECE 0448', 'Embedded Microcontrollers', 'Electrical and Computer Engineering', 'Fall2018', 0),\n",
       " ('ECE 0448L', 'Embedded Microcontrollers Lab', 'Electrical and Computer Engineering', 'Fall2018', 0),\n",
       " ('AH 0330A', 'Senior Capstone Seminar', 'Art History', 'Spring2018', 1),\n",
       " ('CL 0109', 'Greek Tragedy in English Translation', 'Classical Studies', 'Spring2018', 1),\n",
       " ('ED 0463', 'World Language Methods', 'Education', 'Fall2018', 1),\n",
       " ('PS 0392', 'Theoretical/Experimental Capstone', 'Physics', 'Spring2018', 1),\n",
       " ('BI 0394', 'Biology Research IV', 'Biology', 'Fall2018', 2),\n",
       " ('CO 0497O', 'Conflict Communication', 'Communication', 'Spring2018', 2),\n",
       " ('ECE 0592', 'Capstone Professional Project II', 'Electrical and Computer Engineering', 'Fall2018', 2)]"
      ]
     },
     "execution_count": 84,
     "metadata": {},
     "output_type": "execute_result"
    }
   ],
   "source": [
    "%%sql\n",
    "SELECT CATALOG_ID, TITLE, PROGRAM_NAME,TERM, sum(ACTUAL)\n",
    "FROM COURSE_FACTS\n",
    "    JOIN PROGRAMS USING (PROGRAM_ID)\n",
    "WHERE TERM LIKE '%2018%'\n",
    "GROUP BY CATALOG_ID\n",
    "ORDER BY sum(ACTUAL) ASC\n",
    "LIMIT 10;"
   ]
  }
 ],
 "metadata": {
  "kernelspec": {
   "display_name": "Python 3",
   "language": "python",
   "name": "python3"
  },
  "language_info": {
   "codemirror_mode": {
    "name": "ipython",
    "version": 3
   },
   "file_extension": ".py",
   "mimetype": "text/x-python",
   "name": "python",
   "nbconvert_exporter": "python",
   "pygments_lexer": "ipython3",
   "version": "3.6.7"
  }
 },
 "nbformat": 4,
 "nbformat_minor": 4
}
