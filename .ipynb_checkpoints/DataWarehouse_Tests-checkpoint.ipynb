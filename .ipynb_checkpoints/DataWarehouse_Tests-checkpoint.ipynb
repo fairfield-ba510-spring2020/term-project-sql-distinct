{
 "cells": [
  {
   "cell_type": "code",
   "execution_count": 1,
   "metadata": {},
   "outputs": [],
   "source": [
    "%load_ext sql\n",
    "import sqlite3"
   ]
  },
  {
   "cell_type": "code",
   "execution_count": 2,
   "metadata": {},
   "outputs": [
    {
     "data": {
      "text/plain": [
       "'Connected: @CourseDataWarehouse.db'"
      ]
     },
     "execution_count": 2,
     "metadata": {},
     "output_type": "execute_result"
    }
   ],
   "source": [
    "%sql sqlite:///CourseDataWarehouse.db"
   ]
  },
  {
   "cell_type": "markdown",
   "metadata": {},
   "source": [
    "# 7. Datawarehouse Integrity Tests"
   ]
  },
  {
   "cell_type": "markdown",
   "metadata": {},
   "source": [
    "## A. How many courses are offered in 2018?"
   ]
  },
  {
   "cell_type": "code",
   "execution_count": 38,
   "metadata": {},
   "outputs": [
    {
     "name": "stdout",
     "output_type": "stream",
     "text": [
      " * sqlite:///CourseDataWarehouse.db\n",
      "Done.\n"
     ]
    },
    {
     "data": {
      "text/html": [
       "<table>\n",
       "    <tr>\n",
       "        <th>TERM</th>\n",
       "        <th>count(DISTINCT CATALOG_ID)</th>\n",
       "    </tr>\n",
       "    <tr>\n",
       "        <td>Fall2018</td>\n",
       "        <td>612</td>\n",
       "    </tr>\n",
       "    <tr>\n",
       "        <td>Spring2018</td>\n",
       "        <td>642</td>\n",
       "    </tr>\n",
       "    <tr>\n",
       "        <td>Summer2018</td>\n",
       "        <td>151</td>\n",
       "    </tr>\n",
       "    <tr>\n",
       "        <td>Winter2018</td>\n",
       "        <td>9</td>\n",
       "    </tr>\n",
       "</table>"
      ],
      "text/plain": [
       "[('Fall2018', 612),\n",
       " ('Spring2018', 642),\n",
       " ('Summer2018', 151),\n",
       " ('Winter2018', 9)]"
      ]
     },
     "execution_count": 38,
     "metadata": {},
     "output_type": "execute_result"
    }
   ],
   "source": [
    "%%sql \n",
    "SELECT TERM, count(DISTINCT CATALOG_ID)\n",
    "FROM COURSE_FACTS\n",
    "    JOIN CALENDAR_DATES USING (TERM)\n",
    "WHERE TERM LIKE '%2018%'\n",
    "GROUP BY TERM"
   ]
  },
  {
   "cell_type": "markdown",
   "metadata": {},
   "source": [
    "## B. How many courses are offered in Bannow?"
   ]
  },
  {
   "cell_type": "code",
   "execution_count": 4,
   "metadata": {},
   "outputs": [
    {
     "name": "stdout",
     "output_type": "stream",
     "text": [
      " * sqlite:///CourseDataWarehouse.db\n",
      "Done.\n"
     ]
    },
    {
     "data": {
      "text/html": [
       "<table>\n",
       "    <tr>\n",
       "        <th>ROOM_ID</th>\n",
       "        <th>count(DISTINCT CATALOG_ID)</th>\n",
       "    </tr>\n",
       "    <tr>\n",
       "        <td>BNW 341</td>\n",
       "        <td>612</td>\n",
       "    </tr>\n",
       "</table>"
      ],
      "text/plain": [
       "[('BNW 341', 612)]"
      ]
     },
     "execution_count": 4,
     "metadata": {},
     "output_type": "execute_result"
    }
   ],
   "source": [
    "%%sql\n",
    "SELECT ROOM_ID, count(DISTINCT CATALOG_ID)\n",
    "FROM COURSE_FACTS\n",
    "    JOIN LOCATIONS USING (LOCATION_ID)\n",
    "WHERE ROOM_ID LIKE '%BNW%'"
   ]
  },
  {
   "cell_type": "markdown",
   "metadata": {},
   "source": [
    "## C. How many courses does a professor teach in Spring 2018 in the Art History Department?"
   ]
  },
  {
   "cell_type": "code",
   "execution_count": 21,
   "metadata": {},
   "outputs": [
    {
     "name": "stdout",
     "output_type": "stream",
     "text": [
      " * sqlite:///CourseDataWarehouse.db\n",
      "Done.\n"
     ]
    },
    {
     "data": {
      "text/html": [
       "<table>\n",
       "    <tr>\n",
       "        <th>INSTRUCTOR_ID</th>\n",
       "        <th>INSTRUCTOR_NAME</th>\n",
       "        <th>PROGRAM_NAME</th>\n",
       "        <th>TERM</th>\n",
       "        <th>count (DISTINCT CATALOG_ID)</th>\n",
       "    </tr>\n",
       "    <tr>\n",
       "        <td>36</td>\n",
       "        <td>Katherine A.  Schwab</td>\n",
       "        <td>Art History</td>\n",
       "        <td>Spring2018</td>\n",
       "        <td>2</td>\n",
       "    </tr>\n",
       "    <tr>\n",
       "        <td>37</td>\n",
       "        <td>Philip I.  Eliasoph</td>\n",
       "        <td>Art History</td>\n",
       "        <td>Spring2018</td>\n",
       "        <td>3</td>\n",
       "    </tr>\n",
       "    <tr>\n",
       "        <td>38</td>\n",
       "        <td>Marice E.  Rose</td>\n",
       "        <td>Art History</td>\n",
       "        <td>Spring2018</td>\n",
       "        <td>1</td>\n",
       "    </tr>\n",
       "    <tr>\n",
       "        <td>41</td>\n",
       "        <td>Ive E.  Covaci</td>\n",
       "        <td>Art History</td>\n",
       "        <td>Spring2018</td>\n",
       "        <td>1</td>\n",
       "    </tr>\n",
       "    <tr>\n",
       "        <td>689</td>\n",
       "        <td>Megan K.  Paqua</td>\n",
       "        <td>Art History</td>\n",
       "        <td>Spring2018</td>\n",
       "        <td>1</td>\n",
       "    </tr>\n",
       "    <tr>\n",
       "        <td>781</td>\n",
       "        <td>Michelle Marie  DiMarzo</td>\n",
       "        <td>Art History</td>\n",
       "        <td>Spring2018</td>\n",
       "        <td>1</td>\n",
       "    </tr>\n",
       "    <tr>\n",
       "        <td>1007</td>\n",
       "        <td>Andrew M.  Davenport</td>\n",
       "        <td>Art History</td>\n",
       "        <td>Spring2018</td>\n",
       "        <td>1</td>\n",
       "    </tr>\n",
       "</table>"
      ],
      "text/plain": [
       "[(36, 'Katherine A.  Schwab', 'Art History', 'Spring2018', 2),\n",
       " (37, 'Philip I.  Eliasoph', 'Art History', 'Spring2018', 3),\n",
       " (38, 'Marice E.  Rose', 'Art History', 'Spring2018', 1),\n",
       " (41, 'Ive E.  Covaci', 'Art History', 'Spring2018', 1),\n",
       " (689, 'Megan K.  Paqua', 'Art History', 'Spring2018', 1),\n",
       " (781, 'Michelle Marie  DiMarzo', 'Art History', 'Spring2018', 1),\n",
       " (1007, 'Andrew M.  Davenport', 'Art History', 'Spring2018', 1)]"
      ]
     },
     "execution_count": 21,
     "metadata": {},
     "output_type": "execute_result"
    }
   ],
   "source": [
    "%%sql\n",
    "SELECT INSTRUCTOR_ID, INSTRUCTOR_NAME, PROGRAM_NAME, TERM, count (DISTINCT CATALOG_ID)\n",
    "FROM COURSE_FACTS\n",
    "    JOIN INSTRUCTORS USING (INSTRUCTOR_ID)\n",
    "    JOIN PROGRAMS USING (PROGRAM_ID)\n",
    "WHERE TERM = 'Spring2018' and PROGRAM_NAME = 'Art History'\n",
    "GROUP BY INSTRUCTOR_ID\n",
    "LIMIT 10;"
   ]
  },
  {
   "cell_type": "markdown",
   "metadata": {},
   "source": [
    "## D. What courses are in the Biology program?"
   ]
  },
  {
   "cell_type": "code",
   "execution_count": 15,
   "metadata": {},
   "outputs": [
    {
     "name": "stdout",
     "output_type": "stream",
     "text": [
      " * sqlite:///CourseDataWarehouse.db\n",
      "Done.\n"
     ]
    },
    {
     "data": {
      "text/html": [
       "<table>\n",
       "    <tr>\n",
       "        <th>PROGRAM_ID</th>\n",
       "        <th>PROGRAM_NAME</th>\n",
       "        <th>CATALOG_ID</th>\n",
       "        <th>TITLE</th>\n",
       "    </tr>\n",
       "    <tr>\n",
       "        <td>10</td>\n",
       "        <td>Biology</td>\n",
       "        <td>BI 0015</td>\n",
       "        <td>Fundamentals of Biology I</td>\n",
       "    </tr>\n",
       "    <tr>\n",
       "        <td>10</td>\n",
       "        <td>Biology</td>\n",
       "        <td>BI 0016</td>\n",
       "        <td>Fundamentals of Biology II</td>\n",
       "    </tr>\n",
       "    <tr>\n",
       "        <td>10</td>\n",
       "        <td>Biology</td>\n",
       "        <td>BI 0018</td>\n",
       "        <td>Human Biology: Form and Function</td>\n",
       "    </tr>\n",
       "    <tr>\n",
       "        <td>10</td>\n",
       "        <td>Biology</td>\n",
       "        <td>BI 0070</td>\n",
       "        <td>Science, Technology, and Society</td>\n",
       "    </tr>\n",
       "    <tr>\n",
       "        <td>10</td>\n",
       "        <td>Biology</td>\n",
       "        <td>BI 0071</td>\n",
       "        <td>Identity and the Human Genome</td>\n",
       "    </tr>\n",
       "    <tr>\n",
       "        <td>10</td>\n",
       "        <td>Biology</td>\n",
       "        <td>BI 0073</td>\n",
       "        <td>Contemporary Nutrition: Food for Thought</td>\n",
       "    </tr>\n",
       "    <tr>\n",
       "        <td>10</td>\n",
       "        <td>Biology</td>\n",
       "        <td>BI 0074</td>\n",
       "        <td>Biology of Food</td>\n",
       "    </tr>\n",
       "    <tr>\n",
       "        <td>10</td>\n",
       "        <td>Biology</td>\n",
       "        <td>BI 0075</td>\n",
       "        <td>Ecology and Society</td>\n",
       "    </tr>\n",
       "    <tr>\n",
       "        <td>10</td>\n",
       "        <td>Biology</td>\n",
       "        <td>BI 0076</td>\n",
       "        <td>Environmental Science</td>\n",
       "    </tr>\n",
       "    <tr>\n",
       "        <td>10</td>\n",
       "        <td>Biology</td>\n",
       "        <td>BI 0078</td>\n",
       "        <td>Introduction to Marine Science</td>\n",
       "    </tr>\n",
       "</table>"
      ],
      "text/plain": [
       "[(10, 'Biology', 'BI 0015', 'Fundamentals of Biology I'),\n",
       " (10, 'Biology', 'BI 0016', 'Fundamentals of Biology II'),\n",
       " (10, 'Biology', 'BI 0018', 'Human Biology: Form and Function'),\n",
       " (10, 'Biology', 'BI 0070', 'Science, Technology, and Society'),\n",
       " (10, 'Biology', 'BI 0071', 'Identity and the Human Genome'),\n",
       " (10, 'Biology', 'BI 0073', 'Contemporary Nutrition: Food for Thought'),\n",
       " (10, 'Biology', 'BI 0074', 'Biology of Food'),\n",
       " (10, 'Biology', 'BI 0075', 'Ecology and Society'),\n",
       " (10, 'Biology', 'BI 0076', 'Environmental Science'),\n",
       " (10, 'Biology', 'BI 0078', 'Introduction to Marine Science')]"
      ]
     },
     "execution_count": 15,
     "metadata": {},
     "output_type": "execute_result"
    }
   ],
   "source": [
    "%%sql\n",
    "SELECT DISTINCT PROGRAM_ID, PROGRAM_NAME, CATALOG_ID, TITLE\n",
    "FROM COURSE_FACTS\n",
    "    JOIN PROGRAMS USING (PROGRAM_ID)\n",
    "WHERE PROGRAM_NAME = 'Biology'\n",
    "LIMIT 10;"
   ]
  },
  {
   "cell_type": "markdown",
   "metadata": {},
   "source": [
    "## E. On Thursday's how many classes are offered at lunch-time in the Spring 2019 semester?"
   ]
  },
  {
   "cell_type": "code",
   "execution_count": 35,
   "metadata": {},
   "outputs": [
    {
     "name": "stdout",
     "output_type": "stream",
     "text": [
      " * sqlite:///CourseDataWarehouse.db\n",
      "Done.\n"
     ]
    },
    {
     "data": {
      "text/html": [
       "<table>\n",
       "    <tr>\n",
       "        <th>DAY</th>\n",
       "        <th>START</th>\n",
       "        <th>TERM</th>\n",
       "        <th>count(CATALOG_ID)</th>\n",
       "    </tr>\n",
       "    <tr>\n",
       "        <td>R</td>\n",
       "        <td>12:30:00</td>\n",
       "        <td>Spring2019</td>\n",
       "        <td>66</td>\n",
       "    </tr>\n",
       "</table>"
      ],
      "text/plain": [
       "[('R', '12:30:00', 'Spring2019', 66)]"
      ]
     },
     "execution_count": 35,
     "metadata": {},
     "output_type": "execute_result"
    }
   ],
   "source": [
    "%%sql\n",
    "SELECT DAY, START, TERM, count(CATALOG_ID)\n",
    "FROM COURSE_FACTS\n",
    "    JOIN TIME_SLICES USING (TIMECODE)\n",
    "WHERE DAY = 'R' and START = '12:30:00' and TERM = 'Spring2019'"
   ]
  }
 ],
 "metadata": {
  "kernelspec": {
   "display_name": "Python 3",
   "language": "python",
   "name": "python3"
  },
  "language_info": {
   "codemirror_mode": {
    "name": "ipython",
    "version": 3
   },
   "file_extension": ".py",
   "mimetype": "text/x-python",
   "name": "python",
   "nbconvert_exporter": "python",
   "pygments_lexer": "ipython3",
   "version": "3.6.7"
  }
 },
 "nbformat": 4,
 "nbformat_minor": 4
}
