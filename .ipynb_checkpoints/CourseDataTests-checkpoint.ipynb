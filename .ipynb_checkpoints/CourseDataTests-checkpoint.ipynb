{
 "cells": [
  {
   "cell_type": "code",
   "execution_count": 5,
   "metadata": {},
   "outputs": [
    {
     "name": "stdout",
     "output_type": "stream",
     "text": [
      "The sql extension is already loaded. To reload it, use:\n",
      "  %reload_ext sql\n"
     ]
    }
   ],
   "source": [
    "%load_ext sql\n",
    "import sqlite3\n",
    "import pandas as pd"
   ]
  },
  {
   "cell_type": "code",
   "execution_count": 6,
   "metadata": {},
   "outputs": [],
   "source": [
    "%sql sqlite:///CourseData.db\n",
    "conn = sqlite3.connect('CourseData.db')"
   ]
  },
  {
   "cell_type": "markdown",
   "metadata": {},
   "source": [
    "# Data integrity test"
   ]
  },
  {
   "cell_type": "code",
   "execution_count": 12,
   "metadata": {},
   "outputs": [
    {
     "name": "stdout",
     "output_type": "stream",
     "text": [
      " * sqlite:///CourseData.db\n",
      "Done.\n"
     ]
    },
    {
     "data": {
      "text/html": [
       "<table>\n",
       "    <tr>\n",
       "        <th>CRN</th>\n",
       "        <th>SECTION</th>\n",
       "        <th>CAPACITY</th>\n",
       "        <th>REMAINING</th>\n",
       "        <th>INSTRUCTOR_NAME</th>\n",
       "        <th>TERM</th>\n",
       "    </tr>\n",
       "    <tr>\n",
       "        <td>32026</td>\n",
       "        <td>A</td>\n",
       "        <td>100</td>\n",
       "        <td>89</td>\n",
       "        <td>Jonathan G.  Grauer</td>\n",
       "        <td>Spring2015</td>\n",
       "    </tr>\n",
       "    <tr>\n",
       "        <td>37189</td>\n",
       "        <td>A</td>\n",
       "        <td>100</td>\n",
       "        <td>89</td>\n",
       "        <td>Jonathan G.  Grauer</td>\n",
       "        <td>Spring2016</td>\n",
       "    </tr>\n",
       "    <tr>\n",
       "        <td>34154</td>\n",
       "        <td>1</td>\n",
       "        <td>100</td>\n",
       "        <td>86</td>\n",
       "        <td>Jonathan G.  Grauer</td>\n",
       "        <td>Spring2018</td>\n",
       "    </tr>\n",
       "    <tr>\n",
       "        <td>31167</td>\n",
       "        <td>1</td>\n",
       "        <td>100</td>\n",
       "        <td>85</td>\n",
       "        <td>Jonathan G.  Grauer</td>\n",
       "        <td>Spring2017</td>\n",
       "    </tr>\n",
       "    <tr>\n",
       "        <td>39046</td>\n",
       "        <td>0</td>\n",
       "        <td>50</td>\n",
       "        <td>49</td>\n",
       "        <td>Jonathan G.  Grauer</td>\n",
       "        <td>Spring2019</td>\n",
       "    </tr>\n",
       "    <tr>\n",
       "        <td>37145</td>\n",
       "        <td>1</td>\n",
       "        <td>50</td>\n",
       "        <td>49</td>\n",
       "        <td>Jonathan G.  Grauer</td>\n",
       "        <td>Spring2019</td>\n",
       "    </tr>\n",
       "    <tr>\n",
       "        <td>72658</td>\n",
       "        <td>1</td>\n",
       "        <td>65</td>\n",
       "        <td>45</td>\n",
       "        <td>Brendan S.  Mascarenhas</td>\n",
       "        <td>Fall2014</td>\n",
       "    </tr>\n",
       "    <tr>\n",
       "        <td>76879</td>\n",
       "        <td>C</td>\n",
       "        <td>50</td>\n",
       "        <td>42</td>\n",
       "        <td>Blake A.  Segal</td>\n",
       "        <td>Fall2015</td>\n",
       "    </tr>\n",
       "    <tr>\n",
       "        <td>78454</td>\n",
       "        <td>3</td>\n",
       "        <td>50</td>\n",
       "        <td>41</td>\n",
       "        <td>Thomas R.  Schwans</td>\n",
       "        <td>Fall2016</td>\n",
       "    </tr>\n",
       "    <tr>\n",
       "        <td>74056</td>\n",
       "        <td>1</td>\n",
       "        <td>50</td>\n",
       "        <td>39</td>\n",
       "        <td>Jonathan G.  Grauer</td>\n",
       "        <td>Fall2018</td>\n",
       "    </tr>\n",
       "</table>"
      ],
      "text/plain": [
       "[(32026, 'A', 100, 89, 'Jonathan G.  Grauer', 'Spring2015'),\n",
       " (37189, 'A', 100, 89, 'Jonathan G.  Grauer', 'Spring2016'),\n",
       " (34154, 1, 100, 86, 'Jonathan G.  Grauer', 'Spring2018'),\n",
       " (31167, 1, 100, 85, 'Jonathan G.  Grauer', 'Spring2017'),\n",
       " (39046, 0, 50, 49, 'Jonathan G.  Grauer', 'Spring2019'),\n",
       " (37145, 1, 50, 49, 'Jonathan G.  Grauer', 'Spring2019'),\n",
       " (72658, 1, 65, 45, 'Brendan S.  Mascarenhas', 'Fall2014'),\n",
       " (76879, 'C', 50, 42, 'Blake A.  Segal', 'Fall2015'),\n",
       " (78454, 3, 50, 41, 'Thomas R.  Schwans', 'Fall2016'),\n",
       " (74056, 1, 50, 39, 'Jonathan G.  Grauer', 'Fall2018')]"
      ]
     },
     "execution_count": 12,
     "metadata": {},
     "output_type": "execute_result"
    }
   ],
   "source": [
    "%%sql\n",
    "SELECT DISTINCT COURSE_OFFERINGS.CRN, SECTION, CAPACITY, REMAINING, INSTRUCTOR_NAME, COURSE_OFFERINGS.TERM\n",
    "FROM COURSE_OFFERINGS\n",
    "    JOIN INSTRUCTORS ON (COURSE_OFFERINGS.PRIMARY_INSTRUCTOR_ID = INSTRUCTORS.INSTRUCTOR_ID)\n",
    "    JOIN COURSE_MEETINGS USING (COURSE_OFFERING_ID)\n",
    "WHERE CAPACITY > 0\n",
    "ORDER BY REMAINING DESC\n",
    "LIMIT 10;"
   ]
  },
  {
   "cell_type": "code",
   "execution_count": null,
   "metadata": {},
   "outputs": [],
   "source": [
    "%%sql\n",
    "SELECT COURSE_OFFERINGS.CRN, SECTION, CAPACITY, REMAINING, COURSE_MEETINGS.TERM\n",
    "FROM COURSE_OFFERINGS\n",
    "    JOIN COURSE_MEETINGS USING (CRN)\n",
    "WHERE COURSE_MEETINGS.TERM = 'Fall2018'\n",
    "LIMIT 10;"
   ]
  },
  {
   "cell_type": "code",
   "execution_count": 14,
   "metadata": {},
   "outputs": [
    {
     "name": "stdout",
     "output_type": "stream",
     "text": [
      " * sqlite:///CourseData.db\n",
      "Done.\n"
     ]
    },
    {
     "data": {
      "text/html": [
       "<table>\n",
       "    <tr>\n",
       "        <th>LOCATION_ID</th>\n",
       "        <th>ROOM_ID</th>\n",
       "        <th>COURSE_OFFERING_ID</th>\n",
       "        <th>DAY</th>\n",
       "    </tr>\n",
       "    <tr>\n",
       "        <td>99</td>\n",
       "        <td>DSB 105</td>\n",
       "        <td>1</td>\n",
       "        <td>T</td>\n",
       "    </tr>\n",
       "    <tr>\n",
       "        <td>99</td>\n",
       "        <td>DSB 105</td>\n",
       "        <td>1</td>\n",
       "        <td>F</td>\n",
       "    </tr>\n",
       "    <tr>\n",
       "        <td>99</td>\n",
       "        <td>DSB 105</td>\n",
       "        <td>2</td>\n",
       "        <td>T</td>\n",
       "    </tr>\n",
       "    <tr>\n",
       "        <td>99</td>\n",
       "        <td>DSB 105</td>\n",
       "        <td>2</td>\n",
       "        <td>F</td>\n",
       "    </tr>\n",
       "    <tr>\n",
       "        <td>99</td>\n",
       "        <td>DSB 105</td>\n",
       "        <td>3</td>\n",
       "        <td>T</td>\n",
       "    </tr>\n",
       "    <tr>\n",
       "        <td>99</td>\n",
       "        <td>DSB 105</td>\n",
       "        <td>3</td>\n",
       "        <td>F</td>\n",
       "    </tr>\n",
       "    <tr>\n",
       "        <td>107</td>\n",
       "        <td>DSB 111</td>\n",
       "        <td>4</td>\n",
       "        <td>R</td>\n",
       "    </tr>\n",
       "    <tr>\n",
       "        <td>107</td>\n",
       "        <td>DSB 111</td>\n",
       "        <td>4</td>\n",
       "        <td>M</td>\n",
       "    </tr>\n",
       "    <tr>\n",
       "        <td>107</td>\n",
       "        <td>DSB 111</td>\n",
       "        <td>5</td>\n",
       "        <td>R</td>\n",
       "    </tr>\n",
       "    <tr>\n",
       "        <td>107</td>\n",
       "        <td>DSB 111</td>\n",
       "        <td>5</td>\n",
       "        <td>M</td>\n",
       "    </tr>\n",
       "</table>"
      ],
      "text/plain": [
       "[(99, 'DSB 105', 1, 'T'),\n",
       " (99, 'DSB 105', 1, 'F'),\n",
       " (99, 'DSB 105', 2, 'T'),\n",
       " (99, 'DSB 105', 2, 'F'),\n",
       " (99, 'DSB 105', 3, 'T'),\n",
       " (99, 'DSB 105', 3, 'F'),\n",
       " (107, 'DSB 111', 4, 'R'),\n",
       " (107, 'DSB 111', 4, 'M'),\n",
       " (107, 'DSB 111', 5, 'R'),\n",
       " (107, 'DSB 111', 5, 'M')]"
      ]
     },
     "execution_count": 14,
     "metadata": {},
     "output_type": "execute_result"
    }
   ],
   "source": [
    "%%sql\n",
    "SELECT DISTINCT COURSE_MEETINGS.LOCATION_ID, ROOM_ID, COURSE_OFFERING_ID, DAY\n",
    "FROM COURSE_MEETINGS\n",
    "    LEFT JOIN LOCATIONS USING (LOCATION_ID)\n",
    "LIMIT 10;"
   ]
  },
  {
   "cell_type": "code",
   "execution_count": null,
   "metadata": {},
   "outputs": [],
   "source": [
    "%%sql\n",
    "SELECT *\n",
    "FROM COURSE_OFFERINGS\n",
    "LIMIT 10;"
   ]
  },
  {
   "cell_type": "code",
   "execution_count": null,
   "metadata": {},
   "outputs": [],
   "source": []
  }
 ],
 "metadata": {
  "kernelspec": {
   "display_name": "Python 3",
   "language": "python",
   "name": "python3"
  },
  "language_info": {
   "codemirror_mode": {
    "name": "ipython",
    "version": 3
   },
   "file_extension": ".py",
   "mimetype": "text/x-python",
   "name": "python",
   "nbconvert_exporter": "python",
   "pygments_lexer": "ipython3",
   "version": "3.6.7"
  }
 },
 "nbformat": 4,
 "nbformat_minor": 4
}
