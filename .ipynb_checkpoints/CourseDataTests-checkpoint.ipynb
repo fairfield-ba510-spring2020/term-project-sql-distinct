{
 "cells": [
  {
   "cell_type": "code",
   "execution_count": 1,
   "metadata": {},
   "outputs": [],
   "source": [
    "%load_ext sql\n",
    "import sqlite3\n",
    "import pandas as pd"
   ]
  },
  {
   "cell_type": "code",
   "execution_count": 2,
   "metadata": {},
   "outputs": [],
   "source": [
    "%sql sqlite:///CourseData.db\n",
    "conn = sqlite3.connect('CourseData.db')"
   ]
  },
  {
   "cell_type": "markdown",
   "metadata": {},
   "source": [
    "# Data integrity test"
   ]
  },
  {
   "cell_type": "markdown",
   "metadata": {},
   "source": [
    "# How many seats remain for an instructor's section for a particular course?"
   ]
  },
  {
   "cell_type": "code",
   "execution_count": 3,
   "metadata": {},
   "outputs": [
    {
     "name": "stdout",
     "output_type": "stream",
     "text": [
      " * sqlite:///CourseData.db\n",
      "Done.\n"
     ]
    },
    {
     "data": {
      "text/html": [
       "<table>\n",
       "    <tr>\n",
       "        <th>CRN</th>\n",
       "        <th>SECTION</th>\n",
       "        <th>CAPACITY</th>\n",
       "        <th>REMAINING</th>\n",
       "        <th>INSTRUCTOR_NAME</th>\n",
       "        <th>TERM</th>\n",
       "    </tr>\n",
       "    <tr>\n",
       "        <td>32026</td>\n",
       "        <td>A</td>\n",
       "        <td>100</td>\n",
       "        <td>89</td>\n",
       "        <td>Jonathan G.  Grauer</td>\n",
       "        <td>Spring2015</td>\n",
       "    </tr>\n",
       "    <tr>\n",
       "        <td>37189</td>\n",
       "        <td>A</td>\n",
       "        <td>100</td>\n",
       "        <td>89</td>\n",
       "        <td>Jonathan G.  Grauer</td>\n",
       "        <td>Spring2016</td>\n",
       "    </tr>\n",
       "    <tr>\n",
       "        <td>34154</td>\n",
       "        <td>1</td>\n",
       "        <td>100</td>\n",
       "        <td>86</td>\n",
       "        <td>Jonathan G.  Grauer</td>\n",
       "        <td>Spring2018</td>\n",
       "    </tr>\n",
       "    <tr>\n",
       "        <td>31167</td>\n",
       "        <td>1</td>\n",
       "        <td>100</td>\n",
       "        <td>85</td>\n",
       "        <td>Jonathan G.  Grauer</td>\n",
       "        <td>Spring2017</td>\n",
       "    </tr>\n",
       "    <tr>\n",
       "        <td>39046</td>\n",
       "        <td>0</td>\n",
       "        <td>50</td>\n",
       "        <td>49</td>\n",
       "        <td>Jonathan G.  Grauer</td>\n",
       "        <td>Spring2019</td>\n",
       "    </tr>\n",
       "    <tr>\n",
       "        <td>37145</td>\n",
       "        <td>1</td>\n",
       "        <td>50</td>\n",
       "        <td>49</td>\n",
       "        <td>Jonathan G.  Grauer</td>\n",
       "        <td>Spring2019</td>\n",
       "    </tr>\n",
       "    <tr>\n",
       "        <td>72658</td>\n",
       "        <td>1</td>\n",
       "        <td>65</td>\n",
       "        <td>45</td>\n",
       "        <td>Brendan S.  Mascarenhas</td>\n",
       "        <td>Fall2014</td>\n",
       "    </tr>\n",
       "    <tr>\n",
       "        <td>76879</td>\n",
       "        <td>C</td>\n",
       "        <td>50</td>\n",
       "        <td>42</td>\n",
       "        <td>Blake A.  Segal</td>\n",
       "        <td>Fall2015</td>\n",
       "    </tr>\n",
       "    <tr>\n",
       "        <td>78454</td>\n",
       "        <td>3</td>\n",
       "        <td>50</td>\n",
       "        <td>41</td>\n",
       "        <td>Thomas R.  Schwans</td>\n",
       "        <td>Fall2016</td>\n",
       "    </tr>\n",
       "    <tr>\n",
       "        <td>74056</td>\n",
       "        <td>1</td>\n",
       "        <td>50</td>\n",
       "        <td>39</td>\n",
       "        <td>Jonathan G.  Grauer</td>\n",
       "        <td>Fall2018</td>\n",
       "    </tr>\n",
       "</table>"
      ],
      "text/plain": [
       "[(32026, 'A', 100, 89, 'Jonathan G.  Grauer', 'Spring2015'),\n",
       " (37189, 'A', 100, 89, 'Jonathan G.  Grauer', 'Spring2016'),\n",
       " (34154, 1, 100, 86, 'Jonathan G.  Grauer', 'Spring2018'),\n",
       " (31167, 1, 100, 85, 'Jonathan G.  Grauer', 'Spring2017'),\n",
       " (39046, 0, 50, 49, 'Jonathan G.  Grauer', 'Spring2019'),\n",
       " (37145, 1, 50, 49, 'Jonathan G.  Grauer', 'Spring2019'),\n",
       " (72658, 1, 65, 45, 'Brendan S.  Mascarenhas', 'Fall2014'),\n",
       " (76879, 'C', 50, 42, 'Blake A.  Segal', 'Fall2015'),\n",
       " (78454, 3, 50, 41, 'Thomas R.  Schwans', 'Fall2016'),\n",
       " (74056, 1, 50, 39, 'Jonathan G.  Grauer', 'Fall2018')]"
      ]
     },
     "execution_count": 3,
     "metadata": {},
     "output_type": "execute_result"
    }
   ],
   "source": [
    "%%sql\n",
    "SELECT DISTINCT COURSE_OFFERINGS.CRN, SECTION, CAPACITY, REMAINING, INSTRUCTOR_NAME, COURSE_OFFERINGS.TERM\n",
    "FROM COURSE_OFFERINGS\n",
    "    JOIN INSTRUCTORS ON (COURSE_OFFERINGS.PRIMARY_INSTRUCTOR_ID = INSTRUCTORS.INSTRUCTOR_ID)\n",
    "    JOIN COURSE_MEETINGS USING (COURSE_OFFERING_ID)\n",
    "WHERE CAPACITY > 0\n",
    "ORDER BY REMAINING DESC\n",
    "LIMIT 10;"
   ]
  },
  {
   "cell_type": "markdown",
   "metadata": {},
   "source": [
    "# What is the remaining capacity for each course offered?"
   ]
  },
  {
   "cell_type": "code",
   "execution_count": 4,
   "metadata": {},
   "outputs": [
    {
     "name": "stdout",
     "output_type": "stream",
     "text": [
      " * sqlite:///CourseData.db\n",
      "Done.\n"
     ]
    },
    {
     "data": {
      "text/html": [
       "<table>\n",
       "    <tr>\n",
       "        <th>CRN</th>\n",
       "        <th>SECTION</th>\n",
       "        <th>CAPACITY</th>\n",
       "        <th>REMAINING</th>\n",
       "        <th>TERM</th>\n",
       "    </tr>\n",
       "    <tr>\n",
       "        <td>74177</td>\n",
       "        <td>01C</td>\n",
       "        <td>0</td>\n",
       "        <td>-28</td>\n",
       "        <td>Fall2018</td>\n",
       "    </tr>\n",
       "    <tr>\n",
       "        <td>74177</td>\n",
       "        <td>01C</td>\n",
       "        <td>0</td>\n",
       "        <td>-28</td>\n",
       "        <td>Fall2018</td>\n",
       "    </tr>\n",
       "    <tr>\n",
       "        <td>74177</td>\n",
       "        <td>01C</td>\n",
       "        <td>0</td>\n",
       "        <td>-28</td>\n",
       "        <td>Fall2018</td>\n",
       "    </tr>\n",
       "    <tr>\n",
       "        <td>74177</td>\n",
       "        <td>01C</td>\n",
       "        <td>0</td>\n",
       "        <td>-28</td>\n",
       "        <td>Fall2018</td>\n",
       "    </tr>\n",
       "    <tr>\n",
       "        <td>74177</td>\n",
       "        <td>01C</td>\n",
       "        <td>0</td>\n",
       "        <td>-28</td>\n",
       "        <td>Fall2018</td>\n",
       "    </tr>\n",
       "    <tr>\n",
       "        <td>74177</td>\n",
       "        <td>01C</td>\n",
       "        <td>0</td>\n",
       "        <td>-28</td>\n",
       "        <td>Fall2018</td>\n",
       "    </tr>\n",
       "    <tr>\n",
       "        <td>74177</td>\n",
       "        <td>01C</td>\n",
       "        <td>0</td>\n",
       "        <td>-28</td>\n",
       "        <td>Fall2018</td>\n",
       "    </tr>\n",
       "    <tr>\n",
       "        <td>74177</td>\n",
       "        <td>01C</td>\n",
       "        <td>0</td>\n",
       "        <td>-28</td>\n",
       "        <td>Fall2018</td>\n",
       "    </tr>\n",
       "    <tr>\n",
       "        <td>74177</td>\n",
       "        <td>01C</td>\n",
       "        <td>0</td>\n",
       "        <td>-28</td>\n",
       "        <td>Fall2018</td>\n",
       "    </tr>\n",
       "    <tr>\n",
       "        <td>74177</td>\n",
       "        <td>01C</td>\n",
       "        <td>0</td>\n",
       "        <td>-28</td>\n",
       "        <td>Fall2018</td>\n",
       "    </tr>\n",
       "</table>"
      ],
      "text/plain": [
       "[(74177, '01C', 0, -28, 'Fall2018'),\n",
       " (74177, '01C', 0, -28, 'Fall2018'),\n",
       " (74177, '01C', 0, -28, 'Fall2018'),\n",
       " (74177, '01C', 0, -28, 'Fall2018'),\n",
       " (74177, '01C', 0, -28, 'Fall2018'),\n",
       " (74177, '01C', 0, -28, 'Fall2018'),\n",
       " (74177, '01C', 0, -28, 'Fall2018'),\n",
       " (74177, '01C', 0, -28, 'Fall2018'),\n",
       " (74177, '01C', 0, -28, 'Fall2018'),\n",
       " (74177, '01C', 0, -28, 'Fall2018')]"
      ]
     },
     "execution_count": 4,
     "metadata": {},
     "output_type": "execute_result"
    }
   ],
   "source": [
    "%%sql\n",
    "SELECT COURSE_OFFERINGS.CRN, SECTION, CAPACITY, REMAINING, COURSE_MEETINGS.TERM\n",
    "FROM COURSE_OFFERINGS\n",
    "    JOIN COURSE_MEETINGS USING (CRN)\n",
    "WHERE COURSE_MEETINGS.TERM = 'Fall2018'\n",
    "LIMIT 10;"
   ]
  },
  {
   "cell_type": "markdown",
   "metadata": {},
   "source": [
    "# How many courses are taught in each location?"
   ]
  },
  {
   "cell_type": "code",
   "execution_count": 21,
   "metadata": {},
   "outputs": [
    {
     "name": "stdout",
     "output_type": "stream",
     "text": [
      " * sqlite:///CourseData.db\n",
      "Done.\n"
     ]
    },
    {
     "data": {
      "text/html": [
       "<table>\n",
       "    <tr>\n",
       "        <th>LOCATION_ID</th>\n",
       "        <th>ROOM_ID</th>\n",
       "        <th>COUNT(COURSE_OFFERING_ID)</th>\n",
       "    </tr>\n",
       "    <tr>\n",
       "        <td>1</td>\n",
       "        <td>BCC 200</td>\n",
       "        <td>26</td>\n",
       "    </tr>\n",
       "    <tr>\n",
       "        <td>2</td>\n",
       "        <td>BD </td>\n",
       "        <td>11</td>\n",
       "    </tr>\n",
       "    <tr>\n",
       "        <td>3</td>\n",
       "        <td>BH </td>\n",
       "        <td>381</td>\n",
       "    </tr>\n",
       "    <tr>\n",
       "        <td>4</td>\n",
       "        <td>BH BY ARR</td>\n",
       "        <td>15</td>\n",
       "    </tr>\n",
       "    <tr>\n",
       "        <td>5</td>\n",
       "        <td>BLM 112</td>\n",
       "        <td>13</td>\n",
       "    </tr>\n",
       "    <tr>\n",
       "        <td>6</td>\n",
       "        <td>BLM LL105</td>\n",
       "        <td>1339</td>\n",
       "    </tr>\n",
       "    <tr>\n",
       "        <td>7</td>\n",
       "        <td>BNW 124</td>\n",
       "        <td>2941</td>\n",
       "    </tr>\n",
       "    <tr>\n",
       "        <td>8</td>\n",
       "        <td>BNW 127</td>\n",
       "        <td>3966</td>\n",
       "    </tr>\n",
       "    <tr>\n",
       "        <td>9</td>\n",
       "        <td>BNW 128</td>\n",
       "        <td>731</td>\n",
       "    </tr>\n",
       "    <tr>\n",
       "        <td>10</td>\n",
       "        <td>BNW 129B</td>\n",
       "        <td>1301</td>\n",
       "    </tr>\n",
       "</table>"
      ],
      "text/plain": [
       "[(1, 'BCC 200', 26),\n",
       " (2, 'BD ', 11),\n",
       " (3, 'BH ', 381),\n",
       " (4, 'BH BY ARR', 15),\n",
       " (5, 'BLM 112', 13),\n",
       " (6, 'BLM LL105', 1339),\n",
       " (7, 'BNW 124', 2941),\n",
       " (8, 'BNW 127', 3966),\n",
       " (9, 'BNW 128', 731),\n",
       " (10, 'BNW 129B', 1301)]"
      ]
     },
     "execution_count": 21,
     "metadata": {},
     "output_type": "execute_result"
    }
   ],
   "source": [
    "%%sql\n",
    "SELECT DISTINCT COURSE_MEETINGS.LOCATION_ID, ROOM_ID, COUNT(COURSE_OFFERING_ID)\n",
    "FROM COURSE_MEETINGS\n",
    "    LEFT JOIN LOCATIONS USING (LOCATION_ID)\n",
    "GROUP BY COURSE_MEETINGS.LOCATION_ID, ROOM_ID\n",
    "LIMIT 10;"
   ]
  },
  {
   "cell_type": "markdown",
   "metadata": {},
   "source": [
    "# Tells us how many courses each professor has taught"
   ]
  },
  {
   "cell_type": "code",
   "execution_count": 17,
   "metadata": {},
   "outputs": [
    {
     "name": "stdout",
     "output_type": "stream",
     "text": [
      " * sqlite:///CourseData.db\n",
      "Done.\n"
     ]
    },
    {
     "data": {
      "text/html": [
       "<table>\n",
       "    <tr>\n",
       "        <th>INSTRUCTOR_ID</th>\n",
       "        <th>INSTRUCTOR_NAME</th>\n",
       "        <th>COUNT(CRN)</th>\n",
       "        <th>COUNT(COURSE_ID)</th>\n",
       "        <th>COUNT(COURSE_OFFERINGS.CATALOG_ID)</th>\n",
       "    </tr>\n",
       "    <tr>\n",
       "        <td>1</td>\n",
       "        <td>Michael P.  Coyne</td>\n",
       "        <td>56</td>\n",
       "        <td>56</td>\n",
       "        <td>56</td>\n",
       "    </tr>\n",
       "    <tr>\n",
       "        <td>2</td>\n",
       "        <td>Rebecca I.  Bloch</td>\n",
       "        <td>52</td>\n",
       "        <td>52</td>\n",
       "        <td>52</td>\n",
       "    </tr>\n",
       "    <tr>\n",
       "        <td>3</td>\n",
       "        <td>Paul   Caster</td>\n",
       "        <td>56</td>\n",
       "        <td>56</td>\n",
       "        <td>56</td>\n",
       "    </tr>\n",
       "    <tr>\n",
       "        <td>4</td>\n",
       "        <td>Jo Ann   Drusbosky</td>\n",
       "        <td>70</td>\n",
       "        <td>70</td>\n",
       "        <td>70</td>\n",
       "    </tr>\n",
       "    <tr>\n",
       "        <td>5</td>\n",
       "        <td>Arleen N.  Kardos</td>\n",
       "        <td>40</td>\n",
       "        <td>40</td>\n",
       "        <td>40</td>\n",
       "    </tr>\n",
       "    <tr>\n",
       "        <td>6</td>\n",
       "        <td>Scott M  Brenner</td>\n",
       "        <td>54</td>\n",
       "        <td>54</td>\n",
       "        <td>54</td>\n",
       "    </tr>\n",
       "    <tr>\n",
       "        <td>7</td>\n",
       "        <td>Kevin C.  Cassidy</td>\n",
       "        <td>8</td>\n",
       "        <td>8</td>\n",
       "        <td>8</td>\n",
       "    </tr>\n",
       "    <tr>\n",
       "        <td>8</td>\n",
       "        <td>Bruce   Bradford</td>\n",
       "        <td>62</td>\n",
       "        <td>62</td>\n",
       "        <td>62</td>\n",
       "    </tr>\n",
       "    <tr>\n",
       "        <td>9</td>\n",
       "        <td>Milo W.  Peck</td>\n",
       "        <td>94</td>\n",
       "        <td>94</td>\n",
       "        <td>94</td>\n",
       "    </tr>\n",
       "    <tr>\n",
       "        <td>10</td>\n",
       "        <td>Stephen E.  Yost</td>\n",
       "        <td>42</td>\n",
       "        <td>42</td>\n",
       "        <td>42</td>\n",
       "    </tr>\n",
       "</table>"
      ],
      "text/plain": [
       "[(1, 'Michael P.  Coyne', 56, 56, 56),\n",
       " (2, 'Rebecca I.  Bloch', 52, 52, 52),\n",
       " (3, 'Paul   Caster', 56, 56, 56),\n",
       " (4, 'Jo Ann   Drusbosky', 70, 70, 70),\n",
       " (5, 'Arleen N.  Kardos', 40, 40, 40),\n",
       " (6, 'Scott M  Brenner', 54, 54, 54),\n",
       " (7, 'Kevin C.  Cassidy', 8, 8, 8),\n",
       " (8, 'Bruce   Bradford', 62, 62, 62),\n",
       " (9, 'Milo W.  Peck', 94, 94, 94),\n",
       " (10, 'Stephen E.  Yost', 42, 42, 42)]"
      ]
     },
     "execution_count": 17,
     "metadata": {},
     "output_type": "execute_result"
    }
   ],
   "source": [
    "\n",
    "%%sql\n",
    "SELECT INSTRUCTOR_ID, INSTRUCTOR_NAME,COUNT(CRN),COUNT(COURSE_ID), COUNT(COURSE_OFFERINGS.CATALOG_ID)\n",
    "FROM COURSE_OFFERINGS\n",
    "    JOIN COURSES USING (CATALOG_ID)\n",
    "    JOIN INSTRUCTORS ON COURSE_OFFERINGS.PRIMARY_INSTRUCTOR_ID = INSTRUCTORS.INSTRUCTOR_ID\n",
    "GROUP BY INSTRUCTOR_ID\n",
    "LIMIT 10;"
   ]
  },
  {
   "cell_type": "markdown",
   "metadata": {},
   "source": [
    "# How many courses are in each program?"
   ]
  },
  {
   "cell_type": "code",
   "execution_count": 20,
   "metadata": {},
   "outputs": [
    {
     "name": "stdout",
     "output_type": "stream",
     "text": [
      " * sqlite:///CourseData.db\n",
      "Done.\n"
     ]
    },
    {
     "data": {
      "text/html": [
       "<table>\n",
       "    <tr>\n",
       "        <th>PROGRAM_ID</th>\n",
       "        <th>PROGRAM_NAME</th>\n",
       "        <th>COUNT(TITLE)</th>\n",
       "    </tr>\n",
       "    <tr>\n",
       "        <td>1</td>\n",
       "        <td>Accounting</td>\n",
       "        <td>68</td>\n",
       "    </tr>\n",
       "    <tr>\n",
       "        <td>2</td>\n",
       "        <td>Applied Ethics</td>\n",
       "        <td>64</td>\n",
       "    </tr>\n",
       "    <tr>\n",
       "        <td>3</td>\n",
       "        <td>Art History</td>\n",
       "        <td>72</td>\n",
       "    </tr>\n",
       "    <tr>\n",
       "        <td>4</td>\n",
       "        <td>Asian Studies</td>\n",
       "        <td>4</td>\n",
       "    </tr>\n",
       "    <tr>\n",
       "        <td>5</td>\n",
       "        <td>Arabic</td>\n",
       "        <td>16</td>\n",
       "    </tr>\n",
       "    <tr>\n",
       "        <td>6</td>\n",
       "        <td>American Studies</td>\n",
       "        <td>90</td>\n",
       "    </tr>\n",
       "    <tr>\n",
       "        <td>7</td>\n",
       "        <td>Anthropology</td>\n",
       "        <td>40</td>\n",
       "    </tr>\n",
       "    <tr>\n",
       "        <td>8</td>\n",
       "        <td>Business</td>\n",
       "        <td>20</td>\n",
       "    </tr>\n",
       "    <tr>\n",
       "        <td>9</td>\n",
       "        <td>Bioengineering</td>\n",
       "        <td>14</td>\n",
       "    </tr>\n",
       "    <tr>\n",
       "        <td>10</td>\n",
       "        <td>Biology</td>\n",
       "        <td>190</td>\n",
       "    </tr>\n",
       "</table>"
      ],
      "text/plain": [
       "[(1, 'Accounting', 68),\n",
       " (2, 'Applied Ethics', 64),\n",
       " (3, 'Art History', 72),\n",
       " (4, 'Asian Studies', 4),\n",
       " (5, 'Arabic', 16),\n",
       " (6, 'American Studies', 90),\n",
       " (7, 'Anthropology', 40),\n",
       " (8, 'Business', 20),\n",
       " (9, 'Bioengineering', 14),\n",
       " (10, 'Biology', 190)]"
      ]
     },
     "execution_count": 20,
     "metadata": {},
     "output_type": "execute_result"
    }
   ],
   "source": [
    "%%sql\n",
    "SELECT PROGRAMS.PROGRAM_ID, PROGRAM_NAME, COUNT(TITLE)\n",
    "FROM COURSES\n",
    "    JOIN PROGRAMS USING (PROGRAM_ID)\n",
    "GROUP BY PROGRAMS.PROGRAM_ID, PROGRAM_NAME\n",
    "LIMIT 10;"
   ]
  },
  {
   "cell_type": "code",
   "execution_count": null,
   "metadata": {},
   "outputs": [],
   "source": []
  }
 ],
 "metadata": {
  "kernelspec": {
   "display_name": "Python 3",
   "language": "python",
   "name": "python3"
  },
  "language_info": {
   "codemirror_mode": {
    "name": "ipython",
    "version": 3
   },
   "file_extension": ".py",
   "mimetype": "text/x-python",
   "name": "python",
   "nbconvert_exporter": "python",
   "pygments_lexer": "ipython3",
   "version": "3.6.7"
  }
 },
 "nbformat": 4,
 "nbformat_minor": 4
}
