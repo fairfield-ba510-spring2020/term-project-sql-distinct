{
 "cells": [
  {
   "cell_type": "code",
   "execution_count": 1,
   "metadata": {},
   "outputs": [],
   "source": [
    "%load_ext sql\n",
    "import sqlite3\n",
    "import pandas as pd"
   ]
  },
  {
   "cell_type": "code",
   "execution_count": 2,
   "metadata": {},
   "outputs": [],
   "source": [
    "%sql sqlite:///CourseDataWarehouse.db\n",
    "conn = sqlite3.connect('CourseDataWarehouse.db')"
   ]
  },
  {
   "cell_type": "code",
   "execution_count": 14,
   "metadata": {},
   "outputs": [],
   "source": [
    "%sql sqlite:///CourseData.db\n",
    "conn = sqlite3.connect('CourseData.db')"
   ]
  },
  {
   "cell_type": "code",
   "execution_count": 3,
   "metadata": {},
   "outputs": [
    {
     "name": "stdout",
     "output_type": "stream",
     "text": [
      " * sqlite:///CourseDataWarehouse.db\n",
      "Done.\n",
      "Done.\n"
     ]
    },
    {
     "data": {
      "text/plain": [
       "[]"
      ]
     },
     "execution_count": 3,
     "metadata": {},
     "output_type": "execute_result"
    }
   ],
   "source": [
    "%%sql\n",
    "DROP TABLE IF EXISTS INSTRUCTORS;\n",
    "\n",
    "CREATE TABLE INSTRUCTORS(\n",
    "    INSTRUCTOR_ID INTEGER PRIMARY KEY,\n",
    "    INSTRUCTOR_NAME TEXT NOT NULL);"
   ]
  },
  {
   "cell_type": "code",
   "execution_count": 4,
   "metadata": {},
   "outputs": [
    {
     "name": "stdout",
     "output_type": "stream",
     "text": [
      " * sqlite:///CourseDataWarehouse.db\n",
      "Done.\n",
      "Done.\n"
     ]
    },
    {
     "data": {
      "text/plain": [
       "[]"
      ]
     },
     "execution_count": 4,
     "metadata": {},
     "output_type": "execute_result"
    }
   ],
   "source": [
    "%%sql\n",
    "DROP TABLE IF EXISTS PROGRAMS;\n",
    "CREATE TABLE PROGRAMS(\n",
    "    PROGRAM_ID INTEGER PRIMARY KEY,\n",
    "    PROGRAM_CODE TEXT NOT NULL,\n",
    "    PROGRAM_NAME TEXT NOT NULL);"
   ]
  },
  {
   "cell_type": "code",
   "execution_count": 5,
   "metadata": {},
   "outputs": [
    {
     "name": "stdout",
     "output_type": "stream",
     "text": [
      " * sqlite:///CourseDataWarehouse.db\n",
      "Done.\n",
      "Done.\n"
     ]
    },
    {
     "data": {
      "text/plain": [
       "[]"
      ]
     },
     "execution_count": 5,
     "metadata": {},
     "output_type": "execute_result"
    }
   ],
   "source": [
    "%%sql\n",
    "DROP TABLE IF EXISTS LOCATIONS;\n",
    "CREATE TABLE LOCATIONS(\n",
    "    LOCATION_ID INTEGER PRIMARY KEY,\n",
    "    ROOM_ID TEXT);"
   ]
  },
  {
   "cell_type": "code",
   "execution_count": 36,
   "metadata": {},
   "outputs": [
    {
     "name": "stdout",
     "output_type": "stream",
     "text": [
      " * sqlite:///CourseData.db\n",
      "   sqlite:///CourseDataWarehouse.db\n",
      "Done.\n",
      "Done.\n"
     ]
    },
    {
     "data": {
      "text/plain": [
       "[]"
      ]
     },
     "execution_count": 36,
     "metadata": {},
     "output_type": "execute_result"
    }
   ],
   "source": [
    "%%sql\n",
    "DROP TABLE IF EXISTS TIME_SLICES;\n",
    "CREATE TABLE TIME_SLICES(\n",
    "    TIMECODE INTEGER PRIMARY KEY,\n",
    "    DAY TEXT,\n",
    "    START TEXT,\n",
    "    END TEXT);"
   ]
  },
  {
   "cell_type": "code",
   "execution_count": 9,
   "metadata": {},
   "outputs": [
    {
     "name": "stdout",
     "output_type": "stream",
     "text": [
      " * sqlite:///CourseDataWarehouse.db\n",
      "Done.\n",
      "Done.\n"
     ]
    },
    {
     "data": {
      "text/plain": [
       "[]"
      ]
     },
     "execution_count": 9,
     "metadata": {},
     "output_type": "execute_result"
    }
   ],
   "source": [
    "%%sql\n",
    "DROP TABLE IF EXISTS CALENDAR_DATES;\n",
    "CREATE TABLE CALENDAR_DATES(\n",
    "    TERM TEXT PRIMARY KEY,\n",
    "    YEAR TEXT);"
   ]
  },
  {
   "cell_type": "code",
   "execution_count": 11,
   "metadata": {},
   "outputs": [
    {
     "name": "stdout",
     "output_type": "stream",
     "text": [
      " * sqlite:///CourseDataWarehouse.db\n",
      "Done.\n",
      "Done.\n"
     ]
    },
    {
     "data": {
      "text/plain": [
       "[]"
      ]
     },
     "execution_count": 11,
     "metadata": {},
     "output_type": "execute_result"
    }
   ],
   "source": [
    "%%sql\n",
    "DROP TABLE IF EXISTS COURSE_FACTS;\n",
    "CREATE TABLE COURSE_FACTS(\n",
    "    CATALOG_ID TEXT NOT NULL,\n",
    "    TITLE TEXT NOT NULL,\n",
    "    PREREQ TEXT,\n",
    "    COREQ TEXT,\n",
    "    SECTION TEXT,\n",
    "    CAPACITY INTEGER,\n",
    "    ACTUAL INTEGER,\n",
    "    REMAINING INTEGER,\n",
    "    CREDITS INTEGER,\n",
    "    TIME_CODE TEXT NOT NULL,\n",
    "    TERM TEXT NOT NULL,\n",
    "    LOCATION_ID INTEGER NOT NULL,\n",
    "    INSTRUCTOR_ID INTEGER NOT NULL,\n",
    "    PROGRAM_ID INTEGER NOT NULL,\n",
    "    FOREIGN KEY (TIME_CODE)\n",
    "        REFERENCES TIME_SLICES (TIME_CODE)\n",
    "        ON UPDATE CASCADE,\n",
    "    FOREIGN KEY (TERM)\n",
    "        REFERENCES CALENDAR_DATES (TERM)\n",
    "        ON UPDATE CASCADE,\n",
    "    FOREIGN KEY (LOCATION_ID)\n",
    "        REFERENCES LOCATIONS (LOCATION_ID)\n",
    "        ON UPDATE CASCADE\n",
    "    FOREIGN KEY (INSTRUCTOR_ID)\n",
    "        REFERENCES INSTRUCTORS (INSTRUCTOR_ID)\n",
    "        ON UPDATE CASCADE,\n",
    "    FOREIGN KEY (PROGRAM_ID)\n",
    "        REFERENCES PROGRAMS (PROGRAM_ID)\n",
    "        ON UPDATE CASCADE\n",
    ");"
   ]
  },
  {
   "cell_type": "code",
   "execution_count": 15,
   "metadata": {},
   "outputs": [
    {
     "name": "stdout",
     "output_type": "stream",
     "text": [
      " * sqlite:///CourseData.db\n",
      "   sqlite:///CourseDataWarehouse.db\n",
      "Done.\n"
     ]
    },
    {
     "data": {
      "text/html": [
       "<table>\n",
       "    <tr>\n",
       "        <th>COUNT(*)</th>\n",
       "    </tr>\n",
       "    <tr>\n",
       "        <td>83</td>\n",
       "    </tr>\n",
       "</table>"
      ],
      "text/plain": [
       "[(83,)]"
      ]
     },
     "execution_count": 15,
     "metadata": {},
     "output_type": "execute_result"
    }
   ],
   "source": [
    "%%sql\n",
    "SELECT COUNT(*)\n",
    "FROM (SELECT * FROM PROGRAMS)"
   ]
  },
  {
   "cell_type": "code",
   "execution_count": 47,
   "metadata": {},
   "outputs": [
    {
     "name": "stdout",
     "output_type": "stream",
     "text": [
      " * sqlite:///CourseData.db\n",
      "   sqlite:///CourseDataWarehouse.db\n",
      "83 rows affected.\n"
     ]
    },
    {
     "data": {
      "text/plain": [
       "[]"
      ]
     },
     "execution_count": 47,
     "metadata": {},
     "output_type": "execute_result"
    }
   ],
   "source": [
    "%%sql\n",
    "\n",
    "INSERT INTO PROGRAMS (PROGRAM_CODE, PROGRAM_NAME)\n",
    "SELECT PROGRAM_CODE, PROGRAM_NAME\n",
    "FROM PROGRAMS "
   ]
  },
  {
   "cell_type": "code",
   "execution_count": 44,
   "metadata": {},
   "outputs": [
    {
     "name": "stdout",
     "output_type": "stream",
     "text": [
      " * sqlite:///CourseData.db\n",
      "   sqlite:///CourseDataWarehouse.db\n",
      "Done.\n"
     ]
    },
    {
     "data": {
      "text/html": [
       "<table>\n",
       "    <tr>\n",
       "        <th>PROGRAM_ID</th>\n",
       "        <th>PROGRAM_CODE</th>\n",
       "        <th>PROGRAM_NAME</th>\n",
       "    </tr>\n",
       "</table>"
      ],
      "text/plain": [
       "[]"
      ]
     },
     "execution_count": 44,
     "metadata": {},
     "output_type": "execute_result"
    }
   ],
   "source": [
    "%%sql\n",
    "SELECT * \n",
    "FROM PROGRAMS\n",
    "LIMIT 10;"
   ]
  },
  {
   "cell_type": "code",
   "execution_count": 22,
   "metadata": {},
   "outputs": [
    {
     "name": "stdout",
     "output_type": "stream",
     "text": [
      " * sqlite:///CourseData.db\n",
      "   sqlite:///CourseDataWarehouse.db\n",
      "Done.\n"
     ]
    },
    {
     "data": {
      "text/html": [
       "<table>\n",
       "    <tr>\n",
       "        <th>COUNT(*)</th>\n",
       "    </tr>\n",
       "    <tr>\n",
       "        <td>1095</td>\n",
       "    </tr>\n",
       "</table>"
      ],
      "text/plain": [
       "[(1095,)]"
      ]
     },
     "execution_count": 22,
     "metadata": {},
     "output_type": "execute_result"
    }
   ],
   "source": [
    "%%sql\n",
    "SELECT COUNT(*)\n",
    "FROM (SELECT * FROM INSTRUCTORS)"
   ]
  },
  {
   "cell_type": "code",
   "execution_count": 23,
   "metadata": {},
   "outputs": [
    {
     "name": "stdout",
     "output_type": "stream",
     "text": [
      " * sqlite:///CourseData.db\n",
      "   sqlite:///CourseDataWarehouse.db\n",
      "1095 rows affected.\n"
     ]
    },
    {
     "data": {
      "text/plain": [
       "[]"
      ]
     },
     "execution_count": 23,
     "metadata": {},
     "output_type": "execute_result"
    }
   ],
   "source": [
    "%%sql\n",
    "INSERT INTO INSTRUCTORS (INSTRUCTOR_NAME)\n",
    "SELECT INSTRUCTOR_NAME\n",
    "FROM INSTRUCTORS"
   ]
  },
  {
   "cell_type": "code",
   "execution_count": 24,
   "metadata": {},
   "outputs": [
    {
     "name": "stdout",
     "output_type": "stream",
     "text": [
      " * sqlite:///CourseData.db\n",
      "   sqlite:///CourseDataWarehouse.db\n",
      "Done.\n"
     ]
    },
    {
     "data": {
      "text/html": [
       "<table>\n",
       "    <tr>\n",
       "        <th>INSTRUCTOR_ID</th>\n",
       "        <th>INSTRUCTOR_NAME</th>\n",
       "    </tr>\n",
       "    <tr>\n",
       "        <td>1</td>\n",
       "        <td>Michael P.  Coyne</td>\n",
       "    </tr>\n",
       "    <tr>\n",
       "        <td>2</td>\n",
       "        <td>Rebecca I.  Bloch</td>\n",
       "    </tr>\n",
       "    <tr>\n",
       "        <td>3</td>\n",
       "        <td>Paul   Caster</td>\n",
       "    </tr>\n",
       "    <tr>\n",
       "        <td>4</td>\n",
       "        <td>Jo Ann   Drusbosky</td>\n",
       "    </tr>\n",
       "    <tr>\n",
       "        <td>5</td>\n",
       "        <td>Arleen N.  Kardos</td>\n",
       "    </tr>\n",
       "    <tr>\n",
       "        <td>6</td>\n",
       "        <td>Scott M  Brenner</td>\n",
       "    </tr>\n",
       "    <tr>\n",
       "        <td>7</td>\n",
       "        <td>Kevin C.  Cassidy</td>\n",
       "    </tr>\n",
       "    <tr>\n",
       "        <td>8</td>\n",
       "        <td>Bruce   Bradford</td>\n",
       "    </tr>\n",
       "    <tr>\n",
       "        <td>9</td>\n",
       "        <td>Milo W.  Peck</td>\n",
       "    </tr>\n",
       "    <tr>\n",
       "        <td>10</td>\n",
       "        <td>Stephen E.  Yost</td>\n",
       "    </tr>\n",
       "</table>"
      ],
      "text/plain": [
       "[(1, 'Michael P.  Coyne'),\n",
       " (2, 'Rebecca I.  Bloch'),\n",
       " (3, 'Paul   Caster'),\n",
       " (4, 'Jo Ann   Drusbosky'),\n",
       " (5, 'Arleen N.  Kardos'),\n",
       " (6, 'Scott M  Brenner'),\n",
       " (7, 'Kevin C.  Cassidy'),\n",
       " (8, 'Bruce   Bradford'),\n",
       " (9, 'Milo W.  Peck'),\n",
       " (10, 'Stephen E.  Yost')]"
      ]
     },
     "execution_count": 24,
     "metadata": {},
     "output_type": "execute_result"
    }
   ],
   "source": [
    "%%sql\n",
    "SELECT *\n",
    "FROM INSTRUCTORS \n",
    "LIMIT 10;"
   ]
  },
  {
   "cell_type": "code",
   "execution_count": 25,
   "metadata": {},
   "outputs": [
    {
     "name": "stdout",
     "output_type": "stream",
     "text": [
      " * sqlite:///CourseData.db\n",
      "   sqlite:///CourseDataWarehouse.db\n",
      "Done.\n"
     ]
    },
    {
     "data": {
      "text/html": [
       "<table>\n",
       "    <tr>\n",
       "        <th>COUNT(*)</th>\n",
       "    </tr>\n",
       "    <tr>\n",
       "        <td>207</td>\n",
       "    </tr>\n",
       "</table>"
      ],
      "text/plain": [
       "[(207,)]"
      ]
     },
     "execution_count": 25,
     "metadata": {},
     "output_type": "execute_result"
    }
   ],
   "source": [
    "%%sql\n",
    "SELECT COUNT(*)\n",
    "FROM (SELECT * FROM LOCATIONS)"
   ]
  },
  {
   "cell_type": "code",
   "execution_count": 26,
   "metadata": {},
   "outputs": [
    {
     "name": "stdout",
     "output_type": "stream",
     "text": [
      " * sqlite:///CourseData.db\n",
      "   sqlite:///CourseDataWarehouse.db\n",
      "207 rows affected.\n"
     ]
    },
    {
     "data": {
      "text/plain": [
       "[]"
      ]
     },
     "execution_count": 26,
     "metadata": {},
     "output_type": "execute_result"
    }
   ],
   "source": [
    "%%sql \n",
    "INSERT INTO LOCATIONS (ROOM_ID)\n",
    "SELECT ROOM_ID\n",
    "FROM LOCATIONS"
   ]
  },
  {
   "cell_type": "code",
   "execution_count": 27,
   "metadata": {},
   "outputs": [
    {
     "name": "stdout",
     "output_type": "stream",
     "text": [
      " * sqlite:///CourseData.db\n",
      "   sqlite:///CourseDataWarehouse.db\n",
      "Done.\n"
     ]
    },
    {
     "data": {
      "text/html": [
       "<table>\n",
       "    <tr>\n",
       "        <th>LOCATION_ID</th>\n",
       "        <th>ROOM_ID</th>\n",
       "    </tr>\n",
       "    <tr>\n",
       "        <td>1</td>\n",
       "        <td>BCC 200</td>\n",
       "    </tr>\n",
       "    <tr>\n",
       "        <td>2</td>\n",
       "        <td>BD </td>\n",
       "    </tr>\n",
       "    <tr>\n",
       "        <td>3</td>\n",
       "        <td>BH </td>\n",
       "    </tr>\n",
       "    <tr>\n",
       "        <td>4</td>\n",
       "        <td>BH BY ARR</td>\n",
       "    </tr>\n",
       "    <tr>\n",
       "        <td>5</td>\n",
       "        <td>BLM 112</td>\n",
       "    </tr>\n",
       "    <tr>\n",
       "        <td>6</td>\n",
       "        <td>BLM LL105</td>\n",
       "    </tr>\n",
       "    <tr>\n",
       "        <td>7</td>\n",
       "        <td>BNW 124</td>\n",
       "    </tr>\n",
       "    <tr>\n",
       "        <td>8</td>\n",
       "        <td>BNW 127</td>\n",
       "    </tr>\n",
       "    <tr>\n",
       "        <td>9</td>\n",
       "        <td>BNW 128</td>\n",
       "    </tr>\n",
       "    <tr>\n",
       "        <td>10</td>\n",
       "        <td>BNW 129B</td>\n",
       "    </tr>\n",
       "</table>"
      ],
      "text/plain": [
       "[(1, 'BCC 200'),\n",
       " (2, 'BD '),\n",
       " (3, 'BH '),\n",
       " (4, 'BH BY ARR'),\n",
       " (5, 'BLM 112'),\n",
       " (6, 'BLM LL105'),\n",
       " (7, 'BNW 124'),\n",
       " (8, 'BNW 127'),\n",
       " (9, 'BNW 128'),\n",
       " (10, 'BNW 129B')]"
      ]
     },
     "execution_count": 27,
     "metadata": {},
     "output_type": "execute_result"
    }
   ],
   "source": [
    "%%sql\n",
    "SELECT *\n",
    "FROM LOCATIONS\n",
    "LIMIT 10;"
   ]
  },
  {
   "cell_type": "code",
   "execution_count": 40,
   "metadata": {},
   "outputs": [
    {
     "name": "stdout",
     "output_type": "stream",
     "text": [
      " * sqlite:///CourseData.db\n",
      "   sqlite:///CourseDataWarehouse.db\n",
      "Done.\n"
     ]
    },
    {
     "data": {
      "text/html": [
       "<table>\n",
       "    <tr>\n",
       "        <th>DAY</th>\n",
       "        <th>StartTime</th>\n",
       "        <th>EndTime</th>\n",
       "    </tr>\n",
       "    <tr>\n",
       "        <td>T</td>\n",
       "        <td>08:00:00</td>\n",
       "        <td>09:15:00</td>\n",
       "    </tr>\n",
       "    <tr>\n",
       "        <td>F</td>\n",
       "        <td>08:00:00</td>\n",
       "        <td>09:15:00</td>\n",
       "    </tr>\n",
       "    <tr>\n",
       "        <td>T</td>\n",
       "        <td>09:30:00</td>\n",
       "        <td>10:45:00</td>\n",
       "    </tr>\n",
       "    <tr>\n",
       "        <td>F</td>\n",
       "        <td>09:30:00</td>\n",
       "        <td>10:45:00</td>\n",
       "    </tr>\n",
       "    <tr>\n",
       "        <td>T</td>\n",
       "        <td>12:30:00</td>\n",
       "        <td>13:45:00</td>\n",
       "    </tr>\n",
       "    <tr>\n",
       "        <td>F</td>\n",
       "        <td>12:30:00</td>\n",
       "        <td>13:45:00</td>\n",
       "    </tr>\n",
       "    <tr>\n",
       "        <td>R</td>\n",
       "        <td>11:00:00</td>\n",
       "        <td>12:15:00</td>\n",
       "    </tr>\n",
       "    <tr>\n",
       "        <td>M</td>\n",
       "        <td>11:00:00</td>\n",
       "        <td>12:15:00</td>\n",
       "    </tr>\n",
       "    <tr>\n",
       "        <td>R</td>\n",
       "        <td>12:30:00</td>\n",
       "        <td>13:45:00</td>\n",
       "    </tr>\n",
       "    <tr>\n",
       "        <td>M</td>\n",
       "        <td>12:30:00</td>\n",
       "        <td>13:45:00</td>\n",
       "    </tr>\n",
       "</table>"
      ],
      "text/plain": [
       "[('T', '08:00:00', '09:15:00'),\n",
       " ('F', '08:00:00', '09:15:00'),\n",
       " ('T', '09:30:00', '10:45:00'),\n",
       " ('F', '09:30:00', '10:45:00'),\n",
       " ('T', '12:30:00', '13:45:00'),\n",
       " ('F', '12:30:00', '13:45:00'),\n",
       " ('R', '11:00:00', '12:15:00'),\n",
       " ('M', '11:00:00', '12:15:00'),\n",
       " ('R', '12:30:00', '13:45:00'),\n",
       " ('M', '12:30:00', '13:45:00')]"
      ]
     },
     "execution_count": 40,
     "metadata": {},
     "output_type": "execute_result"
    }
   ],
   "source": [
    "%%sql\n",
    "SELECT DISTINCT DAY,substr(start,12,8) as StartTime, substr(end,12,8) as EndTime \n",
    "FROM COURSE_OFFERINGS\n",
    "    JOIN COURSE_MEETINGS USING (COURSE_OFFERING_ID)\n",
    "LIMIT 10;"
   ]
  },
  {
   "cell_type": "code",
   "execution_count": 41,
   "metadata": {},
   "outputs": [
    {
     "name": "stdout",
     "output_type": "stream",
     "text": [
      " * sqlite:///CourseData.db\n",
      "   sqlite:///CourseDataWarehouse.db\n",
      "284907 rows affected.\n",
      "1090 rows affected.\n"
     ]
    },
    {
     "data": {
      "text/plain": [
       "[]"
      ]
     },
     "execution_count": 41,
     "metadata": {},
     "output_type": "execute_result"
    }
   ],
   "source": [
    "%%sql\n",
    "\n",
    "DELETE FROM TIME_SLICES;\n",
    "\n",
    "INSERT INTO TIME_SLICES ( DAY, START, END)\n",
    "SELECT DISTINCT DAY,substr(start,12,8) as StartTime, substr(end,12,8) as EndTime \n",
    "FROM COURSE_OFFERINGS\n",
    "    JOIN COURSE_MEETINGS USING (COURSE_OFFERING_ID)"
   ]
  },
  {
   "cell_type": "code",
   "execution_count": 42,
   "metadata": {},
   "outputs": [
    {
     "name": "stdout",
     "output_type": "stream",
     "text": [
      " * sqlite:///CourseData.db\n",
      "   sqlite:///CourseDataWarehouse.db\n",
      "Done.\n"
     ]
    },
    {
     "data": {
      "text/html": [
       "<table>\n",
       "    <tr>\n",
       "        <th>TIMECODE</th>\n",
       "        <th>DAY</th>\n",
       "        <th>START</th>\n",
       "        <th>END</th>\n",
       "    </tr>\n",
       "    <tr>\n",
       "        <td>1</td>\n",
       "        <td>T</td>\n",
       "        <td>08:00:00</td>\n",
       "        <td>09:15:00</td>\n",
       "    </tr>\n",
       "    <tr>\n",
       "        <td>2</td>\n",
       "        <td>F</td>\n",
       "        <td>08:00:00</td>\n",
       "        <td>09:15:00</td>\n",
       "    </tr>\n",
       "    <tr>\n",
       "        <td>3</td>\n",
       "        <td>T</td>\n",
       "        <td>09:30:00</td>\n",
       "        <td>10:45:00</td>\n",
       "    </tr>\n",
       "    <tr>\n",
       "        <td>4</td>\n",
       "        <td>F</td>\n",
       "        <td>09:30:00</td>\n",
       "        <td>10:45:00</td>\n",
       "    </tr>\n",
       "    <tr>\n",
       "        <td>5</td>\n",
       "        <td>T</td>\n",
       "        <td>12:30:00</td>\n",
       "        <td>13:45:00</td>\n",
       "    </tr>\n",
       "    <tr>\n",
       "        <td>6</td>\n",
       "        <td>F</td>\n",
       "        <td>12:30:00</td>\n",
       "        <td>13:45:00</td>\n",
       "    </tr>\n",
       "    <tr>\n",
       "        <td>7</td>\n",
       "        <td>R</td>\n",
       "        <td>11:00:00</td>\n",
       "        <td>12:15:00</td>\n",
       "    </tr>\n",
       "    <tr>\n",
       "        <td>8</td>\n",
       "        <td>M</td>\n",
       "        <td>11:00:00</td>\n",
       "        <td>12:15:00</td>\n",
       "    </tr>\n",
       "    <tr>\n",
       "        <td>9</td>\n",
       "        <td>R</td>\n",
       "        <td>12:30:00</td>\n",
       "        <td>13:45:00</td>\n",
       "    </tr>\n",
       "    <tr>\n",
       "        <td>10</td>\n",
       "        <td>M</td>\n",
       "        <td>12:30:00</td>\n",
       "        <td>13:45:00</td>\n",
       "    </tr>\n",
       "</table>"
      ],
      "text/plain": [
       "[(1, 'T', '08:00:00', '09:15:00'),\n",
       " (2, 'F', '08:00:00', '09:15:00'),\n",
       " (3, 'T', '09:30:00', '10:45:00'),\n",
       " (4, 'F', '09:30:00', '10:45:00'),\n",
       " (5, 'T', '12:30:00', '13:45:00'),\n",
       " (6, 'F', '12:30:00', '13:45:00'),\n",
       " (7, 'R', '11:00:00', '12:15:00'),\n",
       " (8, 'M', '11:00:00', '12:15:00'),\n",
       " (9, 'R', '12:30:00', '13:45:00'),\n",
       " (10, 'M', '12:30:00', '13:45:00')]"
      ]
     },
     "execution_count": 42,
     "metadata": {},
     "output_type": "execute_result"
    }
   ],
   "source": [
    "%%sql\n",
    "SELECT *\n",
    "FROM TIME_SLICES\n",
    "LIMIT 10;"
   ]
  },
  {
   "cell_type": "code",
   "execution_count": null,
   "metadata": {},
   "outputs": [],
   "source": []
  }
 ],
 "metadata": {
  "kernelspec": {
   "display_name": "Python 3",
   "language": "python",
   "name": "python3"
  },
  "language_info": {
   "codemirror_mode": {
    "name": "ipython",
    "version": 3
   },
   "file_extension": ".py",
   "mimetype": "text/x-python",
   "name": "python",
   "nbconvert_exporter": "python",
   "pygments_lexer": "ipython3",
   "version": "3.6.7"
  }
 },
 "nbformat": 4,
 "nbformat_minor": 4
}
