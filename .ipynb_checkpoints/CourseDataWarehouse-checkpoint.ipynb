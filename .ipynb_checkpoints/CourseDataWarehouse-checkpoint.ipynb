{
 "cells": [
  {
   "cell_type": "code",
   "execution_count": 1,
   "metadata": {},
   "outputs": [],
   "source": [
    "%load_ext sql\n",
    "import sqlite3\n",
    "import pandas as pd"
   ]
  },
  {
   "cell_type": "code",
   "execution_count": 2,
   "metadata": {},
   "outputs": [
    {
     "data": {
      "text/plain": [
       "'Connected: @CourseDataWarehouse.db'"
      ]
     },
     "execution_count": 2,
     "metadata": {},
     "output_type": "execute_result"
    }
   ],
   "source": [
    "%sql sqlite:///CourseDataWarehouse.db"
   ]
  },
  {
   "cell_type": "markdown",
   "metadata": {},
   "source": [
    "# 5. Create and Build Datawarehouse "
   ]
  },
  {
   "cell_type": "markdown",
   "metadata": {},
   "source": [
    "## A. Created a fact table and dimensions to outline our datawarehouse\n",
    "![ERD](Course_Facts_ERD.png)"
   ]
  },
  {
   "cell_type": "markdown",
   "metadata": {},
   "source": [
    "## B. Created SQL Tables that aligned with our datawarehouse"
   ]
  },
  {
   "cell_type": "markdown",
   "metadata": {},
   "source": [
    "### 1. Instructors Table"
   ]
  },
  {
   "cell_type": "code",
   "execution_count": 3,
   "metadata": {},
   "outputs": [
    {
     "name": "stdout",
     "output_type": "stream",
     "text": [
      " * sqlite:///CourseDataWarehouse.db\n",
      "Done.\n",
      "Done.\n"
     ]
    },
    {
     "data": {
      "text/plain": [
       "[]"
      ]
     },
     "execution_count": 3,
     "metadata": {},
     "output_type": "execute_result"
    }
   ],
   "source": [
    "%%sql\n",
    "DROP TABLE IF EXISTS INSTRUCTORS;\n",
    "\n",
    "CREATE TABLE INSTRUCTORS(\n",
    "    INSTRUCTOR_ID INTEGER PRIMARY KEY,\n",
    "    INSTRUCTOR_NAME TEXT NOT NULL);"
   ]
  },
  {
   "cell_type": "markdown",
   "metadata": {},
   "source": [
    "### 2. Programs Table"
   ]
  },
  {
   "cell_type": "code",
   "execution_count": 4,
   "metadata": {},
   "outputs": [
    {
     "name": "stdout",
     "output_type": "stream",
     "text": [
      " * sqlite:///CourseDataWarehouse.db\n",
      "Done.\n",
      "Done.\n"
     ]
    },
    {
     "data": {
      "text/plain": [
       "[]"
      ]
     },
     "execution_count": 4,
     "metadata": {},
     "output_type": "execute_result"
    }
   ],
   "source": [
    "%%sql\n",
    "DROP TABLE IF EXISTS PROGRAMS;\n",
    "CREATE TABLE PROGRAMS(\n",
    "    PROGRAM_ID INTEGER PRIMARY KEY,\n",
    "    PROGRAM_CODE TEXT NOT NULL,\n",
    "    PROGRAM_NAME TEXT NOT NULL);"
   ]
  },
  {
   "cell_type": "markdown",
   "metadata": {},
   "source": [
    "### 3. Locations Table"
   ]
  },
  {
   "cell_type": "code",
   "execution_count": 5,
   "metadata": {},
   "outputs": [
    {
     "name": "stdout",
     "output_type": "stream",
     "text": [
      " * sqlite:///CourseDataWarehouse.db\n",
      "Done.\n",
      "Done.\n"
     ]
    },
    {
     "data": {
      "text/plain": [
       "[]"
      ]
     },
     "execution_count": 5,
     "metadata": {},
     "output_type": "execute_result"
    }
   ],
   "source": [
    "%%sql\n",
    "DROP TABLE IF EXISTS LOCATIONS;\n",
    "CREATE TABLE LOCATIONS(\n",
    "    LOCATION_ID INTEGER PRIMARY KEY,\n",
    "    ROOM_ID TEXT);"
   ]
  },
  {
   "cell_type": "markdown",
   "metadata": {},
   "source": [
    "### 4. Time Slices Table"
   ]
  },
  {
   "cell_type": "code",
   "execution_count": 6,
   "metadata": {},
   "outputs": [
    {
     "name": "stdout",
     "output_type": "stream",
     "text": [
      " * sqlite:///CourseDataWarehouse.db\n",
      "Done.\n",
      "Done.\n"
     ]
    },
    {
     "data": {
      "text/plain": [
       "[]"
      ]
     },
     "execution_count": 6,
     "metadata": {},
     "output_type": "execute_result"
    }
   ],
   "source": [
    "%%sql\n",
    "DROP TABLE IF EXISTS TIME_SLICES;\n",
    "CREATE TABLE TIME_SLICES(\n",
    "    TIMECODE INTEGER PRIMARY KEY,\n",
    "    DAY TEXT,\n",
    "    START TEXT,\n",
    "    END TEXT);"
   ]
  },
  {
   "cell_type": "markdown",
   "metadata": {},
   "source": [
    "### 5. Calendar Dates Table"
   ]
  },
  {
   "cell_type": "code",
   "execution_count": 7,
   "metadata": {},
   "outputs": [
    {
     "name": "stdout",
     "output_type": "stream",
     "text": [
      " * sqlite:///CourseDataWarehouse.db\n",
      "Done.\n",
      "Done.\n"
     ]
    },
    {
     "data": {
      "text/plain": [
       "[]"
      ]
     },
     "execution_count": 7,
     "metadata": {},
     "output_type": "execute_result"
    }
   ],
   "source": [
    "%%sql\n",
    "DROP TABLE IF EXISTS CALENDAR_DATES;\n",
    "CREATE TABLE CALENDAR_DATES(\n",
    "    TERM TEXT PRIMARY KEY\n",
    ");"
   ]
  },
  {
   "cell_type": "markdown",
   "metadata": {},
   "source": [
    "### 6. Course Fact Table"
   ]
  },
  {
   "cell_type": "code",
   "execution_count": 8,
   "metadata": {},
   "outputs": [
    {
     "name": "stdout",
     "output_type": "stream",
     "text": [
      " * sqlite:///CourseDataWarehouse.db\n",
      "Done.\n",
      "Done.\n"
     ]
    },
    {
     "data": {
      "text/plain": [
       "[]"
      ]
     },
     "execution_count": 8,
     "metadata": {},
     "output_type": "execute_result"
    }
   ],
   "source": [
    "%%sql\n",
    "DROP TABLE IF EXISTS COURSE_FACTS;\n",
    "CREATE TABLE COURSE_FACTS(\n",
    "    CATALOG_ID TEXT NOT NULL,\n",
    "    TITLE TEXT NOT NULL,\n",
    "    PREREQ TEXT,\n",
    "    COREQ TEXT,\n",
    "    SECTION TEXT,\n",
    "    CAPACITY INTEGER,\n",
    "    ACTUAL INTEGER,\n",
    "    REMAINING INTEGER,\n",
    "    CREDITS INTEGER,\n",
    "    TIMECODE INTEGER NOT NULL,\n",
    "    TERM TEXT NOT NULL,\n",
    "    LOCATION_ID INTEGER NOT NULL,\n",
    "    INSTRUCTOR_ID INTEGER NOT NULL,\n",
    "    PROGRAM_ID INTEGER NOT NULL,\n",
    "    FOREIGN KEY (TIMECODE)\n",
    "        REFERENCES TIME_SLICES (TIMECODE)\n",
    "        ON UPDATE CASCADE,\n",
    "    FOREIGN KEY (TERM)\n",
    "        REFERENCES CALENDAR_DATES (TERM)\n",
    "        ON UPDATE CASCADE,\n",
    "    FOREIGN KEY (LOCATION_ID)\n",
    "        REFERENCES LOCATIONS (LOCATION_ID)\n",
    "        ON UPDATE CASCADE\n",
    "    FOREIGN KEY (INSTRUCTOR_ID)\n",
    "        REFERENCES INSTRUCTORS (INSTRUCTOR_ID)\n",
    "        ON UPDATE CASCADE,\n",
    "    FOREIGN KEY (PROGRAM_ID)\n",
    "        REFERENCES PROGRAMS (PROGRAM_ID)\n",
    "        ON UPDATE CASCADE\n",
    ");"
   ]
  },
  {
   "cell_type": "markdown",
   "metadata": {},
   "source": [
    "# 6. Insert Data from Database into Datawarehouse Tables"
   ]
  },
  {
   "cell_type": "markdown",
   "metadata": {},
   "source": [
    "## A. Attached database to pull data from"
   ]
  },
  {
   "cell_type": "code",
   "execution_count": 9,
   "metadata": {},
   "outputs": [
    {
     "name": "stdout",
     "output_type": "stream",
     "text": [
      " * sqlite:///CourseDataWarehouse.db\n",
      "Done.\n"
     ]
    },
    {
     "data": {
      "text/plain": [
       "[]"
      ]
     },
     "execution_count": 9,
     "metadata": {},
     "output_type": "execute_result"
    }
   ],
   "source": [
    "%sql ATTACH DATABASE 'CourseData.db' as 'CourseData';"
   ]
  },
  {
   "cell_type": "markdown",
   "metadata": {},
   "source": [
    "## B. Inserted Data into tables through select queries "
   ]
  },
  {
   "cell_type": "markdown",
   "metadata": {},
   "source": [
    "### 1. Load data into programs"
   ]
  },
  {
   "cell_type": "code",
   "execution_count": 10,
   "metadata": {},
   "outputs": [
    {
     "name": "stdout",
     "output_type": "stream",
     "text": [
      " * sqlite:///CourseDataWarehouse.db\n",
      "Done.\n"
     ]
    },
    {
     "data": {
      "text/html": [
       "<table>\n",
       "    <tr>\n",
       "        <th>PROGRAM_ID</th>\n",
       "        <th>PROGRAM_CODE</th>\n",
       "        <th>PROGRAM_NAME</th>\n",
       "    </tr>\n",
       "    <tr>\n",
       "        <td>1</td>\n",
       "        <td>AC</td>\n",
       "        <td>Accounting</td>\n",
       "    </tr>\n",
       "    <tr>\n",
       "        <td>2</td>\n",
       "        <td>AE</td>\n",
       "        <td>Applied Ethics</td>\n",
       "    </tr>\n",
       "    <tr>\n",
       "        <td>3</td>\n",
       "        <td>AH</td>\n",
       "        <td>Art History</td>\n",
       "    </tr>\n",
       "    <tr>\n",
       "        <td>4</td>\n",
       "        <td>AN</td>\n",
       "        <td>Asian Studies</td>\n",
       "    </tr>\n",
       "    <tr>\n",
       "        <td>5</td>\n",
       "        <td>AR</td>\n",
       "        <td>Arabic</td>\n",
       "    </tr>\n",
       "    <tr>\n",
       "        <td>6</td>\n",
       "        <td>AS</td>\n",
       "        <td>American Studies</td>\n",
       "    </tr>\n",
       "    <tr>\n",
       "        <td>7</td>\n",
       "        <td>AY</td>\n",
       "        <td>Anthropology</td>\n",
       "    </tr>\n",
       "    <tr>\n",
       "        <td>8</td>\n",
       "        <td>BB</td>\n",
       "        <td>Business</td>\n",
       "    </tr>\n",
       "    <tr>\n",
       "        <td>9</td>\n",
       "        <td>BEN</td>\n",
       "        <td>Bioengineering</td>\n",
       "    </tr>\n",
       "    <tr>\n",
       "        <td>10</td>\n",
       "        <td>BI</td>\n",
       "        <td>Biology</td>\n",
       "    </tr>\n",
       "</table>"
      ],
      "text/plain": [
       "[(1, 'AC', 'Accounting'),\n",
       " (2, 'AE', 'Applied Ethics'),\n",
       " (3, 'AH', 'Art History'),\n",
       " (4, 'AN', 'Asian Studies'),\n",
       " (5, 'AR', 'Arabic'),\n",
       " (6, 'AS', 'American Studies'),\n",
       " (7, 'AY', 'Anthropology'),\n",
       " (8, 'BB', 'Business'),\n",
       " (9, 'BEN', 'Bioengineering'),\n",
       " (10, 'BI', 'Biology')]"
      ]
     },
     "execution_count": 10,
     "metadata": {},
     "output_type": "execute_result"
    }
   ],
   "source": [
    "%%sql\n",
    "SELECT *\n",
    "FROM CourseData.PROGRAMS\n",
    "LIMIT 10;"
   ]
  },
  {
   "cell_type": "code",
   "execution_count": 11,
   "metadata": {},
   "outputs": [
    {
     "name": "stdout",
     "output_type": "stream",
     "text": [
      " * sqlite:///CourseDataWarehouse.db\n",
      "83 rows affected.\n"
     ]
    },
    {
     "data": {
      "text/plain": [
       "[]"
      ]
     },
     "execution_count": 11,
     "metadata": {},
     "output_type": "execute_result"
    }
   ],
   "source": [
    "%%sql\n",
    "\n",
    "INSERT INTO PROGRAMS (PROGRAM_CODE, PROGRAM_NAME)\n",
    "SELECT PROGRAM_CODE, PROGRAM_NAME\n",
    "FROM CourseData.PROGRAMS "
   ]
  },
  {
   "cell_type": "markdown",
   "metadata": {},
   "source": [
    "### 2. Load data into Instructors"
   ]
  },
  {
   "cell_type": "code",
   "execution_count": 12,
   "metadata": {},
   "outputs": [
    {
     "name": "stdout",
     "output_type": "stream",
     "text": [
      " * sqlite:///CourseDataWarehouse.db\n",
      "Done.\n"
     ]
    },
    {
     "data": {
      "text/html": [
       "<table>\n",
       "    <tr>\n",
       "        <th>COUNT(*)</th>\n",
       "    </tr>\n",
       "    <tr>\n",
       "        <td>1095</td>\n",
       "    </tr>\n",
       "</table>"
      ],
      "text/plain": [
       "[(1095,)]"
      ]
     },
     "execution_count": 12,
     "metadata": {},
     "output_type": "execute_result"
    }
   ],
   "source": [
    "%%sql\n",
    "SELECT COUNT(*)\n",
    "FROM (SELECT * FROM CourseData.INSTRUCTORS)"
   ]
  },
  {
   "cell_type": "code",
   "execution_count": 13,
   "metadata": {},
   "outputs": [
    {
     "name": "stdout",
     "output_type": "stream",
     "text": [
      " * sqlite:///CourseDataWarehouse.db\n",
      "1095 rows affected.\n"
     ]
    },
    {
     "data": {
      "text/plain": [
       "[]"
      ]
     },
     "execution_count": 13,
     "metadata": {},
     "output_type": "execute_result"
    }
   ],
   "source": [
    "%%sql\n",
    "INSERT INTO INSTRUCTORS (INSTRUCTOR_NAME)\n",
    "SELECT INSTRUCTOR_NAME\n",
    "FROM CourseData.INSTRUCTORS"
   ]
  },
  {
   "cell_type": "code",
   "execution_count": 14,
   "metadata": {},
   "outputs": [
    {
     "name": "stdout",
     "output_type": "stream",
     "text": [
      " * sqlite:///CourseDataWarehouse.db\n",
      "Done.\n"
     ]
    },
    {
     "data": {
      "text/html": [
       "<table>\n",
       "    <tr>\n",
       "        <th>INSTRUCTOR_ID</th>\n",
       "        <th>INSTRUCTOR_NAME</th>\n",
       "    </tr>\n",
       "    <tr>\n",
       "        <td>1</td>\n",
       "        <td>Michael P.  Coyne</td>\n",
       "    </tr>\n",
       "    <tr>\n",
       "        <td>2</td>\n",
       "        <td>Rebecca I.  Bloch</td>\n",
       "    </tr>\n",
       "    <tr>\n",
       "        <td>3</td>\n",
       "        <td>Paul   Caster</td>\n",
       "    </tr>\n",
       "    <tr>\n",
       "        <td>4</td>\n",
       "        <td>Jo Ann   Drusbosky</td>\n",
       "    </tr>\n",
       "    <tr>\n",
       "        <td>5</td>\n",
       "        <td>Arleen N.  Kardos</td>\n",
       "    </tr>\n",
       "    <tr>\n",
       "        <td>6</td>\n",
       "        <td>Scott M  Brenner</td>\n",
       "    </tr>\n",
       "    <tr>\n",
       "        <td>7</td>\n",
       "        <td>Kevin C.  Cassidy</td>\n",
       "    </tr>\n",
       "    <tr>\n",
       "        <td>8</td>\n",
       "        <td>Bruce   Bradford</td>\n",
       "    </tr>\n",
       "    <tr>\n",
       "        <td>9</td>\n",
       "        <td>Milo W.  Peck</td>\n",
       "    </tr>\n",
       "    <tr>\n",
       "        <td>10</td>\n",
       "        <td>Stephen E.  Yost</td>\n",
       "    </tr>\n",
       "</table>"
      ],
      "text/plain": [
       "[(1, 'Michael P.  Coyne'),\n",
       " (2, 'Rebecca I.  Bloch'),\n",
       " (3, 'Paul   Caster'),\n",
       " (4, 'Jo Ann   Drusbosky'),\n",
       " (5, 'Arleen N.  Kardos'),\n",
       " (6, 'Scott M  Brenner'),\n",
       " (7, 'Kevin C.  Cassidy'),\n",
       " (8, 'Bruce   Bradford'),\n",
       " (9, 'Milo W.  Peck'),\n",
       " (10, 'Stephen E.  Yost')]"
      ]
     },
     "execution_count": 14,
     "metadata": {},
     "output_type": "execute_result"
    }
   ],
   "source": [
    "%%sql\n",
    "SELECT *\n",
    "FROM INSTRUCTORS \n",
    "LIMIT 10;"
   ]
  },
  {
   "cell_type": "markdown",
   "metadata": {},
   "source": [
    "### 3. Load data into Locations"
   ]
  },
  {
   "cell_type": "code",
   "execution_count": 15,
   "metadata": {},
   "outputs": [
    {
     "name": "stdout",
     "output_type": "stream",
     "text": [
      " * sqlite:///CourseDataWarehouse.db\n",
      "Done.\n"
     ]
    },
    {
     "data": {
      "text/html": [
       "<table>\n",
       "    <tr>\n",
       "        <th>COUNT(*)</th>\n",
       "    </tr>\n",
       "    <tr>\n",
       "        <td>207</td>\n",
       "    </tr>\n",
       "</table>"
      ],
      "text/plain": [
       "[(207,)]"
      ]
     },
     "execution_count": 15,
     "metadata": {},
     "output_type": "execute_result"
    }
   ],
   "source": [
    "%%sql\n",
    "SELECT COUNT(*)\n",
    "FROM (SELECT * FROM CourseData.LOCATIONS)"
   ]
  },
  {
   "cell_type": "code",
   "execution_count": 16,
   "metadata": {},
   "outputs": [
    {
     "name": "stdout",
     "output_type": "stream",
     "text": [
      " * sqlite:///CourseDataWarehouse.db\n",
      "207 rows affected.\n"
     ]
    },
    {
     "data": {
      "text/plain": [
       "[]"
      ]
     },
     "execution_count": 16,
     "metadata": {},
     "output_type": "execute_result"
    }
   ],
   "source": [
    "%%sql \n",
    "INSERT INTO LOCATIONS (ROOM_ID)\n",
    "SELECT ROOM_ID\n",
    "FROM CourseData.LOCATIONS"
   ]
  },
  {
   "cell_type": "code",
   "execution_count": 17,
   "metadata": {},
   "outputs": [
    {
     "name": "stdout",
     "output_type": "stream",
     "text": [
      " * sqlite:///CourseDataWarehouse.db\n",
      "Done.\n"
     ]
    },
    {
     "data": {
      "text/html": [
       "<table>\n",
       "    <tr>\n",
       "        <th>LOCATION_ID</th>\n",
       "        <th>ROOM_ID</th>\n",
       "    </tr>\n",
       "    <tr>\n",
       "        <td>1</td>\n",
       "        <td>BCC 200</td>\n",
       "    </tr>\n",
       "    <tr>\n",
       "        <td>2</td>\n",
       "        <td>BD </td>\n",
       "    </tr>\n",
       "    <tr>\n",
       "        <td>3</td>\n",
       "        <td>BH </td>\n",
       "    </tr>\n",
       "    <tr>\n",
       "        <td>4</td>\n",
       "        <td>BH BY ARR</td>\n",
       "    </tr>\n",
       "    <tr>\n",
       "        <td>5</td>\n",
       "        <td>BLM 112</td>\n",
       "    </tr>\n",
       "    <tr>\n",
       "        <td>6</td>\n",
       "        <td>BLM LL105</td>\n",
       "    </tr>\n",
       "    <tr>\n",
       "        <td>7</td>\n",
       "        <td>BNW 124</td>\n",
       "    </tr>\n",
       "    <tr>\n",
       "        <td>8</td>\n",
       "        <td>BNW 127</td>\n",
       "    </tr>\n",
       "    <tr>\n",
       "        <td>9</td>\n",
       "        <td>BNW 128</td>\n",
       "    </tr>\n",
       "    <tr>\n",
       "        <td>10</td>\n",
       "        <td>BNW 129B</td>\n",
       "    </tr>\n",
       "</table>"
      ],
      "text/plain": [
       "[(1, 'BCC 200'),\n",
       " (2, 'BD '),\n",
       " (3, 'BH '),\n",
       " (4, 'BH BY ARR'),\n",
       " (5, 'BLM 112'),\n",
       " (6, 'BLM LL105'),\n",
       " (7, 'BNW 124'),\n",
       " (8, 'BNW 127'),\n",
       " (9, 'BNW 128'),\n",
       " (10, 'BNW 129B')]"
      ]
     },
     "execution_count": 17,
     "metadata": {},
     "output_type": "execute_result"
    }
   ],
   "source": [
    "%%sql\n",
    "SELECT *\n",
    "FROM LOCATIONS\n",
    "LIMIT 10;"
   ]
  },
  {
   "cell_type": "markdown",
   "metadata": {},
   "source": [
    "### 4. Load data into Time Slices"
   ]
  },
  {
   "cell_type": "code",
   "execution_count": 18,
   "metadata": {},
   "outputs": [
    {
     "name": "stdout",
     "output_type": "stream",
     "text": [
      " * sqlite:///CourseDataWarehouse.db\n",
      "Done.\n"
     ]
    },
    {
     "data": {
      "text/html": [
       "<table>\n",
       "    <tr>\n",
       "        <th>DAY</th>\n",
       "        <th>StartTime</th>\n",
       "        <th>EndTime</th>\n",
       "    </tr>\n",
       "    <tr>\n",
       "        <td>T</td>\n",
       "        <td>08:00:00</td>\n",
       "        <td>09:15:00</td>\n",
       "    </tr>\n",
       "    <tr>\n",
       "        <td>F</td>\n",
       "        <td>08:00:00</td>\n",
       "        <td>09:15:00</td>\n",
       "    </tr>\n",
       "    <tr>\n",
       "        <td>T</td>\n",
       "        <td>09:30:00</td>\n",
       "        <td>10:45:00</td>\n",
       "    </tr>\n",
       "    <tr>\n",
       "        <td>F</td>\n",
       "        <td>09:30:00</td>\n",
       "        <td>10:45:00</td>\n",
       "    </tr>\n",
       "    <tr>\n",
       "        <td>T</td>\n",
       "        <td>12:30:00</td>\n",
       "        <td>13:45:00</td>\n",
       "    </tr>\n",
       "    <tr>\n",
       "        <td>F</td>\n",
       "        <td>12:30:00</td>\n",
       "        <td>13:45:00</td>\n",
       "    </tr>\n",
       "    <tr>\n",
       "        <td>R</td>\n",
       "        <td>11:00:00</td>\n",
       "        <td>12:15:00</td>\n",
       "    </tr>\n",
       "    <tr>\n",
       "        <td>M</td>\n",
       "        <td>11:00:00</td>\n",
       "        <td>12:15:00</td>\n",
       "    </tr>\n",
       "    <tr>\n",
       "        <td>R</td>\n",
       "        <td>12:30:00</td>\n",
       "        <td>13:45:00</td>\n",
       "    </tr>\n",
       "    <tr>\n",
       "        <td>M</td>\n",
       "        <td>12:30:00</td>\n",
       "        <td>13:45:00</td>\n",
       "    </tr>\n",
       "</table>"
      ],
      "text/plain": [
       "[('T', '08:00:00', '09:15:00'),\n",
       " ('F', '08:00:00', '09:15:00'),\n",
       " ('T', '09:30:00', '10:45:00'),\n",
       " ('F', '09:30:00', '10:45:00'),\n",
       " ('T', '12:30:00', '13:45:00'),\n",
       " ('F', '12:30:00', '13:45:00'),\n",
       " ('R', '11:00:00', '12:15:00'),\n",
       " ('M', '11:00:00', '12:15:00'),\n",
       " ('R', '12:30:00', '13:45:00'),\n",
       " ('M', '12:30:00', '13:45:00')]"
      ]
     },
     "execution_count": 18,
     "metadata": {},
     "output_type": "execute_result"
    }
   ],
   "source": [
    "%%sql\n",
    "SELECT DISTINCT DAY,substr(start,12,8) as StartTime, substr(end,12,8) as EndTime \n",
    "FROM CourseData.COURSE_OFFERINGS\n",
    "    JOIN CourseData.COURSE_MEETINGS USING (COURSE_OFFERING_ID)\n",
    "LIMIT 10;"
   ]
  },
  {
   "cell_type": "code",
   "execution_count": 19,
   "metadata": {},
   "outputs": [
    {
     "name": "stdout",
     "output_type": "stream",
     "text": [
      " * sqlite:///CourseDataWarehouse.db\n",
      "0 rows affected.\n",
      "1090 rows affected.\n"
     ]
    },
    {
     "data": {
      "text/plain": [
       "[]"
      ]
     },
     "execution_count": 19,
     "metadata": {},
     "output_type": "execute_result"
    }
   ],
   "source": [
    "%%sql\n",
    "\n",
    "DELETE FROM TIME_SLICES;\n",
    "\n",
    "INSERT INTO TIME_SLICES ( DAY, START, END)\n",
    "SELECT DISTINCT DAY,substr(start,12,8) as StartTime, substr(end,12,8) as EndTime \n",
    "FROM CourseData.COURSE_OFFERINGS\n",
    "    JOIN CourseData.COURSE_MEETINGS USING (COURSE_OFFERING_ID)"
   ]
  },
  {
   "cell_type": "code",
   "execution_count": 20,
   "metadata": {},
   "outputs": [
    {
     "name": "stdout",
     "output_type": "stream",
     "text": [
      " * sqlite:///CourseDataWarehouse.db\n",
      "Done.\n",
      "Done.\n"
     ]
    },
    {
     "data": {
      "text/html": [
       "<table>\n",
       "    <tr>\n",
       "        <th>TIMECODE</th>\n",
       "        <th>DAY</th>\n",
       "        <th>START</th>\n",
       "        <th>END</th>\n",
       "    </tr>\n",
       "    <tr>\n",
       "        <td>1</td>\n",
       "        <td>T</td>\n",
       "        <td>08:00:00</td>\n",
       "        <td>09:15:00</td>\n",
       "    </tr>\n",
       "    <tr>\n",
       "        <td>2</td>\n",
       "        <td>F</td>\n",
       "        <td>08:00:00</td>\n",
       "        <td>09:15:00</td>\n",
       "    </tr>\n",
       "    <tr>\n",
       "        <td>3</td>\n",
       "        <td>T</td>\n",
       "        <td>09:30:00</td>\n",
       "        <td>10:45:00</td>\n",
       "    </tr>\n",
       "    <tr>\n",
       "        <td>4</td>\n",
       "        <td>F</td>\n",
       "        <td>09:30:00</td>\n",
       "        <td>10:45:00</td>\n",
       "    </tr>\n",
       "    <tr>\n",
       "        <td>5</td>\n",
       "        <td>T</td>\n",
       "        <td>12:30:00</td>\n",
       "        <td>13:45:00</td>\n",
       "    </tr>\n",
       "    <tr>\n",
       "        <td>6</td>\n",
       "        <td>F</td>\n",
       "        <td>12:30:00</td>\n",
       "        <td>13:45:00</td>\n",
       "    </tr>\n",
       "    <tr>\n",
       "        <td>7</td>\n",
       "        <td>R</td>\n",
       "        <td>11:00:00</td>\n",
       "        <td>12:15:00</td>\n",
       "    </tr>\n",
       "    <tr>\n",
       "        <td>8</td>\n",
       "        <td>M</td>\n",
       "        <td>11:00:00</td>\n",
       "        <td>12:15:00</td>\n",
       "    </tr>\n",
       "    <tr>\n",
       "        <td>9</td>\n",
       "        <td>R</td>\n",
       "        <td>12:30:00</td>\n",
       "        <td>13:45:00</td>\n",
       "    </tr>\n",
       "    <tr>\n",
       "        <td>10</td>\n",
       "        <td>M</td>\n",
       "        <td>12:30:00</td>\n",
       "        <td>13:45:00</td>\n",
       "    </tr>\n",
       "</table>"
      ],
      "text/plain": [
       "[(1, 'T', '08:00:00', '09:15:00'),\n",
       " (2, 'F', '08:00:00', '09:15:00'),\n",
       " (3, 'T', '09:30:00', '10:45:00'),\n",
       " (4, 'F', '09:30:00', '10:45:00'),\n",
       " (5, 'T', '12:30:00', '13:45:00'),\n",
       " (6, 'F', '12:30:00', '13:45:00'),\n",
       " (7, 'R', '11:00:00', '12:15:00'),\n",
       " (8, 'M', '11:00:00', '12:15:00'),\n",
       " (9, 'R', '12:30:00', '13:45:00'),\n",
       " (10, 'M', '12:30:00', '13:45:00')]"
      ]
     },
     "execution_count": 20,
     "metadata": {},
     "output_type": "execute_result"
    }
   ],
   "source": [
    "%%sql\n",
    "SELECT COUNT(*)\n",
    "FROM (SELECT DISTINCT * FROM TIME_SLICES);\n",
    "\n",
    "SELECT DISTINCT *\n",
    "FROM TIME_SLICES\n",
    "LIMIT 10;"
   ]
  },
  {
   "cell_type": "code",
   "execution_count": 21,
   "metadata": {},
   "outputs": [
    {
     "name": "stdout",
     "output_type": "stream",
     "text": [
      " * sqlite:///CourseDataWarehouse.db\n",
      "Done.\n",
      "Done.\n"
     ]
    },
    {
     "data": {
      "text/plain": [
       "[]"
      ]
     },
     "execution_count": 21,
     "metadata": {},
     "output_type": "execute_result"
    }
   ],
   "source": [
    "%%sql\n",
    "DROP TABLE IF EXISTS TEMP_TABLE;\n",
    "CREATE TABLE TEMP_TABLE(\n",
    "    TIMECODE INTEGER,\n",
    "    MEETING_ID);"
   ]
  },
  {
   "cell_type": "code",
   "execution_count": 22,
   "metadata": {},
   "outputs": [
    {
     "name": "stdout",
     "output_type": "stream",
     "text": [
      " * sqlite:///CourseDataWarehouse.db\n",
      "284907 rows affected.\n"
     ]
    },
    {
     "data": {
      "text/plain": [
       "[]"
      ]
     },
     "execution_count": 22,
     "metadata": {},
     "output_type": "execute_result"
    }
   ],
   "source": [
    "%%sql \n",
    "INSERT INTO TEMP_TABLE (MEETING_ID, TIMECODE)\n",
    "SELECT DISTINCT MEETING_ID, TIMECODE\n",
    "FROM CourseData.COURSE_OFFERINGS\n",
    "    JOIN CourseData.COURSE_MEETINGS USING (COURSE_OFFERING_ID)\n",
    "    JOIN TIME_SLICES ON (TIME_SLICES.DAY = COURSE_MEETINGS.DAY AND TIME_SLICES.START =substr(COURSE_MEETINGS.start,12,8)  AND TIME_SLICES.END =substr(COURSE_MEETINGS.end,12,8) )"
   ]
  },
  {
   "cell_type": "code",
   "execution_count": 23,
   "metadata": {},
   "outputs": [
    {
     "name": "stdout",
     "output_type": "stream",
     "text": [
      " * sqlite:///CourseDataWarehouse.db\n",
      "Done.\n"
     ]
    },
    {
     "data": {
      "text/html": [
       "<table>\n",
       "    <tr>\n",
       "        <th>TIMECODE</th>\n",
       "        <th>MEETING_ID</th>\n",
       "    </tr>\n",
       "    <tr>\n",
       "        <td>1</td>\n",
       "        <td>1</td>\n",
       "    </tr>\n",
       "    <tr>\n",
       "        <td>2</td>\n",
       "        <td>2</td>\n",
       "    </tr>\n",
       "    <tr>\n",
       "        <td>1</td>\n",
       "        <td>3</td>\n",
       "    </tr>\n",
       "    <tr>\n",
       "        <td>2</td>\n",
       "        <td>4</td>\n",
       "    </tr>\n",
       "    <tr>\n",
       "        <td>1</td>\n",
       "        <td>5</td>\n",
       "    </tr>\n",
       "    <tr>\n",
       "        <td>2</td>\n",
       "        <td>6</td>\n",
       "    </tr>\n",
       "    <tr>\n",
       "        <td>1</td>\n",
       "        <td>7</td>\n",
       "    </tr>\n",
       "    <tr>\n",
       "        <td>2</td>\n",
       "        <td>8</td>\n",
       "    </tr>\n",
       "    <tr>\n",
       "        <td>1</td>\n",
       "        <td>9</td>\n",
       "    </tr>\n",
       "    <tr>\n",
       "        <td>2</td>\n",
       "        <td>10</td>\n",
       "    </tr>\n",
       "</table>"
      ],
      "text/plain": [
       "[(1, 1),\n",
       " (2, 2),\n",
       " (1, 3),\n",
       " (2, 4),\n",
       " (1, 5),\n",
       " (2, 6),\n",
       " (1, 7),\n",
       " (2, 8),\n",
       " (1, 9),\n",
       " (2, 10)]"
      ]
     },
     "execution_count": 23,
     "metadata": {},
     "output_type": "execute_result"
    }
   ],
   "source": [
    "%%sql\n",
    "SELECT *\n",
    "FROM TEMP_TABLE\n",
    "LIMIT 10;"
   ]
  },
  {
   "cell_type": "code",
   "execution_count": 24,
   "metadata": {},
   "outputs": [
    {
     "name": "stdout",
     "output_type": "stream",
     "text": [
      " * sqlite:///CourseDataWarehouse.db\n",
      "Done.\n"
     ]
    },
    {
     "data": {
      "text/html": [
       "<table>\n",
       "    <tr>\n",
       "        <th>MEETING_ID</th>\n",
       "        <th>TIMECODE</th>\n",
       "    </tr>\n",
       "    <tr>\n",
       "        <td>1</td>\n",
       "        <td>1</td>\n",
       "    </tr>\n",
       "    <tr>\n",
       "        <td>2</td>\n",
       "        <td>2</td>\n",
       "    </tr>\n",
       "    <tr>\n",
       "        <td>3</td>\n",
       "        <td>1</td>\n",
       "    </tr>\n",
       "    <tr>\n",
       "        <td>4</td>\n",
       "        <td>2</td>\n",
       "    </tr>\n",
       "    <tr>\n",
       "        <td>5</td>\n",
       "        <td>1</td>\n",
       "    </tr>\n",
       "    <tr>\n",
       "        <td>6</td>\n",
       "        <td>2</td>\n",
       "    </tr>\n",
       "    <tr>\n",
       "        <td>7</td>\n",
       "        <td>1</td>\n",
       "    </tr>\n",
       "    <tr>\n",
       "        <td>8</td>\n",
       "        <td>2</td>\n",
       "    </tr>\n",
       "    <tr>\n",
       "        <td>9</td>\n",
       "        <td>1</td>\n",
       "    </tr>\n",
       "    <tr>\n",
       "        <td>10</td>\n",
       "        <td>2</td>\n",
       "    </tr>\n",
       "</table>"
      ],
      "text/plain": [
       "[(1, 1),\n",
       " (2, 2),\n",
       " (3, 1),\n",
       " (4, 2),\n",
       " (5, 1),\n",
       " (6, 2),\n",
       " (7, 1),\n",
       " (8, 2),\n",
       " (9, 1),\n",
       " (10, 2)]"
      ]
     },
     "execution_count": 24,
     "metadata": {},
     "output_type": "execute_result"
    }
   ],
   "source": [
    "%%sql\n",
    "SELECT DISTINCT MEETING_ID, TIMECODE\n",
    "FROM CourseData.COURSE_OFFERINGS\n",
    "    JOIN CourseData.COURSE_MEETINGS USING (COURSE_OFFERING_ID)\n",
    "    JOIN TIME_SLICES ON (TIME_SLICES.DAY = COURSE_MEETINGS.DAY AND TIME_SLICES.START =substr(COURSE_MEETINGS.start,12,8)  AND TIME_SLICES.END =substr(COURSE_MEETINGS.end,12,8) )\n",
    "LIMIT 10;"
   ]
  },
  {
   "cell_type": "markdown",
   "metadata": {},
   "source": [
    "### 5. Load data into Calendar Dates Table"
   ]
  },
  {
   "cell_type": "code",
   "execution_count": 25,
   "metadata": {},
   "outputs": [
    {
     "name": "stdout",
     "output_type": "stream",
     "text": [
      " * sqlite:///CourseDataWarehouse.db\n",
      "Done.\n"
     ]
    },
    {
     "data": {
      "text/html": [
       "<table>\n",
       "    <tr>\n",
       "        <th>TERM</th>\n",
       "    </tr>\n",
       "    <tr>\n",
       "        <td>Fall2014</td>\n",
       "    </tr>\n",
       "    <tr>\n",
       "        <td>Fall2015</td>\n",
       "    </tr>\n",
       "    <tr>\n",
       "        <td>Fall2016</td>\n",
       "    </tr>\n",
       "    <tr>\n",
       "        <td>Fall2017</td>\n",
       "    </tr>\n",
       "    <tr>\n",
       "        <td>Fall2018</td>\n",
       "    </tr>\n",
       "    <tr>\n",
       "        <td>Spring2015</td>\n",
       "    </tr>\n",
       "    <tr>\n",
       "        <td>Spring2016</td>\n",
       "    </tr>\n",
       "    <tr>\n",
       "        <td>Spring2017</td>\n",
       "    </tr>\n",
       "    <tr>\n",
       "        <td>Spring2018</td>\n",
       "    </tr>\n",
       "    <tr>\n",
       "        <td>Spring2019</td>\n",
       "    </tr>\n",
       "</table>"
      ],
      "text/plain": [
       "[('Fall2014',),\n",
       " ('Fall2015',),\n",
       " ('Fall2016',),\n",
       " ('Fall2017',),\n",
       " ('Fall2018',),\n",
       " ('Spring2015',),\n",
       " ('Spring2016',),\n",
       " ('Spring2017',),\n",
       " ('Spring2018',),\n",
       " ('Spring2019',)]"
      ]
     },
     "execution_count": 25,
     "metadata": {},
     "output_type": "execute_result"
    }
   ],
   "source": [
    "%%sql\n",
    "SELECT DISTINCT TERM\n",
    "FROM CourseData.Course_Offerings\n",
    "LIMIT 10;"
   ]
  },
  {
   "cell_type": "code",
   "execution_count": 26,
   "metadata": {},
   "outputs": [
    {
     "name": "stdout",
     "output_type": "stream",
     "text": [
      " * sqlite:///CourseDataWarehouse.db\n",
      "0 rows affected.\n",
      "19 rows affected.\n"
     ]
    },
    {
     "data": {
      "text/plain": [
       "[]"
      ]
     },
     "execution_count": 26,
     "metadata": {},
     "output_type": "execute_result"
    }
   ],
   "source": [
    "%%sql\n",
    "\n",
    "DELETE FROM CALENDAR_DATES;\n",
    "\n",
    "INSERT INTO CALENDAR_DATES (TERM)\n",
    "SELECT DISTINCT TERM\n",
    "FROM CourseData.Course_Offerings"
   ]
  },
  {
   "cell_type": "code",
   "execution_count": 27,
   "metadata": {},
   "outputs": [
    {
     "name": "stdout",
     "output_type": "stream",
     "text": [
      " * sqlite:///CourseDataWarehouse.db\n",
      "Done.\n"
     ]
    },
    {
     "data": {
      "text/html": [
       "<table>\n",
       "    <tr>\n",
       "        <th>TERM</th>\n",
       "    </tr>\n",
       "    <tr>\n",
       "        <td>Fall2014</td>\n",
       "    </tr>\n",
       "    <tr>\n",
       "        <td>Fall2015</td>\n",
       "    </tr>\n",
       "    <tr>\n",
       "        <td>Fall2016</td>\n",
       "    </tr>\n",
       "    <tr>\n",
       "        <td>Fall2017</td>\n",
       "    </tr>\n",
       "    <tr>\n",
       "        <td>Fall2018</td>\n",
       "    </tr>\n",
       "    <tr>\n",
       "        <td>Spring2015</td>\n",
       "    </tr>\n",
       "    <tr>\n",
       "        <td>Spring2016</td>\n",
       "    </tr>\n",
       "    <tr>\n",
       "        <td>Spring2017</td>\n",
       "    </tr>\n",
       "    <tr>\n",
       "        <td>Spring2018</td>\n",
       "    </tr>\n",
       "    <tr>\n",
       "        <td>Spring2019</td>\n",
       "    </tr>\n",
       "</table>"
      ],
      "text/plain": [
       "[('Fall2014',),\n",
       " ('Fall2015',),\n",
       " ('Fall2016',),\n",
       " ('Fall2017',),\n",
       " ('Fall2018',),\n",
       " ('Spring2015',),\n",
       " ('Spring2016',),\n",
       " ('Spring2017',),\n",
       " ('Spring2018',),\n",
       " ('Spring2019',)]"
      ]
     },
     "execution_count": 27,
     "metadata": {},
     "output_type": "execute_result"
    }
   ],
   "source": [
    "%%sql\n",
    "SELECT *\n",
    "FROM CALENDAR_DATES\n",
    "LIMIT 10;"
   ]
  },
  {
   "cell_type": "markdown",
   "metadata": {},
   "source": [
    "### 6. Load data into Course Facts Table"
   ]
  },
  {
   "cell_type": "code",
   "execution_count": 28,
   "metadata": {},
   "outputs": [
    {
     "name": "stdout",
     "output_type": "stream",
     "text": [
      " * sqlite:///CourseDataWarehouse.db\n",
      "0 rows affected.\n"
     ]
    },
    {
     "data": {
      "text/plain": [
       "[]"
      ]
     },
     "execution_count": 28,
     "metadata": {},
     "output_type": "execute_result"
    }
   ],
   "source": [
    "%%sql\n",
    "--SELECT DISTINCT CATALOG_ID, TITLE, PREREQ, COREQ, SECTION, CAPACITY, ACTUAL, REMAINING, CREDITS, CALENDAR_DATES.TERM, LOCATIONS.LOCATION_ID, INSTRUCTORS.INSTRUCTOR_ID, PROGRAMS.PROGRAM_ID, TIME_SLICES.DAY, TIME_SLICES.START, TIME_SLICES.END\n",
    "--FROM CourseData.Courses\n",
    "    --JOIN CourseData.Course_Offerings USING (CATALOG_ID)\n",
    "    --JOIN CALENDAR_DATES ON (CALENDAR_DATES.TERM = CourseData.Course_Offerings.TERM)\n",
    "    --JOIN CourseData.Course_Meetings USING (COURSE_OFFERING_ID)\n",
    "    --JOIN LOCATIONS ON (LOCATIONS.LOCATION_ID = CourseData.Course_Meetings.Location_ID)\n",
    "    --JOIN INSTRUCTORS ON (INSTRUCTORS.INSTRUCTOR_ID = CourseData.Course_Offerings.Primary_Instructor_ID)\n",
    "    --JOIN PROGRAMS ON (PROGRAMS.PROGRAM_ID = CourseData.Courses.Program_ID)\n",
    "    --JOIN TEMP_TABLE ON (TEMP_TABLE.MEETING_ID = CourseData.Course_Meetings.MEETING_ID)\n",
    "    --JOIN TIME_SLICES ON (TIME_SLICES.TIMECODE = TEMP_TABLE.TIMECODE)\n",
    "--LIMIT 50;\n"
   ]
  },
  {
   "cell_type": "code",
   "execution_count": 33,
   "metadata": {},
   "outputs": [
    {
     "name": "stdout",
     "output_type": "stream",
     "text": [
      " * sqlite:///CourseDataWarehouse.db\n",
      "0 rows affected.\n"
     ]
    },
    {
     "data": {
      "text/plain": [
       "[]"
      ]
     },
     "execution_count": 33,
     "metadata": {},
     "output_type": "execute_result"
    }
   ],
   "source": [
    "%%sql\n",
    "--SELECT DISTINCT CATALOG_ID, TITLE, PREREQ, COREQ, SECTION, CAPACITY, ACTUAL, REMAINING, CREDITS, CALENDAR_DATES.TERM, LOCATIONS.LOCATION_ID, INSTRUCTORS.INSTRUCTOR_ID, PROGRAMS.PROGRAM_ID, TIME_SLICES.TIMECODE\n",
    "--FROM CourseData.Courses\n",
    "    --JOIN CourseData.Course_Offerings USING (CATALOG_ID)\n",
    "    --JOIN CALENDAR_DATES ON (CALENDAR_DATES.TERM = CourseData.Course_Offerings.TERM)\n",
    "    --JOIN CourseData.Course_Meetings USING (COURSE_OFFERING_ID)\n",
    "    --JOIN LOCATIONS ON (LOCATIONS.LOCATION_ID = CourseData.Course_Meetings.Location_ID)\n",
    "    --JOIN INSTRUCTORS ON (INSTRUCTORS.INSTRUCTOR_ID = CourseData.Course_Offerings.Primary_Instructor_ID)\n",
    "    --JOIN PROGRAMS ON (PROGRAMS.PROGRAM_ID = CourseData.Courses.Program_ID)\n",
    "    --JOIN TEMP_TABLE ON (TEMP_TABLE.MEETING_ID = CourseData.Course_Meetings.MEETING_ID)\n",
    "    --JOIN TIME_SLICES ON (TIME_SLICES.TIMECODE = TEMP_TABLE.TIMECODE)\n",
    "--LIMIT 10;"
   ]
  },
  {
   "cell_type": "code",
   "execution_count": 30,
   "metadata": {},
   "outputs": [
    {
     "name": "stdout",
     "output_type": "stream",
     "text": [
      " * sqlite:///CourseDataWarehouse.db\n",
      "0 rows affected.\n"
     ]
    },
    {
     "data": {
      "text/plain": [
       "[]"
      ]
     },
     "execution_count": 30,
     "metadata": {},
     "output_type": "execute_result"
    }
   ],
   "source": [
    "%%sql\n",
    "DELETE FROM COURSE_FACTS;\n",
    "\n"
   ]
  },
  {
   "cell_type": "code",
   "execution_count": 31,
   "metadata": {},
   "outputs": [
    {
     "name": "stdout",
     "output_type": "stream",
     "text": [
      " * sqlite:///CourseDataWarehouse.db\n",
      "25317 rows affected.\n"
     ]
    },
    {
     "data": {
      "text/plain": [
       "[]"
      ]
     },
     "execution_count": 31,
     "metadata": {},
     "output_type": "execute_result"
    }
   ],
   "source": [
    "%%sql\n",
    "INSERT INTO COURSE_FACTS(CATALOG_ID, TITLE, PREREQ, COREQ, SECTION, CAPACITY, ACTUAL, REMAINING, CREDITS, TERM, LOCATION_ID, INSTRUCTOR_ID, PROGRAM_ID, TIMECODE)\n",
    "SELECT DISTINCT CATALOG_ID, TITLE, PREREQ, COREQ, SECTION, CAPACITY, ACTUAL, REMAINING, CREDITS, CALENDAR_DATES.TERM, LOCATIONS.LOCATION_ID, INSTRUCTORS.INSTRUCTOR_ID, PROGRAMS.PROGRAM_ID, TIME_SLICES.TIMECODE\n",
    "FROM CourseData.Courses\n",
    "    JOIN CourseData.Course_Offerings USING (CATALOG_ID)\n",
    "    JOIN CALENDAR_DATES ON (CALENDAR_DATES.TERM = CourseData.Course_Offerings.TERM)\n",
    "    JOIN CourseData.Course_Meetings USING (COURSE_OFFERING_ID)\n",
    "    JOIN LOCATIONS ON (LOCATIONS.LOCATION_ID = CourseData.Course_Meetings.Location_ID)\n",
    "    JOIN INSTRUCTORS ON (INSTRUCTORS.INSTRUCTOR_ID = CourseData.Course_Offerings.Primary_Instructor_ID)\n",
    "    JOIN PROGRAMS ON (PROGRAMS.PROGRAM_ID = CourseData.Courses.Program_ID)\n",
    "    JOIN TEMP_TABLE ON (TEMP_TABLE.MEETING_ID = CourseData.Course_Meetings.MEETING_ID)\n",
    "    JOIN TIME_SLICES ON (TIME_SLICES.TIMECODE = TEMP_TABLE.TIMECODE)\n",
    ";"
   ]
  },
  {
   "cell_type": "code",
   "execution_count": 32,
   "metadata": {},
   "outputs": [
    {
     "name": "stdout",
     "output_type": "stream",
     "text": [
      " * sqlite:///CourseDataWarehouse.db\n",
      "Done.\n"
     ]
    },
    {
     "data": {
      "text/html": [
       "<table>\n",
       "    <tr>\n",
       "        <th>CATALOG_ID</th>\n",
       "        <th>TERM</th>\n",
       "        <th>SECTION</th>\n",
       "        <th>DAY</th>\n",
       "        <th>START</th>\n",
       "        <th>END</th>\n",
       "    </tr>\n",
       "    <tr>\n",
       "        <td>FI 0101</td>\n",
       "        <td>Spring2019</td>\n",
       "        <td>1</td>\n",
       "        <td>R</td>\n",
       "        <td>14:00:00</td>\n",
       "        <td>15:15:00</td>\n",
       "    </tr>\n",
       "    <tr>\n",
       "        <td>FI 0101</td>\n",
       "        <td>Spring2019</td>\n",
       "        <td>1</td>\n",
       "        <td>M</td>\n",
       "        <td>14:00:00</td>\n",
       "        <td>15:15:00</td>\n",
       "    </tr>\n",
       "    <tr>\n",
       "        <td>FI 0101</td>\n",
       "        <td>Spring2019</td>\n",
       "        <td>1</td>\n",
       "        <td>T</td>\n",
       "        <td>14:00:00</td>\n",
       "        <td>15:15:00</td>\n",
       "    </tr>\n",
       "    <tr>\n",
       "        <td>FI 0101</td>\n",
       "        <td>Spring2019</td>\n",
       "        <td>2</td>\n",
       "        <td>R</td>\n",
       "        <td>15:30:00</td>\n",
       "        <td>16:45:00</td>\n",
       "    </tr>\n",
       "    <tr>\n",
       "        <td>FI 0101</td>\n",
       "        <td>Spring2019</td>\n",
       "        <td>2</td>\n",
       "        <td>M</td>\n",
       "        <td>15:30:00</td>\n",
       "        <td>16:45:00</td>\n",
       "    </tr>\n",
       "    <tr>\n",
       "        <td>FI 0101</td>\n",
       "        <td>Spring2019</td>\n",
       "        <td>2</td>\n",
       "        <td>T</td>\n",
       "        <td>15:30:00</td>\n",
       "        <td>16:45:00</td>\n",
       "    </tr>\n",
       "    <tr>\n",
       "        <td>FI 0101</td>\n",
       "        <td>Spring2019</td>\n",
       "        <td>3</td>\n",
       "        <td>R</td>\n",
       "        <td>08:00:00</td>\n",
       "        <td>09:15:00</td>\n",
       "    </tr>\n",
       "    <tr>\n",
       "        <td>FI 0101</td>\n",
       "        <td>Spring2019</td>\n",
       "        <td>3</td>\n",
       "        <td>M</td>\n",
       "        <td>08:00:00</td>\n",
       "        <td>09:15:00</td>\n",
       "    </tr>\n",
       "    <tr>\n",
       "        <td>FI 0101</td>\n",
       "        <td>Spring2019</td>\n",
       "        <td>3</td>\n",
       "        <td>T</td>\n",
       "        <td>08:00:00</td>\n",
       "        <td>09:15:00</td>\n",
       "    </tr>\n",
       "    <tr>\n",
       "        <td>FI 0101</td>\n",
       "        <td>Spring2019</td>\n",
       "        <td>4</td>\n",
       "        <td>R</td>\n",
       "        <td>11:00:00</td>\n",
       "        <td>12:15:00</td>\n",
       "    </tr>\n",
       "    <tr>\n",
       "        <td>FI 0101</td>\n",
       "        <td>Spring2019</td>\n",
       "        <td>4</td>\n",
       "        <td>M</td>\n",
       "        <td>11:00:00</td>\n",
       "        <td>12:15:00</td>\n",
       "    </tr>\n",
       "    <tr>\n",
       "        <td>FI 0101</td>\n",
       "        <td>Spring2019</td>\n",
       "        <td>4</td>\n",
       "        <td>T</td>\n",
       "        <td>11:00:00</td>\n",
       "        <td>12:15:00</td>\n",
       "    </tr>\n",
       "    <tr>\n",
       "        <td>FI 0101</td>\n",
       "        <td>Spring2019</td>\n",
       "        <td>5</td>\n",
       "        <td>R</td>\n",
       "        <td>09:30:00</td>\n",
       "        <td>10:45:00</td>\n",
       "    </tr>\n",
       "    <tr>\n",
       "        <td>FI 0101</td>\n",
       "        <td>Spring2019</td>\n",
       "        <td>5</td>\n",
       "        <td>M</td>\n",
       "        <td>09:30:00</td>\n",
       "        <td>10:45:00</td>\n",
       "    </tr>\n",
       "    <tr>\n",
       "        <td>FI 0101</td>\n",
       "        <td>Spring2019</td>\n",
       "        <td>5</td>\n",
       "        <td>T</td>\n",
       "        <td>09:30:00</td>\n",
       "        <td>10:45:00</td>\n",
       "    </tr>\n",
       "    <tr>\n",
       "        <td>FI 0101</td>\n",
       "        <td>Spring2019</td>\n",
       "        <td>6</td>\n",
       "        <td>T</td>\n",
       "        <td>18:30:00</td>\n",
       "        <td>21:00:00</td>\n",
       "    </tr>\n",
       "    <tr>\n",
       "        <td>FI 0101</td>\n",
       "        <td>Spring2019</td>\n",
       "        <td>7</td>\n",
       "        <td>T</td>\n",
       "        <td>08:00:00</td>\n",
       "        <td>09:15:00</td>\n",
       "    </tr>\n",
       "    <tr>\n",
       "        <td>FI 0101</td>\n",
       "        <td>Spring2019</td>\n",
       "        <td>7</td>\n",
       "        <td>F</td>\n",
       "        <td>08:00:00</td>\n",
       "        <td>09:15:00</td>\n",
       "    </tr>\n",
       "    <tr>\n",
       "        <td>FI 0200</td>\n",
       "        <td>Spring2019</td>\n",
       "        <td>1</td>\n",
       "        <td>T</td>\n",
       "        <td>09:30:00</td>\n",
       "        <td>10:45:00</td>\n",
       "    </tr>\n",
       "    <tr>\n",
       "        <td>FI 0200</td>\n",
       "        <td>Spring2019</td>\n",
       "        <td>1</td>\n",
       "        <td>F</td>\n",
       "        <td>09:30:00</td>\n",
       "        <td>10:45:00</td>\n",
       "    </tr>\n",
       "    <tr>\n",
       "        <td>FI 0200</td>\n",
       "        <td>Spring2019</td>\n",
       "        <td>2</td>\n",
       "        <td>T</td>\n",
       "        <td>14:00:00</td>\n",
       "        <td>15:15:00</td>\n",
       "    </tr>\n",
       "    <tr>\n",
       "        <td>FI 0200</td>\n",
       "        <td>Spring2019</td>\n",
       "        <td>2</td>\n",
       "        <td>F</td>\n",
       "        <td>14:00:00</td>\n",
       "        <td>15:15:00</td>\n",
       "    </tr>\n",
       "    <tr>\n",
       "        <td>FI 0210</td>\n",
       "        <td>Spring2019</td>\n",
       "        <td>1</td>\n",
       "        <td>T</td>\n",
       "        <td>14:00:00</td>\n",
       "        <td>15:15:00</td>\n",
       "    </tr>\n",
       "    <tr>\n",
       "        <td>FI 0210</td>\n",
       "        <td>Spring2019</td>\n",
       "        <td>1</td>\n",
       "        <td>F</td>\n",
       "        <td>14:00:00</td>\n",
       "        <td>15:15:00</td>\n",
       "    </tr>\n",
       "    <tr>\n",
       "        <td>FI 0210</td>\n",
       "        <td>Spring2019</td>\n",
       "        <td>2</td>\n",
       "        <td>T</td>\n",
       "        <td>15:30:00</td>\n",
       "        <td>16:45:00</td>\n",
       "    </tr>\n",
       "    <tr>\n",
       "        <td>FI 0210</td>\n",
       "        <td>Spring2019</td>\n",
       "        <td>2</td>\n",
       "        <td>F</td>\n",
       "        <td>15:30:00</td>\n",
       "        <td>16:45:00</td>\n",
       "    </tr>\n",
       "    <tr>\n",
       "        <td>FI 0210</td>\n",
       "        <td>Spring2019</td>\n",
       "        <td>3</td>\n",
       "        <td>T</td>\n",
       "        <td>12:30:00</td>\n",
       "        <td>13:45:00</td>\n",
       "    </tr>\n",
       "    <tr>\n",
       "        <td>FI 0210</td>\n",
       "        <td>Spring2019</td>\n",
       "        <td>3</td>\n",
       "        <td>F</td>\n",
       "        <td>12:30:00</td>\n",
       "        <td>13:45:00</td>\n",
       "    </tr>\n",
       "    <tr>\n",
       "        <td>FI 0210</td>\n",
       "        <td>Spring2019</td>\n",
       "        <td>4</td>\n",
       "        <td>T</td>\n",
       "        <td>14:00:00</td>\n",
       "        <td>15:15:00</td>\n",
       "    </tr>\n",
       "    <tr>\n",
       "        <td>FI 0210</td>\n",
       "        <td>Spring2019</td>\n",
       "        <td>4</td>\n",
       "        <td>F</td>\n",
       "        <td>14:00:00</td>\n",
       "        <td>15:15:00</td>\n",
       "    </tr>\n",
       "    <tr>\n",
       "        <td>FI 0215</td>\n",
       "        <td>Spring2019</td>\n",
       "        <td>1</td>\n",
       "        <td>R</td>\n",
       "        <td>11:00:00</td>\n",
       "        <td>12:15:00</td>\n",
       "    </tr>\n",
       "    <tr>\n",
       "        <td>FI 0215</td>\n",
       "        <td>Spring2019</td>\n",
       "        <td>1</td>\n",
       "        <td>M</td>\n",
       "        <td>11:00:00</td>\n",
       "        <td>12:15:00</td>\n",
       "    </tr>\n",
       "    <tr>\n",
       "        <td>FI 0215</td>\n",
       "        <td>Spring2019</td>\n",
       "        <td>1</td>\n",
       "        <td>T</td>\n",
       "        <td>11:00:00</td>\n",
       "        <td>12:15:00</td>\n",
       "    </tr>\n",
       "    <tr>\n",
       "        <td>FI 0215</td>\n",
       "        <td>Spring2019</td>\n",
       "        <td>2</td>\n",
       "        <td>R</td>\n",
       "        <td>11:00:00</td>\n",
       "        <td>12:15:00</td>\n",
       "    </tr>\n",
       "    <tr>\n",
       "        <td>FI 0215</td>\n",
       "        <td>Spring2019</td>\n",
       "        <td>2</td>\n",
       "        <td>M</td>\n",
       "        <td>11:00:00</td>\n",
       "        <td>12:15:00</td>\n",
       "    </tr>\n",
       "    <tr>\n",
       "        <td>FI 0215</td>\n",
       "        <td>Spring2019</td>\n",
       "        <td>2</td>\n",
       "        <td>T</td>\n",
       "        <td>11:00:00</td>\n",
       "        <td>12:15:00</td>\n",
       "    </tr>\n",
       "    <tr>\n",
       "        <td>FI 0215</td>\n",
       "        <td>Spring2019</td>\n",
       "        <td>3</td>\n",
       "        <td>R</td>\n",
       "        <td>12:30:00</td>\n",
       "        <td>13:45:00</td>\n",
       "    </tr>\n",
       "    <tr>\n",
       "        <td>FI 0215</td>\n",
       "        <td>Spring2019</td>\n",
       "        <td>3</td>\n",
       "        <td>M</td>\n",
       "        <td>12:30:00</td>\n",
       "        <td>13:45:00</td>\n",
       "    </tr>\n",
       "    <tr>\n",
       "        <td>FI 0215</td>\n",
       "        <td>Spring2019</td>\n",
       "        <td>3</td>\n",
       "        <td>T</td>\n",
       "        <td>12:30:00</td>\n",
       "        <td>13:45:00</td>\n",
       "    </tr>\n",
       "    <tr>\n",
       "        <td>FI 0240</td>\n",
       "        <td>Spring2019</td>\n",
       "        <td>1</td>\n",
       "        <td>T</td>\n",
       "        <td>09:30:00</td>\n",
       "        <td>10:45:00</td>\n",
       "    </tr>\n",
       "    <tr>\n",
       "        <td>FI 0240</td>\n",
       "        <td>Spring2019</td>\n",
       "        <td>1</td>\n",
       "        <td>F</td>\n",
       "        <td>09:30:00</td>\n",
       "        <td>10:45:00</td>\n",
       "    </tr>\n",
       "    <tr>\n",
       "        <td>FI 0240</td>\n",
       "        <td>Spring2019</td>\n",
       "        <td>2</td>\n",
       "        <td>T</td>\n",
       "        <td>11:00:00</td>\n",
       "        <td>12:15:00</td>\n",
       "    </tr>\n",
       "    <tr>\n",
       "        <td>FI 0240</td>\n",
       "        <td>Spring2019</td>\n",
       "        <td>2</td>\n",
       "        <td>F</td>\n",
       "        <td>11:00:00</td>\n",
       "        <td>12:15:00</td>\n",
       "    </tr>\n",
       "    <tr>\n",
       "        <td>FI 0300</td>\n",
       "        <td>Spring2019</td>\n",
       "        <td>1</td>\n",
       "        <td>R</td>\n",
       "        <td>09:30:00</td>\n",
       "        <td>10:45:00</td>\n",
       "    </tr>\n",
       "    <tr>\n",
       "        <td>FI 0300</td>\n",
       "        <td>Spring2019</td>\n",
       "        <td>1</td>\n",
       "        <td>M</td>\n",
       "        <td>09:30:00</td>\n",
       "        <td>10:45:00</td>\n",
       "    </tr>\n",
       "    <tr>\n",
       "        <td>FI 0300</td>\n",
       "        <td>Spring2019</td>\n",
       "        <td>1</td>\n",
       "        <td>T</td>\n",
       "        <td>09:30:00</td>\n",
       "        <td>10:45:00</td>\n",
       "    </tr>\n",
       "    <tr>\n",
       "        <td>FI 0310</td>\n",
       "        <td>Spring2019</td>\n",
       "        <td>1</td>\n",
       "        <td>W</td>\n",
       "        <td>11:00:00</td>\n",
       "        <td>13:30:00</td>\n",
       "    </tr>\n",
       "    <tr>\n",
       "        <td>FI 0310</td>\n",
       "        <td>Spring2019</td>\n",
       "        <td>2</td>\n",
       "        <td>W</td>\n",
       "        <td>18:30:00</td>\n",
       "        <td>21:00:00</td>\n",
       "    </tr>\n",
       "    <tr>\n",
       "        <td>FI 0325</td>\n",
       "        <td>Spring2019</td>\n",
       "        <td>1</td>\n",
       "        <td>R</td>\n",
       "        <td>12:30:00</td>\n",
       "        <td>13:45:00</td>\n",
       "    </tr>\n",
       "    <tr>\n",
       "        <td>FI 0325</td>\n",
       "        <td>Spring2019</td>\n",
       "        <td>1</td>\n",
       "        <td>M</td>\n",
       "        <td>12:30:00</td>\n",
       "        <td>13:45:00</td>\n",
       "    </tr>\n",
       "    <tr>\n",
       "        <td>FI 0325</td>\n",
       "        <td>Spring2019</td>\n",
       "        <td>1</td>\n",
       "        <td>T</td>\n",
       "        <td>12:30:00</td>\n",
       "        <td>13:45:00</td>\n",
       "    </tr>\n",
       "    <tr>\n",
       "        <td>FI 0325</td>\n",
       "        <td>Spring2019</td>\n",
       "        <td>2</td>\n",
       "        <td>R</td>\n",
       "        <td>14:00:00</td>\n",
       "        <td>15:15:00</td>\n",
       "    </tr>\n",
       "    <tr>\n",
       "        <td>FI 0325</td>\n",
       "        <td>Spring2019</td>\n",
       "        <td>2</td>\n",
       "        <td>M</td>\n",
       "        <td>14:00:00</td>\n",
       "        <td>15:15:00</td>\n",
       "    </tr>\n",
       "    <tr>\n",
       "        <td>FI 0325</td>\n",
       "        <td>Spring2019</td>\n",
       "        <td>2</td>\n",
       "        <td>T</td>\n",
       "        <td>14:00:00</td>\n",
       "        <td>15:15:00</td>\n",
       "    </tr>\n",
       "    <tr>\n",
       "        <td>FI 0330</td>\n",
       "        <td>Spring2019</td>\n",
       "        <td>1</td>\n",
       "        <td>R</td>\n",
       "        <td>08:00:00</td>\n",
       "        <td>09:15:00</td>\n",
       "    </tr>\n",
       "    <tr>\n",
       "        <td>FI 0330</td>\n",
       "        <td>Spring2019</td>\n",
       "        <td>1</td>\n",
       "        <td>M</td>\n",
       "        <td>08:00:00</td>\n",
       "        <td>09:15:00</td>\n",
       "    </tr>\n",
       "    <tr>\n",
       "        <td>FI 0330</td>\n",
       "        <td>Spring2019</td>\n",
       "        <td>1</td>\n",
       "        <td>T</td>\n",
       "        <td>08:00:00</td>\n",
       "        <td>09:15:00</td>\n",
       "    </tr>\n",
       "    <tr>\n",
       "        <td>FI 0330</td>\n",
       "        <td>Spring2019</td>\n",
       "        <td>2</td>\n",
       "        <td>R</td>\n",
       "        <td>09:30:00</td>\n",
       "        <td>10:45:00</td>\n",
       "    </tr>\n",
       "    <tr>\n",
       "        <td>FI 0330</td>\n",
       "        <td>Spring2019</td>\n",
       "        <td>2</td>\n",
       "        <td>M</td>\n",
       "        <td>09:30:00</td>\n",
       "        <td>10:45:00</td>\n",
       "    </tr>\n",
       "    <tr>\n",
       "        <td>FI 0330</td>\n",
       "        <td>Spring2019</td>\n",
       "        <td>2</td>\n",
       "        <td>T</td>\n",
       "        <td>09:30:00</td>\n",
       "        <td>10:45:00</td>\n",
       "    </tr>\n",
       "    <tr>\n",
       "        <td>FI 0330</td>\n",
       "        <td>Spring2019</td>\n",
       "        <td>3</td>\n",
       "        <td>T</td>\n",
       "        <td>11:00:00</td>\n",
       "        <td>12:15:00</td>\n",
       "    </tr>\n",
       "    <tr>\n",
       "        <td>FI 0330</td>\n",
       "        <td>Spring2019</td>\n",
       "        <td>3</td>\n",
       "        <td>F</td>\n",
       "        <td>11:00:00</td>\n",
       "        <td>12:15:00</td>\n",
       "    </tr>\n",
       "    <tr>\n",
       "        <td>FI 0330</td>\n",
       "        <td>Spring2019</td>\n",
       "        <td>4</td>\n",
       "        <td>T</td>\n",
       "        <td>12:30:00</td>\n",
       "        <td>13:45:00</td>\n",
       "    </tr>\n",
       "    <tr>\n",
       "        <td>FI 0330</td>\n",
       "        <td>Spring2019</td>\n",
       "        <td>4</td>\n",
       "        <td>F</td>\n",
       "        <td>12:30:00</td>\n",
       "        <td>13:45:00</td>\n",
       "    </tr>\n",
       "    <tr>\n",
       "        <td>FI 0330</td>\n",
       "        <td>Spring2019</td>\n",
       "        <td>5</td>\n",
       "        <td>T</td>\n",
       "        <td>15:30:00</td>\n",
       "        <td>16:45:00</td>\n",
       "    </tr>\n",
       "    <tr>\n",
       "        <td>FI 0330</td>\n",
       "        <td>Spring2019</td>\n",
       "        <td>5</td>\n",
       "        <td>F</td>\n",
       "        <td>15:30:00</td>\n",
       "        <td>16:45:00</td>\n",
       "    </tr>\n",
       "    <tr>\n",
       "        <td>FI 0330</td>\n",
       "        <td>Spring2019</td>\n",
       "        <td>OL1</td>\n",
       "        <td>M</td>\n",
       "        <td>18:30:00</td>\n",
       "        <td>21:00:00</td>\n",
       "    </tr>\n",
       "    <tr>\n",
       "        <td>FI 0330</td>\n",
       "        <td>Spring2019</td>\n",
       "        <td>OL1</td>\n",
       "        <td>T</td>\n",
       "        <td>18:30:00</td>\n",
       "        <td>21:00:00</td>\n",
       "    </tr>\n",
       "    <tr>\n",
       "        <td>FI 0397</td>\n",
       "        <td>Spring2019</td>\n",
       "        <td>1</td>\n",
       "        <td>R</td>\n",
       "        <td>17:00:00</td>\n",
       "        <td>19:30:00</td>\n",
       "    </tr>\n",
       "    <tr>\n",
       "        <td>FI 0398</td>\n",
       "        <td>Spring2019</td>\n",
       "        <td>1</td>\n",
       "        <td>W</td>\n",
       "        <td>14:00:00</td>\n",
       "        <td>16:30:00</td>\n",
       "    </tr>\n",
       "    <tr>\n",
       "        <td>FI 0530</td>\n",
       "        <td>Spring2019</td>\n",
       "        <td>1</td>\n",
       "        <td>R</td>\n",
       "        <td>18:30:00</td>\n",
       "        <td>21:30:00</td>\n",
       "    </tr>\n",
       "    <tr>\n",
       "        <td>FI 0545</td>\n",
       "        <td>Spring2019</td>\n",
       "        <td>1</td>\n",
       "        <td>M</td>\n",
       "        <td>18:30:00</td>\n",
       "        <td>21:30:00</td>\n",
       "    </tr>\n",
       "    <tr>\n",
       "        <td>FI 0545</td>\n",
       "        <td>Spring2019</td>\n",
       "        <td>1</td>\n",
       "        <td>T</td>\n",
       "        <td>18:30:00</td>\n",
       "        <td>21:30:00</td>\n",
       "    </tr>\n",
       "    <tr>\n",
       "        <td>FI 0555</td>\n",
       "        <td>Spring2019</td>\n",
       "        <td>1</td>\n",
       "        <td>W</td>\n",
       "        <td>18:30:00</td>\n",
       "        <td>21:30:00</td>\n",
       "    </tr>\n",
       "    <tr>\n",
       "        <td>FI 0575</td>\n",
       "        <td>Spring2019</td>\n",
       "        <td>1</td>\n",
       "        <td>F</td>\n",
       "        <td>18:30:00</td>\n",
       "        <td>21:30:00</td>\n",
       "    </tr>\n",
       "    <tr>\n",
       "        <td>FI 0575</td>\n",
       "        <td>Spring2019</td>\n",
       "        <td>1</td>\n",
       "        <td>S</td>\n",
       "        <td>08:30:00</td>\n",
       "        <td>16:30:00</td>\n",
       "    </tr>\n",
       "    <tr>\n",
       "        <td>FI 0595</td>\n",
       "        <td>Spring2019</td>\n",
       "        <td>1</td>\n",
       "        <td>T</td>\n",
       "        <td>18:30:00</td>\n",
       "        <td>21:30:00</td>\n",
       "    </tr>\n",
       "</table>"
      ],
      "text/plain": [
       "[('FI 0101', 'Spring2019', '1', 'R', '14:00:00', '15:15:00'),\n",
       " ('FI 0101', 'Spring2019', '1', 'M', '14:00:00', '15:15:00'),\n",
       " ('FI 0101', 'Spring2019', '1', 'T', '14:00:00', '15:15:00'),\n",
       " ('FI 0101', 'Spring2019', '2', 'R', '15:30:00', '16:45:00'),\n",
       " ('FI 0101', 'Spring2019', '2', 'M', '15:30:00', '16:45:00'),\n",
       " ('FI 0101', 'Spring2019', '2', 'T', '15:30:00', '16:45:00'),\n",
       " ('FI 0101', 'Spring2019', '3', 'R', '08:00:00', '09:15:00'),\n",
       " ('FI 0101', 'Spring2019', '3', 'M', '08:00:00', '09:15:00'),\n",
       " ('FI 0101', 'Spring2019', '3', 'T', '08:00:00', '09:15:00'),\n",
       " ('FI 0101', 'Spring2019', '4', 'R', '11:00:00', '12:15:00'),\n",
       " ('FI 0101', 'Spring2019', '4', 'M', '11:00:00', '12:15:00'),\n",
       " ('FI 0101', 'Spring2019', '4', 'T', '11:00:00', '12:15:00'),\n",
       " ('FI 0101', 'Spring2019', '5', 'R', '09:30:00', '10:45:00'),\n",
       " ('FI 0101', 'Spring2019', '5', 'M', '09:30:00', '10:45:00'),\n",
       " ('FI 0101', 'Spring2019', '5', 'T', '09:30:00', '10:45:00'),\n",
       " ('FI 0101', 'Spring2019', '6', 'T', '18:30:00', '21:00:00'),\n",
       " ('FI 0101', 'Spring2019', '7', 'T', '08:00:00', '09:15:00'),\n",
       " ('FI 0101', 'Spring2019', '7', 'F', '08:00:00', '09:15:00'),\n",
       " ('FI 0200', 'Spring2019', '1', 'T', '09:30:00', '10:45:00'),\n",
       " ('FI 0200', 'Spring2019', '1', 'F', '09:30:00', '10:45:00'),\n",
       " ('FI 0200', 'Spring2019', '2', 'T', '14:00:00', '15:15:00'),\n",
       " ('FI 0200', 'Spring2019', '2', 'F', '14:00:00', '15:15:00'),\n",
       " ('FI 0210', 'Spring2019', '1', 'T', '14:00:00', '15:15:00'),\n",
       " ('FI 0210', 'Spring2019', '1', 'F', '14:00:00', '15:15:00'),\n",
       " ('FI 0210', 'Spring2019', '2', 'T', '15:30:00', '16:45:00'),\n",
       " ('FI 0210', 'Spring2019', '2', 'F', '15:30:00', '16:45:00'),\n",
       " ('FI 0210', 'Spring2019', '3', 'T', '12:30:00', '13:45:00'),\n",
       " ('FI 0210', 'Spring2019', '3', 'F', '12:30:00', '13:45:00'),\n",
       " ('FI 0210', 'Spring2019', '4', 'T', '14:00:00', '15:15:00'),\n",
       " ('FI 0210', 'Spring2019', '4', 'F', '14:00:00', '15:15:00'),\n",
       " ('FI 0215', 'Spring2019', '1', 'R', '11:00:00', '12:15:00'),\n",
       " ('FI 0215', 'Spring2019', '1', 'M', '11:00:00', '12:15:00'),\n",
       " ('FI 0215', 'Spring2019', '1', 'T', '11:00:00', '12:15:00'),\n",
       " ('FI 0215', 'Spring2019', '2', 'R', '11:00:00', '12:15:00'),\n",
       " ('FI 0215', 'Spring2019', '2', 'M', '11:00:00', '12:15:00'),\n",
       " ('FI 0215', 'Spring2019', '2', 'T', '11:00:00', '12:15:00'),\n",
       " ('FI 0215', 'Spring2019', '3', 'R', '12:30:00', '13:45:00'),\n",
       " ('FI 0215', 'Spring2019', '3', 'M', '12:30:00', '13:45:00'),\n",
       " ('FI 0215', 'Spring2019', '3', 'T', '12:30:00', '13:45:00'),\n",
       " ('FI 0240', 'Spring2019', '1', 'T', '09:30:00', '10:45:00'),\n",
       " ('FI 0240', 'Spring2019', '1', 'F', '09:30:00', '10:45:00'),\n",
       " ('FI 0240', 'Spring2019', '2', 'T', '11:00:00', '12:15:00'),\n",
       " ('FI 0240', 'Spring2019', '2', 'F', '11:00:00', '12:15:00'),\n",
       " ('FI 0300', 'Spring2019', '1', 'R', '09:30:00', '10:45:00'),\n",
       " ('FI 0300', 'Spring2019', '1', 'M', '09:30:00', '10:45:00'),\n",
       " ('FI 0300', 'Spring2019', '1', 'T', '09:30:00', '10:45:00'),\n",
       " ('FI 0310', 'Spring2019', '1', 'W', '11:00:00', '13:30:00'),\n",
       " ('FI 0310', 'Spring2019', '2', 'W', '18:30:00', '21:00:00'),\n",
       " ('FI 0325', 'Spring2019', '1', 'R', '12:30:00', '13:45:00'),\n",
       " ('FI 0325', 'Spring2019', '1', 'M', '12:30:00', '13:45:00'),\n",
       " ('FI 0325', 'Spring2019', '1', 'T', '12:30:00', '13:45:00'),\n",
       " ('FI 0325', 'Spring2019', '2', 'R', '14:00:00', '15:15:00'),\n",
       " ('FI 0325', 'Spring2019', '2', 'M', '14:00:00', '15:15:00'),\n",
       " ('FI 0325', 'Spring2019', '2', 'T', '14:00:00', '15:15:00'),\n",
       " ('FI 0330', 'Spring2019', '1', 'R', '08:00:00', '09:15:00'),\n",
       " ('FI 0330', 'Spring2019', '1', 'M', '08:00:00', '09:15:00'),\n",
       " ('FI 0330', 'Spring2019', '1', 'T', '08:00:00', '09:15:00'),\n",
       " ('FI 0330', 'Spring2019', '2', 'R', '09:30:00', '10:45:00'),\n",
       " ('FI 0330', 'Spring2019', '2', 'M', '09:30:00', '10:45:00'),\n",
       " ('FI 0330', 'Spring2019', '2', 'T', '09:30:00', '10:45:00'),\n",
       " ('FI 0330', 'Spring2019', '3', 'T', '11:00:00', '12:15:00'),\n",
       " ('FI 0330', 'Spring2019', '3', 'F', '11:00:00', '12:15:00'),\n",
       " ('FI 0330', 'Spring2019', '4', 'T', '12:30:00', '13:45:00'),\n",
       " ('FI 0330', 'Spring2019', '4', 'F', '12:30:00', '13:45:00'),\n",
       " ('FI 0330', 'Spring2019', '5', 'T', '15:30:00', '16:45:00'),\n",
       " ('FI 0330', 'Spring2019', '5', 'F', '15:30:00', '16:45:00'),\n",
       " ('FI 0330', 'Spring2019', 'OL1', 'M', '18:30:00', '21:00:00'),\n",
       " ('FI 0330', 'Spring2019', 'OL1', 'T', '18:30:00', '21:00:00'),\n",
       " ('FI 0397', 'Spring2019', '1', 'R', '17:00:00', '19:30:00'),\n",
       " ('FI 0398', 'Spring2019', '1', 'W', '14:00:00', '16:30:00'),\n",
       " ('FI 0530', 'Spring2019', '1', 'R', '18:30:00', '21:30:00'),\n",
       " ('FI 0545', 'Spring2019', '1', 'M', '18:30:00', '21:30:00'),\n",
       " ('FI 0545', 'Spring2019', '1', 'T', '18:30:00', '21:30:00'),\n",
       " ('FI 0555', 'Spring2019', '1', 'W', '18:30:00', '21:30:00'),\n",
       " ('FI 0575', 'Spring2019', '1', 'F', '18:30:00', '21:30:00'),\n",
       " ('FI 0575', 'Spring2019', '1', 'S', '08:30:00', '16:30:00'),\n",
       " ('FI 0595', 'Spring2019', '1', 'T', '18:30:00', '21:30:00')]"
      ]
     },
     "execution_count": 32,
     "metadata": {},
     "output_type": "execute_result"
    }
   ],
   "source": [
    "%%sql\n",
    "-- Why wont this work when I count the section column?\n",
    "SELECT DISTINCT CATALOG_ID, TERM,SECTION, DAY, START, END\n",
    "FROM COURSE_FACTS\n",
    "    JOIN TEMP_TABLE USING (TIMECODE)\n",
    "    JOIN TIME_SLICES USING (TIMECODE)\n",
    "WHERE CATALOG_ID LIKE '%FI%' and TERM = 'Spring2019'"
   ]
  },
  {
   "cell_type": "code",
   "execution_count": null,
   "metadata": {},
   "outputs": [],
   "source": []
  }
 ],
 "metadata": {
  "kernelspec": {
   "display_name": "Python 3",
   "language": "python",
   "name": "python3"
  },
  "language_info": {
   "codemirror_mode": {
    "name": "ipython",
    "version": 3
   },
   "file_extension": ".py",
   "mimetype": "text/x-python",
   "name": "python",
   "nbconvert_exporter": "python",
   "pygments_lexer": "ipython3",
   "version": "3.6.7"
  }
 },
 "nbformat": 4,
 "nbformat_minor": 4
}
