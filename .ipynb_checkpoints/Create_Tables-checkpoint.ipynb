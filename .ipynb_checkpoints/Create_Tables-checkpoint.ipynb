{
 "cells": [
  {
   "cell_type": "code",
   "execution_count": 1,
   "metadata": {},
   "outputs": [],
   "source": [
    "%load_ext sql\n",
    "import sqlite3\n",
    "import pandas as pd"
   ]
  },
  {
   "cell_type": "code",
   "execution_count": 2,
   "metadata": {},
   "outputs": [],
   "source": [
    "%sql sqlite:///CourseData.db\n",
    "conn = sqlite3.connect('CourseData.db')"
   ]
  },
  {
   "cell_type": "code",
   "execution_count": 3,
   "metadata": {},
   "outputs": [
    {
     "name": "stdout",
     "output_type": "stream",
     "text": [
      " * sqlite:///CourseData.db\n",
      "Done.\n",
      "Done.\n"
     ]
    },
    {
     "data": {
      "text/plain": [
       "[]"
      ]
     },
     "execution_count": 3,
     "metadata": {},
     "output_type": "execute_result"
    }
   ],
   "source": [
    "%%sql \n",
    "DROP TABLE IF EXISTS INSTRUCTORS;\n",
    "CREATE TABLE INSTRUCTORS(\n",
    "    INSTRUCTOR_ID INTEGER PRIMARY KEY,\n",
    "    INSTRUCTOR_NAME TEXT NOT NULL);"
   ]
  },
  {
   "cell_type": "code",
   "execution_count": 4,
   "metadata": {},
   "outputs": [
    {
     "name": "stdout",
     "output_type": "stream",
     "text": [
      " * sqlite:///CourseData.db\n",
      "Done.\n",
      "Done.\n"
     ]
    },
    {
     "data": {
      "text/plain": [
       "[]"
      ]
     },
     "execution_count": 4,
     "metadata": {},
     "output_type": "execute_result"
    }
   ],
   "source": [
    "%%sql\n",
    "DROP TABLE IF EXISTS TERMS;\n",
    "CREATE TABLE TERMS(\n",
    "    TERM_ID INTEGER PRIMARY KEY,\n",
    "    SEMESTER TEXT NOT NULL,\n",
    "    YEAR INTEGER NOT NULL,\n",
    "    CRN INTEGER);"
   ]
  },
  {
   "cell_type": "code",
   "execution_count": 5,
   "metadata": {},
   "outputs": [
    {
     "name": "stdout",
     "output_type": "stream",
     "text": [
      " * sqlite:///CourseData.db\n",
      "Done.\n",
      "Done.\n"
     ]
    },
    {
     "data": {
      "text/plain": [
       "[]"
      ]
     },
     "execution_count": 5,
     "metadata": {},
     "output_type": "execute_result"
    }
   ],
   "source": [
    "%%sql\n",
    "DROP TABLE IF EXISTS PROGRAMS;\n",
    "CREATE TABLE PROGRAMS(\n",
    "    PROGRAM_ID INTEGER PRIMARY KEY,\n",
    "    PROGRAM_CODE TEXT NOT NULL,\n",
    "    PROGRAM_NAME TEXT NOT NULL);"
   ]
  },
  {
   "cell_type": "code",
   "execution_count": 6,
   "metadata": {},
   "outputs": [
    {
     "name": "stdout",
     "output_type": "stream",
     "text": [
      " * sqlite:///CourseData.db\n",
      "Done.\n",
      "Done.\n"
     ]
    },
    {
     "data": {
      "text/plain": [
       "[]"
      ]
     },
     "execution_count": 6,
     "metadata": {},
     "output_type": "execute_result"
    }
   ],
   "source": [
    "%%sql\n",
    "DROP TABLE IF EXISTS COURSES;\n",
    "CREATE TABLE COURSES(\n",
    "    COURSE_ID INTEGER PRIMARY KEY,\n",
    "    CATALOG_ID TEXT,\n",
    "    TERM TEXT NOT NULL,\n",
    "    TITLE TEXT NOT NULL,\n",
    "    PREREQ TEXT,\n",
    "    COREQ TEXT,\n",
    "    FEES TEXT,\n",
    "    ATTRIBUTES TEXT,\n",
    "    DESCRIPTION TEXT,\n",
    "    PROGRAM_ID INTEGER NOT NULL,\n",
    "    FOREIGN KEY (PROGRAM_ID) \n",
    "        REFERENCES PROGRAM (PROGRAM_ID)\n",
    "        ON UPDATE CASCADE\n",
    ");"
   ]
  },
  {
   "cell_type": "code",
   "execution_count": 7,
   "metadata": {},
   "outputs": [
    {
     "name": "stdout",
     "output_type": "stream",
     "text": [
      " * sqlite:///CourseData.db\n",
      "Done.\n",
      "Done.\n"
     ]
    },
    {
     "data": {
      "text/plain": [
       "[]"
      ]
     },
     "execution_count": 7,
     "metadata": {},
     "output_type": "execute_result"
    }
   ],
   "source": [
    "%%sql\n",
    "DROP TABLE IF EXISTS COURSE_OFFERINGS;\n",
    "CREATE TABLE COURSE_OFFERINGS(\n",
    "    COURSE_OFFERING_ID INTEGER PRIMARY KEY,\n",
    "    CRN INTEGER NOT NULL,\n",
    "    SECTION INTEGER NOT NULL,\n",
    "    CREDITS INTEGER NOT NULL,\n",
    "    CAPACITY INTEGER NOT NULL,\n",
    "    ACTUAL INTEGER NOT NULL,\n",
    "    REMAINING INTEGER NOT NULL,\n",
    "    TERM TEXT NOT NULL,\n",
    "    CATALOG_ID INTEGER NOT NULL,\n",
    "    PRIMARY_INSTRUCTOR_ID INTEGER,\n",
    "    FOREIGN KEY (CATALOG_ID)\n",
    "        REFERENCES COURSES(CATALOG_ID)\n",
    "        ON UPDATE CASCADE,\n",
    "    FOREIGN KEY (PRIMARY_INSTRUCTOR_ID)\n",
    "        REFERENCES INSTRUCTOR(INSTRUCTOR_ID)\n",
    "        ON UPDATE CASCADE\n",
    ");"
   ]
  },
  {
   "cell_type": "code",
   "execution_count": 8,
   "metadata": {},
   "outputs": [
    {
     "name": "stdout",
     "output_type": "stream",
     "text": [
      " * sqlite:///CourseData.db\n",
      "Done.\n",
      "Done.\n"
     ]
    },
    {
     "data": {
      "text/plain": [
       "[]"
      ]
     },
     "execution_count": 8,
     "metadata": {},
     "output_type": "execute_result"
    }
   ],
   "source": [
    "%%sql\n",
    "DROP TABLE IF EXISTS LOCATIONS;\n",
    "CREATE TABLE LOCATIONS(\n",
    "    LOCATION_ID INTEGER PRIMARY KEY,\n",
    "    ROOM_ID TEXT);"
   ]
  },
  {
   "cell_type": "code",
   "execution_count": 9,
   "metadata": {},
   "outputs": [
    {
     "name": "stdout",
     "output_type": "stream",
     "text": [
      " * sqlite:///CourseData.db\n",
      "Done.\n",
      "Done.\n"
     ]
    },
    {
     "data": {
      "text/plain": [
       "[]"
      ]
     },
     "execution_count": 9,
     "metadata": {},
     "output_type": "execute_result"
    }
   ],
   "source": [
    "%%sql \n",
    "DROP TABLE IF EXISTS COURSE_MEETINGS;\n",
    "CREATE TABLE COURSE_MEETINGS(\n",
    "    MEETING_ID INTEGER PRIMARY KEY,\n",
    "    TERM TEXT NOT NULL,\n",
    "    LOCATION TEXT NOT NULL,\n",
    "    DAY TEXT NOT NULL,\n",
    "    START TEXT NOT NULL,\n",
    "    END TEXT NOT NULL,\n",
    "    CRN INTEGER NOT NULL,\n",
    "    ROOM_ID,\n",
    "    FOREIGN KEY (CRN)\n",
    "        REFERENCES COURSE_OFFERING (CRN)\n",
    "        ON UPDATE CASCADE,\n",
    "    FOREIGN KEY (ROOM_ID)\n",
    "        REFERENCES LOCATION (ROOM_ID)\n",
    "        ON UPDATE CASCADE\n",
    ");"
   ]
  },
  {
   "cell_type": "code",
   "execution_count": 10,
   "metadata": {},
   "outputs": [
    {
     "name": "stdout",
     "output_type": "stream",
     "text": [
      " * sqlite:///CourseData.db\n",
      "Done.\n",
      "Done.\n"
     ]
    },
    {
     "data": {
      "text/plain": [
       "[]"
      ]
     },
     "execution_count": 10,
     "metadata": {},
     "output_type": "execute_result"
    }
   ],
   "source": [
    "%%sql\n",
    "DROP TABLE IF EXISTS TERM_CATALOGYEAR;\n",
    "CREATE TABLE TERM_CATALOGYEAR(\n",
    "    TERM TEXT,\n",
    "    CATALOG_YEAR TEXT);"
   ]
  },
  {
   "cell_type": "code",
   "execution_count": 11,
   "metadata": {},
   "outputs": [
    {
     "name": "stdout",
     "output_type": "stream",
     "text": [
      " * sqlite:///CourseData.db\n",
      "7 rows affected.\n"
     ]
    },
    {
     "data": {
      "text/plain": [
       "[]"
      ]
     },
     "execution_count": 11,
     "metadata": {},
     "output_type": "execute_result"
    }
   ],
   "source": [
    "%%sql\n",
    "INSERT INTO TERM_CATALOGYEAR (TERM, CATALOG_YEAR) VALUES \n",
    "('Fall2017','2017_2018'),('Winter2018', '2017_2018'),('Spring2018','2017_2018'),('Summer2018','2017_2018'),\n",
    "('Fall2018','2018_2019'),('Winter2019','2018_2019'),('Spring2019','2018_2019');"
   ]
  },
  {
   "cell_type": "code",
   "execution_count": 12,
   "metadata": {},
   "outputs": [],
   "source": [
    "# Import catalog data\n",
    "catalog_year = ['2017_2018', '2018_2019']\n",
    "\n",
    "for year in catalog_year:\n",
    "    filepath = 'SourceData/Catalogs/CourseCatalog'+year+'.csv'\n",
    "    catalog_data = pd.read_csv(filepath)\n",
    "    catalog_data['year'] = year\n",
    "    catalog_data.to_sql('IMPORT_CAT_COURSES',conn, if_exists ='append', index=False)"
   ]
  },
  {
   "cell_type": "code",
   "execution_count": 13,
   "metadata": {},
   "outputs": [],
   "source": [
    "# Import Course meetings data and course offerings data\n",
    "terms = ['Fall2014','Fall2015','Fall2016','Fall2017','Fall2018',\n",
    "         'Spring2015','Spring2016','Spring2017','Spring2018','Spring2019',\n",
    "         'SpringBreak2017','Summer2015','Summer2016','Summer2017','Summer2018',\n",
    "         'Winter2015','Winter2016','Winter2017','Winter2018']\n",
    "for term in terms:\n",
    "    filepath = 'SourceData/'+term+'/courses.csv'\n",
    "    term_data = pd.read_csv(filepath)\n",
    "    term_data.to_sql('IMPORT_COURSE_DATA',conn,if_exists='append',index=False)\n",
    "    \n",
    "    filepath = 'SourceData/'+term+'/course_meetings.csv'\n",
    "    term_data = pd.read_csv(filepath)\n",
    "    term_data.to_sql('IMPORT_COURSEMEETINGS_DATA',conn, if_exists='append',index=False)"
   ]
  },
  {
   "cell_type": "code",
   "execution_count": 14,
   "metadata": {},
   "outputs": [
    {
     "name": "stdout",
     "output_type": "stream",
     "text": [
      " * sqlite:///CourseData.db\n",
      "Done.\n"
     ]
    },
    {
     "data": {
      "text/html": [
       "<table>\n",
       "    <tr>\n",
       "        <th>RAW_COUNT</th>\n",
       "        <th>DISTINCT_COUNT</th>\n",
       "    </tr>\n",
       "    <tr>\n",
       "        <td>15937</td>\n",
       "        <td>15937</td>\n",
       "    </tr>\n",
       "</table>"
      ],
      "text/plain": [
       "[(15937, 15937)]"
      ]
     },
     "execution_count": 14,
     "metadata": {},
     "output_type": "execute_result"
    }
   ],
   "source": [
    "%%sql\n",
    "SELECT\n",
    "    (SELECT COUNT(*) FROM IMPORT_COURSE_DATA) as 'RAW_COUNT',\n",
    "    (SELECT COUNT(*) FROM (SELECT DISTINCT * FROM IMPORT_COURSE_DATA)) as 'DISTINCT_COUNT';"
   ]
  },
  {
   "cell_type": "code",
   "execution_count": 15,
   "metadata": {},
   "outputs": [
    {
     "name": "stdout",
     "output_type": "stream",
     "text": [
      " * sqlite:///CourseData.db\n",
      "Done.\n"
     ]
    },
    {
     "data": {
      "text/html": [
       "<table>\n",
       "    <tr>\n",
       "        <th>RAW_COUNT</th>\n",
       "        <th>DISTINCT_COUNT</th>\n",
       "    </tr>\n",
       "    <tr>\n",
       "        <td>4440</td>\n",
       "        <td>4440</td>\n",
       "    </tr>\n",
       "</table>"
      ],
      "text/plain": [
       "[(4440, 4440)]"
      ]
     },
     "execution_count": 15,
     "metadata": {},
     "output_type": "execute_result"
    }
   ],
   "source": [
    "%%sql\n",
    "SELECT \n",
    "    (SELECT COUNT(*) FROM IMPORT_CAT_COURSES) as 'RAW_COUNT',\n",
    "    (SELECT COUNT(*) FROM (SELECT DISTINCT * FROM IMPORT_CAT_COURSES)) as 'DISTINCT_COUNT';"
   ]
  },
  {
   "cell_type": "code",
   "execution_count": 16,
   "metadata": {},
   "outputs": [
    {
     "name": "stdout",
     "output_type": "stream",
     "text": [
      " * sqlite:///CourseData.db\n",
      "Done.\n"
     ]
    },
    {
     "data": {
      "text/html": [
       "<table>\n",
       "    <tr>\n",
       "        <th>RAW_COUNT</th>\n",
       "        <th>DISTINCT_COUNT</th>\n",
       "    </tr>\n",
       "    <tr>\n",
       "        <td>284907</td>\n",
       "        <td>284847</td>\n",
       "    </tr>\n",
       "</table>"
      ],
      "text/plain": [
       "[(284907, 284847)]"
      ]
     },
     "execution_count": 16,
     "metadata": {},
     "output_type": "execute_result"
    }
   ],
   "source": [
    "%%sql\n",
    "SELECT\n",
    "    (SELECT COUNT(*) FROM IMPORT_COURSEMEETINGS_DATA) as 'RAW_COUNT',\n",
    "    (SELECT COUNT(*) FROM (SELECT DISTINCT * FROM IMPORT_COURSEMEETINGS_DATA)) as 'DISTINCT_COUNT';"
   ]
  },
  {
   "cell_type": "code",
   "execution_count": 17,
   "metadata": {},
   "outputs": [],
   "source": [
    "# Import data into INSTRUCTORS table"
   ]
  },
  {
   "cell_type": "code",
   "execution_count": 18,
   "metadata": {},
   "outputs": [
    {
     "name": "stdout",
     "output_type": "stream",
     "text": [
      " * sqlite:///CourseData.db\n",
      "0 rows affected.\n",
      "1095 rows affected.\n"
     ]
    },
    {
     "data": {
      "text/plain": [
       "[]"
      ]
     },
     "execution_count": 18,
     "metadata": {},
     "output_type": "execute_result"
    }
   ],
   "source": [
    "%%sql\n",
    "DELETE FROM INSTRUCTORS;\n",
    "\n",
    "INSERT INTO INSTRUCTORS (INSTRUCTOR_NAME)\n",
    "SELECT DISTINCT primary_instructor\n",
    "FROM IMPORT_COURSE_DATA \n",
    "WHERE primary_instructor <> 'TBA' AND primary_instructor NOT LIKE '%/%';"
   ]
  },
  {
   "cell_type": "code",
   "execution_count": 19,
   "metadata": {},
   "outputs": [
    {
     "name": "stdout",
     "output_type": "stream",
     "text": [
      " * sqlite:///CourseData.db\n",
      "Done.\n"
     ]
    },
    {
     "data": {
      "text/html": [
       "<table>\n",
       "    <tr>\n",
       "        <th>INSTRUCTOR_ID</th>\n",
       "        <th>INSTRUCTOR_NAME</th>\n",
       "    </tr>\n",
       "    <tr>\n",
       "        <td>1</td>\n",
       "        <td>Michael P.  Coyne</td>\n",
       "    </tr>\n",
       "    <tr>\n",
       "        <td>2</td>\n",
       "        <td>Rebecca I.  Bloch</td>\n",
       "    </tr>\n",
       "    <tr>\n",
       "        <td>3</td>\n",
       "        <td>Paul   Caster</td>\n",
       "    </tr>\n",
       "    <tr>\n",
       "        <td>4</td>\n",
       "        <td>Jo Ann   Drusbosky</td>\n",
       "    </tr>\n",
       "    <tr>\n",
       "        <td>5</td>\n",
       "        <td>Arleen N.  Kardos</td>\n",
       "    </tr>\n",
       "    <tr>\n",
       "        <td>6</td>\n",
       "        <td>Scott M  Brenner</td>\n",
       "    </tr>\n",
       "    <tr>\n",
       "        <td>7</td>\n",
       "        <td>Kevin C.  Cassidy</td>\n",
       "    </tr>\n",
       "    <tr>\n",
       "        <td>8</td>\n",
       "        <td>Bruce   Bradford</td>\n",
       "    </tr>\n",
       "    <tr>\n",
       "        <td>9</td>\n",
       "        <td>Milo W.  Peck</td>\n",
       "    </tr>\n",
       "    <tr>\n",
       "        <td>10</td>\n",
       "        <td>Stephen E.  Yost</td>\n",
       "    </tr>\n",
       "</table>"
      ],
      "text/plain": [
       "[(1, 'Michael P.  Coyne'),\n",
       " (2, 'Rebecca I.  Bloch'),\n",
       " (3, 'Paul   Caster'),\n",
       " (4, 'Jo Ann   Drusbosky'),\n",
       " (5, 'Arleen N.  Kardos'),\n",
       " (6, 'Scott M  Brenner'),\n",
       " (7, 'Kevin C.  Cassidy'),\n",
       " (8, 'Bruce   Bradford'),\n",
       " (9, 'Milo W.  Peck'),\n",
       " (10, 'Stephen E.  Yost')]"
      ]
     },
     "execution_count": 19,
     "metadata": {},
     "output_type": "execute_result"
    }
   ],
   "source": [
    "%%sql\n",
    "SELECT *\n",
    "FROM INSTRUCTORS\n",
    "LIMIT 10;"
   ]
  },
  {
   "cell_type": "code",
   "execution_count": 20,
   "metadata": {},
   "outputs": [],
   "source": [
    "#Import data into PROGRAMS table"
   ]
  },
  {
   "cell_type": "code",
   "execution_count": 21,
   "metadata": {},
   "outputs": [
    {
     "name": "stdout",
     "output_type": "stream",
     "text": [
      " * sqlite:///CourseData.db\n",
      "0 rows affected.\n",
      "83 rows affected.\n"
     ]
    },
    {
     "data": {
      "text/plain": [
       "[]"
      ]
     },
     "execution_count": 21,
     "metadata": {},
     "output_type": "execute_result"
    }
   ],
   "source": [
    "%%sql\n",
    "DELETE FROM PROGRAMS;\n",
    "\n",
    "INSERT INTO PROGRAMS (PROGRAM_CODE, PROGRAM_NAME)\n",
    "SELECT DISTINCT program_code, program_name\n",
    "FROM IMPORT_CAT_COURSES\n",
    "ORDER BY PROGRAM_CODE;"
   ]
  },
  {
   "cell_type": "code",
   "execution_count": 22,
   "metadata": {},
   "outputs": [
    {
     "name": "stdout",
     "output_type": "stream",
     "text": [
      " * sqlite:///CourseData.db\n",
      "Done.\n"
     ]
    },
    {
     "data": {
      "text/html": [
       "<table>\n",
       "    <tr>\n",
       "        <th>PROGRAM_ID</th>\n",
       "        <th>PROGRAM_CODE</th>\n",
       "        <th>PROGRAM_NAME</th>\n",
       "    </tr>\n",
       "    <tr>\n",
       "        <td>1</td>\n",
       "        <td>AC</td>\n",
       "        <td>Accounting</td>\n",
       "    </tr>\n",
       "    <tr>\n",
       "        <td>2</td>\n",
       "        <td>AE</td>\n",
       "        <td>Applied Ethics</td>\n",
       "    </tr>\n",
       "    <tr>\n",
       "        <td>3</td>\n",
       "        <td>AH</td>\n",
       "        <td>Art History</td>\n",
       "    </tr>\n",
       "    <tr>\n",
       "        <td>4</td>\n",
       "        <td>AN</td>\n",
       "        <td>Asian Studies</td>\n",
       "    </tr>\n",
       "    <tr>\n",
       "        <td>5</td>\n",
       "        <td>AR</td>\n",
       "        <td>Arabic</td>\n",
       "    </tr>\n",
       "    <tr>\n",
       "        <td>6</td>\n",
       "        <td>AS</td>\n",
       "        <td>American Studies</td>\n",
       "    </tr>\n",
       "    <tr>\n",
       "        <td>7</td>\n",
       "        <td>AY</td>\n",
       "        <td>Anthropology</td>\n",
       "    </tr>\n",
       "    <tr>\n",
       "        <td>8</td>\n",
       "        <td>BB</td>\n",
       "        <td>Business</td>\n",
       "    </tr>\n",
       "    <tr>\n",
       "        <td>9</td>\n",
       "        <td>BEN</td>\n",
       "        <td>Bioengineering</td>\n",
       "    </tr>\n",
       "    <tr>\n",
       "        <td>10</td>\n",
       "        <td>BI</td>\n",
       "        <td>Biology</td>\n",
       "    </tr>\n",
       "</table>"
      ],
      "text/plain": [
       "[(1, 'AC', 'Accounting'),\n",
       " (2, 'AE', 'Applied Ethics'),\n",
       " (3, 'AH', 'Art History'),\n",
       " (4, 'AN', 'Asian Studies'),\n",
       " (5, 'AR', 'Arabic'),\n",
       " (6, 'AS', 'American Studies'),\n",
       " (7, 'AY', 'Anthropology'),\n",
       " (8, 'BB', 'Business'),\n",
       " (9, 'BEN', 'Bioengineering'),\n",
       " (10, 'BI', 'Biology')]"
      ]
     },
     "execution_count": 22,
     "metadata": {},
     "output_type": "execute_result"
    }
   ],
   "source": [
    "%%sql\n",
    "SELECT *\n",
    "FROM PROGRAMS\n",
    "LIMIT 10;"
   ]
  },
  {
   "cell_type": "code",
   "execution_count": 23,
   "metadata": {},
   "outputs": [],
   "source": [
    "# Import data into LOCATIONS table"
   ]
  },
  {
   "cell_type": "code",
   "execution_count": 24,
   "metadata": {},
   "outputs": [
    {
     "name": "stdout",
     "output_type": "stream",
     "text": [
      " * sqlite:///CourseData.db\n",
      "0 rows affected.\n",
      "207 rows affected.\n"
     ]
    },
    {
     "data": {
      "text/plain": [
       "[]"
      ]
     },
     "execution_count": 24,
     "metadata": {},
     "output_type": "execute_result"
    }
   ],
   "source": [
    "%%sql\n",
    "DELETE FROM LOCATIONS;\n",
    "\n",
    "INSERT INTO LOCATIONS (ROOM_ID)\n",
    "SELECT DISTINCT location\n",
    "FROM IMPORT_COURSEMEETINGS_DATA\n",
    "ORDER BY location;"
   ]
  },
  {
   "cell_type": "code",
   "execution_count": 25,
   "metadata": {},
   "outputs": [
    {
     "name": "stdout",
     "output_type": "stream",
     "text": [
      " * sqlite:///CourseData.db\n",
      "Done.\n"
     ]
    },
    {
     "data": {
      "text/html": [
       "<table>\n",
       "    <tr>\n",
       "        <th>LOCATION_ID</th>\n",
       "        <th>ROOM_ID</th>\n",
       "    </tr>\n",
       "    <tr>\n",
       "        <td>1</td>\n",
       "        <td>BCC 200</td>\n",
       "    </tr>\n",
       "    <tr>\n",
       "        <td>2</td>\n",
       "        <td>BD </td>\n",
       "    </tr>\n",
       "    <tr>\n",
       "        <td>3</td>\n",
       "        <td>BH </td>\n",
       "    </tr>\n",
       "    <tr>\n",
       "        <td>4</td>\n",
       "        <td>BH BY ARR</td>\n",
       "    </tr>\n",
       "    <tr>\n",
       "        <td>5</td>\n",
       "        <td>BLM 112</td>\n",
       "    </tr>\n",
       "    <tr>\n",
       "        <td>6</td>\n",
       "        <td>BLM LL105</td>\n",
       "    </tr>\n",
       "    <tr>\n",
       "        <td>7</td>\n",
       "        <td>BNW 124</td>\n",
       "    </tr>\n",
       "    <tr>\n",
       "        <td>8</td>\n",
       "        <td>BNW 127</td>\n",
       "    </tr>\n",
       "    <tr>\n",
       "        <td>9</td>\n",
       "        <td>BNW 128</td>\n",
       "    </tr>\n",
       "    <tr>\n",
       "        <td>10</td>\n",
       "        <td>BNW 129B</td>\n",
       "    </tr>\n",
       "</table>"
      ],
      "text/plain": [
       "[(1, 'BCC 200'),\n",
       " (2, 'BD '),\n",
       " (3, 'BH '),\n",
       " (4, 'BH BY ARR'),\n",
       " (5, 'BLM 112'),\n",
       " (6, 'BLM LL105'),\n",
       " (7, 'BNW 124'),\n",
       " (8, 'BNW 127'),\n",
       " (9, 'BNW 128'),\n",
       " (10, 'BNW 129B')]"
      ]
     },
     "execution_count": 25,
     "metadata": {},
     "output_type": "execute_result"
    }
   ],
   "source": [
    "%%sql\n",
    "SELECT *\n",
    "FROM LOCATIONS\n",
    "LIMIT 10;"
   ]
  },
  {
   "cell_type": "code",
   "execution_count": 26,
   "metadata": {},
   "outputs": [],
   "source": [
    "#Import data into COURSE_MEETINGS"
   ]
  },
  {
   "cell_type": "code",
   "execution_count": 27,
   "metadata": {},
   "outputs": [
    {
     "name": "stdout",
     "output_type": "stream",
     "text": [
      " * sqlite:///CourseData.db\n",
      "0 rows affected.\n",
      "284907 rows affected.\n"
     ]
    },
    {
     "data": {
      "text/plain": [
       "[]"
      ]
     },
     "execution_count": 27,
     "metadata": {},
     "output_type": "execute_result"
    }
   ],
   "source": [
    "%%sql\n",
    "DELETE FROM COURSE_MEETINGS;\n",
    "\n",
    "INSERT INTO COURSE_MEETINGS (TERM, LOCATION, DAY, START, END, CRN, ROOM_ID)\n",
    "SELECT term, location, day, start, end, crn, LOCATIONS.LOCATION_ID\n",
    "FROM IMPORT_COURSEMEETINGS_DATA\n",
    "    LEFT JOIN LOCATIONS ON (IMPORT_COURSEMEETINGS_DATA.Location = LOCATIONS.ROOM_ID);"
   ]
  },
  {
   "cell_type": "code",
   "execution_count": 28,
   "metadata": {},
   "outputs": [
    {
     "name": "stdout",
     "output_type": "stream",
     "text": [
      " * sqlite:///CourseData.db\n",
      "Done.\n"
     ]
    },
    {
     "data": {
      "text/html": [
       "<table>\n",
       "    <tr>\n",
       "        <th>MEETING_ID</th>\n",
       "        <th>TERM</th>\n",
       "        <th>LOCATION</th>\n",
       "        <th>DAY</th>\n",
       "        <th>START</th>\n",
       "        <th>END</th>\n",
       "        <th>CRN</th>\n",
       "        <th>ROOM_ID</th>\n",
       "    </tr>\n",
       "    <tr>\n",
       "        <td>1</td>\n",
       "        <td>Fall2014</td>\n",
       "        <td>DSB 105</td>\n",
       "        <td>T</td>\n",
       "        <td>2014-09-02T08:00:00</td>\n",
       "        <td>2014-09-02T09:15:00</td>\n",
       "        <td>70384</td>\n",
       "        <td>99</td>\n",
       "    </tr>\n",
       "    <tr>\n",
       "        <td>2</td>\n",
       "        <td>Fall2014</td>\n",
       "        <td>DSB 105</td>\n",
       "        <td>F</td>\n",
       "        <td>2014-09-05T08:00:00</td>\n",
       "        <td>2014-09-05T09:15:00</td>\n",
       "        <td>70384</td>\n",
       "        <td>99</td>\n",
       "    </tr>\n",
       "    <tr>\n",
       "        <td>3</td>\n",
       "        <td>Fall2014</td>\n",
       "        <td>DSB 105</td>\n",
       "        <td>T</td>\n",
       "        <td>2014-09-09T08:00:00</td>\n",
       "        <td>2014-09-09T09:15:00</td>\n",
       "        <td>70384</td>\n",
       "        <td>99</td>\n",
       "    </tr>\n",
       "    <tr>\n",
       "        <td>4</td>\n",
       "        <td>Fall2014</td>\n",
       "        <td>DSB 105</td>\n",
       "        <td>F</td>\n",
       "        <td>2014-09-12T08:00:00</td>\n",
       "        <td>2014-09-12T09:15:00</td>\n",
       "        <td>70384</td>\n",
       "        <td>99</td>\n",
       "    </tr>\n",
       "    <tr>\n",
       "        <td>5</td>\n",
       "        <td>Fall2014</td>\n",
       "        <td>DSB 105</td>\n",
       "        <td>T</td>\n",
       "        <td>2014-09-16T08:00:00</td>\n",
       "        <td>2014-09-16T09:15:00</td>\n",
       "        <td>70384</td>\n",
       "        <td>99</td>\n",
       "    </tr>\n",
       "    <tr>\n",
       "        <td>6</td>\n",
       "        <td>Fall2014</td>\n",
       "        <td>DSB 105</td>\n",
       "        <td>F</td>\n",
       "        <td>2014-09-19T08:00:00</td>\n",
       "        <td>2014-09-19T09:15:00</td>\n",
       "        <td>70384</td>\n",
       "        <td>99</td>\n",
       "    </tr>\n",
       "    <tr>\n",
       "        <td>7</td>\n",
       "        <td>Fall2014</td>\n",
       "        <td>DSB 105</td>\n",
       "        <td>T</td>\n",
       "        <td>2014-09-23T08:00:00</td>\n",
       "        <td>2014-09-23T09:15:00</td>\n",
       "        <td>70384</td>\n",
       "        <td>99</td>\n",
       "    </tr>\n",
       "    <tr>\n",
       "        <td>8</td>\n",
       "        <td>Fall2014</td>\n",
       "        <td>DSB 105</td>\n",
       "        <td>F</td>\n",
       "        <td>2014-09-26T08:00:00</td>\n",
       "        <td>2014-09-26T09:15:00</td>\n",
       "        <td>70384</td>\n",
       "        <td>99</td>\n",
       "    </tr>\n",
       "    <tr>\n",
       "        <td>9</td>\n",
       "        <td>Fall2014</td>\n",
       "        <td>DSB 105</td>\n",
       "        <td>T</td>\n",
       "        <td>2014-09-30T08:00:00</td>\n",
       "        <td>2014-09-30T09:15:00</td>\n",
       "        <td>70384</td>\n",
       "        <td>99</td>\n",
       "    </tr>\n",
       "    <tr>\n",
       "        <td>10</td>\n",
       "        <td>Fall2014</td>\n",
       "        <td>DSB 105</td>\n",
       "        <td>F</td>\n",
       "        <td>2014-10-03T08:00:00</td>\n",
       "        <td>2014-10-03T09:15:00</td>\n",
       "        <td>70384</td>\n",
       "        <td>99</td>\n",
       "    </tr>\n",
       "</table>"
      ],
      "text/plain": [
       "[(1, 'Fall2014', 'DSB 105', 'T', '2014-09-02T08:00:00', '2014-09-02T09:15:00', 70384, 99),\n",
       " (2, 'Fall2014', 'DSB 105', 'F', '2014-09-05T08:00:00', '2014-09-05T09:15:00', 70384, 99),\n",
       " (3, 'Fall2014', 'DSB 105', 'T', '2014-09-09T08:00:00', '2014-09-09T09:15:00', 70384, 99),\n",
       " (4, 'Fall2014', 'DSB 105', 'F', '2014-09-12T08:00:00', '2014-09-12T09:15:00', 70384, 99),\n",
       " (5, 'Fall2014', 'DSB 105', 'T', '2014-09-16T08:00:00', '2014-09-16T09:15:00', 70384, 99),\n",
       " (6, 'Fall2014', 'DSB 105', 'F', '2014-09-19T08:00:00', '2014-09-19T09:15:00', 70384, 99),\n",
       " (7, 'Fall2014', 'DSB 105', 'T', '2014-09-23T08:00:00', '2014-09-23T09:15:00', 70384, 99),\n",
       " (8, 'Fall2014', 'DSB 105', 'F', '2014-09-26T08:00:00', '2014-09-26T09:15:00', 70384, 99),\n",
       " (9, 'Fall2014', 'DSB 105', 'T', '2014-09-30T08:00:00', '2014-09-30T09:15:00', 70384, 99),\n",
       " (10, 'Fall2014', 'DSB 105', 'F', '2014-10-03T08:00:00', '2014-10-03T09:15:00', 70384, 99)]"
      ]
     },
     "execution_count": 28,
     "metadata": {},
     "output_type": "execute_result"
    }
   ],
   "source": [
    "%%sql\n",
    "SELECT *\n",
    "FROM COURSE_MEETINGS\n",
    "LIMIT 10;"
   ]
  },
  {
   "cell_type": "markdown",
   "metadata": {},
   "source": [
    "# Import data into COURSE_OFFERINGS table"
   ]
  },
  {
   "cell_type": "code",
   "execution_count": 29,
   "metadata": {},
   "outputs": [
    {
     "name": "stdout",
     "output_type": "stream",
     "text": [
      " * sqlite:///CourseData.db\n",
      "0 rows affected.\n",
      "15937 rows affected.\n"
     ]
    },
    {
     "data": {
      "text/plain": [
       "[]"
      ]
     },
     "execution_count": 29,
     "metadata": {},
     "output_type": "execute_result"
    }
   ],
   "source": [
    "%%sql\n",
    "DELETE FROM COURSE_OFFERINGS;\n",
    "\n",
    "INSERT INTO COURSE_OFFERINGS (CRN, SECTION, CREDITS, CAPACITY, ACTUAL, REMAINING, CATALOG_ID, TERM, \n",
    "                             PRIMARY_INSTRUCTOR_ID)\n",
    "SELECT crn, section, credits, cap, act, rem, catalog_id, term, primary_instructor\n",
    "FROM IMPORT_COURSE_DATA;"
   ]
  },
  {
   "cell_type": "markdown",
   "metadata": {},
   "source": [
    "# Import data into COURSES table"
   ]
  },
  {
   "cell_type": "code",
   "execution_count": 34,
   "metadata": {},
   "outputs": [
    {
     "name": "stdout",
     "output_type": "stream",
     "text": [
      " * sqlite:///CourseData.db\n",
      "30486 rows affected.\n",
      "8847 rows affected.\n"
     ]
    },
    {
     "data": {
      "text/plain": [
       "[]"
      ]
     },
     "execution_count": 34,
     "metadata": {},
     "output_type": "execute_result"
    }
   ],
   "source": [
    "%%sql\n",
    "DELETE FROM COURSES;\n",
    "\n",
    "INSERT INTO COURSES (CATALOG_ID, TERM, TITLE, PREREQ, COREQ, FEES, ATTRIBUTES, DESCRIPTION, PROGRAM_ID)\n",
    "SELECT distinct IMPORT_COURSE_DATA.catalog_id, term, title, prereqs, coreqs, fees, attributes, description, PROGRAMS.PROGRAM_ID\n",
    "FROM IMPORT_COURSE_DATA\n",
    "    JOIN IMPORT_CAT_COURSES ON (IMPORT_CAT_COURSES.catalog_id = IMPORT_COURSE_DATA.catalog_id)\n",
    "    JOIN PROGRAMS ON (PROGRAMS.PROGRAM_CODE = IMPORT_CAT_COURSES.program_code);"
   ]
  },
  {
   "cell_type": "code",
   "execution_count": 35,
   "metadata": {},
   "outputs": [
    {
     "name": "stdout",
     "output_type": "stream",
     "text": [
      " * sqlite:///CourseData.db\n",
      "Done.\n"
     ]
    },
    {
     "data": {
      "text/html": [
       "<table>\n",
       "    <tr>\n",
       "        <th>COUNT(*)</th>\n",
       "    </tr>\n",
       "    <tr>\n",
       "        <td>8847</td>\n",
       "    </tr>\n",
       "</table>"
      ],
      "text/plain": [
       "[(8847,)]"
      ]
     },
     "execution_count": 35,
     "metadata": {},
     "output_type": "execute_result"
    }
   ],
   "source": [
    "%%sql\n",
    "SELECT COUNT(*) FROM \n",
    "(SELECT distinct IMPORT_COURSE_DATA.catalog_id, term, title, prereqs, coreqs, fees, attributes, description, PROGRAMS.PROGRAM_ID\n",
    "FROM IMPORT_COURSE_DATA\n",
    "    JOIN IMPORT_CAT_COURSES ON (IMPORT_CAT_COURSES.catalog_id = IMPORT_COURSE_DATA.catalog_id)\n",
    "    JOIN PROGRAMS ON (PROGRAMS.PROGRAM_CODE = IMPORT_CAT_COURSES.program_code));"
   ]
  },
  {
   "cell_type": "code",
   "execution_count": null,
   "metadata": {},
   "outputs": [],
   "source": []
  }
 ],
 "metadata": {
  "kernelspec": {
   "display_name": "Python 3",
   "language": "python",
   "name": "python3"
  },
  "language_info": {
   "codemirror_mode": {
    "name": "ipython",
    "version": 3
   },
   "file_extension": ".py",
   "mimetype": "text/x-python",
   "name": "python",
   "nbconvert_exporter": "python",
   "pygments_lexer": "ipython3",
   "version": "3.6.7"
  }
 },
 "nbformat": 4,
 "nbformat_minor": 4
}
