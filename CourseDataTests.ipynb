{
 "cells": [
  {
   "cell_type": "code",
   "execution_count": 1,
   "metadata": {},
   "outputs": [],
   "source": [
    "%load_ext sql\n",
    "import sqlite3\n",
    "import pandas as pd"
   ]
  },
  {
   "cell_type": "code",
   "execution_count": 2,
   "metadata": {},
   "outputs": [
    {
     "data": {
      "text/plain": [
       "'Connected: @CourseData.db'"
      ]
     },
     "execution_count": 2,
     "metadata": {},
     "output_type": "execute_result"
    }
   ],
   "source": [
    "%sql sqlite:///CourseData.db"
   ]
  },
  {
   "cell_type": "markdown",
   "metadata": {},
   "source": [
    "# 4. CourseData Database Integrity Checks "
   ]
  },
  {
   "cell_type": "markdown",
   "metadata": {},
   "source": [
    "## A. How many seats remain for Professor Bloch's Spring 2018 classes?"
   ]
  },
  {
   "cell_type": "code",
   "execution_count": 3,
   "metadata": {},
   "outputs": [
    {
     "name": "stdout",
     "output_type": "stream",
     "text": [
      " * sqlite:///CourseData.db\n",
      "Done.\n"
     ]
    },
    {
     "data": {
      "text/html": [
       "<table>\n",
       "    <tr>\n",
       "        <th>CRN</th>\n",
       "        <th>SECTION</th>\n",
       "        <th>CAPACITY</th>\n",
       "        <th>REMAINING</th>\n",
       "        <th>INSTRUCTOR_NAME</th>\n",
       "        <th>TERM</th>\n",
       "    </tr>\n",
       "    <tr>\n",
       "        <td>34137</td>\n",
       "        <td>1</td>\n",
       "        <td>24</td>\n",
       "        <td>2</td>\n",
       "        <td>Rebecca I.  Bloch</td>\n",
       "        <td>Spring2018</td>\n",
       "    </tr>\n",
       "    <tr>\n",
       "        <td>34085</td>\n",
       "        <td>1</td>\n",
       "        <td>25</td>\n",
       "        <td>-2</td>\n",
       "        <td>Rebecca I.  Bloch</td>\n",
       "        <td>Spring2018</td>\n",
       "    </tr>\n",
       "    <tr>\n",
       "        <td>34164</td>\n",
       "        <td>2</td>\n",
       "        <td>25</td>\n",
       "        <td>-4</td>\n",
       "        <td>Rebecca I.  Bloch</td>\n",
       "        <td>Spring2018</td>\n",
       "    </tr>\n",
       "</table>"
      ],
      "text/plain": [
       "[(34137, 1, 24, 2, 'Rebecca I.  Bloch', 'Spring2018'),\n",
       " (34085, 1, 25, -2, 'Rebecca I.  Bloch', 'Spring2018'),\n",
       " (34164, 2, 25, -4, 'Rebecca I.  Bloch', 'Spring2018')]"
      ]
     },
     "execution_count": 3,
     "metadata": {},
     "output_type": "execute_result"
    }
   ],
   "source": [
    "%%sql\n",
    "SELECT DISTINCT COURSE_OFFERINGS.CRN, SECTION, CAPACITY, REMAINING, INSTRUCTOR_NAME, COURSE_OFFERINGS.TERM\n",
    "FROM COURSE_OFFERINGS\n",
    "    JOIN INSTRUCTORS ON (COURSE_OFFERINGS.PRIMARY_INSTRUCTOR_ID = INSTRUCTORS.INSTRUCTOR_ID)\n",
    "    JOIN COURSE_MEETINGS USING (COURSE_OFFERING_ID)\n",
    "WHERE INSTRUCTOR_NAME LIKE '%Bloch' AND COURSE_OFFERINGS.TERM = 'Spring2018'\n",
    "ORDER BY REMAINING DESC\n",
    "LIMIT 10;"
   ]
  },
  {
   "cell_type": "markdown",
   "metadata": {},
   "source": [
    "## B. What is the actual enrollment for a class compared to capacity for courses in Fall 2018?"
   ]
  },
  {
   "cell_type": "code",
   "execution_count": 4,
   "metadata": {},
   "outputs": [
    {
     "name": "stdout",
     "output_type": "stream",
     "text": [
      " * sqlite:///CourseData.db\n",
      "Done.\n"
     ]
    },
    {
     "data": {
      "text/html": [
       "<table>\n",
       "    <tr>\n",
       "        <th>CRN</th>\n",
       "        <th>SECTION</th>\n",
       "        <th>CAPACITY</th>\n",
       "        <th>ACTUAL</th>\n",
       "        <th>TERM</th>\n",
       "    </tr>\n",
       "    <tr>\n",
       "        <td>74173</td>\n",
       "        <td>1</td>\n",
       "        <td>64</td>\n",
       "        <td>65</td>\n",
       "        <td>Fall2018</td>\n",
       "    </tr>\n",
       "    <tr>\n",
       "        <td>74362</td>\n",
       "        <td>1</td>\n",
       "        <td>60</td>\n",
       "        <td>62</td>\n",
       "        <td>Fall2018</td>\n",
       "    </tr>\n",
       "    <tr>\n",
       "        <td>74754</td>\n",
       "        <td>01C</td>\n",
       "        <td>0</td>\n",
       "        <td>60</td>\n",
       "        <td>Fall2018</td>\n",
       "    </tr>\n",
       "    <tr>\n",
       "        <td>75868</td>\n",
       "        <td>A-C</td>\n",
       "        <td>0</td>\n",
       "        <td>58</td>\n",
       "        <td>Fall2018</td>\n",
       "    </tr>\n",
       "    <tr>\n",
       "        <td>75823</td>\n",
       "        <td>2</td>\n",
       "        <td>64</td>\n",
       "        <td>58</td>\n",
       "        <td>Fall2018</td>\n",
       "    </tr>\n",
       "    <tr>\n",
       "        <td>75304</td>\n",
       "        <td>4</td>\n",
       "        <td>60</td>\n",
       "        <td>57</td>\n",
       "        <td>Fall2018</td>\n",
       "    </tr>\n",
       "    <tr>\n",
       "        <td>74598</td>\n",
       "        <td>1</td>\n",
       "        <td>60</td>\n",
       "        <td>57</td>\n",
       "        <td>Fall2018</td>\n",
       "    </tr>\n",
       "    <tr>\n",
       "        <td>74839</td>\n",
       "        <td>02C</td>\n",
       "        <td>0</td>\n",
       "        <td>56</td>\n",
       "        <td>Fall2018</td>\n",
       "    </tr>\n",
       "    <tr>\n",
       "        <td>75964</td>\n",
       "        <td>03C</td>\n",
       "        <td>0</td>\n",
       "        <td>56</td>\n",
       "        <td>Fall2018</td>\n",
       "    </tr>\n",
       "    <tr>\n",
       "        <td>75814</td>\n",
       "        <td>4</td>\n",
       "        <td>60</td>\n",
       "        <td>56</td>\n",
       "        <td>Fall2018</td>\n",
       "    </tr>\n",
       "</table>"
      ],
      "text/plain": [
       "[(74173, 1, 64, 65, 'Fall2018'),\n",
       " (74362, 1, 60, 62, 'Fall2018'),\n",
       " (74754, '01C', 0, 60, 'Fall2018'),\n",
       " (75868, 'A-C', 0, 58, 'Fall2018'),\n",
       " (75823, 2, 64, 58, 'Fall2018'),\n",
       " (75304, 4, 60, 57, 'Fall2018'),\n",
       " (74598, 1, 60, 57, 'Fall2018'),\n",
       " (74839, '02C', 0, 56, 'Fall2018'),\n",
       " (75964, '03C', 0, 56, 'Fall2018'),\n",
       " (75814, 4, 60, 56, 'Fall2018')]"
      ]
     },
     "execution_count": 4,
     "metadata": {},
     "output_type": "execute_result"
    }
   ],
   "source": [
    "%%sql\n",
    "SELECT DISTINCT COURSE_OFFERINGS.CRN, SECTION, CAPACITY, ACTUAL, COURSE_MEETINGS.TERM\n",
    "FROM COURSE_OFFERINGS\n",
    "    JOIN COURSE_MEETINGS USING (CRN)\n",
    "WHERE COURSE_MEETINGS.TERM = 'Fall2018'\n",
    "ORDER BY ACTUAL DESC\n",
    "LIMIT 10;"
   ]
  },
  {
   "cell_type": "markdown",
   "metadata": {},
   "source": [
    "## C. Which classrooms are the most utilized?"
   ]
  },
  {
   "cell_type": "code",
   "execution_count": 5,
   "metadata": {},
   "outputs": [
    {
     "name": "stdout",
     "output_type": "stream",
     "text": [
      " * sqlite:///CourseData.db\n",
      "Done.\n"
     ]
    },
    {
     "data": {
      "text/html": [
       "<table>\n",
       "    <tr>\n",
       "        <th>LOCATION_ID</th>\n",
       "        <th>ROOM_ID</th>\n",
       "        <th>COUNT(COURSE_OFFERING_ID)</th>\n",
       "    </tr>\n",
       "    <tr>\n",
       "        <td>98</td>\n",
       "        <td>DSB 104</td>\n",
       "        <td>3577</td>\n",
       "    </tr>\n",
       "    <tr>\n",
       "        <td>99</td>\n",
       "        <td>DSB 105</td>\n",
       "        <td>3392</td>\n",
       "    </tr>\n",
       "    <tr>\n",
       "        <td>100</td>\n",
       "        <td>DSB 106</td>\n",
       "        <td>3609</td>\n",
       "    </tr>\n",
       "    <tr>\n",
       "        <td>101</td>\n",
       "        <td>DSB 107</td>\n",
       "        <td>2712</td>\n",
       "    </tr>\n",
       "    <tr>\n",
       "        <td>102</td>\n",
       "        <td>DSB 108</td>\n",
       "        <td>3936</td>\n",
       "    </tr>\n",
       "    <tr>\n",
       "        <td>103</td>\n",
       "        <td>DSB 109</td>\n",
       "        <td>3810</td>\n",
       "    </tr>\n",
       "    <tr>\n",
       "        <td>104</td>\n",
       "        <td>DSB 110</td>\n",
       "        <td>4</td>\n",
       "    </tr>\n",
       "    <tr>\n",
       "        <td>105</td>\n",
       "        <td>DSB 110A</td>\n",
       "        <td>2699</td>\n",
       "    </tr>\n",
       "    <tr>\n",
       "        <td>106</td>\n",
       "        <td>DSB 110B</td>\n",
       "        <td>2855</td>\n",
       "    </tr>\n",
       "    <tr>\n",
       "        <td>107</td>\n",
       "        <td>DSB 111</td>\n",
       "        <td>3501</td>\n",
       "    </tr>\n",
       "    <tr>\n",
       "        <td>108</td>\n",
       "        <td>DSB 112</td>\n",
       "        <td>3877</td>\n",
       "    </tr>\n",
       "    <tr>\n",
       "        <td>109</td>\n",
       "        <td>DSB 114</td>\n",
       "        <td>2712</td>\n",
       "    </tr>\n",
       "    <tr>\n",
       "        <td>110</td>\n",
       "        <td>DSB 115</td>\n",
       "        <td>3391</td>\n",
       "    </tr>\n",
       "    <tr>\n",
       "        <td>111</td>\n",
       "        <td>DSB 2109A</td>\n",
       "        <td>1439</td>\n",
       "    </tr>\n",
       "</table>"
      ],
      "text/plain": [
       "[(98, 'DSB 104', 3577),\n",
       " (99, 'DSB 105', 3392),\n",
       " (100, 'DSB 106', 3609),\n",
       " (101, 'DSB 107', 2712),\n",
       " (102, 'DSB 108', 3936),\n",
       " (103, 'DSB 109', 3810),\n",
       " (104, 'DSB 110', 4),\n",
       " (105, 'DSB 110A', 2699),\n",
       " (106, 'DSB 110B', 2855),\n",
       " (107, 'DSB 111', 3501),\n",
       " (108, 'DSB 112', 3877),\n",
       " (109, 'DSB 114', 2712),\n",
       " (110, 'DSB 115', 3391),\n",
       " (111, 'DSB 2109A', 1439)]"
      ]
     },
     "execution_count": 5,
     "metadata": {},
     "output_type": "execute_result"
    }
   ],
   "source": [
    "%%sql\n",
    "-- Shows the number of classes that have been taught in each classroom\n",
    "SELECT DISTINCT COURSE_MEETINGS.LOCATION_ID, ROOM_ID, COUNT(COURSE_OFFERING_ID)\n",
    "FROM COURSE_MEETINGS\n",
    "    LEFT JOIN LOCATIONS USING (LOCATION_ID)\n",
    "WHERE ROOM_ID LIKE \"%DSB%\"\n",
    "GROUP BY COURSE_MEETINGS.LOCATION_ID, ROOM_ID\n",
    "LIMIT 20;"
   ]
  },
  {
   "cell_type": "markdown",
   "metadata": {},
   "source": [
    "## D. How many classes has each professor taught?"
   ]
  },
  {
   "cell_type": "code",
   "execution_count": 22,
   "metadata": {},
   "outputs": [
    {
     "name": "stdout",
     "output_type": "stream",
     "text": [
      " * sqlite:///CourseData.db\n",
      "Done.\n"
     ]
    },
    {
     "data": {
      "text/html": [
       "<table>\n",
       "    <tr>\n",
       "        <th>INSTRUCTOR_ID</th>\n",
       "        <th>INSTRUCTOR_NAME</th>\n",
       "        <th>COUNT(DISTINCT CRN)</th>\n",
       "    </tr>\n",
       "    <tr>\n",
       "        <td>1</td>\n",
       "        <td>Michael P.  Coyne</td>\n",
       "        <td>28</td>\n",
       "    </tr>\n",
       "    <tr>\n",
       "        <td>2</td>\n",
       "        <td>Rebecca I.  Bloch</td>\n",
       "        <td>26</td>\n",
       "    </tr>\n",
       "    <tr>\n",
       "        <td>3</td>\n",
       "        <td>Paul   Caster</td>\n",
       "        <td>28</td>\n",
       "    </tr>\n",
       "    <tr>\n",
       "        <td>4</td>\n",
       "        <td>Jo Ann   Drusbosky</td>\n",
       "        <td>35</td>\n",
       "    </tr>\n",
       "    <tr>\n",
       "        <td>5</td>\n",
       "        <td>Arleen N.  Kardos</td>\n",
       "        <td>20</td>\n",
       "    </tr>\n",
       "    <tr>\n",
       "        <td>6</td>\n",
       "        <td>Scott M  Brenner</td>\n",
       "        <td>27</td>\n",
       "    </tr>\n",
       "    <tr>\n",
       "        <td>7</td>\n",
       "        <td>Kevin C.  Cassidy</td>\n",
       "        <td>4</td>\n",
       "    </tr>\n",
       "    <tr>\n",
       "        <td>8</td>\n",
       "        <td>Bruce   Bradford</td>\n",
       "        <td>31</td>\n",
       "    </tr>\n",
       "    <tr>\n",
       "        <td>9</td>\n",
       "        <td>Milo W.  Peck</td>\n",
       "        <td>47</td>\n",
       "    </tr>\n",
       "    <tr>\n",
       "        <td>10</td>\n",
       "        <td>Stephen E.  Yost</td>\n",
       "        <td>21</td>\n",
       "    </tr>\n",
       "</table>"
      ],
      "text/plain": [
       "[(1, 'Michael P.  Coyne', 28),\n",
       " (2, 'Rebecca I.  Bloch', 26),\n",
       " (3, 'Paul   Caster', 28),\n",
       " (4, 'Jo Ann   Drusbosky', 35),\n",
       " (5, 'Arleen N.  Kardos', 20),\n",
       " (6, 'Scott M  Brenner', 27),\n",
       " (7, 'Kevin C.  Cassidy', 4),\n",
       " (8, 'Bruce   Bradford', 31),\n",
       " (9, 'Milo W.  Peck', 47),\n",
       " (10, 'Stephen E.  Yost', 21)]"
      ]
     },
     "execution_count": 22,
     "metadata": {},
     "output_type": "execute_result"
    }
   ],
   "source": [
    "%%sql\n",
    "-- Should be 26, it is doubling for some reason\n",
    "SELECT DISTINCT INSTRUCTOR_ID, INSTRUCTOR_NAME,COUNT(DISTINCT CRN)\n",
    "FROM COURSE_OFFERINGS\n",
    "    JOIN COURSES USING (CATALOG_ID)\n",
    "    JOIN INSTRUCTORS ON COURSE_OFFERINGS.PRIMARY_INSTRUCTOR_ID = INSTRUCTORS.INSTRUCTOR_ID\n",
    "GROUP BY INSTRUCTOR_ID\n",
    "ORDER BY \n",
    "LIMIT 10;"
   ]
  },
  {
   "cell_type": "markdown",
   "metadata": {},
   "source": [
    "## E. How many courses are in each program?"
   ]
  },
  {
   "cell_type": "code",
   "execution_count": 7,
   "metadata": {},
   "outputs": [
    {
     "name": "stdout",
     "output_type": "stream",
     "text": [
      " * sqlite:///CourseData.db\n",
      "Done.\n"
     ]
    },
    {
     "data": {
      "text/html": [
       "<table>\n",
       "    <tr>\n",
       "        <th>PROGRAM_ID</th>\n",
       "        <th>PROGRAM_NAME</th>\n",
       "        <th>COUNT(CATALOG_ID)</th>\n",
       "    </tr>\n",
       "    <tr>\n",
       "        <td>1</td>\n",
       "        <td>Accounting</td>\n",
       "        <td>68</td>\n",
       "    </tr>\n",
       "    <tr>\n",
       "        <td>2</td>\n",
       "        <td>Applied Ethics</td>\n",
       "        <td>64</td>\n",
       "    </tr>\n",
       "    <tr>\n",
       "        <td>3</td>\n",
       "        <td>Art History</td>\n",
       "        <td>72</td>\n",
       "    </tr>\n",
       "    <tr>\n",
       "        <td>4</td>\n",
       "        <td>Asian Studies</td>\n",
       "        <td>4</td>\n",
       "    </tr>\n",
       "    <tr>\n",
       "        <td>5</td>\n",
       "        <td>Arabic</td>\n",
       "        <td>16</td>\n",
       "    </tr>\n",
       "    <tr>\n",
       "        <td>6</td>\n",
       "        <td>American Studies</td>\n",
       "        <td>90</td>\n",
       "    </tr>\n",
       "    <tr>\n",
       "        <td>7</td>\n",
       "        <td>Anthropology</td>\n",
       "        <td>40</td>\n",
       "    </tr>\n",
       "    <tr>\n",
       "        <td>8</td>\n",
       "        <td>Business</td>\n",
       "        <td>20</td>\n",
       "    </tr>\n",
       "    <tr>\n",
       "        <td>9</td>\n",
       "        <td>Bioengineering</td>\n",
       "        <td>14</td>\n",
       "    </tr>\n",
       "    <tr>\n",
       "        <td>10</td>\n",
       "        <td>Biology</td>\n",
       "        <td>190</td>\n",
       "    </tr>\n",
       "</table>"
      ],
      "text/plain": [
       "[(1, 'Accounting', 68),\n",
       " (2, 'Applied Ethics', 64),\n",
       " (3, 'Art History', 72),\n",
       " (4, 'Asian Studies', 4),\n",
       " (5, 'Arabic', 16),\n",
       " (6, 'American Studies', 90),\n",
       " (7, 'Anthropology', 40),\n",
       " (8, 'Business', 20),\n",
       " (9, 'Bioengineering', 14),\n",
       " (10, 'Biology', 190)]"
      ]
     },
     "execution_count": 7,
     "metadata": {},
     "output_type": "execute_result"
    }
   ],
   "source": [
    "%%sql\n",
    "SELECT DISTINCT PROGRAMS.PROGRAM_ID, PROGRAM_NAME,COUNT(CATALOG_ID)\n",
    "FROM COURSES\n",
    "    JOIN PROGRAMS USING (PROGRAM_ID)\n",
    "GROUP BY PROGRAMS.PROGRAM_ID, PROGRAM_NAME\n",
    "LIMIT 10;"
   ]
  }
 ],
 "metadata": {
  "kernelspec": {
   "display_name": "Python 3",
   "language": "python",
   "name": "python3"
  },
  "language_info": {
   "codemirror_mode": {
    "name": "ipython",
    "version": 3
   },
   "file_extension": ".py",
   "mimetype": "text/x-python",
   "name": "python",
   "nbconvert_exporter": "python",
   "pygments_lexer": "ipython3",
   "version": "3.6.7"
  }
 },
 "nbformat": 4,
 "nbformat_minor": 4
}
