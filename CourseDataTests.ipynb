{
 "cells": [
  {
   "cell_type": "code",
   "execution_count": 1,
   "metadata": {},
   "outputs": [],
   "source": [
    "%load_ext sql\n",
    "import sqlite3\n",
    "import pandas as pd"
   ]
  },
  {
   "cell_type": "code",
   "execution_count": 2,
   "metadata": {},
   "outputs": [],
   "source": [
    "%sql sqlite:///CourseData.db\n",
    "conn = sqlite3.connect('CourseData.db')"
   ]
  },
  {
   "cell_type": "markdown",
   "metadata": {},
   "source": [
    "# 4. CourseData Database Integrity Checks "
   ]
  },
  {
   "cell_type": "markdown",
   "metadata": {},
   "source": [
    "## A. How many seats remain for Professor Bloch's Spring 2018 classes?"
   ]
  },
  {
   "cell_type": "code",
   "execution_count": 7,
   "metadata": {},
   "outputs": [
    {
     "name": "stdout",
     "output_type": "stream",
     "text": [
      " * sqlite:///CourseData.db\n",
      "Done.\n"
     ]
    },
    {
     "data": {
      "text/html": [
       "<table>\n",
       "    <tr>\n",
       "        <th>CRN</th>\n",
       "        <th>SECTION</th>\n",
       "        <th>CAPACITY</th>\n",
       "        <th>REMAINING</th>\n",
       "        <th>INSTRUCTOR_NAME</th>\n",
       "        <th>TERM</th>\n",
       "    </tr>\n",
       "    <tr>\n",
       "        <td>34137</td>\n",
       "        <td>1</td>\n",
       "        <td>24</td>\n",
       "        <td>2</td>\n",
       "        <td>Rebecca I.  Bloch</td>\n",
       "        <td>Spring2018</td>\n",
       "    </tr>\n",
       "    <tr>\n",
       "        <td>34085</td>\n",
       "        <td>1</td>\n",
       "        <td>25</td>\n",
       "        <td>-2</td>\n",
       "        <td>Rebecca I.  Bloch</td>\n",
       "        <td>Spring2018</td>\n",
       "    </tr>\n",
       "    <tr>\n",
       "        <td>34164</td>\n",
       "        <td>2</td>\n",
       "        <td>25</td>\n",
       "        <td>-4</td>\n",
       "        <td>Rebecca I.  Bloch</td>\n",
       "        <td>Spring2018</td>\n",
       "    </tr>\n",
       "</table>"
      ],
      "text/plain": [
       "[(34137, 1, 24, 2, 'Rebecca I.  Bloch', 'Spring2018'),\n",
       " (34085, 1, 25, -2, 'Rebecca I.  Bloch', 'Spring2018'),\n",
       " (34164, 2, 25, -4, 'Rebecca I.  Bloch', 'Spring2018')]"
      ]
     },
     "execution_count": 7,
     "metadata": {},
     "output_type": "execute_result"
    }
   ],
   "source": [
    "%%sql\n",
    "SELECT DISTINCT COURSE_OFFERINGS.CRN, SECTION, CAPACITY, REMAINING, INSTRUCTOR_NAME, COURSE_OFFERINGS.TERM\n",
    "FROM COURSE_OFFERINGS\n",
    "    JOIN INSTRUCTORS ON (COURSE_OFFERINGS.PRIMARY_INSTRUCTOR_ID = INSTRUCTORS.INSTRUCTOR_ID)\n",
    "    JOIN COURSE_MEETINGS USING (COURSE_OFFERING_ID)\n",
    "WHERE INSTRUCTOR_NAME LIKE '%Bloch' AND COURSE_OFFERINGS.TERM = 'Spring2018'\n",
    "ORDER BY REMAINING DESC\n",
    "LIMIT 10;"
   ]
  },
  {
   "cell_type": "markdown",
   "metadata": {},
   "source": [
    "## B. What is the actual enrollment for a class compared to capacity for courses in Fall 2018?"
   ]
  },
  {
   "cell_type": "code",
   "execution_count": 20,
   "metadata": {},
   "outputs": [
    {
     "name": "stdout",
     "output_type": "stream",
     "text": [
      " * sqlite:///CourseData.db\n",
      "Done.\n"
     ]
    },
    {
     "data": {
      "text/html": [
       "<table>\n",
       "    <tr>\n",
       "        <th>CRN</th>\n",
       "        <th>SECTION</th>\n",
       "        <th>CAPACITY</th>\n",
       "        <th>ACTUAL</th>\n",
       "        <th>TERM</th>\n",
       "    </tr>\n",
       "    <tr>\n",
       "        <td>74173</td>\n",
       "        <td>1</td>\n",
       "        <td>64</td>\n",
       "        <td>65</td>\n",
       "        <td>Fall2018</td>\n",
       "    </tr>\n",
       "    <tr>\n",
       "        <td>74362</td>\n",
       "        <td>1</td>\n",
       "        <td>60</td>\n",
       "        <td>62</td>\n",
       "        <td>Fall2018</td>\n",
       "    </tr>\n",
       "    <tr>\n",
       "        <td>74754</td>\n",
       "        <td>01C</td>\n",
       "        <td>0</td>\n",
       "        <td>60</td>\n",
       "        <td>Fall2018</td>\n",
       "    </tr>\n",
       "    <tr>\n",
       "        <td>75868</td>\n",
       "        <td>A-C</td>\n",
       "        <td>0</td>\n",
       "        <td>58</td>\n",
       "        <td>Fall2018</td>\n",
       "    </tr>\n",
       "    <tr>\n",
       "        <td>75823</td>\n",
       "        <td>2</td>\n",
       "        <td>64</td>\n",
       "        <td>58</td>\n",
       "        <td>Fall2018</td>\n",
       "    </tr>\n",
       "    <tr>\n",
       "        <td>75304</td>\n",
       "        <td>4</td>\n",
       "        <td>60</td>\n",
       "        <td>57</td>\n",
       "        <td>Fall2018</td>\n",
       "    </tr>\n",
       "    <tr>\n",
       "        <td>74598</td>\n",
       "        <td>1</td>\n",
       "        <td>60</td>\n",
       "        <td>57</td>\n",
       "        <td>Fall2018</td>\n",
       "    </tr>\n",
       "    <tr>\n",
       "        <td>74839</td>\n",
       "        <td>02C</td>\n",
       "        <td>0</td>\n",
       "        <td>56</td>\n",
       "        <td>Fall2018</td>\n",
       "    </tr>\n",
       "    <tr>\n",
       "        <td>75964</td>\n",
       "        <td>03C</td>\n",
       "        <td>0</td>\n",
       "        <td>56</td>\n",
       "        <td>Fall2018</td>\n",
       "    </tr>\n",
       "    <tr>\n",
       "        <td>75814</td>\n",
       "        <td>4</td>\n",
       "        <td>60</td>\n",
       "        <td>56</td>\n",
       "        <td>Fall2018</td>\n",
       "    </tr>\n",
       "</table>"
      ],
      "text/plain": [
       "[(74173, 1, 64, 65, 'Fall2018'),\n",
       " (74362, 1, 60, 62, 'Fall2018'),\n",
       " (74754, '01C', 0, 60, 'Fall2018'),\n",
       " (75868, 'A-C', 0, 58, 'Fall2018'),\n",
       " (75823, 2, 64, 58, 'Fall2018'),\n",
       " (75304, 4, 60, 57, 'Fall2018'),\n",
       " (74598, 1, 60, 57, 'Fall2018'),\n",
       " (74839, '02C', 0, 56, 'Fall2018'),\n",
       " (75964, '03C', 0, 56, 'Fall2018'),\n",
       " (75814, 4, 60, 56, 'Fall2018')]"
      ]
     },
     "execution_count": 20,
     "metadata": {},
     "output_type": "execute_result"
    }
   ],
   "source": [
    "%%sql\n",
    "SELECT DISTINCT COURSE_OFFERINGS.CRN, SECTION, CAPACITY, ACTUAL, COURSE_MEETINGS.TERM\n",
    "FROM COURSE_OFFERINGS\n",
    "    JOIN COURSE_MEETINGS USING (CRN)\n",
    "WHERE COURSE_MEETINGS.TERM = 'Fall2018'\n",
    "ORDER BY ACTUAL DESC\n",
    "LIMIT 10;"
   ]
  },
  {
   "cell_type": "markdown",
   "metadata": {},
   "source": [
    "## C. Which classrooms are the most utilized?"
   ]
  },
  {
   "cell_type": "code",
   "execution_count": 21,
   "metadata": {},
   "outputs": [
    {
     "name": "stdout",
     "output_type": "stream",
     "text": [
      " * sqlite:///CourseData.db\n",
      "Done.\n"
     ]
    },
    {
     "data": {
      "text/html": [
       "<table>\n",
       "    <tr>\n",
       "        <th>LOCATION_ID</th>\n",
       "        <th>ROOM_ID</th>\n",
       "        <th>COUNT(COURSE_OFFERING_ID)</th>\n",
       "    </tr>\n",
       "    <tr>\n",
       "        <td>1</td>\n",
       "        <td>BCC 200</td>\n",
       "        <td>26</td>\n",
       "    </tr>\n",
       "    <tr>\n",
       "        <td>2</td>\n",
       "        <td>BD </td>\n",
       "        <td>11</td>\n",
       "    </tr>\n",
       "    <tr>\n",
       "        <td>3</td>\n",
       "        <td>BH </td>\n",
       "        <td>381</td>\n",
       "    </tr>\n",
       "    <tr>\n",
       "        <td>4</td>\n",
       "        <td>BH BY ARR</td>\n",
       "        <td>15</td>\n",
       "    </tr>\n",
       "    <tr>\n",
       "        <td>5</td>\n",
       "        <td>BLM 112</td>\n",
       "        <td>13</td>\n",
       "    </tr>\n",
       "    <tr>\n",
       "        <td>6</td>\n",
       "        <td>BLM LL105</td>\n",
       "        <td>1339</td>\n",
       "    </tr>\n",
       "    <tr>\n",
       "        <td>7</td>\n",
       "        <td>BNW 124</td>\n",
       "        <td>2941</td>\n",
       "    </tr>\n",
       "    <tr>\n",
       "        <td>8</td>\n",
       "        <td>BNW 127</td>\n",
       "        <td>3966</td>\n",
       "    </tr>\n",
       "    <tr>\n",
       "        <td>9</td>\n",
       "        <td>BNW 128</td>\n",
       "        <td>731</td>\n",
       "    </tr>\n",
       "    <tr>\n",
       "        <td>10</td>\n",
       "        <td>BNW 129B</td>\n",
       "        <td>1301</td>\n",
       "    </tr>\n",
       "</table>"
      ],
      "text/plain": [
       "[(1, 'BCC 200', 26),\n",
       " (2, 'BD ', 11),\n",
       " (3, 'BH ', 381),\n",
       " (4, 'BH BY ARR', 15),\n",
       " (5, 'BLM 112', 13),\n",
       " (6, 'BLM LL105', 1339),\n",
       " (7, 'BNW 124', 2941),\n",
       " (8, 'BNW 127', 3966),\n",
       " (9, 'BNW 128', 731),\n",
       " (10, 'BNW 129B', 1301)]"
      ]
     },
     "execution_count": 21,
     "metadata": {},
     "output_type": "execute_result"
    }
   ],
   "source": [
    "%%sql\n",
    "SELECT DISTINCT COURSE_MEETINGS.LOCATION_ID, ROOM_ID, COUNT(COURSE_OFFERING_ID)\n",
    "FROM COURSE_MEETINGS\n",
    "    LEFT JOIN LOCATIONS USING (LOCATION_ID)\n",
    "GROUP BY COURSE_MEETINGS.LOCATION_ID, ROOM_ID\n",
    "LIMIT 10;"
   ]
  },
  {
   "cell_type": "markdown",
   "metadata": {},
   "source": [
    "## D. How many classes has each professor taught?"
   ]
  },
  {
   "cell_type": "code",
   "execution_count": 27,
   "metadata": {},
   "outputs": [
    {
     "name": "stdout",
     "output_type": "stream",
     "text": [
      " * sqlite:///CourseData.db\n",
      "Done.\n"
     ]
    },
    {
     "data": {
      "text/html": [
       "<table>\n",
       "    <tr>\n",
       "        <th>TERM</th>\n",
       "        <th>INSTRUCTOR_ID</th>\n",
       "        <th>INSTRUCTOR_NAME</th>\n",
       "        <th>COUNT(CRN)</th>\n",
       "        <th>COUNT(COURSE_ID)</th>\n",
       "        <th>COUNT(COURSE_OFFERINGS.CATALOG_ID)</th>\n",
       "    </tr>\n",
       "    <tr>\n",
       "        <td>Fall2014</td>\n",
       "        <td>1</td>\n",
       "        <td>Michael P.  Coyne</td>\n",
       "        <td>56</td>\n",
       "        <td>56</td>\n",
       "        <td>56</td>\n",
       "    </tr>\n",
       "    <tr>\n",
       "        <td>Fall2014</td>\n",
       "        <td>2</td>\n",
       "        <td>Rebecca I.  Bloch</td>\n",
       "        <td>52</td>\n",
       "        <td>52</td>\n",
       "        <td>52</td>\n",
       "    </tr>\n",
       "    <tr>\n",
       "        <td>Fall2014</td>\n",
       "        <td>3</td>\n",
       "        <td>Paul   Caster</td>\n",
       "        <td>56</td>\n",
       "        <td>56</td>\n",
       "        <td>56</td>\n",
       "    </tr>\n",
       "    <tr>\n",
       "        <td>Fall2014</td>\n",
       "        <td>4</td>\n",
       "        <td>Jo Ann   Drusbosky</td>\n",
       "        <td>70</td>\n",
       "        <td>70</td>\n",
       "        <td>70</td>\n",
       "    </tr>\n",
       "    <tr>\n",
       "        <td>Fall2014</td>\n",
       "        <td>5</td>\n",
       "        <td>Arleen N.  Kardos</td>\n",
       "        <td>40</td>\n",
       "        <td>40</td>\n",
       "        <td>40</td>\n",
       "    </tr>\n",
       "    <tr>\n",
       "        <td>Fall2014</td>\n",
       "        <td>6</td>\n",
       "        <td>Scott M  Brenner</td>\n",
       "        <td>54</td>\n",
       "        <td>54</td>\n",
       "        <td>54</td>\n",
       "    </tr>\n",
       "    <tr>\n",
       "        <td>Fall2014</td>\n",
       "        <td>7</td>\n",
       "        <td>Kevin C.  Cassidy</td>\n",
       "        <td>8</td>\n",
       "        <td>8</td>\n",
       "        <td>8</td>\n",
       "    </tr>\n",
       "    <tr>\n",
       "        <td>Spring2017</td>\n",
       "        <td>8</td>\n",
       "        <td>Bruce   Bradford</td>\n",
       "        <td>62</td>\n",
       "        <td>62</td>\n",
       "        <td>62</td>\n",
       "    </tr>\n",
       "    <tr>\n",
       "        <td>Fall2014</td>\n",
       "        <td>9</td>\n",
       "        <td>Milo W.  Peck</td>\n",
       "        <td>94</td>\n",
       "        <td>94</td>\n",
       "        <td>94</td>\n",
       "    </tr>\n",
       "    <tr>\n",
       "        <td>Spring2015</td>\n",
       "        <td>10</td>\n",
       "        <td>Stephen E.  Yost</td>\n",
       "        <td>42</td>\n",
       "        <td>42</td>\n",
       "        <td>42</td>\n",
       "    </tr>\n",
       "</table>"
      ],
      "text/plain": [
       "[('Fall2014', 1, 'Michael P.  Coyne', 56, 56, 56),\n",
       " ('Fall2014', 2, 'Rebecca I.  Bloch', 52, 52, 52),\n",
       " ('Fall2014', 3, 'Paul   Caster', 56, 56, 56),\n",
       " ('Fall2014', 4, 'Jo Ann   Drusbosky', 70, 70, 70),\n",
       " ('Fall2014', 5, 'Arleen N.  Kardos', 40, 40, 40),\n",
       " ('Fall2014', 6, 'Scott M  Brenner', 54, 54, 54),\n",
       " ('Fall2014', 7, 'Kevin C.  Cassidy', 8, 8, 8),\n",
       " ('Spring2017', 8, 'Bruce   Bradford', 62, 62, 62),\n",
       " ('Fall2014', 9, 'Milo W.  Peck', 94, 94, 94),\n",
       " ('Spring2015', 10, 'Stephen E.  Yost', 42, 42, 42)]"
      ]
     },
     "execution_count": 27,
     "metadata": {},
     "output_type": "execute_result"
    }
   ],
   "source": [
    "\n",
    "%%sql\n",
    "SELECT COURSE_OFFERINGS.TERM, INSTRUCTOR_ID, INSTRUCTOR_NAME,COUNT(CRN),COUNT(COURSE_ID), COUNT(COURSE_OFFERINGS.CATALOG_ID)\n",
    "FROM COURSE_OFFERINGS\n",
    "    JOIN COURSES USING (CATALOG_ID)\n",
    "    JOIN INSTRUCTORS ON COURSE_OFFERINGS.PRIMARY_INSTRUCTOR_ID = INSTRUCTORS.INSTRUCTOR_ID\n",
    "GROUP BY INSTRUCTOR_ID\n",
    "LIMIT 10;"
   ]
  },
  {
   "cell_type": "markdown",
   "metadata": {},
   "source": [
    "## E. How many courses are in each program?"
   ]
  },
  {
   "cell_type": "code",
   "execution_count": 44,
   "metadata": {},
   "outputs": [
    {
     "name": "stdout",
     "output_type": "stream",
     "text": [
      " * sqlite:///CourseData.db\n",
      "Done.\n"
     ]
    },
    {
     "data": {
      "text/html": [
       "<table>\n",
       "    <tr>\n",
       "        <th>PROGRAM_ID</th>\n",
       "        <th>PROGRAM_NAME</th>\n",
       "        <th>COUNT(CATALOG_ID)</th>\n",
       "    </tr>\n",
       "    <tr>\n",
       "        <td>1</td>\n",
       "        <td>Accounting</td>\n",
       "        <td>68</td>\n",
       "    </tr>\n",
       "    <tr>\n",
       "        <td>2</td>\n",
       "        <td>Applied Ethics</td>\n",
       "        <td>64</td>\n",
       "    </tr>\n",
       "    <tr>\n",
       "        <td>3</td>\n",
       "        <td>Art History</td>\n",
       "        <td>72</td>\n",
       "    </tr>\n",
       "    <tr>\n",
       "        <td>4</td>\n",
       "        <td>Asian Studies</td>\n",
       "        <td>4</td>\n",
       "    </tr>\n",
       "    <tr>\n",
       "        <td>5</td>\n",
       "        <td>Arabic</td>\n",
       "        <td>16</td>\n",
       "    </tr>\n",
       "    <tr>\n",
       "        <td>6</td>\n",
       "        <td>American Studies</td>\n",
       "        <td>90</td>\n",
       "    </tr>\n",
       "    <tr>\n",
       "        <td>7</td>\n",
       "        <td>Anthropology</td>\n",
       "        <td>40</td>\n",
       "    </tr>\n",
       "    <tr>\n",
       "        <td>8</td>\n",
       "        <td>Business</td>\n",
       "        <td>20</td>\n",
       "    </tr>\n",
       "    <tr>\n",
       "        <td>9</td>\n",
       "        <td>Bioengineering</td>\n",
       "        <td>14</td>\n",
       "    </tr>\n",
       "    <tr>\n",
       "        <td>10</td>\n",
       "        <td>Biology</td>\n",
       "        <td>190</td>\n",
       "    </tr>\n",
       "</table>"
      ],
      "text/plain": [
       "[(1, 'Accounting', 68),\n",
       " (2, 'Applied Ethics', 64),\n",
       " (3, 'Art History', 72),\n",
       " (4, 'Asian Studies', 4),\n",
       " (5, 'Arabic', 16),\n",
       " (6, 'American Studies', 90),\n",
       " (7, 'Anthropology', 40),\n",
       " (8, 'Business', 20),\n",
       " (9, 'Bioengineering', 14),\n",
       " (10, 'Biology', 190)]"
      ]
     },
     "execution_count": 44,
     "metadata": {},
     "output_type": "execute_result"
    }
   ],
   "source": [
    "%%sql\n",
    "SELECT DISTINCT PROGRAMS.PROGRAM_ID, PROGRAM_NAME,COUNT(CATALOG_ID)\n",
    "FROM COURSES\n",
    "    JOIN PROGRAMS USING (PROGRAM_ID)\n",
    "GROUP BY PROGRAMS.PROGRAM_ID, PROGRAM_NAME\n",
    "LIMIT 10;"
   ]
  }
 ],
 "metadata": {
  "kernelspec": {
   "display_name": "Python 3",
   "language": "python",
   "name": "python3"
  },
  "language_info": {
   "codemirror_mode": {
    "name": "ipython",
    "version": 3
   },
   "file_extension": ".py",
   "mimetype": "text/x-python",
   "name": "python",
   "nbconvert_exporter": "python",
   "pygments_lexer": "ipython3",
   "version": "3.6.7"
  }
 },
 "nbformat": 4,
 "nbformat_minor": 4
}
