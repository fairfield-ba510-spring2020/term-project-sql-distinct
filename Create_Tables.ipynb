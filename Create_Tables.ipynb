{
 "cells": [
  {
   "cell_type": "code",
   "execution_count": 1,
   "metadata": {},
   "outputs": [],
   "source": [
    "%load_ext sql\n",
    "import sqlite3\n",
    "import pandas as pd"
   ]
  },
  {
   "cell_type": "code",
   "execution_count": 2,
   "metadata": {},
   "outputs": [],
   "source": [
    "%sql sqlite:///CourseData.db\n",
    "conn = sqlite3.connect('CourseData.db')"
   ]
  },
  {
   "cell_type": "markdown",
   "metadata": {},
   "source": [
    "SQL DISTINCT DATABASE PROJECT\n",
    "======\n",
    "# 1. Design ERD from Source Data and Create Tables\n",
    "![ERD](Database_ERD.png)"
   ]
  },
  {
   "cell_type": "markdown",
   "metadata": {},
   "source": [
    "## A. Instructors Table"
   ]
  },
  {
   "cell_type": "code",
   "execution_count": 3,
   "metadata": {},
   "outputs": [
    {
     "name": "stdout",
     "output_type": "stream",
     "text": [
      " * sqlite:///CourseData.db\n",
      "Done.\n",
      "Done.\n"
     ]
    },
    {
     "data": {
      "text/plain": [
       "[]"
      ]
     },
     "execution_count": 3,
     "metadata": {},
     "output_type": "execute_result"
    }
   ],
   "source": [
    "%%sql \n",
    "-- Creates instructors table\n",
    "DROP TABLE IF EXISTS INSTRUCTORS;\n",
    "CREATE TABLE INSTRUCTORS(\n",
    "    INSTRUCTOR_ID INTEGER PRIMARY KEY,\n",
    "    INSTRUCTOR_NAME TEXT NOT NULL);"
   ]
  },
  {
   "cell_type": "markdown",
   "metadata": {},
   "source": [
    "## B. Terms Table"
   ]
  },
  {
   "cell_type": "code",
   "execution_count": 4,
   "metadata": {},
   "outputs": [
    {
     "name": "stdout",
     "output_type": "stream",
     "text": [
      " * sqlite:///CourseData.db\n",
      "Done.\n",
      "Done.\n"
     ]
    },
    {
     "data": {
      "text/plain": [
       "[]"
      ]
     },
     "execution_count": 4,
     "metadata": {},
     "output_type": "execute_result"
    }
   ],
   "source": [
    "%%sql\n",
    "-- Creates Terms table\n",
    "DROP TABLE IF EXISTS TERMS;\n",
    "CREATE TABLE TERMS(\n",
    "    TERM_ID INTEGER PRIMARY KEY,\n",
    "    SEMESTER TEXT NOT NULL,\n",
    "    YEAR INTEGER NOT NULL,\n",
    "    CRN INTEGER);"
   ]
  },
  {
   "cell_type": "markdown",
   "metadata": {},
   "source": [
    "## C. Programs Table"
   ]
  },
  {
   "cell_type": "code",
   "execution_count": 5,
   "metadata": {},
   "outputs": [
    {
     "name": "stdout",
     "output_type": "stream",
     "text": [
      " * sqlite:///CourseData.db\n",
      "Done.\n",
      "Done.\n"
     ]
    },
    {
     "data": {
      "text/plain": [
       "[]"
      ]
     },
     "execution_count": 5,
     "metadata": {},
     "output_type": "execute_result"
    }
   ],
   "source": [
    "%%sql\n",
    "-- Creates programs table\n",
    "DROP TABLE IF EXISTS PROGRAMS;\n",
    "CREATE TABLE PROGRAMS(\n",
    "    PROGRAM_ID INTEGER PRIMARY KEY,\n",
    "    PROGRAM_CODE TEXT NOT NULL,\n",
    "    PROGRAM_NAME TEXT NOT NULL);"
   ]
  },
  {
   "cell_type": "markdown",
   "metadata": {},
   "source": [
    "## D. Courses Table"
   ]
  },
  {
   "cell_type": "code",
   "execution_count": 6,
   "metadata": {},
   "outputs": [
    {
     "name": "stdout",
     "output_type": "stream",
     "text": [
      " * sqlite:///CourseData.db\n",
      "Done.\n",
      "Done.\n"
     ]
    },
    {
     "data": {
      "text/plain": [
       "[]"
      ]
     },
     "execution_count": 6,
     "metadata": {},
     "output_type": "execute_result"
    }
   ],
   "source": [
    "%%sql\n",
    "-- Creates courses table\n",
    "DROP TABLE IF EXISTS COURSES;\n",
    "CREATE TABLE COURSES(\n",
    "    COURSE_ID INTEGER PRIMARY KEY,\n",
    "    CATALOG_ID TEXT,\n",
    "    YEAR TEXT NOT NULL,\n",
    "    TITLE TEXT NOT NULL,\n",
    "    PREREQ TEXT,\n",
    "    COREQ TEXT,\n",
    "    FEES TEXT,\n",
    "    ATTRIBUTES TEXT,\n",
    "    DESCRIPTION TEXT,\n",
    "    PROGRAM_ID INTEGER NOT NULL,\n",
    "    FOREIGN KEY (PROGRAM_ID) \n",
    "        REFERENCES PROGRAM (PROGRAM_ID)\n",
    "        ON UPDATE CASCADE\n",
    ");"
   ]
  },
  {
   "cell_type": "markdown",
   "metadata": {},
   "source": [
    "## E. Course Offerings Table"
   ]
  },
  {
   "cell_type": "code",
   "execution_count": 7,
   "metadata": {},
   "outputs": [
    {
     "name": "stdout",
     "output_type": "stream",
     "text": [
      " * sqlite:///CourseData.db\n",
      "Done.\n",
      "Done.\n"
     ]
    },
    {
     "data": {
      "text/plain": [
       "[]"
      ]
     },
     "execution_count": 7,
     "metadata": {},
     "output_type": "execute_result"
    }
   ],
   "source": [
    "%%sql\n",
    "-- Creates course offerings table\n",
    "DROP TABLE IF EXISTS COURSE_OFFERINGS;\n",
    "CREATE TABLE COURSE_OFFERINGS(\n",
    "    COURSE_OFFERING_ID INTEGER PRIMARY KEY,\n",
    "    CRN INTEGER NOT NULL,\n",
    "    SECTION INTEGER NOT NULL,\n",
    "    CREDITS INTEGER NOT NULL,\n",
    "    CAPACITY INTEGER NOT NULL,\n",
    "    ACTUAL INTEGER NOT NULL,\n",
    "    REMAINING INTEGER NOT NULL,\n",
    "    TERM TEXT NOT NULL,\n",
    "    MEETINGS TEXT,\n",
    "    TIMECODES TEXT,\n",
    "    CATALOG_ID INTEGER NOT NULL,\n",
    "    PRIMARY_INSTRUCTOR_ID INTEGER,\n",
    "    FOREIGN KEY (CATALOG_ID)\n",
    "        REFERENCES COURSES(CATALOG_ID)\n",
    "        ON UPDATE CASCADE,\n",
    "    FOREIGN KEY (PRIMARY_INSTRUCTOR_ID)\n",
    "        REFERENCES INSTRUCTOR(INSTRUCTOR_ID)\n",
    "        ON UPDATE CASCADE\n",
    ");"
   ]
  },
  {
   "cell_type": "markdown",
   "metadata": {},
   "source": [
    "## F. Locations Table"
   ]
  },
  {
   "cell_type": "code",
   "execution_count": 8,
   "metadata": {},
   "outputs": [
    {
     "name": "stdout",
     "output_type": "stream",
     "text": [
      " * sqlite:///CourseData.db\n",
      "Done.\n",
      "Done.\n"
     ]
    },
    {
     "data": {
      "text/plain": [
       "[]"
      ]
     },
     "execution_count": 8,
     "metadata": {},
     "output_type": "execute_result"
    }
   ],
   "source": [
    "%%sql\n",
    "-- Create locations table\n",
    "DROP TABLE IF EXISTS LOCATIONS;\n",
    "CREATE TABLE LOCATIONS(\n",
    "    LOCATION_ID INTEGER PRIMARY KEY,\n",
    "    ROOM_ID TEXT);"
   ]
  },
  {
   "cell_type": "markdown",
   "metadata": {},
   "source": [
    "## G. Course Meetings Table"
   ]
  },
  {
   "cell_type": "code",
   "execution_count": 9,
   "metadata": {},
   "outputs": [
    {
     "name": "stdout",
     "output_type": "stream",
     "text": [
      " * sqlite:///CourseData.db\n",
      "Done.\n",
      "Done.\n"
     ]
    },
    {
     "data": {
      "text/plain": [
       "[]"
      ]
     },
     "execution_count": 9,
     "metadata": {},
     "output_type": "execute_result"
    }
   ],
   "source": [
    "%%sql \n",
    "-- Create course meetings table \n",
    "DROP TABLE IF EXISTS COURSE_MEETINGS;\n",
    "CREATE TABLE COURSE_MEETINGS(\n",
    "    MEETING_ID INTEGER PRIMARY KEY,\n",
    "    TERM TEXT NOT NULL,\n",
    "    LOCATION TEXT NOT NULL,\n",
    "    DAY TEXT NOT NULL,\n",
    "    START TEXT NOT NULL,\n",
    "    END TEXT NOT NULL,\n",
    "    CRN INTEGER NOT NULL,\n",
    "    COURSE_OFFERING_ID INTEGER NOT NULL,\n",
    "    LOCATION_ID INTEGER,\n",
    "    FOREIGN KEY (COURSE_OFFERING_ID)\n",
    "        REFERENCES COURSE_OFFERING (COURSE_OFFERING_ID)\n",
    "        ON UPDATE CASCADE,\n",
    "    FOREIGN KEY (LOCATION_ID)\n",
    "        REFERENCES LOCATION (LOCATION_ID)\n",
    "        ON UPDATE CASCADE\n",
    ");"
   ]
  },
  {
   "cell_type": "markdown",
   "metadata": {},
   "source": [
    "## H. Term/Catalog Year Table"
   ]
  },
  {
   "cell_type": "code",
   "execution_count": 10,
   "metadata": {},
   "outputs": [
    {
     "name": "stdout",
     "output_type": "stream",
     "text": [
      " * sqlite:///CourseData.db\n",
      "Done.\n",
      "Done.\n"
     ]
    },
    {
     "data": {
      "text/plain": [
       "[]"
      ]
     },
     "execution_count": 10,
     "metadata": {},
     "output_type": "execute_result"
    }
   ],
   "source": [
    "%%sql\n",
    "-- Creates a table for the catalog year, which links two semesters together \n",
    "DROP TABLE IF EXISTS TERM_CATALOGYEAR;\n",
    "CREATE TABLE TERM_CATALOGYEAR(\n",
    "    TERM TEXT,\n",
    "    CATALOG_YEAR TEXT);"
   ]
  },
  {
   "cell_type": "markdown",
   "metadata": {},
   "source": [
    "*Had to manually insert data into TERM_CATALOGYEAR table*"
   ]
  },
  {
   "cell_type": "code",
   "execution_count": 11,
   "metadata": {},
   "outputs": [
    {
     "name": "stdout",
     "output_type": "stream",
     "text": [
      " * sqlite:///CourseData.db\n",
      "Done.\n"
     ]
    },
    {
     "data": {
      "text/plain": [
       "[]"
      ]
     },
     "execution_count": 11,
     "metadata": {},
     "output_type": "execute_result"
    }
   ],
   "source": [
    "%%sql\n",
    "-- Manually insert the values for catlog year into the table\n",
    "INSERT INTO TERM_CATALOGYEAR (TERM, CATALOG_YEAR) VALUES \n",
    "('Fall2017','2017_2018'),('Winter2018', '2017_2018'),('Spring2018','2017_2018'),('Summer2018','2017_2018'),\n",
    "('Fall2018','2018_2019'),('Winter2019','2018_2019'),('Spring2019','2018_2019');"
   ]
  },
  {
   "cell_type": "markdown",
   "metadata": {},
   "source": [
    "# 2. Import Data from the Source Data into our database tables"
   ]
  },
  {
   "cell_type": "markdown",
   "metadata": {},
   "source": [
    "## A. Utilized python to upload source data files into temporary tables"
   ]
  },
  {
   "cell_type": "code",
   "execution_count": 12,
   "metadata": {},
   "outputs": [],
   "source": [
    "# Import catalog data\n",
    "catalog_year = ['2017_2018', '2018_2019']\n",
    "\n",
    "for year in catalog_year:\n",
    "    filepath = 'SourceData/Catalogs/CourseCatalog'+year+'.csv'\n",
    "    catalog_data = pd.read_csv(filepath)\n",
    "    catalog_data['year'] = year\n",
    "    catalog_data.to_sql('IMPORT_CAT_COURSES',conn, if_exists ='append', index=False)"
   ]
  },
  {
   "cell_type": "code",
   "execution_count": 13,
   "metadata": {},
   "outputs": [],
   "source": [
    "# Import Course meetings data and course offerings data\n",
    "terms = ['Fall2014','Fall2015','Fall2016','Fall2017','Fall2018',\n",
    "         'Spring2015','Spring2016','Spring2017','Spring2018','Spring2019',\n",
    "         'SpringBreak2017','Summer2015','Summer2016','Summer2017','Summer2018',\n",
    "         'Winter2015','Winter2016','Winter2017','Winter2018']\n",
    "for term in terms:\n",
    "    filepath = 'SourceData/'+term+'/courses.csv'\n",
    "    term_data = pd.read_csv(filepath)\n",
    "    term_data.to_sql('IMPORT_COURSE_DATA',conn,if_exists='append',index=False)\n",
    "    \n",
    "    filepath = 'SourceData/'+term+'/course_meetings.csv'\n",
    "    term_data = pd.read_csv(filepath)\n",
    "    term_data.to_sql('IMPORT_COURSEMEETINGS_DATA',conn, if_exists='append',index=False)"
   ]
  },
  {
   "cell_type": "markdown",
   "metadata": {},
   "source": [
    "### Checked the data with select queries to ensure all data was uploaded"
   ]
  },
  {
   "cell_type": "code",
   "execution_count": 14,
   "metadata": {},
   "outputs": [
    {
     "name": "stdout",
     "output_type": "stream",
     "text": [
      " * sqlite:///CourseData.db\n",
      "Done.\n"
     ]
    },
    {
     "data": {
      "text/html": [
       "<table>\n",
       "    <tr>\n",
       "        <th>RAW_COUNT</th>\n",
       "        <th>DISTINCT_COUNT</th>\n",
       "    </tr>\n",
       "    <tr>\n",
       "        <td>15937</td>\n",
       "        <td>15937</td>\n",
       "    </tr>\n",
       "</table>"
      ],
      "text/plain": [
       "[(15937, 15937)]"
      ]
     },
     "execution_count": 14,
     "metadata": {},
     "output_type": "execute_result"
    }
   ],
   "source": [
    "%%sql\n",
    "SELECT\n",
    "    (SELECT COUNT(*) FROM IMPORT_COURSE_DATA) as 'RAW_COUNT',\n",
    "    (SELECT COUNT(*) FROM (SELECT DISTINCT * FROM IMPORT_COURSE_DATA)) as 'DISTINCT_COUNT';"
   ]
  },
  {
   "cell_type": "code",
   "execution_count": 15,
   "metadata": {},
   "outputs": [
    {
     "name": "stdout",
     "output_type": "stream",
     "text": [
      " * sqlite:///CourseData.db\n",
      "Done.\n"
     ]
    },
    {
     "data": {
      "text/html": [
       "<table>\n",
       "    <tr>\n",
       "        <th>RAW_COUNT</th>\n",
       "        <th>DISTINCT_COUNT</th>\n",
       "    </tr>\n",
       "    <tr>\n",
       "        <td>4440</td>\n",
       "        <td>4440</td>\n",
       "    </tr>\n",
       "</table>"
      ],
      "text/plain": [
       "[(4440, 4440)]"
      ]
     },
     "execution_count": 15,
     "metadata": {},
     "output_type": "execute_result"
    }
   ],
   "source": [
    "%%sql\n",
    "SELECT \n",
    "    (SELECT COUNT(*) FROM IMPORT_CAT_COURSES) as 'RAW_COUNT',\n",
    "    (SELECT COUNT(*) FROM (SELECT DISTINCT * FROM IMPORT_CAT_COURSES)) as 'DISTINCT_COUNT';"
   ]
  },
  {
   "cell_type": "code",
   "execution_count": 16,
   "metadata": {},
   "outputs": [
    {
     "name": "stdout",
     "output_type": "stream",
     "text": [
      " * sqlite:///CourseData.db\n",
      "Done.\n"
     ]
    },
    {
     "data": {
      "text/html": [
       "<table>\n",
       "    <tr>\n",
       "        <th>RAW_COUNT</th>\n",
       "        <th>DISTINCT_COUNT</th>\n",
       "    </tr>\n",
       "    <tr>\n",
       "        <td>284907</td>\n",
       "        <td>284847</td>\n",
       "    </tr>\n",
       "</table>"
      ],
      "text/plain": [
       "[(284907, 284847)]"
      ]
     },
     "execution_count": 16,
     "metadata": {},
     "output_type": "execute_result"
    }
   ],
   "source": [
    "%%sql\n",
    "SELECT\n",
    "    (SELECT COUNT(*) FROM IMPORT_COURSEMEETINGS_DATA) as 'RAW_COUNT',\n",
    "    (SELECT COUNT(*) FROM (SELECT DISTINCT * FROM IMPORT_COURSEMEETINGS_DATA)) as 'DISTINCT_COUNT';"
   ]
  },
  {
   "cell_type": "markdown",
   "metadata": {},
   "source": [
    "*Difference of 60 because of a deficiency in the course meetings data*"
   ]
  },
  {
   "cell_type": "markdown",
   "metadata": {},
   "source": [
    "# 3. Uplaod data into the CourseData.db tables"
   ]
  },
  {
   "cell_type": "markdown",
   "metadata": {},
   "source": [
    "## A. Import data into INSTRUCTORS table"
   ]
  },
  {
   "cell_type": "code",
   "execution_count": 17,
   "metadata": {},
   "outputs": [
    {
     "name": "stdout",
     "output_type": "stream",
     "text": [
      " * sqlite:///CourseData.db\n",
      "0 rows affected.\n",
      "1095 rows affected.\n"
     ]
    },
    {
     "data": {
      "text/plain": [
       "[]"
      ]
     },
     "execution_count": 17,
     "metadata": {},
     "output_type": "execute_result"
    }
   ],
   "source": [
    "%%sql\n",
    "DELETE FROM INSTRUCTORS;\n",
    "\n",
    "INSERT INTO INSTRUCTORS (INSTRUCTOR_NAME)\n",
    "SELECT DISTINCT primary_instructor\n",
    "FROM IMPORT_COURSE_DATA \n",
    "WHERE primary_instructor <> 'TBA' AND primary_instructor NOT LIKE '%/%';"
   ]
  },
  {
   "cell_type": "code",
   "execution_count": 18,
   "metadata": {},
   "outputs": [
    {
     "name": "stdout",
     "output_type": "stream",
     "text": [
      " * sqlite:///CourseData.db\n",
      "Done.\n"
     ]
    },
    {
     "data": {
      "text/html": [
       "<table>\n",
       "    <tr>\n",
       "        <th>INSTRUCTOR_ID</th>\n",
       "        <th>INSTRUCTOR_NAME</th>\n",
       "    </tr>\n",
       "    <tr>\n",
       "        <td>1</td>\n",
       "        <td>Michael P.  Coyne</td>\n",
       "    </tr>\n",
       "    <tr>\n",
       "        <td>2</td>\n",
       "        <td>Rebecca I.  Bloch</td>\n",
       "    </tr>\n",
       "    <tr>\n",
       "        <td>3</td>\n",
       "        <td>Paul   Caster</td>\n",
       "    </tr>\n",
       "    <tr>\n",
       "        <td>4</td>\n",
       "        <td>Jo Ann   Drusbosky</td>\n",
       "    </tr>\n",
       "    <tr>\n",
       "        <td>5</td>\n",
       "        <td>Arleen N.  Kardos</td>\n",
       "    </tr>\n",
       "    <tr>\n",
       "        <td>6</td>\n",
       "        <td>Scott M  Brenner</td>\n",
       "    </tr>\n",
       "    <tr>\n",
       "        <td>7</td>\n",
       "        <td>Kevin C.  Cassidy</td>\n",
       "    </tr>\n",
       "    <tr>\n",
       "        <td>8</td>\n",
       "        <td>Bruce   Bradford</td>\n",
       "    </tr>\n",
       "    <tr>\n",
       "        <td>9</td>\n",
       "        <td>Milo W.  Peck</td>\n",
       "    </tr>\n",
       "    <tr>\n",
       "        <td>10</td>\n",
       "        <td>Stephen E.  Yost</td>\n",
       "    </tr>\n",
       "</table>"
      ],
      "text/plain": [
       "[(1, 'Michael P.  Coyne'),\n",
       " (2, 'Rebecca I.  Bloch'),\n",
       " (3, 'Paul   Caster'),\n",
       " (4, 'Jo Ann   Drusbosky'),\n",
       " (5, 'Arleen N.  Kardos'),\n",
       " (6, 'Scott M  Brenner'),\n",
       " (7, 'Kevin C.  Cassidy'),\n",
       " (8, 'Bruce   Bradford'),\n",
       " (9, 'Milo W.  Peck'),\n",
       " (10, 'Stephen E.  Yost')]"
      ]
     },
     "execution_count": 18,
     "metadata": {},
     "output_type": "execute_result"
    }
   ],
   "source": [
    "%%sql\n",
    "-- Ran select query to verify data loaded properly\n",
    "SELECT *\n",
    "FROM INSTRUCTORS\n",
    "LIMIT 10;"
   ]
  },
  {
   "cell_type": "markdown",
   "metadata": {},
   "source": [
    "## B. Import data into PROGRAMS table"
   ]
  },
  {
   "cell_type": "code",
   "execution_count": 19,
   "metadata": {},
   "outputs": [
    {
     "name": "stdout",
     "output_type": "stream",
     "text": [
      " * sqlite:///CourseData.db\n",
      "0 rows affected.\n",
      "83 rows affected.\n"
     ]
    },
    {
     "data": {
      "text/plain": [
       "[]"
      ]
     },
     "execution_count": 19,
     "metadata": {},
     "output_type": "execute_result"
    }
   ],
   "source": [
    "%%sql\n",
    "DELETE FROM PROGRAMS;\n",
    "\n",
    "INSERT INTO PROGRAMS (PROGRAM_CODE, PROGRAM_NAME)\n",
    "SELECT DISTINCT program_code, program_name\n",
    "FROM IMPORT_CAT_COURSES\n",
    "ORDER BY PROGRAM_CODE;"
   ]
  },
  {
   "cell_type": "code",
   "execution_count": 20,
   "metadata": {},
   "outputs": [
    {
     "name": "stdout",
     "output_type": "stream",
     "text": [
      " * sqlite:///CourseData.db\n",
      "Done.\n"
     ]
    },
    {
     "data": {
      "text/html": [
       "<table>\n",
       "    <tr>\n",
       "        <th>PROGRAM_ID</th>\n",
       "        <th>PROGRAM_CODE</th>\n",
       "        <th>PROGRAM_NAME</th>\n",
       "    </tr>\n",
       "    <tr>\n",
       "        <td>1</td>\n",
       "        <td>AC</td>\n",
       "        <td>Accounting</td>\n",
       "    </tr>\n",
       "    <tr>\n",
       "        <td>2</td>\n",
       "        <td>AE</td>\n",
       "        <td>Applied Ethics</td>\n",
       "    </tr>\n",
       "    <tr>\n",
       "        <td>3</td>\n",
       "        <td>AH</td>\n",
       "        <td>Art History</td>\n",
       "    </tr>\n",
       "    <tr>\n",
       "        <td>4</td>\n",
       "        <td>AN</td>\n",
       "        <td>Asian Studies</td>\n",
       "    </tr>\n",
       "    <tr>\n",
       "        <td>5</td>\n",
       "        <td>AR</td>\n",
       "        <td>Arabic</td>\n",
       "    </tr>\n",
       "    <tr>\n",
       "        <td>6</td>\n",
       "        <td>AS</td>\n",
       "        <td>American Studies</td>\n",
       "    </tr>\n",
       "    <tr>\n",
       "        <td>7</td>\n",
       "        <td>AY</td>\n",
       "        <td>Anthropology</td>\n",
       "    </tr>\n",
       "    <tr>\n",
       "        <td>8</td>\n",
       "        <td>BB</td>\n",
       "        <td>Business</td>\n",
       "    </tr>\n",
       "    <tr>\n",
       "        <td>9</td>\n",
       "        <td>BEN</td>\n",
       "        <td>Bioengineering</td>\n",
       "    </tr>\n",
       "    <tr>\n",
       "        <td>10</td>\n",
       "        <td>BI</td>\n",
       "        <td>Biology</td>\n",
       "    </tr>\n",
       "</table>"
      ],
      "text/plain": [
       "[(1, 'AC', 'Accounting'),\n",
       " (2, 'AE', 'Applied Ethics'),\n",
       " (3, 'AH', 'Art History'),\n",
       " (4, 'AN', 'Asian Studies'),\n",
       " (5, 'AR', 'Arabic'),\n",
       " (6, 'AS', 'American Studies'),\n",
       " (7, 'AY', 'Anthropology'),\n",
       " (8, 'BB', 'Business'),\n",
       " (9, 'BEN', 'Bioengineering'),\n",
       " (10, 'BI', 'Biology')]"
      ]
     },
     "execution_count": 20,
     "metadata": {},
     "output_type": "execute_result"
    }
   ],
   "source": [
    "%%sql\n",
    "-- Ran select query to verify data loaded properly\n",
    "SELECT *\n",
    "FROM PROGRAMS\n",
    "LIMIT 10;"
   ]
  },
  {
   "cell_type": "markdown",
   "metadata": {},
   "source": [
    "## C. Import data into LOCATIONS table"
   ]
  },
  {
   "cell_type": "code",
   "execution_count": 21,
   "metadata": {},
   "outputs": [
    {
     "name": "stdout",
     "output_type": "stream",
     "text": [
      " * sqlite:///CourseData.db\n",
      "0 rows affected.\n",
      "207 rows affected.\n"
     ]
    },
    {
     "data": {
      "text/plain": [
       "[]"
      ]
     },
     "execution_count": 21,
     "metadata": {},
     "output_type": "execute_result"
    }
   ],
   "source": [
    "%%sql\n",
    "DELETE FROM LOCATIONS;\n",
    "\n",
    "INSERT INTO LOCATIONS (ROOM_ID)\n",
    "SELECT DISTINCT location\n",
    "FROM IMPORT_COURSEMEETINGS_DATA\n",
    "ORDER BY location;"
   ]
  },
  {
   "cell_type": "code",
   "execution_count": 22,
   "metadata": {},
   "outputs": [
    {
     "name": "stdout",
     "output_type": "stream",
     "text": [
      " * sqlite:///CourseData.db\n",
      "Done.\n"
     ]
    },
    {
     "data": {
      "text/html": [
       "<table>\n",
       "    <tr>\n",
       "        <th>LOCATION_ID</th>\n",
       "        <th>ROOM_ID</th>\n",
       "    </tr>\n",
       "    <tr>\n",
       "        <td>1</td>\n",
       "        <td>BCC 200</td>\n",
       "    </tr>\n",
       "    <tr>\n",
       "        <td>2</td>\n",
       "        <td>BD </td>\n",
       "    </tr>\n",
       "    <tr>\n",
       "        <td>3</td>\n",
       "        <td>BH </td>\n",
       "    </tr>\n",
       "    <tr>\n",
       "        <td>4</td>\n",
       "        <td>BH BY ARR</td>\n",
       "    </tr>\n",
       "    <tr>\n",
       "        <td>5</td>\n",
       "        <td>BLM 112</td>\n",
       "    </tr>\n",
       "    <tr>\n",
       "        <td>6</td>\n",
       "        <td>BLM LL105</td>\n",
       "    </tr>\n",
       "    <tr>\n",
       "        <td>7</td>\n",
       "        <td>BNW 124</td>\n",
       "    </tr>\n",
       "    <tr>\n",
       "        <td>8</td>\n",
       "        <td>BNW 127</td>\n",
       "    </tr>\n",
       "    <tr>\n",
       "        <td>9</td>\n",
       "        <td>BNW 128</td>\n",
       "    </tr>\n",
       "    <tr>\n",
       "        <td>10</td>\n",
       "        <td>BNW 129B</td>\n",
       "    </tr>\n",
       "</table>"
      ],
      "text/plain": [
       "[(1, 'BCC 200'),\n",
       " (2, 'BD '),\n",
       " (3, 'BH '),\n",
       " (4, 'BH BY ARR'),\n",
       " (5, 'BLM 112'),\n",
       " (6, 'BLM LL105'),\n",
       " (7, 'BNW 124'),\n",
       " (8, 'BNW 127'),\n",
       " (9, 'BNW 128'),\n",
       " (10, 'BNW 129B')]"
      ]
     },
     "execution_count": 22,
     "metadata": {},
     "output_type": "execute_result"
    }
   ],
   "source": [
    "%%sql\n",
    "-- Ran select query to verify data loaded properly\n",
    "SELECT *\n",
    "FROM LOCATIONS\n",
    "LIMIT 10;"
   ]
  },
  {
   "cell_type": "markdown",
   "metadata": {},
   "source": [
    "## D. Import data into COURSE_OFFERINGS table"
   ]
  },
  {
   "cell_type": "code",
   "execution_count": 23,
   "metadata": {},
   "outputs": [
    {
     "name": "stdout",
     "output_type": "stream",
     "text": [
      " * sqlite:///CourseData.db\n",
      "0 rows affected.\n",
      "15937 rows affected.\n"
     ]
    },
    {
     "data": {
      "text/plain": [
       "[]"
      ]
     },
     "execution_count": 23,
     "metadata": {},
     "output_type": "execute_result"
    }
   ],
   "source": [
    "%%sql\n",
    "DELETE FROM COURSE_OFFERINGS;\n",
    "\n",
    "INSERT INTO COURSE_OFFERINGS (CRN, SECTION, CREDITS, CAPACITY, ACTUAL, REMAINING, CATALOG_ID, TERM, MEETINGS, TIMECODES, \n",
    "                             PRIMARY_INSTRUCTOR_ID)\n",
    "SELECT DISTINCT crn, section, credits, cap, act, rem, catalog_id, term, meetings, timecodes, instructor_id\n",
    "FROM IMPORT_COURSE_DATA\n",
    "    LEFT JOIN INSTRUCTORS ON (IMPORT_COURSE_DATA.primary_instructor = INSTRUCTORS.INSTRUCTOR_NAME);"
   ]
  },
  {
   "cell_type": "code",
   "execution_count": 24,
   "metadata": {},
   "outputs": [
    {
     "name": "stdout",
     "output_type": "stream",
     "text": [
      " * sqlite:///CourseData.db\n",
      "Done.\n"
     ]
    },
    {
     "data": {
      "text/html": [
       "<table>\n",
       "    <tr>\n",
       "        <th>COURSE_OFFERING_ID</th>\n",
       "        <th>CRN</th>\n",
       "        <th>SECTION</th>\n",
       "        <th>CREDITS</th>\n",
       "        <th>CAPACITY</th>\n",
       "        <th>ACTUAL</th>\n",
       "        <th>REMAINING</th>\n",
       "        <th>TERM</th>\n",
       "        <th>MEETINGS</th>\n",
       "        <th>TIMECODES</th>\n",
       "        <th>CATALOG_ID</th>\n",
       "        <th>PRIMARY_INSTRUCTOR_ID</th>\n",
       "    </tr>\n",
       "    <tr>\n",
       "        <td>1</td>\n",
       "        <td>70384</td>\n",
       "        <td>C01</td>\n",
       "        <td>3</td>\n",
       "        <td>0</td>\n",
       "        <td>31</td>\n",
       "        <td>-31</td>\n",
       "        <td>Fall2014</td>\n",
       "        <td>[{&#x27;days&#x27;: &#x27;TF&#x27;, &#x27;times&#x27;: &#x27;0800am-0915am&#x27;, &#x27;dates&#x27;: &#x27;09/02-12/08&#x27;, &#x27;location&#x27;: &#x27;DSB 105&#x27;}]</td>\n",
       "        <td>[&#x27;TF 0800am-0915am 09/02-12/08 DSB 105&#x27;]</td>\n",
       "        <td>AC 0011</td>\n",
       "        <td>1</td>\n",
       "    </tr>\n",
       "    <tr>\n",
       "        <td>2</td>\n",
       "        <td>70385</td>\n",
       "        <td>C02</td>\n",
       "        <td>3</td>\n",
       "        <td>0</td>\n",
       "        <td>31</td>\n",
       "        <td>-31</td>\n",
       "        <td>Fall2014</td>\n",
       "        <td>[{&#x27;days&#x27;: &#x27;TF&#x27;, &#x27;times&#x27;: &#x27;0930am-1045am&#x27;, &#x27;dates&#x27;: &#x27;09/02-12/08&#x27;, &#x27;location&#x27;: &#x27;DSB 105&#x27;}]</td>\n",
       "        <td>[&#x27;TF 0930am-1045am 09/02-12/08 DSB 105&#x27;]</td>\n",
       "        <td>AC 0011</td>\n",
       "        <td>1</td>\n",
       "    </tr>\n",
       "    <tr>\n",
       "        <td>3</td>\n",
       "        <td>70382</td>\n",
       "        <td>C03</td>\n",
       "        <td>3</td>\n",
       "        <td>0</td>\n",
       "        <td>31</td>\n",
       "        <td>-31</td>\n",
       "        <td>Fall2014</td>\n",
       "        <td>[{&#x27;days&#x27;: &#x27;TF&#x27;, &#x27;times&#x27;: &#x27;1230pm-0145pm&#x27;, &#x27;dates&#x27;: &#x27;09/02-12/08&#x27;, &#x27;location&#x27;: &#x27;DSB 105&#x27;}]</td>\n",
       "        <td>[&#x27;TF 1230pm-0145pm 09/02-12/08 DSB 105&#x27;]</td>\n",
       "        <td>AC 0011</td>\n",
       "        <td>1</td>\n",
       "    </tr>\n",
       "    <tr>\n",
       "        <td>4</td>\n",
       "        <td>70291</td>\n",
       "        <td>C04</td>\n",
       "        <td>3</td>\n",
       "        <td>0</td>\n",
       "        <td>29</td>\n",
       "        <td>-29</td>\n",
       "        <td>Fall2014</td>\n",
       "        <td>[{&#x27;days&#x27;: &#x27;MR&#x27;, &#x27;times&#x27;: &#x27;1100am-1215pm&#x27;, &#x27;dates&#x27;: &#x27;09/02-12/08&#x27;, &#x27;location&#x27;: &#x27;DSB 111&#x27;}]</td>\n",
       "        <td>[&#x27;MR 1100am-1215pm 09/02-12/08 DSB 111&#x27;]</td>\n",
       "        <td>AC 0011</td>\n",
       "        <td>2</td>\n",
       "    </tr>\n",
       "    <tr>\n",
       "        <td>5</td>\n",
       "        <td>70350</td>\n",
       "        <td>C05</td>\n",
       "        <td>3</td>\n",
       "        <td>0</td>\n",
       "        <td>30</td>\n",
       "        <td>-30</td>\n",
       "        <td>Fall2014</td>\n",
       "        <td>[{&#x27;days&#x27;: &#x27;MR&#x27;, &#x27;times&#x27;: &#x27;1230pm-0145pm&#x27;, &#x27;dates&#x27;: &#x27;09/02-12/08&#x27;, &#x27;location&#x27;: &#x27;DSB 111&#x27;}]</td>\n",
       "        <td>[&#x27;MR 1230pm-0145pm 09/02-12/08 DSB 111&#x27;]</td>\n",
       "        <td>AC 0011</td>\n",
       "        <td>2</td>\n",
       "    </tr>\n",
       "</table>"
      ],
      "text/plain": [
       "[(1, 70384, 'C01', 3, 0, 31, -31, 'Fall2014', \"[{'days': 'TF', 'times': '0800am-0915am', 'dates': '09/02-12/08', 'location': 'DSB 105'}]\", \"['TF 0800am-0915am 09/02-12/08 DSB 105']\", 'AC 0011', 1),\n",
       " (2, 70385, 'C02', 3, 0, 31, -31, 'Fall2014', \"[{'days': 'TF', 'times': '0930am-1045am', 'dates': '09/02-12/08', 'location': 'DSB 105'}]\", \"['TF 0930am-1045am 09/02-12/08 DSB 105']\", 'AC 0011', 1),\n",
       " (3, 70382, 'C03', 3, 0, 31, -31, 'Fall2014', \"[{'days': 'TF', 'times': '1230pm-0145pm', 'dates': '09/02-12/08', 'location': 'DSB 105'}]\", \"['TF 1230pm-0145pm 09/02-12/08 DSB 105']\", 'AC 0011', 1),\n",
       " (4, 70291, 'C04', 3, 0, 29, -29, 'Fall2014', \"[{'days': 'MR', 'times': '1100am-1215pm', 'dates': '09/02-12/08', 'location': 'DSB 111'}]\", \"['MR 1100am-1215pm 09/02-12/08 DSB 111']\", 'AC 0011', 2),\n",
       " (5, 70350, 'C05', 3, 0, 30, -30, 'Fall2014', \"[{'days': 'MR', 'times': '1230pm-0145pm', 'dates': '09/02-12/08', 'location': 'DSB 111'}]\", \"['MR 1230pm-0145pm 09/02-12/08 DSB 111']\", 'AC 0011', 2)]"
      ]
     },
     "execution_count": 24,
     "metadata": {},
     "output_type": "execute_result"
    }
   ],
   "source": [
    "%%sql\n",
    "-- Ran select query to verify data loaded properly\n",
    "SELECT *\n",
    "FROM COURSE_OFFERINGS\n",
    "LIMIT 5;"
   ]
  },
  {
   "cell_type": "markdown",
   "metadata": {},
   "source": [
    "## E. Import data into COURSES table"
   ]
  },
  {
   "cell_type": "code",
   "execution_count": 25,
   "metadata": {},
   "outputs": [
    {
     "name": "stdout",
     "output_type": "stream",
     "text": [
      " * sqlite:///CourseData.db\n",
      "0 rows affected.\n",
      "4440 rows affected.\n"
     ]
    },
    {
     "data": {
      "text/plain": [
       "[]"
      ]
     },
     "execution_count": 25,
     "metadata": {},
     "output_type": "execute_result"
    }
   ],
   "source": [
    "%%sql\n",
    "DELETE FROM COURSES;\n",
    "\n",
    "INSERT INTO COURSES (CATALOG_ID, YEAR, TITLE, PREREQ, COREQ, FEES, ATTRIBUTES, DESCRIPTION, PROGRAM_ID)\n",
    "SELECT DISTINCT IMPORT_CAT_COURSES.catalog_id, year, course_title, prereqs, coreqs, fees, attributes, description, PROGRAMS.PROGRAM_ID\n",
    "FROM IMPORT_CAT_COURSES\n",
    "    LEFT JOIN COURSE_OFFERINGS USING (CATALOG_ID)\n",
    "    JOIN PROGRAMS ON (PROGRAMS.PROGRAM_CODE = IMPORT_CAT_COURSES.program_code);"
   ]
  },
  {
   "cell_type": "code",
   "execution_count": 26,
   "metadata": {},
   "outputs": [
    {
     "name": "stdout",
     "output_type": "stream",
     "text": [
      " * sqlite:///CourseData.db\n",
      "Done.\n"
     ]
    },
    {
     "data": {
      "text/html": [
       "<table>\n",
       "    <tr>\n",
       "        <th>COURSE_ID</th>\n",
       "        <th>CATALOG_ID</th>\n",
       "        <th>YEAR</th>\n",
       "        <th>TITLE</th>\n",
       "        <th>PREREQ</th>\n",
       "        <th>COREQ</th>\n",
       "        <th>FEES</th>\n",
       "        <th>ATTRIBUTES</th>\n",
       "        <th>DESCRIPTION</th>\n",
       "        <th>PROGRAM_ID</th>\n",
       "    </tr>\n",
       "    <tr>\n",
       "        <td>1</td>\n",
       "        <td>AN 0301</td>\n",
       "        <td>2017_2018</td>\n",
       "        <td>Independent Study</td>\n",
       "        <td>None</td>\n",
       "        <td>None</td>\n",
       "        <td>None</td>\n",
       "        <td>None</td>\n",
       "        <td>Students undertake an individualized program of study in consultation with a director from the Asian studies faculty.</td>\n",
       "        <td>4</td>\n",
       "    </tr>\n",
       "    <tr>\n",
       "        <td>2</td>\n",
       "        <td>AN 0310</td>\n",
       "        <td>2017_2018</td>\n",
       "        <td>Asian Studies Seminar</td>\n",
       "        <td>None</td>\n",
       "        <td>None</td>\n",
       "        <td>None</td>\n",
       "        <td>None</td>\n",
       "        <td>This seminar examines selected topics concerning Asia. This course is taught in conjunction with another 100-300 level course from a rotation of course offerings. Consult the Asian Studies director to identify the conjoined course for a given semester. The seminar concentrates on topics within the parameters of the conjoined course syllabus but adds research emphasis. Students registered for this course must complete a research project, to include 300-level research, in addition to the regular research requirements of the conjoined course, and a 25-50 page term paper in substitution of some portion of the conjoined course requirements, as determined by the instructor. Open to juniors and seniors only.</td>\n",
       "        <td>4</td>\n",
       "    </tr>\n",
       "    <tr>\n",
       "        <td>3</td>\n",
       "        <td>BU 0211</td>\n",
       "        <td>2017_2018</td>\n",
       "        <td>Legal Environment of Business</td>\n",
       "        <td>Junior standing.</td>\n",
       "        <td>None</td>\n",
       "        <td>None</td>\n",
       "        <td>None</td>\n",
       "        <td>This course examines the broad philosophical as well as practical nature and function of the legal system, and introduces students to the legal and social responsibilities of business. The course includes an introduction to the legal system, the federal courts, Constitutional law, the United States Supreme Court, the civil process, and regulatory areas such as employment discrimination, protection of the environment, and corporate governance and securities markets.</td>\n",
       "        <td>12</td>\n",
       "    </tr>\n",
       "    <tr>\n",
       "        <td>4</td>\n",
       "        <td>BU 0220</td>\n",
       "        <td>2017_2018</td>\n",
       "        <td>Environmental Law and Policy</td>\n",
       "        <td>None</td>\n",
       "        <td>None</td>\n",
       "        <td>None</td>\n",
       "        <td>EVME Environmental Studies Major Elective, EVPE Environmental Studies Elective, EVSS Environmental Studies: Social Science, MGEL Management: General Elective</td>\n",
       "        <td>This course surveys issues arising out of federal laws designed to protect the environment and manage resources. It considers in detail the role of the Environmental Protection Agency in the enforcement of environmental policies arising out of such laws as the National Environmental Policy Act, the Clean Water Act, and the Clear Air Act, among others. The course also considers the impact of Congress, political parties, bureaucracy, and interest groups in shaping environmental policy, giving special attention to the impact of environmental regulation on business and private property rights.</td>\n",
       "        <td>12</td>\n",
       "    </tr>\n",
       "    <tr>\n",
       "        <td>5</td>\n",
       "        <td>BU 0311</td>\n",
       "        <td>2017_2018</td>\n",
       "        <td>The Law of Contracts, Sales, and Property</td>\n",
       "        <td>BU 0211.</td>\n",
       "        <td>None</td>\n",
       "        <td>None</td>\n",
       "        <td>None</td>\n",
       "        <td>This course examines the components of common law contracts including the concepts of offer and acceptance, consideration, capacity and legality, assignment of rights and delegation of duties, as well as discharge of contracts. The course covers Articles 2 and 2A of the Uniform Commercial Code relating to leases, sales of goods, and warranties. The course also considers personal and real property, and bailments.</td>\n",
       "        <td>12</td>\n",
       "    </tr>\n",
       "</table>"
      ],
      "text/plain": [
       "[(1, 'AN 0301', '2017_2018', 'Independent Study', None, None, None, None, 'Students undertake an individualized program of study in consultation with a director from the Asian studies faculty.', 4),\n",
       " (2, 'AN 0310', '2017_2018', 'Asian Studies Seminar', None, None, None, None, 'This seminar examines selected topics concerning Asia. This course is taught in conjunction with another 100-300 level course from a rotation of cour ... (412 characters truncated) ... e term paper in substitution of some portion of the conjoined course requirements, as determined by the instructor. Open to juniors and seniors only.', 4),\n",
       " (3, 'BU 0211', '2017_2018', 'Legal Environment of Business', 'Junior standing.', None, None, None, 'This course examines the broad philosophical as well as practical nature and function of the legal system, and introduces students to the legal and s ... (171 characters truncated) ... ivil process, and regulatory areas such as employment discrimination, protection of the environment, and corporate governance and securities markets.', 12),\n",
       " (4, 'BU 0220', '2017_2018', 'Environmental Law and Policy', None, None, None, 'EVME Environmental Studies Major Elective, EVPE Environmental Studies Elective, EVSS Environmental Studies: Social Science, MGEL Management: General Elective', 'This course surveys issues arising out of federal laws designed to protect the environment and manage resources. It considers in detail the role of t ... (298 characters truncated) ... t groups in shaping environmental policy, giving special attention to the impact of environmental regulation on business and private property rights.', 12),\n",
       " (5, 'BU 0311', '2017_2018', 'The Law of Contracts, Sales, and Property', 'BU 0211.', None, None, None, 'This course examines the components of common law contracts including the concepts of offer and acceptance, consideration, capacity and legality, ass ... (117 characters truncated) ...  the Uniform Commercial Code relating to leases, sales of goods, and warranties. The course also considers personal and real property, and bailments.', 12)]"
      ]
     },
     "execution_count": 26,
     "metadata": {},
     "output_type": "execute_result"
    }
   ],
   "source": [
    "%%sql\n",
    "-- Ran select query to verify data loaded properly\n",
    "SELECT *\n",
    "FROM COURSES\n",
    "LIMIT 5;"
   ]
  },
  {
   "cell_type": "markdown",
   "metadata": {},
   "source": [
    "## F. Import data into COURSE_MEETINGS"
   ]
  },
  {
   "cell_type": "code",
   "execution_count": 27,
   "metadata": {},
   "outputs": [
    {
     "name": "stdout",
     "output_type": "stream",
     "text": [
      " * sqlite:///CourseData.db\n",
      "0 rows affected.\n",
      "284907 rows affected.\n"
     ]
    },
    {
     "data": {
      "text/plain": [
       "[]"
      ]
     },
     "execution_count": 27,
     "metadata": {},
     "output_type": "execute_result"
    }
   ],
   "source": [
    "%%sql\n",
    "DELETE FROM COURSE_MEETINGS;\n",
    "\n",
    "INSERT INTO COURSE_MEETINGS (TERM, LOCATION, DAY, START, END, CRN, COURSE_OFFERING_ID, LOCATION_ID)\n",
    "SELECT term, location, day, start, end, CRN , COURSE_OFFERING_ID, LOCATIONS.LOCATION_ID\n",
    "FROM IMPORT_COURSEMEETINGS_DATA\n",
    "    LEFT JOIN LOCATIONS ON (IMPORT_COURSEMEETINGS_DATA.location = LOCATIONS.ROOM_ID)\n",
    "    JOIN COURSE_OFFERINGS USING (CRN,TERM);"
   ]
  },
  {
   "cell_type": "code",
   "execution_count": 28,
   "metadata": {},
   "outputs": [
    {
     "name": "stdout",
     "output_type": "stream",
     "text": [
      " * sqlite:///CourseData.db\n",
      "Done.\n"
     ]
    },
    {
     "data": {
      "text/html": [
       "<table>\n",
       "    <tr>\n",
       "        <th>MEETING_ID</th>\n",
       "        <th>TERM</th>\n",
       "        <th>LOCATION</th>\n",
       "        <th>DAY</th>\n",
       "        <th>START</th>\n",
       "        <th>END</th>\n",
       "        <th>CRN</th>\n",
       "        <th>COURSE_OFFERING_ID</th>\n",
       "        <th>LOCATION_ID</th>\n",
       "    </tr>\n",
       "    <tr>\n",
       "        <td>1</td>\n",
       "        <td>Fall2014</td>\n",
       "        <td>DSB 105</td>\n",
       "        <td>T</td>\n",
       "        <td>2014-09-02T08:00:00</td>\n",
       "        <td>2014-09-02T09:15:00</td>\n",
       "        <td>70384</td>\n",
       "        <td>1</td>\n",
       "        <td>99</td>\n",
       "    </tr>\n",
       "    <tr>\n",
       "        <td>2</td>\n",
       "        <td>Fall2014</td>\n",
       "        <td>DSB 105</td>\n",
       "        <td>F</td>\n",
       "        <td>2014-09-05T08:00:00</td>\n",
       "        <td>2014-09-05T09:15:00</td>\n",
       "        <td>70384</td>\n",
       "        <td>1</td>\n",
       "        <td>99</td>\n",
       "    </tr>\n",
       "    <tr>\n",
       "        <td>3</td>\n",
       "        <td>Fall2014</td>\n",
       "        <td>DSB 105</td>\n",
       "        <td>T</td>\n",
       "        <td>2014-09-09T08:00:00</td>\n",
       "        <td>2014-09-09T09:15:00</td>\n",
       "        <td>70384</td>\n",
       "        <td>1</td>\n",
       "        <td>99</td>\n",
       "    </tr>\n",
       "    <tr>\n",
       "        <td>4</td>\n",
       "        <td>Fall2014</td>\n",
       "        <td>DSB 105</td>\n",
       "        <td>F</td>\n",
       "        <td>2014-09-12T08:00:00</td>\n",
       "        <td>2014-09-12T09:15:00</td>\n",
       "        <td>70384</td>\n",
       "        <td>1</td>\n",
       "        <td>99</td>\n",
       "    </tr>\n",
       "    <tr>\n",
       "        <td>5</td>\n",
       "        <td>Fall2014</td>\n",
       "        <td>DSB 105</td>\n",
       "        <td>T</td>\n",
       "        <td>2014-09-16T08:00:00</td>\n",
       "        <td>2014-09-16T09:15:00</td>\n",
       "        <td>70384</td>\n",
       "        <td>1</td>\n",
       "        <td>99</td>\n",
       "    </tr>\n",
       "    <tr>\n",
       "        <td>6</td>\n",
       "        <td>Fall2014</td>\n",
       "        <td>DSB 105</td>\n",
       "        <td>F</td>\n",
       "        <td>2014-09-19T08:00:00</td>\n",
       "        <td>2014-09-19T09:15:00</td>\n",
       "        <td>70384</td>\n",
       "        <td>1</td>\n",
       "        <td>99</td>\n",
       "    </tr>\n",
       "    <tr>\n",
       "        <td>7</td>\n",
       "        <td>Fall2014</td>\n",
       "        <td>DSB 105</td>\n",
       "        <td>T</td>\n",
       "        <td>2014-09-23T08:00:00</td>\n",
       "        <td>2014-09-23T09:15:00</td>\n",
       "        <td>70384</td>\n",
       "        <td>1</td>\n",
       "        <td>99</td>\n",
       "    </tr>\n",
       "    <tr>\n",
       "        <td>8</td>\n",
       "        <td>Fall2014</td>\n",
       "        <td>DSB 105</td>\n",
       "        <td>F</td>\n",
       "        <td>2014-09-26T08:00:00</td>\n",
       "        <td>2014-09-26T09:15:00</td>\n",
       "        <td>70384</td>\n",
       "        <td>1</td>\n",
       "        <td>99</td>\n",
       "    </tr>\n",
       "    <tr>\n",
       "        <td>9</td>\n",
       "        <td>Fall2014</td>\n",
       "        <td>DSB 105</td>\n",
       "        <td>T</td>\n",
       "        <td>2014-09-30T08:00:00</td>\n",
       "        <td>2014-09-30T09:15:00</td>\n",
       "        <td>70384</td>\n",
       "        <td>1</td>\n",
       "        <td>99</td>\n",
       "    </tr>\n",
       "    <tr>\n",
       "        <td>10</td>\n",
       "        <td>Fall2014</td>\n",
       "        <td>DSB 105</td>\n",
       "        <td>F</td>\n",
       "        <td>2014-10-03T08:00:00</td>\n",
       "        <td>2014-10-03T09:15:00</td>\n",
       "        <td>70384</td>\n",
       "        <td>1</td>\n",
       "        <td>99</td>\n",
       "    </tr>\n",
       "</table>"
      ],
      "text/plain": [
       "[(1, 'Fall2014', 'DSB 105', 'T', '2014-09-02T08:00:00', '2014-09-02T09:15:00', 70384, 1, 99),\n",
       " (2, 'Fall2014', 'DSB 105', 'F', '2014-09-05T08:00:00', '2014-09-05T09:15:00', 70384, 1, 99),\n",
       " (3, 'Fall2014', 'DSB 105', 'T', '2014-09-09T08:00:00', '2014-09-09T09:15:00', 70384, 1, 99),\n",
       " (4, 'Fall2014', 'DSB 105', 'F', '2014-09-12T08:00:00', '2014-09-12T09:15:00', 70384, 1, 99),\n",
       " (5, 'Fall2014', 'DSB 105', 'T', '2014-09-16T08:00:00', '2014-09-16T09:15:00', 70384, 1, 99),\n",
       " (6, 'Fall2014', 'DSB 105', 'F', '2014-09-19T08:00:00', '2014-09-19T09:15:00', 70384, 1, 99),\n",
       " (7, 'Fall2014', 'DSB 105', 'T', '2014-09-23T08:00:00', '2014-09-23T09:15:00', 70384, 1, 99),\n",
       " (8, 'Fall2014', 'DSB 105', 'F', '2014-09-26T08:00:00', '2014-09-26T09:15:00', 70384, 1, 99),\n",
       " (9, 'Fall2014', 'DSB 105', 'T', '2014-09-30T08:00:00', '2014-09-30T09:15:00', 70384, 1, 99),\n",
       " (10, 'Fall2014', 'DSB 105', 'F', '2014-10-03T08:00:00', '2014-10-03T09:15:00', 70384, 1, 99)]"
      ]
     },
     "execution_count": 28,
     "metadata": {},
     "output_type": "execute_result"
    }
   ],
   "source": [
    "%%sql\n",
    "-- Ran select query to verify data loaded properly\n",
    "SELECT *\n",
    "FROM COURSE_MEETINGS\n",
    "LIMIT 10;"
   ]
  },
  {
   "cell_type": "code",
   "execution_count": 29,
   "metadata": {},
   "outputs": [
    {
     "name": "stdout",
     "output_type": "stream",
     "text": [
      " * sqlite:///CourseData.db\n",
      "Done.\n",
      "15937 rows affected.\n",
      "284907 rows affected.\n"
     ]
    },
    {
     "data": {
      "text/plain": [
       "[]"
      ]
     },
     "execution_count": 29,
     "metadata": {},
     "output_type": "execute_result"
    }
   ],
   "source": [
    "%%sql\n",
    "-- Delete all data\n",
    "DELETE FROM IMPORT_CAT_COURSES;\n",
    "DELETE FROM IMPORT_COURSE_DATA;\n",
    "DELETE FROM IMPORT_COURSEMEETINGS_DATA;"
   ]
  },
  {
   "cell_type": "code",
   "execution_count": 30,
   "metadata": {},
   "outputs": [
    {
     "name": "stdout",
     "output_type": "stream",
     "text": [
      " * sqlite:///CourseData.db\n",
      "Done.\n",
      "Done.\n",
      "Done.\n"
     ]
    },
    {
     "data": {
      "text/plain": [
       "[]"
      ]
     },
     "execution_count": 30,
     "metadata": {},
     "output_type": "execute_result"
    }
   ],
   "source": [
    "%%sql\n",
    "-- Drop the tables\n",
    "DROP TABLE IMPORT_CAT_COURSES;\n",
    "DROP TABLE IMPORT_COURSE_DATA;\n",
    "DROP TABLE IMPORT_COURSEMEETINGS_DATA;"
   ]
  },
  {
   "cell_type": "code",
   "execution_count": 31,
   "metadata": {},
   "outputs": [
    {
     "name": "stdout",
     "output_type": "stream",
     "text": [
      " * sqlite:///CourseData.db\n",
      "Done.\n"
     ]
    },
    {
     "data": {
      "text/plain": [
       "[]"
      ]
     },
     "execution_count": 31,
     "metadata": {},
     "output_type": "execute_result"
    }
   ],
   "source": [
    "%%sql\n",
    "-- Rebuil file to save storage space\n",
    "vacuum;"
   ]
  }
 ],
 "metadata": {
  "kernelspec": {
   "display_name": "Python 3",
   "language": "python",
   "name": "python3"
  },
  "language_info": {
   "codemirror_mode": {
    "name": "ipython",
    "version": 3
   },
   "file_extension": ".py",
   "mimetype": "text/x-python",
   "name": "python",
   "nbconvert_exporter": "python",
   "pygments_lexer": "ipython3",
   "version": "3.6.7"
  }
 },
 "nbformat": 4,
 "nbformat_minor": 4
}
