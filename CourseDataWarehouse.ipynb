{
 "cells": [
  {
   "cell_type": "code",
   "execution_count": 1,
   "metadata": {},
   "outputs": [],
   "source": [
    "%load_ext sql\n",
    "import sqlite3\n",
    "import pandas as pd"
   ]
  },
  {
   "cell_type": "code",
   "execution_count": 2,
   "metadata": {},
   "outputs": [
    {
     "data": {
      "text/plain": [
       "'Connected: @CourseDataWarehouse.db'"
      ]
     },
     "execution_count": 2,
     "metadata": {},
     "output_type": "execute_result"
    }
   ],
   "source": [
    "%sql sqlite:///CourseDataWarehouse.db"
   ]
  },
  {
   "cell_type": "markdown",
   "metadata": {},
   "source": [
    "# 5. Create and Build Datawarehouse "
   ]
  },
  {
   "cell_type": "markdown",
   "metadata": {},
   "source": [
    "## A. Created a fact table and dimensions to outline our datawarehouse\n",
    "![ERD](Course_Facts_ERD.png)"
   ]
  },
  {
   "cell_type": "markdown",
   "metadata": {},
   "source": [
    "## B. Created SQL Tables that aligned with our datawarehouse"
   ]
  },
  {
   "cell_type": "code",
   "execution_count": null,
   "metadata": {},
   "outputs": [],
   "source": [
    "%%sql\n",
    "DROP TABLE IF EXISTS INSTRUCTORS;\n",
    "\n",
    "CREATE TABLE INSTRUCTORS(\n",
    "    INSTRUCTOR_ID INTEGER PRIMARY KEY,\n",
    "    INSTRUCTOR_NAME TEXT NOT NULL);"
   ]
  },
  {
   "cell_type": "code",
   "execution_count": null,
   "metadata": {},
   "outputs": [],
   "source": [
    "%%sql\n",
    "DROP TABLE IF EXISTS PROGRAMS;\n",
    "CREATE TABLE PROGRAMS(\n",
    "    PROGRAM_ID INTEGER PRIMARY KEY,\n",
    "    PROGRAM_CODE TEXT NOT NULL,\n",
    "    PROGRAM_NAME TEXT NOT NULL);"
   ]
  },
  {
   "cell_type": "code",
   "execution_count": null,
   "metadata": {},
   "outputs": [],
   "source": [
    "%%sql\n",
    "DROP TABLE IF EXISTS LOCATIONS;\n",
    "CREATE TABLE LOCATIONS(\n",
    "    LOCATION_ID INTEGER PRIMARY KEY,\n",
    "    ROOM_ID TEXT);"
   ]
  },
  {
   "cell_type": "code",
   "execution_count": null,
   "metadata": {},
   "outputs": [],
   "source": [
    "%%sql\n",
    "DROP TABLE IF EXISTS TIME_SLICES;\n",
    "CREATE TABLE TIME_SLICES(\n",
    "    TIMECODE INTEGER PRIMARY KEY,\n",
    "    DAY TEXT,\n",
    "    START TEXT,\n",
    "    END TEXT);"
   ]
  },
  {
   "cell_type": "code",
   "execution_count": null,
   "metadata": {},
   "outputs": [],
   "source": [
    "%%sql\n",
    "DROP TABLE IF EXISTS CALENDAR_DATES;\n",
    "CREATE TABLE CALENDAR_DATES(\n",
    "    TERM TEXT PRIMARY KEY\n",
    ");"
   ]
  },
  {
   "cell_type": "code",
   "execution_count": null,
   "metadata": {},
   "outputs": [],
   "source": [
    "%%sql\n",
    "DROP TABLE IF EXISTS COURSE_FACTS;\n",
    "CREATE TABLE COURSE_FACTS(\n",
    "    CATALOG_ID TEXT NOT NULL,\n",
    "    TITLE TEXT NOT NULL,\n",
    "    PREREQ TEXT,\n",
    "    COREQ TEXT,\n",
    "    SECTION TEXT,\n",
    "    CAPACITY INTEGER,\n",
    "    ACTUAL INTEGER,\n",
    "    REMAINING INTEGER,\n",
    "    CREDITS INTEGER,\n",
    "    TIMECODE TEXT NOT NULL,\n",
    "    TERM TEXT NOT NULL,\n",
    "    LOCATION_ID INTEGER NOT NULL,\n",
    "    INSTRUCTOR_ID INTEGER NOT NULL,\n",
    "    PROGRAM_ID INTEGER NOT NULL,\n",
    "    FOREIGN KEY (TIMECODE)\n",
    "        REFERENCES TIME_SLICES (TIMECODE)\n",
    "        ON UPDATE CASCADE,\n",
    "    FOREIGN KEY (TERM)\n",
    "        REFERENCES CALENDAR_DATES (TERM)\n",
    "        ON UPDATE CASCADE,\n",
    "    FOREIGN KEY (LOCATION_ID)\n",
    "        REFERENCES LOCATIONS (LOCATION_ID)\n",
    "        ON UPDATE CASCADE\n",
    "    FOREIGN KEY (INSTRUCTOR_ID)\n",
    "        REFERENCES INSTRUCTORS (INSTRUCTOR_ID)\n",
    "        ON UPDATE CASCADE,\n",
    "    FOREIGN KEY (PROGRAM_ID)\n",
    "        REFERENCES PROGRAMS (PROGRAM_ID)\n",
    "        ON UPDATE CASCADE\n",
    ");"
   ]
  },
  {
   "cell_type": "code",
   "execution_count": null,
   "metadata": {},
   "outputs": [],
   "source": [
    "%sql ATTACH DATABASE 'CourseData.db' as 'CourseData';"
   ]
  },
  {
   "cell_type": "code",
   "execution_count": null,
   "metadata": {},
   "outputs": [],
   "source": [
    "%%sql\n",
    "SELECT *\n",
    "FROM CourseData.PROGRAMS\n",
    "LIMIT 10;"
   ]
  },
  {
   "cell_type": "code",
   "execution_count": null,
   "metadata": {},
   "outputs": [],
   "source": [
    "%%sql\n",
    "\n",
    "INSERT INTO PROGRAMS (PROGRAM_CODE, PROGRAM_NAME)\n",
    "SELECT PROGRAM_CODE, PROGRAM_NAME\n",
    "FROM CourseData.PROGRAMS "
   ]
  },
  {
   "cell_type": "code",
   "execution_count": null,
   "metadata": {},
   "outputs": [],
   "source": [
    "%%sql\n",
    "SELECT COUNT(*)\n",
    "FROM (SELECT * FROM CourseData.INSTRUCTORS)"
   ]
  },
  {
   "cell_type": "code",
   "execution_count": null,
   "metadata": {},
   "outputs": [],
   "source": [
    "%%sql\n",
    "INSERT INTO INSTRUCTORS (INSTRUCTOR_NAME)\n",
    "SELECT INSTRUCTOR_NAME\n",
    "FROM CourseData.INSTRUCTORS"
   ]
  },
  {
   "cell_type": "code",
   "execution_count": null,
   "metadata": {},
   "outputs": [],
   "source": [
    "%%sql\n",
    "SELECT *\n",
    "FROM INSTRUCTORS \n",
    "LIMIT 10;"
   ]
  },
  {
   "cell_type": "code",
   "execution_count": null,
   "metadata": {},
   "outputs": [],
   "source": [
    "%%sql\n",
    "SELECT COUNT(*)\n",
    "FROM (SELECT * FROM CourseData.LOCATIONS)"
   ]
  },
  {
   "cell_type": "code",
   "execution_count": null,
   "metadata": {},
   "outputs": [],
   "source": [
    "%%sql \n",
    "INSERT INTO LOCATIONS (ROOM_ID)\n",
    "SELECT ROOM_ID\n",
    "FROM CourseData.LOCATIONS"
   ]
  },
  {
   "cell_type": "code",
   "execution_count": null,
   "metadata": {},
   "outputs": [],
   "source": [
    "%%sql\n",
    "SELECT *\n",
    "FROM LOCATIONS\n",
    "LIMIT 10;"
   ]
  },
  {
   "cell_type": "code",
   "execution_count": null,
   "metadata": {},
   "outputs": [],
   "source": [
    "%%sql\n",
    "SELECT DISTINCT DAY,substr(start,12,8) as StartTime, substr(end,12,8) as EndTime \n",
    "FROM CourseData.COURSE_OFFERINGS\n",
    "    JOIN CourseData.COURSE_MEETINGS USING (COURSE_OFFERING_ID)\n",
    "LIMIT 10;"
   ]
  },
  {
   "cell_type": "code",
   "execution_count": null,
   "metadata": {},
   "outputs": [],
   "source": [
    "%%sql\n",
    "\n",
    "DELETE FROM TIME_SLICES;\n",
    "\n",
    "INSERT INTO TIME_SLICES ( DAY, START, END)\n",
    "SELECT DISTINCT DAY,substr(start,12,8) as StartTime, substr(end,12,8) as EndTime \n",
    "FROM CourseData.COURSE_OFFERINGS\n",
    "    JOIN CourseData.COURSE_MEETINGS USING (COURSE_OFFERING_ID)"
   ]
  },
  {
   "cell_type": "code",
   "execution_count": null,
   "metadata": {},
   "outputs": [],
   "source": [
    "%%sql\n",
    "SELECT DISTINCT *\n",
    "FROM TIME_SLICES\n",
    "LIMIT 10;"
   ]
  },
  {
   "cell_type": "code",
   "execution_count": null,
   "metadata": {},
   "outputs": [],
   "source": [
    "%%sql\n",
    "DROP TABLE IF EXISTS TEMP_TABLE;\n",
    "CREATE TABLE TEMP_TABLE(\n",
    "    TIMECODE INTEGER,\n",
    "    MEETING_ID);"
   ]
  },
  {
   "cell_type": "code",
   "execution_count": null,
   "metadata": {},
   "outputs": [],
   "source": [
    "%%sql \n",
    "INSERT INTO TEMP_TABLE (MEETING_ID, TIMECODE)\n",
    "SELECT DISTINCT MEETING_ID, TIMECODE\n",
    "FROM CourseData.COURSE_OFFERINGS\n",
    "    JOIN CourseData.COURSE_MEETINGS USING (COURSE_OFFERING_ID)\n",
    "    JOIN TIME_SLICES ON (TIME_SLICES.DAY = COURSE_MEETINGS.DAY AND TIME_SLICES.START =substr(COURSE_MEETINGS.start,12,8)  AND TIME_SLICES.END =substr(COURSE_MEETINGS.end,12,8) )"
   ]
  },
  {
   "cell_type": "code",
   "execution_count": null,
   "metadata": {},
   "outputs": [],
   "source": [
    "%%sql\n",
    "SELECT *\n",
    "FROM TEMP_TABLE\n",
    "LIMIT 10;"
   ]
  },
  {
   "cell_type": "code",
   "execution_count": null,
   "metadata": {},
   "outputs": [],
   "source": [
    "%%sql\n",
    "SELECT DISTINCT MEETING_ID, TIMECODE\n",
    "FROM CourseData.COURSE_OFFERINGS\n",
    "    JOIN CourseData.COURSE_MEETINGS USING (COURSE_OFFERING_ID)\n",
    "    JOIN TIME_SLICES ON (TIME_SLICES.DAY = COURSE_MEETINGS.DAY AND TIME_SLICES.START =substr(COURSE_MEETINGS.start,12,8)  AND TIME_SLICES.END =substr(COURSE_MEETINGS.end,12,8) )\n",
    "LIMIT 10;"
   ]
  },
  {
   "cell_type": "code",
   "execution_count": null,
   "metadata": {},
   "outputs": [],
   "source": [
    "%%sql\n",
    "SELECT DISTINCT TERM\n",
    "FROM CourseData.Course_Offerings\n",
    "LIMIT 10;"
   ]
  },
  {
   "cell_type": "code",
   "execution_count": null,
   "metadata": {},
   "outputs": [],
   "source": [
    "%%sql\n",
    "\n",
    "DELETE FROM CALENDAR_DATES;\n",
    "\n",
    "INSERT INTO CALENDAR_DATES (TERM)\n",
    "SELECT DISTINCT TERM\n",
    "FROM CourseData.Course_Offerings"
   ]
  },
  {
   "cell_type": "code",
   "execution_count": null,
   "metadata": {},
   "outputs": [],
   "source": [
    "%%sql\n",
    "SELECT *\n",
    "FROM CALENDAR_DATES\n",
    "LIMIT 10;"
   ]
  },
  {
   "cell_type": "code",
   "execution_count": null,
   "metadata": {},
   "outputs": [],
   "source": [
    "%%sql\n",
    "SELECT DISTINCT CATALOG_ID, TITLE, PREREQ, COREQ, SECTION, CAPACITY, ACTUAL, REMAINING, CREDITS, CALENDAR_DATES.TERM, LOCATIONS.LOCATION_ID, INSTRUCTORS.INSTRUCTOR_ID, PROGRAMS.PROGRAM_ID, TIME_SLICES.DAY, TIME_SLICES.START, TIME_SLICES.END\n",
    "FROM CourseData.Courses\n",
    "    JOIN CourseData.Course_Offerings USING (CATALOG_ID)\n",
    "    JOIN CALENDAR_DATES ON (CALENDAR_DATES.TERM = CourseData.Course_Offerings.TERM)\n",
    "    JOIN CourseData.Course_Meetings USING (COURSE_OFFERING_ID)\n",
    "    JOIN LOCATIONS ON (LOCATIONS.LOCATION_ID = CourseData.Course_Meetings.Location_ID)\n",
    "    JOIN INSTRUCTORS ON (INSTRUCTORS.INSTRUCTOR_ID = CourseData.Course_Offerings.Primary_Instructor_ID)\n",
    "    JOIN PROGRAMS ON (PROGRAMS.PROGRAM_ID = CourseData.Courses.Program_ID)\n",
    "    JOIN TEMP_TABLE ON (TEMP_TABLE.MEETING_ID = CourseData.Course_Meetings.MEETING_ID)\n",
    "    JOIN TIME_SLICES ON (TIME_SLICES.TIMECODE = TEMP_TABLE.TIMECODE)\n",
    "LIMIT 10;\n"
   ]
  },
  {
   "cell_type": "code",
   "execution_count": null,
   "metadata": {},
   "outputs": [],
   "source": [
    "%%sql\n",
    "\n",
    "SELECT DISTINCT CATALOG_ID, TITLE, PREREQ, COREQ, SECTION, CAPACITY, ACTUAL, REMAINING, CREDITS, CALENDAR_DATES.TERM, LOCATIONS.LOCATION_ID, INSTRUCTORS.INSTRUCTOR_ID, PROGRAMS.PROGRAM_ID, TIME_SLICES.TIMECODE\n",
    "FROM CourseData.Courses\n",
    "    JOIN CourseData.Course_Offerings USING (CATALOG_ID)\n",
    "    JOIN CALENDAR_DATES ON (CALENDAR_DATES.TERM = CourseData.Course_Offerings.TERM)\n",
    "    JOIN CourseData.Course_Meetings USING (COURSE_OFFERING_ID)\n",
    "    JOIN LOCATIONS ON (LOCATIONS.LOCATION_ID = CourseData.Course_Meetings.Location_ID)\n",
    "    JOIN INSTRUCTORS ON (INSTRUCTORS.INSTRUCTOR_ID = CourseData.Course_Offerings.Primary_Instructor_ID)\n",
    "    JOIN PROGRAMS ON (PROGRAMS.PROGRAM_ID = CourseData.Courses.Program_ID)\n",
    "    JOIN TEMP_TABLE ON (TEMP_TABLE.MEETING_ID = CourseData.Course_Meetings.MEETING_ID)\n",
    "    JOIN TIME_SLICES ON (TIME_SLICES.TIMECODE = TEMP_TABLE.TIMECODE)\n",
    "LIMIT 10;"
   ]
  },
  {
   "cell_type": "code",
   "execution_count": null,
   "metadata": {},
   "outputs": [],
   "source": [
    "%%sql\n",
    "DELETE FROM COURSE_FACTS;\n",
    "INSERT INTO COURSE_FACTS (CATALOG_ID, TITLE, PREREQ, COREQ, SECTION, CAPACITY, ACTUAL, REMAINING, CREDITS, TERM, LOCATION_ID, INSTRUCTOR_ID, PROGRAM_ID, TIMECODE)\n",
    "SELECT DISTINCT CATALOG_ID, TITLE, PREREQ, COREQ, SECTION, CAPACITY, ACTUAL, REMAINING, CREDITS, CALENDAR_DATES.TERM, LOCATIONS.LOCATION_ID, INSTRUCTORS.INSTRUCTOR_ID, PROGRAMS.PROGRAM_ID, TIME_SLICES.TIMECODE\n",
    "FROM CourseData.Courses\n",
    "    JOIN CourseData.Course_Offerings USING (CATALOG_ID)\n",
    "    JOIN CALENDAR_DATES ON (CALENDAR_DATES.TERM = CourseData.Course_Offerings.TERM)\n",
    "    JOIN CourseData.Course_Meetings USING (COURSE_OFFERING_ID)\n",
    "    JOIN LOCATIONS ON (LOCATIONS.LOCATION_ID = CourseData.Course_Meetings.Location_ID)\n",
    "    JOIN INSTRUCTORS ON (INSTRUCTORS.INSTRUCTOR_ID = CourseData.Course_Offerings.Primary_Instructor_ID)\n",
    "    JOIN PROGRAMS ON (PROGRAMS.PROGRAM_ID = CourseData.Courses.Program_ID)\n",
    "    JOIN TEMP_TABLE ON (TEMP_TABLE.MEETING_ID = CourseData.Course_Meetings.MEETING_ID)\n",
    "    JOIN TIME_SLICES ON (TIME_SLICES.TIMECODE = TEMP_TABLE.TIMECODE);"
   ]
  },
  {
   "cell_type": "code",
   "execution_count": null,
   "metadata": {},
   "outputs": [],
   "source": []
  }
 ],
 "metadata": {
  "kernelspec": {
   "display_name": "Python 3",
   "language": "python",
   "name": "python3"
  },
  "language_info": {
   "codemirror_mode": {
    "name": "ipython",
    "version": 3
   },
   "file_extension": ".py",
   "mimetype": "text/x-python",
   "name": "python",
   "nbconvert_exporter": "python",
   "pygments_lexer": "ipython3",
   "version": "3.6.7"
  }
 },
 "nbformat": 4,
 "nbformat_minor": 4
}
