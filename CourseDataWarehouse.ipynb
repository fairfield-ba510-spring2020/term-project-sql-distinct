{
 "cells": [
  {
   "cell_type": "code",
   "execution_count": 1,
   "metadata": {},
   "outputs": [],
   "source": [
    "%load_ext sql\n",
    "import sqlite3\n",
    "import pandas as pd"
   ]
  },
  {
   "cell_type": "code",
   "execution_count": 2,
   "metadata": {},
   "outputs": [
    {
     "data": {
      "text/plain": [
       "'Connected: @CourseDataWarehouse.db'"
      ]
     },
     "execution_count": 2,
     "metadata": {},
     "output_type": "execute_result"
    }
   ],
   "source": [
    "%sql sqlite:///CourseDataWarehouse.db"
   ]
  },
  {
   "cell_type": "code",
   "execution_count": 3,
   "metadata": {},
   "outputs": [
    {
     "name": "stdout",
     "output_type": "stream",
     "text": [
      " * sqlite:///CourseDataWarehouse.db\n",
      "Done.\n",
      "Done.\n"
     ]
    },
    {
     "data": {
      "text/plain": [
       "[]"
      ]
     },
     "execution_count": 3,
     "metadata": {},
     "output_type": "execute_result"
    }
   ],
   "source": [
    "%%sql\n",
    "DROP TABLE IF EXISTS INSTRUCTORS;\n",
    "\n",
    "CREATE TABLE INSTRUCTORS(\n",
    "    INSTRUCTOR_ID INTEGER PRIMARY KEY,\n",
    "    INSTRUCTOR_NAME TEXT NOT NULL);"
   ]
  },
  {
   "cell_type": "code",
   "execution_count": 4,
   "metadata": {},
   "outputs": [
    {
     "name": "stdout",
     "output_type": "stream",
     "text": [
      " * sqlite:///CourseDataWarehouse.db\n",
      "Done.\n",
      "Done.\n"
     ]
    },
    {
     "data": {
      "text/plain": [
       "[]"
      ]
     },
     "execution_count": 4,
     "metadata": {},
     "output_type": "execute_result"
    }
   ],
   "source": [
    "%%sql\n",
    "DROP TABLE IF EXISTS PROGRAMS;\n",
    "CREATE TABLE PROGRAMS(\n",
    "    PROGRAM_ID INTEGER PRIMARY KEY,\n",
    "    PROGRAM_CODE TEXT NOT NULL,\n",
    "    PROGRAM_NAME TEXT NOT NULL);"
   ]
  },
  {
   "cell_type": "code",
   "execution_count": 5,
   "metadata": {},
   "outputs": [
    {
     "name": "stdout",
     "output_type": "stream",
     "text": [
      " * sqlite:///CourseDataWarehouse.db\n",
      "Done.\n",
      "Done.\n"
     ]
    },
    {
     "data": {
      "text/plain": [
       "[]"
      ]
     },
     "execution_count": 5,
     "metadata": {},
     "output_type": "execute_result"
    }
   ],
   "source": [
    "%%sql\n",
    "DROP TABLE IF EXISTS LOCATIONS;\n",
    "CREATE TABLE LOCATIONS(\n",
    "    LOCATION_ID INTEGER PRIMARY KEY,\n",
    "    ROOM_ID TEXT);"
   ]
  },
  {
   "cell_type": "code",
   "execution_count": 6,
   "metadata": {},
   "outputs": [
    {
     "name": "stdout",
     "output_type": "stream",
     "text": [
      " * sqlite:///CourseDataWarehouse.db\n",
      "Done.\n",
      "Done.\n"
     ]
    },
    {
     "data": {
      "text/plain": [
       "[]"
      ]
     },
     "execution_count": 6,
     "metadata": {},
     "output_type": "execute_result"
    }
   ],
   "source": [
    "%%sql\n",
    "DROP TABLE IF EXISTS TIME_SLICES;\n",
    "CREATE TABLE TIME_SLICES(\n",
    "    TIMECODE INTEGER PRIMARY KEY,\n",
    "    DAY TEXT,\n",
    "    START TEXT,\n",
    "    END TEXT);"
   ]
  },
  {
   "cell_type": "code",
   "execution_count": 7,
   "metadata": {},
   "outputs": [
    {
     "name": "stdout",
     "output_type": "stream",
     "text": [
      " * sqlite:///CourseDataWarehouse.db\n",
      "Done.\n",
      "Done.\n"
     ]
    },
    {
     "data": {
      "text/plain": [
       "[]"
      ]
     },
     "execution_count": 7,
     "metadata": {},
     "output_type": "execute_result"
    }
   ],
   "source": [
    "%%sql\n",
    "DROP TABLE IF EXISTS CALENDAR_DATES;\n",
    "CREATE TABLE CALENDAR_DATES(\n",
    "    TERM TEXT PRIMARY KEY\n",
    ");"
   ]
  },
  {
   "cell_type": "code",
   "execution_count": 8,
   "metadata": {},
   "outputs": [
    {
     "name": "stdout",
     "output_type": "stream",
     "text": [
      " * sqlite:///CourseDataWarehouse.db\n",
      "Done.\n",
      "Done.\n"
     ]
    },
    {
     "data": {
      "text/plain": [
       "[]"
      ]
     },
     "execution_count": 8,
     "metadata": {},
     "output_type": "execute_result"
    }
   ],
   "source": [
    "%%sql\n",
    "DROP TABLE IF EXISTS COURSE_FACTS;\n",
    "CREATE TABLE COURSE_FACTS(\n",
    "    CATALOG_ID TEXT NOT NULL,\n",
    "    TITLE TEXT NOT NULL,\n",
    "    PREREQ TEXT,\n",
    "    COREQ TEXT,\n",
    "    SECTION TEXT,\n",
    "    CAPACITY INTEGER,\n",
    "    ACTUAL INTEGER,\n",
    "    REMAINING INTEGER,\n",
    "    CREDITS INTEGER,\n",
    "    TIMECODE TEXT NOT NULL,\n",
    "    TERM TEXT NOT NULL,\n",
    "    LOCATION_ID INTEGER NOT NULL,\n",
    "    INSTRUCTOR_ID INTEGER NOT NULL,\n",
    "    PROGRAM_ID INTEGER NOT NULL,\n",
    "    FOREIGN KEY (TIMECODE)\n",
    "        REFERENCES TIME_SLICES (TIMECODE)\n",
    "        ON UPDATE CASCADE,\n",
    "    FOREIGN KEY (TERM)\n",
    "        REFERENCES CALENDAR_DATES (TERM)\n",
    "        ON UPDATE CASCADE,\n",
    "    FOREIGN KEY (LOCATION_ID)\n",
    "        REFERENCES LOCATIONS (LOCATION_ID)\n",
    "        ON UPDATE CASCADE\n",
    "    FOREIGN KEY (INSTRUCTOR_ID)\n",
    "        REFERENCES INSTRUCTORS (INSTRUCTOR_ID)\n",
    "        ON UPDATE CASCADE,\n",
    "    FOREIGN KEY (PROGRAM_ID)\n",
    "        REFERENCES PROGRAMS (PROGRAM_ID)\n",
    "        ON UPDATE CASCADE\n",
    ");"
   ]
  },
  {
   "cell_type": "code",
   "execution_count": 9,
   "metadata": {},
   "outputs": [
    {
     "name": "stdout",
     "output_type": "stream",
     "text": [
      " * sqlite:///CourseDataWarehouse.db\n",
      "Done.\n"
     ]
    },
    {
     "data": {
      "text/plain": [
       "[]"
      ]
     },
     "execution_count": 9,
     "metadata": {},
     "output_type": "execute_result"
    }
   ],
   "source": [
    "%sql ATTACH DATABASE 'CourseData.db' as 'CourseData';"
   ]
  },
  {
   "cell_type": "code",
   "execution_count": 10,
   "metadata": {},
   "outputs": [
    {
     "name": "stdout",
     "output_type": "stream",
     "text": [
      " * sqlite:///CourseDataWarehouse.db\n",
      "Done.\n"
     ]
    },
    {
     "data": {
      "text/html": [
       "<table>\n",
       "    <tr>\n",
       "        <th>PROGRAM_ID</th>\n",
       "        <th>PROGRAM_CODE</th>\n",
       "        <th>PROGRAM_NAME</th>\n",
       "    </tr>\n",
       "    <tr>\n",
       "        <td>1</td>\n",
       "        <td>AC</td>\n",
       "        <td>Accounting</td>\n",
       "    </tr>\n",
       "    <tr>\n",
       "        <td>2</td>\n",
       "        <td>AE</td>\n",
       "        <td>Applied Ethics</td>\n",
       "    </tr>\n",
       "    <tr>\n",
       "        <td>3</td>\n",
       "        <td>AH</td>\n",
       "        <td>Art History</td>\n",
       "    </tr>\n",
       "    <tr>\n",
       "        <td>4</td>\n",
       "        <td>AN</td>\n",
       "        <td>Asian Studies</td>\n",
       "    </tr>\n",
       "    <tr>\n",
       "        <td>5</td>\n",
       "        <td>AR</td>\n",
       "        <td>Arabic</td>\n",
       "    </tr>\n",
       "    <tr>\n",
       "        <td>6</td>\n",
       "        <td>AS</td>\n",
       "        <td>American Studies</td>\n",
       "    </tr>\n",
       "    <tr>\n",
       "        <td>7</td>\n",
       "        <td>AY</td>\n",
       "        <td>Anthropology</td>\n",
       "    </tr>\n",
       "    <tr>\n",
       "        <td>8</td>\n",
       "        <td>BB</td>\n",
       "        <td>Business</td>\n",
       "    </tr>\n",
       "    <tr>\n",
       "        <td>9</td>\n",
       "        <td>BEN</td>\n",
       "        <td>Bioengineering</td>\n",
       "    </tr>\n",
       "    <tr>\n",
       "        <td>10</td>\n",
       "        <td>BI</td>\n",
       "        <td>Biology</td>\n",
       "    </tr>\n",
       "</table>"
      ],
      "text/plain": [
       "[(1, 'AC', 'Accounting'),\n",
       " (2, 'AE', 'Applied Ethics'),\n",
       " (3, 'AH', 'Art History'),\n",
       " (4, 'AN', 'Asian Studies'),\n",
       " (5, 'AR', 'Arabic'),\n",
       " (6, 'AS', 'American Studies'),\n",
       " (7, 'AY', 'Anthropology'),\n",
       " (8, 'BB', 'Business'),\n",
       " (9, 'BEN', 'Bioengineering'),\n",
       " (10, 'BI', 'Biology')]"
      ]
     },
     "execution_count": 10,
     "metadata": {},
     "output_type": "execute_result"
    }
   ],
   "source": [
    "%%sql\n",
    "SELECT *\n",
    "FROM CourseData.PROGRAMS\n",
    "LIMIT 10;"
   ]
  },
  {
   "cell_type": "code",
   "execution_count": 11,
   "metadata": {},
   "outputs": [
    {
     "name": "stdout",
     "output_type": "stream",
     "text": [
      " * sqlite:///CourseDataWarehouse.db\n",
      "83 rows affected.\n"
     ]
    },
    {
     "data": {
      "text/plain": [
       "[]"
      ]
     },
     "execution_count": 11,
     "metadata": {},
     "output_type": "execute_result"
    }
   ],
   "source": [
    "%%sql\n",
    "\n",
    "INSERT INTO PROGRAMS (PROGRAM_CODE, PROGRAM_NAME)\n",
    "SELECT PROGRAM_CODE, PROGRAM_NAME\n",
    "FROM CourseData.PROGRAMS "
   ]
  },
  {
   "cell_type": "code",
   "execution_count": 12,
   "metadata": {},
   "outputs": [
    {
     "name": "stdout",
     "output_type": "stream",
     "text": [
      " * sqlite:///CourseDataWarehouse.db\n",
      "Done.\n"
     ]
    },
    {
     "data": {
      "text/html": [
       "<table>\n",
       "    <tr>\n",
       "        <th>COUNT(*)</th>\n",
       "    </tr>\n",
       "    <tr>\n",
       "        <td>1095</td>\n",
       "    </tr>\n",
       "</table>"
      ],
      "text/plain": [
       "[(1095,)]"
      ]
     },
     "execution_count": 12,
     "metadata": {},
     "output_type": "execute_result"
    }
   ],
   "source": [
    "%%sql\n",
    "SELECT COUNT(*)\n",
    "FROM (SELECT * FROM CourseData.INSTRUCTORS)"
   ]
  },
  {
   "cell_type": "code",
   "execution_count": 13,
   "metadata": {},
   "outputs": [
    {
     "name": "stdout",
     "output_type": "stream",
     "text": [
      " * sqlite:///CourseDataWarehouse.db\n",
      "1095 rows affected.\n"
     ]
    },
    {
     "data": {
      "text/plain": [
       "[]"
      ]
     },
     "execution_count": 13,
     "metadata": {},
     "output_type": "execute_result"
    }
   ],
   "source": [
    "%%sql\n",
    "INSERT INTO INSTRUCTORS (INSTRUCTOR_NAME)\n",
    "SELECT INSTRUCTOR_NAME\n",
    "FROM CourseData.INSTRUCTORS"
   ]
  },
  {
   "cell_type": "code",
   "execution_count": 14,
   "metadata": {},
   "outputs": [
    {
     "name": "stdout",
     "output_type": "stream",
     "text": [
      " * sqlite:///CourseDataWarehouse.db\n",
      "Done.\n"
     ]
    },
    {
     "data": {
      "text/html": [
       "<table>\n",
       "    <tr>\n",
       "        <th>INSTRUCTOR_ID</th>\n",
       "        <th>INSTRUCTOR_NAME</th>\n",
       "    </tr>\n",
       "    <tr>\n",
       "        <td>1</td>\n",
       "        <td>Michael P.  Coyne</td>\n",
       "    </tr>\n",
       "    <tr>\n",
       "        <td>2</td>\n",
       "        <td>Rebecca I.  Bloch</td>\n",
       "    </tr>\n",
       "    <tr>\n",
       "        <td>3</td>\n",
       "        <td>Paul   Caster</td>\n",
       "    </tr>\n",
       "    <tr>\n",
       "        <td>4</td>\n",
       "        <td>Jo Ann   Drusbosky</td>\n",
       "    </tr>\n",
       "    <tr>\n",
       "        <td>5</td>\n",
       "        <td>Arleen N.  Kardos</td>\n",
       "    </tr>\n",
       "    <tr>\n",
       "        <td>6</td>\n",
       "        <td>Scott M  Brenner</td>\n",
       "    </tr>\n",
       "    <tr>\n",
       "        <td>7</td>\n",
       "        <td>Kevin C.  Cassidy</td>\n",
       "    </tr>\n",
       "    <tr>\n",
       "        <td>8</td>\n",
       "        <td>Bruce   Bradford</td>\n",
       "    </tr>\n",
       "    <tr>\n",
       "        <td>9</td>\n",
       "        <td>Milo W.  Peck</td>\n",
       "    </tr>\n",
       "    <tr>\n",
       "        <td>10</td>\n",
       "        <td>Stephen E.  Yost</td>\n",
       "    </tr>\n",
       "</table>"
      ],
      "text/plain": [
       "[(1, 'Michael P.  Coyne'),\n",
       " (2, 'Rebecca I.  Bloch'),\n",
       " (3, 'Paul   Caster'),\n",
       " (4, 'Jo Ann   Drusbosky'),\n",
       " (5, 'Arleen N.  Kardos'),\n",
       " (6, 'Scott M  Brenner'),\n",
       " (7, 'Kevin C.  Cassidy'),\n",
       " (8, 'Bruce   Bradford'),\n",
       " (9, 'Milo W.  Peck'),\n",
       " (10, 'Stephen E.  Yost')]"
      ]
     },
     "execution_count": 14,
     "metadata": {},
     "output_type": "execute_result"
    }
   ],
   "source": [
    "%%sql\n",
    "SELECT *\n",
    "FROM INSTRUCTORS \n",
    "LIMIT 10;"
   ]
  },
  {
   "cell_type": "code",
   "execution_count": 15,
   "metadata": {},
   "outputs": [
    {
     "name": "stdout",
     "output_type": "stream",
     "text": [
      " * sqlite:///CourseDataWarehouse.db\n",
      "Done.\n"
     ]
    },
    {
     "data": {
      "text/html": [
       "<table>\n",
       "    <tr>\n",
       "        <th>COUNT(*)</th>\n",
       "    </tr>\n",
       "    <tr>\n",
       "        <td>207</td>\n",
       "    </tr>\n",
       "</table>"
      ],
      "text/plain": [
       "[(207,)]"
      ]
     },
     "execution_count": 15,
     "metadata": {},
     "output_type": "execute_result"
    }
   ],
   "source": [
    "%%sql\n",
    "SELECT COUNT(*)\n",
    "FROM (SELECT * FROM CourseData.LOCATIONS)"
   ]
  },
  {
   "cell_type": "code",
   "execution_count": 16,
   "metadata": {},
   "outputs": [
    {
     "name": "stdout",
     "output_type": "stream",
     "text": [
      " * sqlite:///CourseDataWarehouse.db\n",
      "207 rows affected.\n"
     ]
    },
    {
     "data": {
      "text/plain": [
       "[]"
      ]
     },
     "execution_count": 16,
     "metadata": {},
     "output_type": "execute_result"
    }
   ],
   "source": [
    "%%sql \n",
    "INSERT INTO LOCATIONS (ROOM_ID)\n",
    "SELECT ROOM_ID\n",
    "FROM CourseData.LOCATIONS"
   ]
  },
  {
   "cell_type": "code",
   "execution_count": 17,
   "metadata": {},
   "outputs": [
    {
     "name": "stdout",
     "output_type": "stream",
     "text": [
      " * sqlite:///CourseDataWarehouse.db\n",
      "Done.\n"
     ]
    },
    {
     "data": {
      "text/html": [
       "<table>\n",
       "    <tr>\n",
       "        <th>LOCATION_ID</th>\n",
       "        <th>ROOM_ID</th>\n",
       "    </tr>\n",
       "    <tr>\n",
       "        <td>1</td>\n",
       "        <td>BCC 200</td>\n",
       "    </tr>\n",
       "    <tr>\n",
       "        <td>2</td>\n",
       "        <td>BD </td>\n",
       "    </tr>\n",
       "    <tr>\n",
       "        <td>3</td>\n",
       "        <td>BH </td>\n",
       "    </tr>\n",
       "    <tr>\n",
       "        <td>4</td>\n",
       "        <td>BH BY ARR</td>\n",
       "    </tr>\n",
       "    <tr>\n",
       "        <td>5</td>\n",
       "        <td>BLM 112</td>\n",
       "    </tr>\n",
       "    <tr>\n",
       "        <td>6</td>\n",
       "        <td>BLM LL105</td>\n",
       "    </tr>\n",
       "    <tr>\n",
       "        <td>7</td>\n",
       "        <td>BNW 124</td>\n",
       "    </tr>\n",
       "    <tr>\n",
       "        <td>8</td>\n",
       "        <td>BNW 127</td>\n",
       "    </tr>\n",
       "    <tr>\n",
       "        <td>9</td>\n",
       "        <td>BNW 128</td>\n",
       "    </tr>\n",
       "    <tr>\n",
       "        <td>10</td>\n",
       "        <td>BNW 129B</td>\n",
       "    </tr>\n",
       "</table>"
      ],
      "text/plain": [
       "[(1, 'BCC 200'),\n",
       " (2, 'BD '),\n",
       " (3, 'BH '),\n",
       " (4, 'BH BY ARR'),\n",
       " (5, 'BLM 112'),\n",
       " (6, 'BLM LL105'),\n",
       " (7, 'BNW 124'),\n",
       " (8, 'BNW 127'),\n",
       " (9, 'BNW 128'),\n",
       " (10, 'BNW 129B')]"
      ]
     },
     "execution_count": 17,
     "metadata": {},
     "output_type": "execute_result"
    }
   ],
   "source": [
    "%%sql\n",
    "SELECT *\n",
    "FROM LOCATIONS\n",
    "LIMIT 10;"
   ]
  },
  {
   "cell_type": "code",
   "execution_count": 18,
   "metadata": {},
   "outputs": [
    {
     "name": "stdout",
     "output_type": "stream",
     "text": [
      " * sqlite:///CourseDataWarehouse.db\n",
      "Done.\n"
     ]
    },
    {
     "data": {
      "text/html": [
       "<table>\n",
       "    <tr>\n",
       "        <th>DAY</th>\n",
       "        <th>StartTime</th>\n",
       "        <th>EndTime</th>\n",
       "    </tr>\n",
       "    <tr>\n",
       "        <td>T</td>\n",
       "        <td>08:00:00</td>\n",
       "        <td>09:15:00</td>\n",
       "    </tr>\n",
       "    <tr>\n",
       "        <td>F</td>\n",
       "        <td>08:00:00</td>\n",
       "        <td>09:15:00</td>\n",
       "    </tr>\n",
       "    <tr>\n",
       "        <td>T</td>\n",
       "        <td>09:30:00</td>\n",
       "        <td>10:45:00</td>\n",
       "    </tr>\n",
       "    <tr>\n",
       "        <td>F</td>\n",
       "        <td>09:30:00</td>\n",
       "        <td>10:45:00</td>\n",
       "    </tr>\n",
       "    <tr>\n",
       "        <td>T</td>\n",
       "        <td>12:30:00</td>\n",
       "        <td>13:45:00</td>\n",
       "    </tr>\n",
       "    <tr>\n",
       "        <td>F</td>\n",
       "        <td>12:30:00</td>\n",
       "        <td>13:45:00</td>\n",
       "    </tr>\n",
       "    <tr>\n",
       "        <td>R</td>\n",
       "        <td>11:00:00</td>\n",
       "        <td>12:15:00</td>\n",
       "    </tr>\n",
       "    <tr>\n",
       "        <td>M</td>\n",
       "        <td>11:00:00</td>\n",
       "        <td>12:15:00</td>\n",
       "    </tr>\n",
       "    <tr>\n",
       "        <td>R</td>\n",
       "        <td>12:30:00</td>\n",
       "        <td>13:45:00</td>\n",
       "    </tr>\n",
       "    <tr>\n",
       "        <td>M</td>\n",
       "        <td>12:30:00</td>\n",
       "        <td>13:45:00</td>\n",
       "    </tr>\n",
       "</table>"
      ],
      "text/plain": [
       "[('T', '08:00:00', '09:15:00'),\n",
       " ('F', '08:00:00', '09:15:00'),\n",
       " ('T', '09:30:00', '10:45:00'),\n",
       " ('F', '09:30:00', '10:45:00'),\n",
       " ('T', '12:30:00', '13:45:00'),\n",
       " ('F', '12:30:00', '13:45:00'),\n",
       " ('R', '11:00:00', '12:15:00'),\n",
       " ('M', '11:00:00', '12:15:00'),\n",
       " ('R', '12:30:00', '13:45:00'),\n",
       " ('M', '12:30:00', '13:45:00')]"
      ]
     },
     "execution_count": 18,
     "metadata": {},
     "output_type": "execute_result"
    }
   ],
   "source": [
    "%%sql\n",
    "SELECT DISTINCT DAY,substr(start,12,8) as StartTime, substr(end,12,8) as EndTime \n",
    "FROM CourseData.COURSE_OFFERINGS\n",
    "    JOIN CourseData.COURSE_MEETINGS USING (COURSE_OFFERING_ID)\n",
    "LIMIT 10;"
   ]
  },
  {
   "cell_type": "code",
   "execution_count": 19,
   "metadata": {},
   "outputs": [
    {
     "name": "stdout",
     "output_type": "stream",
     "text": [
      " * sqlite:///CourseDataWarehouse.db\n",
      "0 rows affected.\n",
      "1090 rows affected.\n"
     ]
    },
    {
     "data": {
      "text/plain": [
       "[]"
      ]
     },
     "execution_count": 19,
     "metadata": {},
     "output_type": "execute_result"
    }
   ],
   "source": [
    "%%sql\n",
    "\n",
    "DELETE FROM TIME_SLICES;\n",
    "\n",
    "INSERT INTO TIME_SLICES ( DAY, START, END)\n",
    "SELECT DISTINCT DAY,substr(start,12,8) as StartTime, substr(end,12,8) as EndTime \n",
    "FROM CourseData.COURSE_OFFERINGS\n",
    "    JOIN CourseData.COURSE_MEETINGS USING (COURSE_OFFERING_ID)"
   ]
  },
  {
   "cell_type": "code",
   "execution_count": 20,
   "metadata": {},
   "outputs": [
    {
     "name": "stdout",
     "output_type": "stream",
     "text": [
      " * sqlite:///CourseDataWarehouse.db\n",
      "Done.\n"
     ]
    },
    {
     "data": {
      "text/html": [
       "<table>\n",
       "    <tr>\n",
       "        <th>TIMECODE</th>\n",
       "        <th>DAY</th>\n",
       "        <th>START</th>\n",
       "        <th>END</th>\n",
       "    </tr>\n",
       "    <tr>\n",
       "        <td>1</td>\n",
       "        <td>T</td>\n",
       "        <td>08:00:00</td>\n",
       "        <td>09:15:00</td>\n",
       "    </tr>\n",
       "    <tr>\n",
       "        <td>2</td>\n",
       "        <td>F</td>\n",
       "        <td>08:00:00</td>\n",
       "        <td>09:15:00</td>\n",
       "    </tr>\n",
       "    <tr>\n",
       "        <td>3</td>\n",
       "        <td>T</td>\n",
       "        <td>09:30:00</td>\n",
       "        <td>10:45:00</td>\n",
       "    </tr>\n",
       "    <tr>\n",
       "        <td>4</td>\n",
       "        <td>F</td>\n",
       "        <td>09:30:00</td>\n",
       "        <td>10:45:00</td>\n",
       "    </tr>\n",
       "    <tr>\n",
       "        <td>5</td>\n",
       "        <td>T</td>\n",
       "        <td>12:30:00</td>\n",
       "        <td>13:45:00</td>\n",
       "    </tr>\n",
       "    <tr>\n",
       "        <td>6</td>\n",
       "        <td>F</td>\n",
       "        <td>12:30:00</td>\n",
       "        <td>13:45:00</td>\n",
       "    </tr>\n",
       "    <tr>\n",
       "        <td>7</td>\n",
       "        <td>R</td>\n",
       "        <td>11:00:00</td>\n",
       "        <td>12:15:00</td>\n",
       "    </tr>\n",
       "    <tr>\n",
       "        <td>8</td>\n",
       "        <td>M</td>\n",
       "        <td>11:00:00</td>\n",
       "        <td>12:15:00</td>\n",
       "    </tr>\n",
       "    <tr>\n",
       "        <td>9</td>\n",
       "        <td>R</td>\n",
       "        <td>12:30:00</td>\n",
       "        <td>13:45:00</td>\n",
       "    </tr>\n",
       "    <tr>\n",
       "        <td>10</td>\n",
       "        <td>M</td>\n",
       "        <td>12:30:00</td>\n",
       "        <td>13:45:00</td>\n",
       "    </tr>\n",
       "</table>"
      ],
      "text/plain": [
       "[(1, 'T', '08:00:00', '09:15:00'),\n",
       " (2, 'F', '08:00:00', '09:15:00'),\n",
       " (3, 'T', '09:30:00', '10:45:00'),\n",
       " (4, 'F', '09:30:00', '10:45:00'),\n",
       " (5, 'T', '12:30:00', '13:45:00'),\n",
       " (6, 'F', '12:30:00', '13:45:00'),\n",
       " (7, 'R', '11:00:00', '12:15:00'),\n",
       " (8, 'M', '11:00:00', '12:15:00'),\n",
       " (9, 'R', '12:30:00', '13:45:00'),\n",
       " (10, 'M', '12:30:00', '13:45:00')]"
      ]
     },
     "execution_count": 20,
     "metadata": {},
     "output_type": "execute_result"
    }
   ],
   "source": [
    "%%sql\n",
    "SELECT DISTINCT *\n",
    "FROM TIME_SLICES\n",
    "LIMIT 10;"
   ]
  },
  {
   "cell_type": "code",
   "execution_count": 21,
   "metadata": {},
   "outputs": [
    {
     "name": "stdout",
     "output_type": "stream",
     "text": [
      " * sqlite:///CourseDataWarehouse.db\n",
      "Done.\n",
      "Done.\n"
     ]
    },
    {
     "data": {
      "text/plain": [
       "[]"
      ]
     },
     "execution_count": 21,
     "metadata": {},
     "output_type": "execute_result"
    }
   ],
   "source": [
    "%%sql\n",
    "DROP TABLE IF EXISTS TEMP_TABLE;\n",
    "CREATE TABLE TEMP_TABLE(\n",
    "    TIMECODE INTEGER,\n",
    "    MEETING_ID);"
   ]
  },
  {
   "cell_type": "code",
   "execution_count": 22,
   "metadata": {},
   "outputs": [
    {
     "name": "stdout",
     "output_type": "stream",
     "text": [
      " * sqlite:///CourseDataWarehouse.db\n",
      "284907 rows affected.\n"
     ]
    },
    {
     "data": {
      "text/plain": [
       "[]"
      ]
     },
     "execution_count": 22,
     "metadata": {},
     "output_type": "execute_result"
    }
   ],
   "source": [
    "%%sql \n",
    "INSERT INTO TEMP_TABLE (MEETING_ID, TIMECODE)\n",
    "SELECT DISTINCT MEETING_ID, TIMECODE\n",
    "FROM CourseData.COURSE_OFFERINGS\n",
    "    JOIN CourseData.COURSE_MEETINGS USING (COURSE_OFFERING_ID)\n",
    "    JOIN TIME_SLICES ON (TIME_SLICES.DAY = COURSE_MEETINGS.DAY AND TIME_SLICES.START =substr(COURSE_MEETINGS.start,12,8)  AND TIME_SLICES.END =substr(COURSE_MEETINGS.end,12,8) )"
   ]
  },
  {
   "cell_type": "code",
   "execution_count": 23,
   "metadata": {},
   "outputs": [
    {
     "name": "stdout",
     "output_type": "stream",
     "text": [
      " * sqlite:///CourseDataWarehouse.db\n",
      "Done.\n"
     ]
    },
    {
     "data": {
      "text/html": [
       "<table>\n",
       "    <tr>\n",
       "        <th>TIMECODE</th>\n",
       "        <th>MEETING_ID</th>\n",
       "    </tr>\n",
       "    <tr>\n",
       "        <td>1</td>\n",
       "        <td>1</td>\n",
       "    </tr>\n",
       "    <tr>\n",
       "        <td>2</td>\n",
       "        <td>2</td>\n",
       "    </tr>\n",
       "    <tr>\n",
       "        <td>1</td>\n",
       "        <td>3</td>\n",
       "    </tr>\n",
       "    <tr>\n",
       "        <td>2</td>\n",
       "        <td>4</td>\n",
       "    </tr>\n",
       "    <tr>\n",
       "        <td>1</td>\n",
       "        <td>5</td>\n",
       "    </tr>\n",
       "    <tr>\n",
       "        <td>2</td>\n",
       "        <td>6</td>\n",
       "    </tr>\n",
       "    <tr>\n",
       "        <td>1</td>\n",
       "        <td>7</td>\n",
       "    </tr>\n",
       "    <tr>\n",
       "        <td>2</td>\n",
       "        <td>8</td>\n",
       "    </tr>\n",
       "    <tr>\n",
       "        <td>1</td>\n",
       "        <td>9</td>\n",
       "    </tr>\n",
       "    <tr>\n",
       "        <td>2</td>\n",
       "        <td>10</td>\n",
       "    </tr>\n",
       "</table>"
      ],
      "text/plain": [
       "[(1, 1),\n",
       " (2, 2),\n",
       " (1, 3),\n",
       " (2, 4),\n",
       " (1, 5),\n",
       " (2, 6),\n",
       " (1, 7),\n",
       " (2, 8),\n",
       " (1, 9),\n",
       " (2, 10)]"
      ]
     },
     "execution_count": 23,
     "metadata": {},
     "output_type": "execute_result"
    }
   ],
   "source": [
    "%%sql\n",
    "SELECT *\n",
    "FROM TEMP_TABLE\n",
    "LIMIT 10;"
   ]
  },
  {
   "cell_type": "code",
   "execution_count": 24,
   "metadata": {},
   "outputs": [
    {
     "name": "stdout",
     "output_type": "stream",
     "text": [
      " * sqlite:///CourseDataWarehouse.db\n",
      "Done.\n"
     ]
    },
    {
     "data": {
      "text/html": [
       "<table>\n",
       "    <tr>\n",
       "        <th>MEETING_ID</th>\n",
       "        <th>TIMECODE</th>\n",
       "    </tr>\n",
       "    <tr>\n",
       "        <td>1</td>\n",
       "        <td>1</td>\n",
       "    </tr>\n",
       "    <tr>\n",
       "        <td>2</td>\n",
       "        <td>2</td>\n",
       "    </tr>\n",
       "    <tr>\n",
       "        <td>3</td>\n",
       "        <td>1</td>\n",
       "    </tr>\n",
       "    <tr>\n",
       "        <td>4</td>\n",
       "        <td>2</td>\n",
       "    </tr>\n",
       "    <tr>\n",
       "        <td>5</td>\n",
       "        <td>1</td>\n",
       "    </tr>\n",
       "    <tr>\n",
       "        <td>6</td>\n",
       "        <td>2</td>\n",
       "    </tr>\n",
       "    <tr>\n",
       "        <td>7</td>\n",
       "        <td>1</td>\n",
       "    </tr>\n",
       "    <tr>\n",
       "        <td>8</td>\n",
       "        <td>2</td>\n",
       "    </tr>\n",
       "    <tr>\n",
       "        <td>9</td>\n",
       "        <td>1</td>\n",
       "    </tr>\n",
       "    <tr>\n",
       "        <td>10</td>\n",
       "        <td>2</td>\n",
       "    </tr>\n",
       "</table>"
      ],
      "text/plain": [
       "[(1, 1),\n",
       " (2, 2),\n",
       " (3, 1),\n",
       " (4, 2),\n",
       " (5, 1),\n",
       " (6, 2),\n",
       " (7, 1),\n",
       " (8, 2),\n",
       " (9, 1),\n",
       " (10, 2)]"
      ]
     },
     "execution_count": 24,
     "metadata": {},
     "output_type": "execute_result"
    }
   ],
   "source": [
    "%%sql\n",
    "SELECT DISTINCT MEETING_ID, TIMECODE\n",
    "FROM CourseData.COURSE_OFFERINGS\n",
    "    JOIN CourseData.COURSE_MEETINGS USING (COURSE_OFFERING_ID)\n",
    "    JOIN TIME_SLICES ON (TIME_SLICES.DAY = COURSE_MEETINGS.DAY AND TIME_SLICES.START =substr(COURSE_MEETINGS.start,12,8)  AND TIME_SLICES.END =substr(COURSE_MEETINGS.end,12,8) )\n",
    "LIMIT 10;"
   ]
  },
  {
   "cell_type": "code",
   "execution_count": 25,
   "metadata": {},
   "outputs": [
    {
     "name": "stdout",
     "output_type": "stream",
     "text": [
      " * sqlite:///CourseDataWarehouse.db\n",
      "Done.\n"
     ]
    },
    {
     "data": {
      "text/html": [
       "<table>\n",
       "    <tr>\n",
       "        <th>TERM</th>\n",
       "    </tr>\n",
       "    <tr>\n",
       "        <td>Fall2014</td>\n",
       "    </tr>\n",
       "    <tr>\n",
       "        <td>Fall2015</td>\n",
       "    </tr>\n",
       "    <tr>\n",
       "        <td>Fall2016</td>\n",
       "    </tr>\n",
       "    <tr>\n",
       "        <td>Fall2017</td>\n",
       "    </tr>\n",
       "    <tr>\n",
       "        <td>Fall2018</td>\n",
       "    </tr>\n",
       "    <tr>\n",
       "        <td>Spring2015</td>\n",
       "    </tr>\n",
       "    <tr>\n",
       "        <td>Spring2016</td>\n",
       "    </tr>\n",
       "    <tr>\n",
       "        <td>Spring2017</td>\n",
       "    </tr>\n",
       "    <tr>\n",
       "        <td>Spring2018</td>\n",
       "    </tr>\n",
       "    <tr>\n",
       "        <td>Spring2019</td>\n",
       "    </tr>\n",
       "</table>"
      ],
      "text/plain": [
       "[('Fall2014',),\n",
       " ('Fall2015',),\n",
       " ('Fall2016',),\n",
       " ('Fall2017',),\n",
       " ('Fall2018',),\n",
       " ('Spring2015',),\n",
       " ('Spring2016',),\n",
       " ('Spring2017',),\n",
       " ('Spring2018',),\n",
       " ('Spring2019',)]"
      ]
     },
     "execution_count": 25,
     "metadata": {},
     "output_type": "execute_result"
    }
   ],
   "source": [
    "%%sql\n",
    "SELECT DISTINCT TERM\n",
    "FROM CourseData.Course_Offerings\n",
    "LIMIT 10;"
   ]
  },
  {
   "cell_type": "code",
   "execution_count": 26,
   "metadata": {},
   "outputs": [
    {
     "name": "stdout",
     "output_type": "stream",
     "text": [
      " * sqlite:///CourseDataWarehouse.db\n",
      "0 rows affected.\n",
      "19 rows affected.\n"
     ]
    },
    {
     "data": {
      "text/plain": [
       "[]"
      ]
     },
     "execution_count": 26,
     "metadata": {},
     "output_type": "execute_result"
    }
   ],
   "source": [
    "%%sql\n",
    "\n",
    "DELETE FROM CALENDAR_DATES;\n",
    "\n",
    "INSERT INTO CALENDAR_DATES (TERM)\n",
    "SELECT DISTINCT TERM\n",
    "FROM CourseData.Course_Offerings"
   ]
  },
  {
   "cell_type": "code",
   "execution_count": 27,
   "metadata": {},
   "outputs": [
    {
     "name": "stdout",
     "output_type": "stream",
     "text": [
      " * sqlite:///CourseDataWarehouse.db\n",
      "Done.\n"
     ]
    },
    {
     "data": {
      "text/html": [
       "<table>\n",
       "    <tr>\n",
       "        <th>TERM</th>\n",
       "    </tr>\n",
       "    <tr>\n",
       "        <td>Fall2014</td>\n",
       "    </tr>\n",
       "    <tr>\n",
       "        <td>Fall2015</td>\n",
       "    </tr>\n",
       "    <tr>\n",
       "        <td>Fall2016</td>\n",
       "    </tr>\n",
       "    <tr>\n",
       "        <td>Fall2017</td>\n",
       "    </tr>\n",
       "    <tr>\n",
       "        <td>Fall2018</td>\n",
       "    </tr>\n",
       "    <tr>\n",
       "        <td>Spring2015</td>\n",
       "    </tr>\n",
       "    <tr>\n",
       "        <td>Spring2016</td>\n",
       "    </tr>\n",
       "    <tr>\n",
       "        <td>Spring2017</td>\n",
       "    </tr>\n",
       "    <tr>\n",
       "        <td>Spring2018</td>\n",
       "    </tr>\n",
       "    <tr>\n",
       "        <td>Spring2019</td>\n",
       "    </tr>\n",
       "</table>"
      ],
      "text/plain": [
       "[('Fall2014',),\n",
       " ('Fall2015',),\n",
       " ('Fall2016',),\n",
       " ('Fall2017',),\n",
       " ('Fall2018',),\n",
       " ('Spring2015',),\n",
       " ('Spring2016',),\n",
       " ('Spring2017',),\n",
       " ('Spring2018',),\n",
       " ('Spring2019',)]"
      ]
     },
     "execution_count": 27,
     "metadata": {},
     "output_type": "execute_result"
    }
   ],
   "source": [
    "%%sql\n",
    "SELECT *\n",
    "FROM CALENDAR_DATES\n",
    "LIMIT 10;"
   ]
  },
  {
   "cell_type": "code",
   "execution_count": 28,
   "metadata": {},
   "outputs": [
    {
     "name": "stdout",
     "output_type": "stream",
     "text": [
      " * sqlite:///CourseDataWarehouse.db\n",
      "Done.\n"
     ]
    },
    {
     "data": {
      "text/html": [
       "<table>\n",
       "    <tr>\n",
       "        <th>CATALOG_ID</th>\n",
       "        <th>TITLE</th>\n",
       "        <th>PREREQ</th>\n",
       "        <th>COREQ</th>\n",
       "        <th>SECTION</th>\n",
       "        <th>CAPACITY</th>\n",
       "        <th>ACTUAL</th>\n",
       "        <th>REMAINING</th>\n",
       "        <th>CREDITS</th>\n",
       "        <th>TERM</th>\n",
       "        <th>LOCATION_ID</th>\n",
       "        <th>INSTRUCTOR_ID</th>\n",
       "        <th>PROGRAM_ID</th>\n",
       "        <th>DAY</th>\n",
       "        <th>START</th>\n",
       "        <th>END</th>\n",
       "    </tr>\n",
       "    <tr>\n",
       "        <td>AC 0011</td>\n",
       "        <td>Introduction to Financial Accounting</td>\n",
       "        <td>None</td>\n",
       "        <td>None</td>\n",
       "        <td>C01</td>\n",
       "        <td>0</td>\n",
       "        <td>31</td>\n",
       "        <td>-31</td>\n",
       "        <td>3</td>\n",
       "        <td>Fall2014</td>\n",
       "        <td>99</td>\n",
       "        <td>1</td>\n",
       "        <td>1</td>\n",
       "        <td>T</td>\n",
       "        <td>08:00:00</td>\n",
       "        <td>09:15:00</td>\n",
       "    </tr>\n",
       "    <tr>\n",
       "        <td>AC 0011</td>\n",
       "        <td>Introduction to Financial Accounting</td>\n",
       "        <td>None</td>\n",
       "        <td>None</td>\n",
       "        <td>C01</td>\n",
       "        <td>0</td>\n",
       "        <td>31</td>\n",
       "        <td>-31</td>\n",
       "        <td>3</td>\n",
       "        <td>Fall2014</td>\n",
       "        <td>99</td>\n",
       "        <td>1</td>\n",
       "        <td>1</td>\n",
       "        <td>F</td>\n",
       "        <td>08:00:00</td>\n",
       "        <td>09:15:00</td>\n",
       "    </tr>\n",
       "    <tr>\n",
       "        <td>AC 0011</td>\n",
       "        <td>Introduction to Financial Accounting</td>\n",
       "        <td>None</td>\n",
       "        <td>None</td>\n",
       "        <td>C02</td>\n",
       "        <td>0</td>\n",
       "        <td>31</td>\n",
       "        <td>-31</td>\n",
       "        <td>3</td>\n",
       "        <td>Fall2014</td>\n",
       "        <td>99</td>\n",
       "        <td>1</td>\n",
       "        <td>1</td>\n",
       "        <td>T</td>\n",
       "        <td>09:30:00</td>\n",
       "        <td>10:45:00</td>\n",
       "    </tr>\n",
       "    <tr>\n",
       "        <td>AC 0011</td>\n",
       "        <td>Introduction to Financial Accounting</td>\n",
       "        <td>None</td>\n",
       "        <td>None</td>\n",
       "        <td>C02</td>\n",
       "        <td>0</td>\n",
       "        <td>31</td>\n",
       "        <td>-31</td>\n",
       "        <td>3</td>\n",
       "        <td>Fall2014</td>\n",
       "        <td>99</td>\n",
       "        <td>1</td>\n",
       "        <td>1</td>\n",
       "        <td>F</td>\n",
       "        <td>09:30:00</td>\n",
       "        <td>10:45:00</td>\n",
       "    </tr>\n",
       "    <tr>\n",
       "        <td>AC 0011</td>\n",
       "        <td>Introduction to Financial Accounting</td>\n",
       "        <td>None</td>\n",
       "        <td>None</td>\n",
       "        <td>C03</td>\n",
       "        <td>0</td>\n",
       "        <td>31</td>\n",
       "        <td>-31</td>\n",
       "        <td>3</td>\n",
       "        <td>Fall2014</td>\n",
       "        <td>99</td>\n",
       "        <td>1</td>\n",
       "        <td>1</td>\n",
       "        <td>T</td>\n",
       "        <td>12:30:00</td>\n",
       "        <td>13:45:00</td>\n",
       "    </tr>\n",
       "    <tr>\n",
       "        <td>AC 0011</td>\n",
       "        <td>Introduction to Financial Accounting</td>\n",
       "        <td>None</td>\n",
       "        <td>None</td>\n",
       "        <td>C03</td>\n",
       "        <td>0</td>\n",
       "        <td>31</td>\n",
       "        <td>-31</td>\n",
       "        <td>3</td>\n",
       "        <td>Fall2014</td>\n",
       "        <td>99</td>\n",
       "        <td>1</td>\n",
       "        <td>1</td>\n",
       "        <td>F</td>\n",
       "        <td>12:30:00</td>\n",
       "        <td>13:45:00</td>\n",
       "    </tr>\n",
       "    <tr>\n",
       "        <td>AC 0011</td>\n",
       "        <td>Introduction to Financial Accounting</td>\n",
       "        <td>None</td>\n",
       "        <td>None</td>\n",
       "        <td>C04</td>\n",
       "        <td>0</td>\n",
       "        <td>29</td>\n",
       "        <td>-29</td>\n",
       "        <td>3</td>\n",
       "        <td>Fall2014</td>\n",
       "        <td>107</td>\n",
       "        <td>2</td>\n",
       "        <td>1</td>\n",
       "        <td>R</td>\n",
       "        <td>11:00:00</td>\n",
       "        <td>12:15:00</td>\n",
       "    </tr>\n",
       "    <tr>\n",
       "        <td>AC 0011</td>\n",
       "        <td>Introduction to Financial Accounting</td>\n",
       "        <td>None</td>\n",
       "        <td>None</td>\n",
       "        <td>C04</td>\n",
       "        <td>0</td>\n",
       "        <td>29</td>\n",
       "        <td>-29</td>\n",
       "        <td>3</td>\n",
       "        <td>Fall2014</td>\n",
       "        <td>107</td>\n",
       "        <td>2</td>\n",
       "        <td>1</td>\n",
       "        <td>M</td>\n",
       "        <td>11:00:00</td>\n",
       "        <td>12:15:00</td>\n",
       "    </tr>\n",
       "    <tr>\n",
       "        <td>AC 0011</td>\n",
       "        <td>Introduction to Financial Accounting</td>\n",
       "        <td>None</td>\n",
       "        <td>None</td>\n",
       "        <td>C05</td>\n",
       "        <td>0</td>\n",
       "        <td>30</td>\n",
       "        <td>-30</td>\n",
       "        <td>3</td>\n",
       "        <td>Fall2014</td>\n",
       "        <td>107</td>\n",
       "        <td>2</td>\n",
       "        <td>1</td>\n",
       "        <td>R</td>\n",
       "        <td>12:30:00</td>\n",
       "        <td>13:45:00</td>\n",
       "    </tr>\n",
       "    <tr>\n",
       "        <td>AC 0011</td>\n",
       "        <td>Introduction to Financial Accounting</td>\n",
       "        <td>None</td>\n",
       "        <td>None</td>\n",
       "        <td>C05</td>\n",
       "        <td>0</td>\n",
       "        <td>30</td>\n",
       "        <td>-30</td>\n",
       "        <td>3</td>\n",
       "        <td>Fall2014</td>\n",
       "        <td>107</td>\n",
       "        <td>2</td>\n",
       "        <td>1</td>\n",
       "        <td>M</td>\n",
       "        <td>12:30:00</td>\n",
       "        <td>13:45:00</td>\n",
       "    </tr>\n",
       "</table>"
      ],
      "text/plain": [
       "[('AC 0011', 'Introduction to Financial Accounting', None, None, 'C01', 0, 31, -31, 3, 'Fall2014', 99, 1, 1, 'T', '08:00:00', '09:15:00'),\n",
       " ('AC 0011', 'Introduction to Financial Accounting', None, None, 'C01', 0, 31, -31, 3, 'Fall2014', 99, 1, 1, 'F', '08:00:00', '09:15:00'),\n",
       " ('AC 0011', 'Introduction to Financial Accounting', None, None, 'C02', 0, 31, -31, 3, 'Fall2014', 99, 1, 1, 'T', '09:30:00', '10:45:00'),\n",
       " ('AC 0011', 'Introduction to Financial Accounting', None, None, 'C02', 0, 31, -31, 3, 'Fall2014', 99, 1, 1, 'F', '09:30:00', '10:45:00'),\n",
       " ('AC 0011', 'Introduction to Financial Accounting', None, None, 'C03', 0, 31, -31, 3, 'Fall2014', 99, 1, 1, 'T', '12:30:00', '13:45:00'),\n",
       " ('AC 0011', 'Introduction to Financial Accounting', None, None, 'C03', 0, 31, -31, 3, 'Fall2014', 99, 1, 1, 'F', '12:30:00', '13:45:00'),\n",
       " ('AC 0011', 'Introduction to Financial Accounting', None, None, 'C04', 0, 29, -29, 3, 'Fall2014', 107, 2, 1, 'R', '11:00:00', '12:15:00'),\n",
       " ('AC 0011', 'Introduction to Financial Accounting', None, None, 'C04', 0, 29, -29, 3, 'Fall2014', 107, 2, 1, 'M', '11:00:00', '12:15:00'),\n",
       " ('AC 0011', 'Introduction to Financial Accounting', None, None, 'C05', 0, 30, -30, 3, 'Fall2014', 107, 2, 1, 'R', '12:30:00', '13:45:00'),\n",
       " ('AC 0011', 'Introduction to Financial Accounting', None, None, 'C05', 0, 30, -30, 3, 'Fall2014', 107, 2, 1, 'M', '12:30:00', '13:45:00')]"
      ]
     },
     "execution_count": 28,
     "metadata": {},
     "output_type": "execute_result"
    }
   ],
   "source": [
    "%%sql\n",
    "SELECT DISTINCT CATALOG_ID, TITLE, PREREQ, COREQ, SECTION, CAPACITY, ACTUAL, REMAINING, CREDITS, CALENDAR_DATES.TERM, LOCATIONS.LOCATION_ID, INSTRUCTORS.INSTRUCTOR_ID, PROGRAMS.PROGRAM_ID, TIME_SLICES.DAY, TIME_SLICES.START, TIME_SLICES.END\n",
    "FROM CourseData.Courses\n",
    "    JOIN CourseData.Course_Offerings USING (CATALOG_ID)\n",
    "    JOIN CALENDAR_DATES ON (CALENDAR_DATES.TERM = CourseData.Course_Offerings.TERM)\n",
    "    JOIN CourseData.Course_Meetings USING (COURSE_OFFERING_ID)\n",
    "    JOIN LOCATIONS ON (LOCATIONS.LOCATION_ID = CourseData.Course_Meetings.Location_ID)\n",
    "    JOIN INSTRUCTORS ON (INSTRUCTORS.INSTRUCTOR_ID = CourseData.Course_Offerings.Primary_Instructor_ID)\n",
    "    JOIN PROGRAMS ON (PROGRAMS.PROGRAM_ID = CourseData.Courses.Program_ID)\n",
    "    JOIN TEMP_TABLE ON (TEMP_TABLE.MEETING_ID = CourseData.Course_Meetings.MEETING_ID)\n",
    "    JOIN TIME_SLICES ON (TIME_SLICES.TIMECODE = TEMP_TABLE.TIMECODE)\n",
    "LIMIT 10;\n"
   ]
  },
  {
   "cell_type": "code",
   "execution_count": 29,
   "metadata": {},
   "outputs": [
    {
     "name": "stdout",
     "output_type": "stream",
     "text": [
      " * sqlite:///CourseDataWarehouse.db\n",
      "Done.\n"
     ]
    },
    {
     "data": {
      "text/html": [
       "<table>\n",
       "    <tr>\n",
       "        <th>CATALOG_ID</th>\n",
       "        <th>TITLE</th>\n",
       "        <th>PREREQ</th>\n",
       "        <th>COREQ</th>\n",
       "        <th>SECTION</th>\n",
       "        <th>CAPACITY</th>\n",
       "        <th>ACTUAL</th>\n",
       "        <th>REMAINING</th>\n",
       "        <th>CREDITS</th>\n",
       "        <th>TERM</th>\n",
       "        <th>LOCATION_ID</th>\n",
       "        <th>INSTRUCTOR_ID</th>\n",
       "        <th>PROGRAM_ID</th>\n",
       "        <th>TIMECODE</th>\n",
       "    </tr>\n",
       "    <tr>\n",
       "        <td>AN 0310</td>\n",
       "        <td>Asian Studies Seminar</td>\n",
       "        <td>None</td>\n",
       "        <td>None</td>\n",
       "        <td>B</td>\n",
       "        <td>5</td>\n",
       "        <td>2</td>\n",
       "        <td>3</td>\n",
       "        <td>3</td>\n",
       "        <td>Spring2015</td>\n",
       "        <td>78</td>\n",
       "        <td>92</td>\n",
       "        <td>4</td>\n",
       "        <td>29</td>\n",
       "    </tr>\n",
       "    <tr>\n",
       "        <td>BU 0211</td>\n",
       "        <td>Legal Environment of Business</td>\n",
       "        <td>Junior standing.</td>\n",
       "        <td>None</td>\n",
       "        <td>1</td>\n",
       "        <td>0</td>\n",
       "        <td>26</td>\n",
       "        <td>-26</td>\n",
       "        <td>3</td>\n",
       "        <td>Fall2016</td>\n",
       "        <td>100</td>\n",
       "        <td>68</td>\n",
       "        <td>12</td>\n",
       "        <td>44</td>\n",
       "    </tr>\n",
       "    <tr>\n",
       "        <td>BU 0211</td>\n",
       "        <td>Legal Environment of Business</td>\n",
       "        <td>Junior standing.</td>\n",
       "        <td>None</td>\n",
       "        <td>1</td>\n",
       "        <td>20</td>\n",
       "        <td>13</td>\n",
       "        <td>7</td>\n",
       "        <td>3</td>\n",
       "        <td>Summer2018</td>\n",
       "        <td>100</td>\n",
       "        <td>68</td>\n",
       "        <td>12</td>\n",
       "        <td>747</td>\n",
       "    </tr>\n",
       "    <tr>\n",
       "        <td>BU 0211</td>\n",
       "        <td>Legal Environment of Business</td>\n",
       "        <td>Junior standing.</td>\n",
       "        <td>None</td>\n",
       "        <td>1</td>\n",
       "        <td>20</td>\n",
       "        <td>13</td>\n",
       "        <td>7</td>\n",
       "        <td>3</td>\n",
       "        <td>Summer2018</td>\n",
       "        <td>100</td>\n",
       "        <td>68</td>\n",
       "        <td>12</td>\n",
       "        <td>748</td>\n",
       "    </tr>\n",
       "    <tr>\n",
       "        <td>BU 0211</td>\n",
       "        <td>Legal Environment of Business</td>\n",
       "        <td>Junior standing.</td>\n",
       "        <td>None</td>\n",
       "        <td>1</td>\n",
       "        <td>20</td>\n",
       "        <td>13</td>\n",
       "        <td>7</td>\n",
       "        <td>3</td>\n",
       "        <td>Summer2018</td>\n",
       "        <td>100</td>\n",
       "        <td>68</td>\n",
       "        <td>12</td>\n",
       "        <td>749</td>\n",
       "    </tr>\n",
       "    <tr>\n",
       "        <td>BU 0211</td>\n",
       "        <td>Legal Environment of Business</td>\n",
       "        <td>Junior standing.</td>\n",
       "        <td>None</td>\n",
       "        <td>1</td>\n",
       "        <td>20</td>\n",
       "        <td>13</td>\n",
       "        <td>7</td>\n",
       "        <td>3</td>\n",
       "        <td>Summer2018</td>\n",
       "        <td>100</td>\n",
       "        <td>68</td>\n",
       "        <td>12</td>\n",
       "        <td>746</td>\n",
       "    </tr>\n",
       "    <tr>\n",
       "        <td>BU 0211</td>\n",
       "        <td>Legal Environment of Business</td>\n",
       "        <td>Junior standing.</td>\n",
       "        <td>None</td>\n",
       "        <td>1</td>\n",
       "        <td>20</td>\n",
       "        <td>16</td>\n",
       "        <td>4</td>\n",
       "        <td>3</td>\n",
       "        <td>Summer2016</td>\n",
       "        <td>100</td>\n",
       "        <td>68</td>\n",
       "        <td>12</td>\n",
       "        <td>748</td>\n",
       "    </tr>\n",
       "    <tr>\n",
       "        <td>BU 0211</td>\n",
       "        <td>Legal Environment of Business</td>\n",
       "        <td>Junior standing.</td>\n",
       "        <td>None</td>\n",
       "        <td>1</td>\n",
       "        <td>20</td>\n",
       "        <td>16</td>\n",
       "        <td>4</td>\n",
       "        <td>3</td>\n",
       "        <td>Summer2016</td>\n",
       "        <td>100</td>\n",
       "        <td>68</td>\n",
       "        <td>12</td>\n",
       "        <td>749</td>\n",
       "    </tr>\n",
       "    <tr>\n",
       "        <td>BU 0211</td>\n",
       "        <td>Legal Environment of Business</td>\n",
       "        <td>Junior standing.</td>\n",
       "        <td>None</td>\n",
       "        <td>1</td>\n",
       "        <td>20</td>\n",
       "        <td>16</td>\n",
       "        <td>4</td>\n",
       "        <td>3</td>\n",
       "        <td>Summer2016</td>\n",
       "        <td>100</td>\n",
       "        <td>68</td>\n",
       "        <td>12</td>\n",
       "        <td>746</td>\n",
       "    </tr>\n",
       "    <tr>\n",
       "        <td>BU 0211</td>\n",
       "        <td>Legal Environment of Business</td>\n",
       "        <td>Junior standing.</td>\n",
       "        <td>None</td>\n",
       "        <td>1</td>\n",
       "        <td>20</td>\n",
       "        <td>16</td>\n",
       "        <td>4</td>\n",
       "        <td>3</td>\n",
       "        <td>Summer2016</td>\n",
       "        <td>100</td>\n",
       "        <td>68</td>\n",
       "        <td>12</td>\n",
       "        <td>747</td>\n",
       "    </tr>\n",
       "</table>"
      ],
      "text/plain": [
       "[('AN 0310', 'Asian Studies Seminar', None, None, 'B', 5, 2, 3, 3, 'Spring2015', 78, 92, 4, 29),\n",
       " ('BU 0211', 'Legal Environment of Business', 'Junior standing.', None, 1, 0, 26, -26, 3, 'Fall2016', 100, 68, 12, 44),\n",
       " ('BU 0211', 'Legal Environment of Business', 'Junior standing.', None, 1, 20, 13, 7, 3, 'Summer2018', 100, 68, 12, 747),\n",
       " ('BU 0211', 'Legal Environment of Business', 'Junior standing.', None, 1, 20, 13, 7, 3, 'Summer2018', 100, 68, 12, 748),\n",
       " ('BU 0211', 'Legal Environment of Business', 'Junior standing.', None, 1, 20, 13, 7, 3, 'Summer2018', 100, 68, 12, 749),\n",
       " ('BU 0211', 'Legal Environment of Business', 'Junior standing.', None, 1, 20, 13, 7, 3, 'Summer2018', 100, 68, 12, 746),\n",
       " ('BU 0211', 'Legal Environment of Business', 'Junior standing.', None, 1, 20, 16, 4, 3, 'Summer2016', 100, 68, 12, 748),\n",
       " ('BU 0211', 'Legal Environment of Business', 'Junior standing.', None, 1, 20, 16, 4, 3, 'Summer2016', 100, 68, 12, 749),\n",
       " ('BU 0211', 'Legal Environment of Business', 'Junior standing.', None, 1, 20, 16, 4, 3, 'Summer2016', 100, 68, 12, 746),\n",
       " ('BU 0211', 'Legal Environment of Business', 'Junior standing.', None, 1, 20, 16, 4, 3, 'Summer2016', 100, 68, 12, 747)]"
      ]
     },
     "execution_count": 29,
     "metadata": {},
     "output_type": "execute_result"
    }
   ],
   "source": [
    "%%sql\n",
    "\n",
    "SELECT DISTINCT CATALOG_ID, TITLE, PREREQ, COREQ, SECTION, CAPACITY, ACTUAL, REMAINING, CREDITS, CALENDAR_DATES.TERM, LOCATIONS.LOCATION_ID, INSTRUCTORS.INSTRUCTOR_ID, PROGRAMS.PROGRAM_ID, TIME_SLICES.TIMECODE\n",
    "FROM CourseData.Courses\n",
    "    JOIN CourseData.Course_Offerings USING (CATALOG_ID)\n",
    "    JOIN CALENDAR_DATES ON (CALENDAR_DATES.TERM = CourseData.Course_Offerings.TERM)\n",
    "    JOIN CourseData.Course_Meetings USING (COURSE_OFFERING_ID)\n",
    "    JOIN LOCATIONS ON (LOCATIONS.LOCATION_ID = CourseData.Course_Meetings.Location_ID)\n",
    "    JOIN INSTRUCTORS ON (INSTRUCTORS.INSTRUCTOR_ID = CourseData.Course_Offerings.Primary_Instructor_ID)\n",
    "    JOIN PROGRAMS ON (PROGRAMS.PROGRAM_ID = CourseData.Courses.Program_ID)\n",
    "    JOIN TEMP_TABLE ON (TEMP_TABLE.MEETING_ID = CourseData.Course_Meetings.MEETING_ID)\n",
    "    JOIN TIME_SLICES ON (TIME_SLICES.TIMECODE = TEMP_TABLE.TIMECODE)\n",
    "LIMIT 10;"
   ]
  },
  {
   "cell_type": "code",
   "execution_count": null,
   "metadata": {},
   "outputs": [],
   "source": []
  },
  {
   "cell_type": "code",
   "execution_count": null,
   "metadata": {},
   "outputs": [],
   "source": []
  }
 ],
 "metadata": {
  "kernelspec": {
   "display_name": "Python 3",
   "language": "python",
   "name": "python3"
  },
  "language_info": {
   "codemirror_mode": {
    "name": "ipython",
    "version": 3
   },
   "file_extension": ".py",
   "mimetype": "text/x-python",
   "name": "python",
   "nbconvert_exporter": "python",
   "pygments_lexer": "ipython3",
   "version": "3.6.7"
  }
 },
 "nbformat": 4,
 "nbformat_minor": 4
}
