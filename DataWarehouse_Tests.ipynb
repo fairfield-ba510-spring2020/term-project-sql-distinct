{
 "cells": [
  {
   "cell_type": "code",
   "execution_count": 1,
   "metadata": {},
   "outputs": [],
   "source": [
    "%load_ext sql\n",
    "import sqlite3"
   ]
  },
  {
   "cell_type": "code",
   "execution_count": 2,
   "metadata": {},
   "outputs": [
    {
     "data": {
      "text/plain": [
       "'Connected: @CourseDataWarehouse.db'"
      ]
     },
     "execution_count": 2,
     "metadata": {},
     "output_type": "execute_result"
    }
   ],
   "source": [
    "%sql sqlite:///CourseDataWarehouse.db"
   ]
  },
  {
   "cell_type": "markdown",
   "metadata": {},
   "source": [
    "# 7. Datawarehouse Integrity Tests"
   ]
  },
  {
   "cell_type": "markdown",
   "metadata": {},
   "source": [
    "## A. How many courses are offered in 2018?"
   ]
  },
  {
   "cell_type": "code",
   "execution_count": 38,
   "metadata": {},
   "outputs": [
    {
     "name": "stdout",
     "output_type": "stream",
     "text": [
      " * sqlite:///CourseDataWarehouse.db\n",
      "Done.\n"
     ]
    },
    {
     "data": {
      "text/html": [
       "<table>\n",
       "    <tr>\n",
       "        <th>TERM</th>\n",
       "        <th>count(DISTINCT CATALOG_ID)</th>\n",
       "    </tr>\n",
       "    <tr>\n",
       "        <td>Fall2018</td>\n",
       "        <td>612</td>\n",
       "    </tr>\n",
       "    <tr>\n",
       "        <td>Spring2018</td>\n",
       "        <td>642</td>\n",
       "    </tr>\n",
       "    <tr>\n",
       "        <td>Summer2018</td>\n",
       "        <td>151</td>\n",
       "    </tr>\n",
       "    <tr>\n",
       "        <td>Winter2018</td>\n",
       "        <td>9</td>\n",
       "    </tr>\n",
       "</table>"
      ],
      "text/plain": [
       "[('Fall2018', 612),\n",
       " ('Spring2018', 642),\n",
       " ('Summer2018', 151),\n",
       " ('Winter2018', 9)]"
      ]
     },
     "execution_count": 38,
     "metadata": {},
     "output_type": "execute_result"
    }
   ],
   "source": [
    "%%sql \n",
    "SELECT TERM, count(DISTINCT CATALOG_ID)\n",
    "FROM COURSE_FACTS\n",
    "    JOIN CALENDAR_DATES USING (TERM)\n",
    "WHERE TERM LIKE '%2018%'\n",
    "GROUP BY TERM"
   ]
  },
  {
   "cell_type": "markdown",
   "metadata": {},
   "source": [
    "## B. How many courses are offered in Bannow?"
   ]
  },
  {
   "cell_type": "code",
   "execution_count": 41,
   "metadata": {},
   "outputs": [
    {
     "name": "stdout",
     "output_type": "stream",
     "text": [
      " * sqlite:///CourseDataWarehouse.db\n",
      "Done.\n"
     ]
    },
    {
     "data": {
      "text/html": [
       "<table>\n",
       "    <tr>\n",
       "        <th>count(DISTINCT CATALOG_ID)</th>\n",
       "    </tr>\n",
       "    <tr>\n",
       "        <td>612</td>\n",
       "    </tr>\n",
       "</table>"
      ],
      "text/plain": [
       "[(612,)]"
      ]
     },
     "execution_count": 41,
     "metadata": {},
     "output_type": "execute_result"
    }
   ],
   "source": [
    "%%sql\n",
    "SELECT count(DISTINCT CATALOG_ID)\n",
    "FROM COURSE_FACTS\n",
    "    JOIN LOCATIONS USING (LOCATION_ID)\n",
    "WHERE ROOM_ID LIKE '%BNW%'"
   ]
  },
  {
   "cell_type": "markdown",
   "metadata": {},
   "source": [
    "## C. How many courses has each professor taught?"
   ]
  },
  {
   "cell_type": "code",
   "execution_count": 19,
   "metadata": {},
   "outputs": [
    {
     "name": "stdout",
     "output_type": "stream",
     "text": [
      " * sqlite:///CourseDataWarehouse.db\n",
      "Done.\n"
     ]
    },
    {
     "data": {
      "text/html": [
       "<table>\n",
       "    <tr>\n",
       "        <th>INSTRUCTOR_ID</th>\n",
       "        <th>INSTRUCTOR_NAME</th>\n",
       "        <th>count(CATALOG_ID)</th>\n",
       "        <th>count(term)</th>\n",
       "    </tr>\n",
       "    <tr>\n",
       "        <td>1</td>\n",
       "        <td>Michael P.  Coyne</td>\n",
       "        <td>56</td>\n",
       "        <td>56</td>\n",
       "    </tr>\n",
       "    <tr>\n",
       "        <td>2</td>\n",
       "        <td>Rebecca I.  Bloch</td>\n",
       "        <td>55</td>\n",
       "        <td>55</td>\n",
       "    </tr>\n",
       "    <tr>\n",
       "        <td>3</td>\n",
       "        <td>Paul   Caster</td>\n",
       "        <td>62</td>\n",
       "        <td>62</td>\n",
       "    </tr>\n",
       "    <tr>\n",
       "        <td>4</td>\n",
       "        <td>Jo Ann   Drusbosky</td>\n",
       "        <td>70</td>\n",
       "        <td>70</td>\n",
       "    </tr>\n",
       "    <tr>\n",
       "        <td>5</td>\n",
       "        <td>Arleen N.  Kardos</td>\n",
       "        <td>44</td>\n",
       "        <td>44</td>\n",
       "    </tr>\n",
       "    <tr>\n",
       "        <td>6</td>\n",
       "        <td>Scott M  Brenner</td>\n",
       "        <td>51</td>\n",
       "        <td>51</td>\n",
       "    </tr>\n",
       "    <tr>\n",
       "        <td>7</td>\n",
       "        <td>Kevin C.  Cassidy</td>\n",
       "        <td>8</td>\n",
       "        <td>8</td>\n",
       "    </tr>\n",
       "    <tr>\n",
       "        <td>8</td>\n",
       "        <td>Bruce   Bradford</td>\n",
       "        <td>60</td>\n",
       "        <td>60</td>\n",
       "    </tr>\n",
       "    <tr>\n",
       "        <td>9</td>\n",
       "        <td>Milo W.  Peck</td>\n",
       "        <td>118</td>\n",
       "        <td>118</td>\n",
       "    </tr>\n",
       "    <tr>\n",
       "        <td>10</td>\n",
       "        <td>Stephen E.  Yost</td>\n",
       "        <td>39</td>\n",
       "        <td>39</td>\n",
       "    </tr>\n",
       "</table>"
      ],
      "text/plain": [
       "[(1, 'Michael P.  Coyne', 56, 56),\n",
       " (2, 'Rebecca I.  Bloch', 55, 55),\n",
       " (3, 'Paul   Caster', 62, 62),\n",
       " (4, 'Jo Ann   Drusbosky', 70, 70),\n",
       " (5, 'Arleen N.  Kardos', 44, 44),\n",
       " (6, 'Scott M  Brenner', 51, 51),\n",
       " (7, 'Kevin C.  Cassidy', 8, 8),\n",
       " (8, 'Bruce   Bradford', 60, 60),\n",
       " (9, 'Milo W.  Peck', 118, 118),\n",
       " (10, 'Stephen E.  Yost', 39, 39)]"
      ]
     },
     "execution_count": 19,
     "metadata": {},
     "output_type": "execute_result"
    }
   ],
   "source": [
    "%%sql\n",
    "--How to count distinct catalog_id a\n",
    "SELECT INSTRUCTOR_ID, INSTRUCTOR_NAME, count(CATALOG_ID)\n",
    "FROM COURSE_FACTS\n",
    "    JOIN INSTRUCTORS USING (INSTRUCTOR_ID)\n",
    "GROUP BY INSTRUCTOR_ID\n",
    "LIMIT 10;"
   ]
  },
  {
   "cell_type": "markdown",
   "metadata": {},
   "source": [
    "## D. How many courses are in each program?"
   ]
  },
  {
   "cell_type": "code",
   "execution_count": 34,
   "metadata": {},
   "outputs": [
    {
     "name": "stdout",
     "output_type": "stream",
     "text": [
      " * sqlite:///CourseDataWarehouse.db\n",
      "Done.\n"
     ]
    },
    {
     "data": {
      "text/html": [
       "<table>\n",
       "    <tr>\n",
       "        <th>PROGRAM_ID</th>\n",
       "        <th>PROGRAM_NAME</th>\n",
       "        <th>count(DISTINCT CATALOG_ID)</th>\n",
       "    </tr>\n",
       "    <tr>\n",
       "        <td>1</td>\n",
       "        <td>Accounting</td>\n",
       "        <td>25</td>\n",
       "    </tr>\n",
       "    <tr>\n",
       "        <td>2</td>\n",
       "        <td>Applied Ethics</td>\n",
       "        <td>12</td>\n",
       "    </tr>\n",
       "    <tr>\n",
       "        <td>3</td>\n",
       "        <td>Art History</td>\n",
       "        <td>27</td>\n",
       "    </tr>\n",
       "    <tr>\n",
       "        <td>4</td>\n",
       "        <td>Asian Studies</td>\n",
       "        <td>1</td>\n",
       "    </tr>\n",
       "    <tr>\n",
       "        <td>5</td>\n",
       "        <td>Arabic</td>\n",
       "        <td>6</td>\n",
       "    </tr>\n",
       "    <tr>\n",
       "        <td>6</td>\n",
       "        <td>American Studies</td>\n",
       "        <td>21</td>\n",
       "    </tr>\n",
       "    <tr>\n",
       "        <td>7</td>\n",
       "        <td>Anthropology</td>\n",
       "        <td>16</td>\n",
       "    </tr>\n",
       "    <tr>\n",
       "        <td>8</td>\n",
       "        <td>Business</td>\n",
       "        <td>10</td>\n",
       "    </tr>\n",
       "    <tr>\n",
       "        <td>9</td>\n",
       "        <td>Bioengineering</td>\n",
       "        <td>5</td>\n",
       "    </tr>\n",
       "    <tr>\n",
       "        <td>10</td>\n",
       "        <td>Biology</td>\n",
       "        <td>81</td>\n",
       "    </tr>\n",
       "</table>"
      ],
      "text/plain": [
       "[(1, 'Accounting', 25),\n",
       " (2, 'Applied Ethics', 12),\n",
       " (3, 'Art History', 27),\n",
       " (4, 'Asian Studies', 1),\n",
       " (5, 'Arabic', 6),\n",
       " (6, 'American Studies', 21),\n",
       " (7, 'Anthropology', 16),\n",
       " (8, 'Business', 10),\n",
       " (9, 'Bioengineering', 5),\n",
       " (10, 'Biology', 81)]"
      ]
     },
     "execution_count": 34,
     "metadata": {},
     "output_type": "execute_result"
    }
   ],
   "source": [
    "%%sql\n",
    "SELECT PROGRAM_ID, PROGRAM_NAME, count(DISTINCT CATALOG_ID)\n",
    "FROM COURSE_FACTS\n",
    "    JOIN PROGRAMS USING (PROGRAM_ID)\n",
    "GROUP BY PROGRAM_ID\n",
    "LIMIT 10;"
   ]
  },
  {
   "cell_type": "markdown",
   "metadata": {},
   "source": [
    "## E. On Thursday's how many classes are offered at lunch-time in the Spring 2019 semester?"
   ]
  },
  {
   "cell_type": "code",
   "execution_count": 35,
   "metadata": {},
   "outputs": [
    {
     "name": "stdout",
     "output_type": "stream",
     "text": [
      " * sqlite:///CourseDataWarehouse.db\n",
      "Done.\n"
     ]
    },
    {
     "data": {
      "text/html": [
       "<table>\n",
       "    <tr>\n",
       "        <th>DAY</th>\n",
       "        <th>START</th>\n",
       "        <th>TERM</th>\n",
       "        <th>count(CATALOG_ID)</th>\n",
       "    </tr>\n",
       "    <tr>\n",
       "        <td>R</td>\n",
       "        <td>12:30:00</td>\n",
       "        <td>Spring2019</td>\n",
       "        <td>66</td>\n",
       "    </tr>\n",
       "</table>"
      ],
      "text/plain": [
       "[('R', '12:30:00', 'Spring2019', 66)]"
      ]
     },
     "execution_count": 35,
     "metadata": {},
     "output_type": "execute_result"
    }
   ],
   "source": [
    "%%sql\n",
    "SELECT DAY, START, TERM, count(CATALOG_ID)\n",
    "FROM COURSE_FACTS\n",
    "    JOIN TIME_SLICES USING (TIMECODE)\n",
    "WHERE DAY = 'R' and START = '12:30:00' and TERM = 'Spring2019'"
   ]
  }
 ],
 "metadata": {
  "kernelspec": {
   "display_name": "Python 3",
   "language": "python",
   "name": "python3"
  },
  "language_info": {
   "codemirror_mode": {
    "name": "ipython",
    "version": 3
   },
   "file_extension": ".py",
   "mimetype": "text/x-python",
   "name": "python",
   "nbconvert_exporter": "python",
   "pygments_lexer": "ipython3",
   "version": "3.6.7"
  }
 },
 "nbformat": 4,
 "nbformat_minor": 4
}
